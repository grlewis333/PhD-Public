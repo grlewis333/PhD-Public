{
 "cells": [
  {
   "cell_type": "markdown",
   "metadata": {},
   "source": [
    "# Tomographic reconstruction demonstration\n",
    "\n",
    "## Module import"
   ]
  },
  {
   "cell_type": "code",
   "execution_count": 1,
   "metadata": {},
   "outputs": [],
   "source": [
    "import numpy as np\n",
    "from matplotlib import pyplot as plt\n",
    "\n",
    "import scipy\n",
    "from scipy import ndimage # for image rotation\n",
    "from scipy import interpolate # for interpolation algorithms\n",
    "from skimage.transform import radon, iradon # alternate premade radon functions"
   ]
  },
  {
   "cell_type": "markdown",
   "metadata": {},
   "source": [
    "## Generate/load image"
   ]
  },
  {
   "cell_type": "code",
   "execution_count": 403,
   "metadata": {},
   "outputs": [
    {
     "data": {
      "text/plain": [
       "<matplotlib.image.AxesImage at 0x2c4bca91f28>"
      ]
     },
     "execution_count": 403,
     "metadata": {},
     "output_type": "execute_result"
    },
    {
     "data": {
      "image/png": "[encoded data removed]",
      "text/plain": [
       "<Figure size 432x288 with 1 Axes>"
      ]
     },
     "metadata": {
      "needs_background": "light"
     },
     "output_type": "display_data"
    }
   ],
   "source": [
    "# generate basic image\n",
    "%matplotlib inline\n",
    "# start with an image\n",
    "im = np.zeros((100,100))\n",
    "im[10:50,10:30] = 1\n",
    "im[70:90,70:90] = 1\n",
    "plt.imshow(im)"
   ]
  },
  {
   "cell_type": "code",
   "execution_count": 6,
   "metadata": {},
   "outputs": [
    {
     "data": {
      "text/plain": [
       "<matplotlib.colorbar.Colorbar at 0x1865af250f0>"
      ]
     },
     "execution_count": 6,
     "metadata": {},
     "output_type": "execute_result"
    }
   ],
   "source": [
    "# load in saved image\n",
    "\n",
    "fpath = r'C:\\Users\\grl31\\Desktop\\camb_shield.png'\n",
    "im = plt.imread(fpath)\n",
    "\n",
    "# convert to grayscale\n",
    "def rgb2gray(rgb):\n",
    "    return np.dot(rgb[...,:3], [0.2989, 0.5870, 0.1140])\n",
    "im = rgb2gray(im)\n",
    "\n",
    "# invert scale for white backgrounds\n",
    "#im= 1/(im+0.5)\n",
    "\n",
    "# rebin image\n",
    "im = im[::16,::16]\n",
    "\n",
    "im = np.pad(im,(50,50),'constant')\n",
    "im = im[0:250,0:250]\n",
    "# plot\n",
    "%matplotlib qt\n",
    "%matplotlib qt\n",
    "%matplotlib qt\n",
    "plt.imshow(im, cmap='gray')\n",
    "plt.colorbar()"
   ]
  },
  {
   "cell_type": "code",
   "execution_count": 548,
   "metadata": {},
   "outputs": [
    {
     "name": "stdout",
     "output_type": "stream",
     "text": [
      "Warning: Cannot change to a different GUI toolkit: qt5. Using qt instead.\n"
     ]
    },
    {
     "data": {
      "text/plain": [
       "<matplotlib.image.AxesImage at 0x2c4d9aa3fd0>"
      ]
     },
     "execution_count": 548,
     "metadata": {},
     "output_type": "execute_result"
    },
    {
     "data": {
      "image/png": "[encoded data removed]",
      "text/plain": [
       "<Figure size 432x288 with 1 Axes>"
      ]
     },
     "metadata": {
      "needs_background": "light"
     },
     "output_type": "display_data"
    }
   ],
   "source": [
    "%matplotlib qt5\n",
    "%matplotlib inline\n",
    "%matplotlib qt\n",
    "\n",
    "\n",
    "plt.imshow(im, cmap='gray')"
   ]
  },
  {
   "cell_type": "markdown",
   "metadata": {},
   "source": [
    "## Generate sinogram data"
   ]
  },
  {
   "cell_type": "code",
   "execution_count": 5,
   "metadata": {},
   "outputs": [
    {
     "data": {
      "text/plain": [
       "[<matplotlib.lines.Line2D at 0x19b310f5e48>]"
      ]
     },
     "execution_count": 5,
     "metadata": {},
     "output_type": "execute_result"
    },
    {
     "name": "stderr",
     "output_type": "stream",
     "text": [
      "C:\\Users\\grl31\\Anaconda3\\lib\\site-packages\\matplotlib\\font_manager.py:1241: UserWarning: findfont: Font family ['normal'] not found. Falling back to DejaVu Sans.\n",
      "  (prop.get_family(), self.defaultFamily[fontext]))\n"
     ]
    }
   ],
   "source": [
    "# Example Radon transform\n",
    "%matplotlib qt\n",
    "%matplotlib qt\n",
    "fig, (ax1, ax2) = plt.subplots(nrows=2, sharex=True,figsize=(6,6),gridspec_kw={'height_ratios': [3, 1]})\n",
    "# project by radon transform for single angle\n",
    "rotated = scipy.ndimage.rotate(im,35)\n",
    "ax1.imshow(rotated, cmap='gray')\n",
    "outarr = rotated.sum(axis=0)\n",
    "ax2.plot(outarr,'r-')"
   ]
  },
  {
   "cell_type": "code",
   "execution_count": 3,
   "metadata": {},
   "outputs": [],
   "source": [
    "# project by radon transform for range of angles\n",
    "\n",
    "def project(im,al = -70,au = 70,an = 60):\n",
    "    \"\"\" Project im data using radon transforms\n",
    "    at an angles between al and au\"\"\"\n",
    "    angles = np.linspace(al,au,an)\n",
    "    sino=[]\n",
    "    for a in angles:\n",
    "        rotated = scipy.ndimage.rotate(im,a,reshape=False)\n",
    "        outarr = rotated.sum(axis=0)\n",
    "        sino.append(outarr)\n",
    "    return sino"
   ]
  },
  {
   "cell_type": "code",
   "execution_count": 182,
   "metadata": {},
   "outputs": [
    {
     "data": {
      "text/plain": [
       "array([20.])"
      ]
     },
     "execution_count": 182,
     "metadata": {},
     "output_type": "execute_result"
    }
   ],
   "source": [
    "np.linspace(20,20,1)"
   ]
  },
  {
   "cell_type": "code",
   "execution_count": 4,
   "metadata": {},
   "outputs": [
    {
     "data": {
      "text/plain": [
       "Text(0, 0.5, '$\\\\theta$ / deg')"
      ]
     },
     "execution_count": 4,
     "metadata": {},
     "output_type": "execute_result"
    },
    {
     "name": "stderr",
     "output_type": "stream",
     "text": [
      "C:\\Users\\grl31\\Anaconda3\\lib\\site-packages\\matplotlib\\font_manager.py:1241: UserWarning: findfont: Font family ['normal'] not found. Falling back to DejaVu Sans.\n",
      "  (prop.get_family(), self.defaultFamily[fontext]))\n"
     ]
    }
   ],
   "source": [
    "sino = project(im)\n",
    "\n",
    "# plot sinogram\n",
    "import matplotlib\n",
    "font = {'family' : 'normal',\n",
    "        'size'   : 22}\n",
    "\n",
    "matplotlib.rc('font', **font)\n",
    "\n",
    "\n",
    "plt.figure(figsize=(12,12))\n",
    "plt.imshow(np.flip(sino), cmap='gray')\n",
    "plt.xlabel('r')\n",
    "plt.ylabel(r'$\\theta$ / deg')\n",
    "#plt.colorbar()\n",
    "#plt.yticks([])\n",
    "#plt.yticks([])\n",
    "#plt.scatter(np.arange(0,len(sino[-16])),46*np.ones_like(sino[30]),c = sino[-16],marker='o',cmap='Reds_r',alpha=.5)"
   ]
  },
  {
   "cell_type": "markdown",
   "metadata": {},
   "source": [
    "## Direct Fourier inversion\n",
    "### Fourier transform"
   ]
  },
  {
   "cell_type": "code",
   "execution_count": 28,
   "metadata": {},
   "outputs": [
    {
     "data": {
      "text/plain": [
       "<matplotlib.collections.PathCollection at 0x19b36a6f4a8>"
      ]
     },
     "execution_count": 28,
     "metadata": {},
     "output_type": "execute_result"
    }
   ],
   "source": [
    "# put 1d FT data into 2D FT\n",
    "\n",
    "# projections\n",
    "p_x = sino\n",
    "\n",
    "# Fourier transform of the projections\n",
    "# The sinogram data is shifted in Fourier space\n",
    "P_fx = np.fft.fft(np.fft.ifftshift(p_x, axes=-1), axis=-1)\n",
    "\n",
    "ang = (angles.reshape(-1, 1)) * 2*np.pi/360\n",
    "\n",
    "# compute frequency coordinates fx\n",
    "fx = np.fft.fftfreq(len(p_x[0]))\n",
    "\n",
    "fx = fx.reshape(1, -1)\n",
    "# fy is zero\n",
    "fxl = (fx) * np.cos(ang)\n",
    "fyl = (fx) * np.sin(ang)\n",
    "\n",
    "Xf = fxl.flatten()\n",
    "Yf = fyl.flatten()\n",
    "Zf = P_fx.flatten()\n",
    "\n",
    "plt.scatter(Xf,Yf,c=np.log10(Zf),marker='.', cmap='gray')\n",
    "#plt.scatter((fx) * np.cos(35),(fx) * np.cos(35),c=np.log10(Zf),marker='.', cmap='gray')"
   ]
  },
  {
   "cell_type": "code",
   "execution_count": 35,
   "metadata": {},
   "outputs": [
    {
     "data": {
      "text/plain": [
       "<matplotlib.colorbar.Colorbar at 0x19b47071240>"
      ]
     },
     "execution_count": 35,
     "metadata": {},
     "output_type": "execute_result"
    }
   ],
   "source": [
    "# interpolate in 2D\n",
    "%matplotlib qt\n",
    "# rintp defines the interpolation grid\n",
    "rintp = np.fft.fftshift(fx.reshape(-1))\n",
    "Fcomp = scipy.interpolate.griddata((Xf, Yf), Zf, (rintp[None, :], rintp[:, None]),\n",
    "                          method='cubic')\n",
    "\n",
    "#plt.scatter(Fcomp)#,c=np.log10(Fcomp),marker='.', cmap='gray')\n",
    "plt.imshow(np.log10(abs(Fcomp)), cmap='gray')\n",
    "plt.colorbar()"
   ]
  },
  {
   "cell_type": "code",
   "execution_count": 33,
   "metadata": {},
   "outputs": [
    {
     "data": {
      "text/plain": [
       "<matplotlib.colorbar.Colorbar at 0x21e3ae340b8>"
      ]
     },
     "execution_count": 33,
     "metadata": {},
     "output_type": "execute_result"
    }
   ],
   "source": [
    "# inverse FT for result\n",
    "Fcomp[np.where(np.isnan(Fcomp))] = 0\n",
    "\n",
    "f = np.fft.fftshift(np.fft.ifft2(np.fft.ifftshift(Fcomp)))\n",
    "\n",
    "plt.imshow(f.real,cmap='gray')\n",
    "plt.colorbar()"
   ]
  },
  {
   "cell_type": "code",
   "execution_count": 23,
   "metadata": {},
   "outputs": [],
   "source": [
    "def fourier_inversion(sino):\n",
    "    \"\"\" Reconstruct 2D projection data by Direct Fourier inversion \"\"\"\n",
    "    # put 1d FT data into 2D FT\n",
    "\n",
    "    # projections\n",
    "    p_x = sino\n",
    "\n",
    "    # Fourier transform of the projections\n",
    "    # The sinogram data is shifted in Fourier space\n",
    "    P_fx = np.fft.fft(np.fft.ifftshift(p_x, axes=-1), axis=-1)\n",
    "\n",
    "    ang = (angles.reshape(-1, 1)) * 2*np.pi/360\n",
    "\n",
    "    # compute frequency coordinates fx\n",
    "    fx = np.fft.fftfreq(len(p_x[0]))\n",
    "\n",
    "    fx = fx.reshape(1, -1)\n",
    "    # fy is zero\n",
    "    fxl = (fx) * np.cos(ang)\n",
    "    fyl = (fx) * np.sin(ang)\n",
    "\n",
    "    Xf = fxl.flatten()\n",
    "    Yf = fyl.flatten()\n",
    "    Zf = P_fx.flatten()\n",
    "    \n",
    "    # interpolate\n",
    "    rintp = np.fft.fftshift(fx.reshape(-1))\n",
    "    Fcomp = scipy.interpolate.griddata((Xf, Yf), Zf, (rintp[None, :], rintp[:, None]),\n",
    "                              method='cubic')\n",
    "    \n",
    "    # inverse FT for result\n",
    "    Fcomp[np.where(np.isnan(Fcomp))] = 0\n",
    "\n",
    "    f = np.fft.fftshift(np.fft.ifft2(np.fft.ifftshift(Fcomp)))\n",
    "    \n",
    "    return f.real"
   ]
  },
  {
   "cell_type": "code",
   "execution_count": 24,
   "metadata": {},
   "outputs": [
    {
     "data": {
      "text/plain": [
       "<matplotlib.image.AxesImage at 0x25b4828cef0>"
      ]
     },
     "execution_count": 24,
     "metadata": {},
     "output_type": "execute_result"
    }
   ],
   "source": [
    "recon_fi = fourier_inversion(sino)\n",
    "plt.imshow(recon_fi, cmap='gray')"
   ]
  },
  {
   "cell_type": "markdown",
   "metadata": {},
   "source": [
    "## Back projection"
   ]
  },
  {
   "cell_type": "code",
   "execution_count": 6,
   "metadata": {},
   "outputs": [
    {
     "data": {
      "text/plain": [
       "Text(0, 0.5, '$\\\\theta$ / deg')"
      ]
     },
     "execution_count": 6,
     "metadata": {},
     "output_type": "execute_result"
    }
   ],
   "source": [
    "# apply ramp filter for back projection\n",
    "angles = np.linspace(-70,70,60)\n",
    "sino = project(im)\n",
    "order = np.shape(sino)[1]\n",
    "kx = 2 * np.pi * np.abs(np.fft.fftfreq(int(order)))\n",
    "\n",
    "kx = kx.reshape(1, -1)\n",
    "\n",
    "projection = np.fft.fft(sino, axis=-1) * kx\n",
    "sino_filtered = np.real(np.fft.ifft(projection, axis=-1))\n",
    "\n",
    "plt.figure(figsize=(6,6))\n",
    "plt.imshow(np.flip(sino_filtered), cmap='gray')\n",
    "plt.xlabel('r')\n",
    "plt.ylabel(r'$\\theta$ / deg')\n",
    "#plt.colorbar()"
   ]
  },
  {
   "cell_type": "code",
   "execution_count": 37,
   "metadata": {},
   "outputs": [
    {
     "data": {
      "text/plain": [
       "<matplotlib.image.AxesImage at 0x19b50d5be80>"
      ]
     },
     "execution_count": 37,
     "metadata": {},
     "output_type": "execute_result"
    }
   ],
   "source": [
    "plt.imshow(im)"
   ]
  },
  {
   "cell_type": "code",
   "execution_count": 8,
   "metadata": {},
   "outputs": [
    {
     "data": {
      "text/plain": [
       "<matplotlib.colorbar.Colorbar at 0x25b418fe128>"
      ]
     },
     "execution_count": 8,
     "metadata": {},
     "output_type": "execute_result"
    }
   ],
   "source": [
    "# Perform backprojection\n",
    "ln = order\n",
    "x = np.linspace(-ln / 2, ln / 2, ln, endpoint=False) + .5\n",
    "outarr = np.zeros((ln, ln), dtype=np.float64)\n",
    "\n",
    "# Meshgrid for output array\n",
    "xv, yv = np.meshgrid(x, x)\n",
    "\n",
    "for ii in np.arange(len(angles)):\n",
    "    # create function that can predict sino from x values, based on those you already have\n",
    "    projinterp = scipy.interpolate.interp1d(x, sino_filtered[ii], fill_value=0.0,\n",
    "                               copy=False, bounds_error=False)\n",
    "    # Call proj_interp with cos and sin of corresponding coordinate\n",
    "    # and add it to the outarr.\n",
    "    phi = angles[ii] * 2*np.pi/360\n",
    "\n",
    "    xp = xv * np.cos(phi) + yv * np.sin(phi)\n",
    "    # Smear projection onto 2d volume\n",
    "    outarr += projinterp(xp)\n",
    "    \n",
    "plt.imshow(outarr, cmap='gray')\n",
    "plt.colorbar()"
   ]
  },
  {
   "cell_type": "code",
   "execution_count": 22,
   "metadata": {},
   "outputs": [
    {
     "name": "stdout",
     "output_type": "stream",
     "text": [
      "0\n",
      "1\n",
      "2\n",
      "3\n",
      "4\n"
     ]
    }
   ],
   "source": [
    "# visualise single projection\n",
    "phi = angles[59] * 2*np.pi/360\n",
    "\n",
    "xp = xv * np.cos(phi) + yv * np.sin(phi)\n",
    "\n",
    "fig, axs = plt.subplots(nrows = 1, ncols=5)\n",
    "ang = [-70,-35,0,35,70]\n",
    "for i in range(5):\n",
    "    print(i)\n",
    "    a = ang[i]\n",
    "    phi = a * 2*np.pi/360\n",
    "    xp = xv * np.cos(phi) + yv * np.sin(phi)\n",
    "    axs[i].imshow(projinterp(xp),cmap='gray')\n",
    "    axs[i].axis('off')\n",
    "    \n"
   ]
  },
  {
   "cell_type": "code",
   "execution_count": 10,
   "metadata": {},
   "outputs": [],
   "source": [
    "def wbp(sino):\n",
    "    \"\"\" Perform weighted back projection reconstruction for 2D projection data \"\"\"\n",
    "    # apply ramp filter for back projection\n",
    "    order = np.shape(sino)[1]\n",
    "    kx = 2 * np.pi * np.abs(np.fft.fftfreq(int(order)))\n",
    "\n",
    "    kx = kx.reshape(1, -1)\n",
    "\n",
    "    projection = np.fft.fft(sino, axis=-1) * kx\n",
    "    sino_filtered = np.real(np.fft.ifft(projection, axis=-1))\n",
    "    \n",
    "    # Perform backprojection\n",
    "    ln = order\n",
    "    x = np.linspace(-ln / 2, ln / 2, ln, endpoint=False) + .5\n",
    "    outarr = np.zeros((ln, ln), dtype=np.float64)\n",
    "\n",
    "    # Meshgrid for output array\n",
    "    xv, yv = np.meshgrid(x, x)\n",
    "\n",
    "    for ii in np.arange(len(angles)):\n",
    "        # create function that can predict sino from x values, based on those you already have\n",
    "        projinterp = scipy.interpolate.interp1d(x, sino_filtered[ii], fill_value=0.0,\n",
    "                                   copy=False, bounds_error=False)\n",
    "        # Call proj_interp with cos and sin of corresponding coordinate\n",
    "        # and add it to the outarr.\n",
    "        phi = angles[ii] * 2*np.pi/360\n",
    "\n",
    "        xp = xv * np.cos(phi) + yv * np.sin(phi)\n",
    "        # Smear projection onto 2d volume\n",
    "        outarr += projinterp(xp)\n",
    "        \n",
    "    return outarr"
   ]
  },
  {
   "cell_type": "code",
   "execution_count": 11,
   "metadata": {},
   "outputs": [
    {
     "data": {
      "text/plain": [
       "<matplotlib.image.AxesImage at 0x25b4440b0f0>"
      ]
     },
     "execution_count": 11,
     "metadata": {},
     "output_type": "execute_result"
    }
   ],
   "source": [
    "recon_wbp = wbp(sino)\n",
    "plt.imshow(recon_wbp, cmap='gray')"
   ]
  },
  {
   "cell_type": "markdown",
   "metadata": {},
   "source": [
    "## SIRT"
   ]
  },
  {
   "cell_type": "code",
   "execution_count": 165,
   "metadata": {},
   "outputs": [],
   "source": [
    "\n",
    "def SIRT(im,sino, al=-70,au=70,an=60, mu=1e0, niter=10, bpos=True):\n",
    "    x = im\n",
    "    N = len(x[0])\n",
    "    b = np.array(sino).T\n",
    "    THETA = np.linspace(al,au,an)\n",
    "    x0 = np.zeros_like(x)\n",
    "    \n",
    "    # project data by radon\n",
    "    A = lambda x: radon(x, THETA, circle=True).astype(np.float32)\n",
    "\n",
    "    # create back projection - divided by pi / 2A ?\n",
    "    AT = lambda y: iradon(y, THETA, circle=False, filter=None, output_size=N).astype(np.float32)/(np.pi/(2*len(THETA)))\n",
    "\n",
    "    # create back projection\n",
    "    AINV = lambda y: iradon(y, THETA, circle=False, output_size=N).astype(np.float32)\n",
    "    \n",
    "    ATA = AT(A(np.ones_like(x)))\n",
    "    \n",
    "    x = x0\n",
    "    dif = []\n",
    "    for i in range(int(niter)):\n",
    "\n",
    "        x = x + np.divide(mu * AT(b - A(x)), ATA)\n",
    "        d = b - A(x)\n",
    "        d = np.sum(d**2)\n",
    "        dif.append(d)\n",
    "        if bpos:\n",
    "            x[x < 0] = 0\n",
    "            \n",
    "    return np.flip(x),dif\n"
   ]
  },
  {
   "cell_type": "code",
   "execution_count": 166,
   "metadata": {},
   "outputs": [
    {
     "data": {
      "text/plain": [
       "<matplotlib.image.AxesImage at 0x216a374cc50>"
      ]
     },
     "execution_count": 166,
     "metadata": {},
     "output_type": "execute_result"
    }
   ],
   "source": [
    "sino = project(im,an=60)\n",
    "recon_SIRT,dif_sirt = SIRT(im,sino,niter=10,an=60)\n",
    "plt.imshow(recon_SIRT,cmap='gray')"
   ]
  },
  {
   "cell_type": "code",
   "execution_count": 169,
   "metadata": {},
   "outputs": [
    {
     "data": {
      "text/plain": [
       "[<matplotlib.lines.Line2D at 0x21688cd9be0>]"
      ]
     },
     "execution_count": 169,
     "metadata": {},
     "output_type": "execute_result"
    }
   ],
   "source": [
    "#a = dif_sirt / np.max(dif_sirt)\n",
    "\n",
    "plt.plot(dif_sirt)\n",
    "#plt.plot(dif_art)"
   ]
  },
  {
   "cell_type": "code",
   "execution_count": 195,
   "metadata": {},
   "outputs": [],
   "source": [
    "fig, axs = plt.subplots(nrows= 2, ncols = 1)\n",
    "\n",
    "axs[1].plot([1,2,3,4,5,6,7,8,9,10],dif_sirt,'ko-')\n",
    "axs[0].plot(dif_art,'k-')\n",
    "\n",
    "axs[1].set_ylabel('|$b-ax$|$_{l2}$',fontsize=15)\n",
    "axs[0].set_ylabel('|$b_i-a_ix$|$_{l2}$',fontsize=15)\n",
    "\n",
    "axs[0].legend(['ART'],fontsize=12)\n",
    "axs[1].legend(['SIRT'],fontsize=12)\n",
    "axs[1].set_xlabel('Number of iterations',fontsize=15)\n",
    "\n",
    "axs[0].set_xticks([0])\n",
    "plt.tight_layout()"
   ]
  },
  {
   "cell_type": "code",
   "execution_count": 171,
   "metadata": {},
   "outputs": [
    {
     "data": {
      "text/plain": [
       "14261.523096886387"
      ]
     },
     "execution_count": 171,
     "metadata": {},
     "output_type": "execute_result"
    }
   ],
   "source": [
    "np.max(dif_art)"
   ]
  },
  {
   "cell_type": "markdown",
   "metadata": {},
   "source": [
    "## ART"
   ]
  },
  {
   "cell_type": "code",
   "execution_count": 254,
   "metadata": {},
   "outputs": [],
   "source": [
    "x = im\n",
    "N = len(x[0])\n",
    "sino = project(im)\n",
    "b = np.array(sino)\n",
    "THETA = np.linspace(-70,70,60)\n",
    "x0 = np.ones_like(x)\n",
    "niter=10\n",
    "\n",
    "# project data by radon\n",
    "A = lambda x: radon(x, THETA, circle=True).astype(np.float32)\n",
    "\n",
    "# create back projection - divided by pi / 2A ?\n",
    "AT = lambda y: iradon(y, THETA, circle=False, filter=None, output_size=N).astype(np.float32)/(np.pi/(2*len(THETA)))\n",
    "\n",
    "# create back projection\n",
    "AINV = lambda y: iradon(y, THETA, circle=False, output_size=N).astype(np.float32)\n",
    "\n",
    "#ATA = AT(A(np.ones_like(x)))\n",
    "\n",
    "x = x0\n",
    "for i in range(int(niter)):\n",
    "    \n",
    "    for row, bi in enumerate(b):\n",
    "        pi = np.array(project(x,al=THETA[row],au=THETA[row],an=1))\n",
    "        x[row] = x[row] + mu * (bi - pi)/pi**2 * x[row]\n",
    "\n",
    "    #x[x < 0] = 0\n",
    "\n",
    "x = np.flip(x)"
   ]
  },
  {
   "cell_type": "code",
   "execution_count": 260,
   "metadata": {},
   "outputs": [
    {
     "data": {
      "text/plain": [
       "<matplotlib.image.AxesImage at 0x1fb9fbd07f0>"
      ]
     },
     "execution_count": 260,
     "metadata": {},
     "output_type": "execute_result"
    }
   ],
   "source": [
    "x = x[-60:]\n",
    "\n",
    "plt.imshow(iradon(x.T,theta = THETA))"
   ]
  },
  {
   "cell_type": "code",
   "execution_count": 259,
   "metadata": {},
   "outputs": [
    {
     "data": {
      "text/plain": [
       "(60, 250)"
      ]
     },
     "execution_count": 259,
     "metadata": {},
     "output_type": "execute_result"
    }
   ],
   "source": [
    "np.shape(x[-60:])"
   ]
  },
  {
   "cell_type": "code",
   "execution_count": 231,
   "metadata": {},
   "outputs": [
    {
     "name": "stdout",
     "output_type": "stream",
     "text": [
      "0 3\n",
      "1 4\n",
      "2 5\n"
     ]
    }
   ],
   "source": [
    "a = np.array([3,4,5])\n",
    "for i,x in enumerate(a):\n",
    "    print(i,x)"
   ]
  },
  {
   "cell_type": "code",
   "execution_count": 160,
   "metadata": {},
   "outputs": [],
   "source": [
    "def art(sinogram, angles, initial=None, iterations=1,\n",
    "        count=None, max_count=None):\n",
    "    \"\"\"Algebraic Reconstruction Technique\n",
    "    The Algebraic Reconstruction Technique (ART) iteratively\n",
    "    computes the inverse of the Radon transform in two dimensions.\n",
    "    The reconstruction technique uses *rays* of the diameter of\n",
    "    one pixel to iteratively solve the system of linear equations\n",
    "    that describe the projection process. The binary weighting\n",
    "    factors are\n",
    "     - 1, if the center of the a pixel is within the *ray*\n",
    "     - 0, else\n",
    "    Parameters\n",
    "    ----------\n",
    "    sinogram: ndarrayy, shape (A,N)\n",
    "        Two-dimensional sinogram of line recordings.\n",
    "    angles: ndarray, length A\n",
    "        Angular positions of the `sinogram` in radians. The angles\n",
    "        at which the sinogram slices were recorded do not have to be\n",
    "        distributed equidistantly as in :func:`backproject`.\n",
    "        The angles are internaly converted to modulo PI.\n",
    "    initial: ndarray, shape (N,N), optional\n",
    "        The initial guess for the solution.\n",
    "    iterations: int\n",
    "        Number of iterations to perform.\n",
    "    count, max_count: multiprocessing.Value or `None`\n",
    "        Can be used to monitor the progress of the algorithm.\n",
    "        Initially, the value of `max_count.value` is incremented\n",
    "        by the total number of steps. At each step, the value\n",
    "        of `count.value` is incremented.\n",
    "    Notes\n",
    "    -----\n",
    "    For theoretical backround, see\n",
    "    Kak, A. C., & Slaney, M.. *Principles of Computerized\n",
    "    Tomographic Imaging*, SIAM, (2001)\n",
    "    Sec. 7.2:\n",
    "    *\"ART reconstrutions usually suffer from salt and pepper noise,\n",
    "    which is caused by the inconsitencies introuced in the set of\n",
    "    equations by the approximations commonly used for*\n",
    "    :math:`w_{ik}` *'s.\"*\n",
    "    \"\"\"\n",
    "    # make sure `iterations` is an integer\n",
    "    iterations = int(iterations)\n",
    "    N = sinogram.shape[1]\n",
    "    A = angles.shape[0]\n",
    "\n",
    "    # Meshgrid for weights\n",
    "    # centre of image is (0,0)\n",
    "    center = N / 2.0\n",
    "    x = np.arange(N) - center + .5\n",
    "    X, Y = np.meshgrid(x, x)\n",
    "    \n",
    "    # initiate array\n",
    "    f = np.zeros((N, N), dtype=np.dtype(float))\n",
    "\n",
    "    # Make sure all angles are in [0,PI)\n",
    "    for i in np.arange(A):\n",
    "        if angles[i] > np.pi:\n",
    "            offset = np.floor(angles[i] / np.pi)\n",
    "            angles[i] -= offset * np.pi\n",
    "        elif angles[i] < 0:\n",
    "            offset = np.floor(np.abs((angles[i] / np.pi))) + 1\n",
    "            angles[i] += offset * np.pi\n",
    "        if angles[i] == np.pi:\n",
    "            angles[i] = 0\n",
    "\n",
    "    # These lambda functions return the two x- and y- values of two\n",
    "    # points projected onto a line along the x- and y-axis, having the\n",
    "    # angle angle_k in radians.\n",
    "    # Sourcing this out to here makes things a little faster.\n",
    "    def GetLambdaLines(angle_k):\n",
    "        if angle_k == 0:\n",
    "            # Divide by zero error for tan\n",
    "            # We have horizontal lines (parallel to x)\n",
    "            def line1(x2, y2, xpi1, ypi1, xpi2, ypi2, angle_k): return (\n",
    "                x2 - .5, ypi1 * np.ones(y2.shape))\n",
    "\n",
    "            def line2(x2, y2, xpi1, ypi1, xpi2, ypi2, angle_k): return (\n",
    "                x2 + .5, ypi2 * np.ones(y2.shape))\n",
    "        elif angle_k == np.pi / 2:\n",
    "            # We have vertical lines (parallel to y)\n",
    "            def line1(x2, y2, xpi1, ypi1, xpi2, ypi2, angle_k): return (\n",
    "                xpi1 * np.ones(x2.shape), y2 + .5)\n",
    "\n",
    "            def line2(x2, y2, xpi1, ypi1, xpi2, ypi2, angle_k): return (\n",
    "                xpi2 * np.ones(x2.shape), y2 - .5)\n",
    "        elif angle_k < np.pi / 2:\n",
    "            # CASE 1\n",
    "            # Compute any other positions on the lines from the given things\n",
    "            def line1(x2, y2, xpi1, ypi1, xpi2, ypi2, angle_k):\n",
    "                return ((y2 - ypi1) / np.tan(angle_k) + xpi1,\n",
    "                        (x2 - xpi1) * np.tan(angle_k) + ypi1)\n",
    "            # def line2(x2,y2):\n",
    "            #    y = (x2-xpi2)/np.tan(angle_k) - ypi2\n",
    "            #    x = (y2-ypi2)*np.tan(angle_k) - xpi2\n",
    "            #    return x,y\n",
    "\n",
    "            def line2(x2, y2, xpi1, ypi1, xpi2, ypi2, angle_k):\n",
    "                return ((y2 - ypi2) / np.tan(angle_k) + xpi2,\n",
    "                        (x2 - xpi2) * np.tan(angle_k) + ypi2)\n",
    "        else:\n",
    "            # CASE 2: Switch x-output - only for speed.\n",
    "            # Not very obvious - possibly a hack.\n",
    "            # Compute any other positions on the lines from the given things\n",
    "            def line1(x2, y2, xpi1, ypi1, xpi2, ypi2, angle_k):\n",
    "                return ((y2 - ypi2) / np.tan(angle_k) + xpi2,\n",
    "                        (x2 - xpi1) * np.tan(angle_k) + ypi1)\n",
    "            # def line2(x2,y2):\n",
    "            #    y = (x2-xpi2)/np.tan(angle_k) - ypi2\n",
    "            #    x = (y2-ypi2)*np.tan(angle_k) - xpi2\n",
    "            #    return x,y\n",
    "\n",
    "            def line2(x2, y2, xpi1, ypi1, xpi2, ypi2, angle_k):\n",
    "                return ((y2 - ypi1) / np.tan(angle_k) + xpi1,\n",
    "                        (x2 - xpi2) * np.tan(angle_k) + ypi2)\n",
    "        return line1, line2\n",
    "\n",
    "    f = f.flatten()\n",
    "\n",
    "    dif = []\n",
    "    for iteration in np.arange(iterations): \n",
    "#         if iteration == 0:\n",
    "#             xold = f\n",
    "#         if iteration > 0:\n",
    "#             xnew = f\n",
    "#             d = xnew-xold\n",
    "#             d = np.sum(d**2)\n",
    "#             dif.append(d)\n",
    "#             xold = f\n",
    "        # i iterates the rays\n",
    "        # k iterates the angles\n",
    "        for k in np.arange(A):\n",
    "            # From now on we work in radians\n",
    "            angle_k = angles[k]\n",
    "            p = sinogram[k]\n",
    "            line1, line2 = GetLambdaLines(angle_k)\n",
    "            # CASES for all 2 quadrants. Angles are modulo PI\n",
    "            # This case stuff is dependent on the angle. We enumerate\n",
    "            # pr in negative mathematical angular direction\n",
    "            \n",
    "            # This is the position on the projection, centered around 0:\n",
    "            pr = np.arange(len(p)) - center + .5  # radial distance,\n",
    "            #\n",
    "            if angle_k <= np.pi / 2:\n",
    "                # 0 to PI/2\n",
    "                # case == 1\n",
    "                # position of each p[i] in the centered *outarr*.\n",
    "                # a position of line1 in X\n",
    "                x_p1 = (pr - .5) * np.sin(angle_k)\n",
    "                # a position of line1 in Y\n",
    "                y_p1 = -(pr - .5) * np.cos(angle_k)\n",
    "                # a position of line2 in X\n",
    "                x_p2 = (pr + .5) * np.sin(angle_k)\n",
    "                # a position of line2 in Y\n",
    "                y_p2 = -(pr + .5) * np.cos(angle_k)\n",
    "            else:\n",
    "                # PI/2 to PI\n",
    "                # case == 2\n",
    "                # position of each p[i] in the centered *outarr*.\n",
    "                # a position of line1 in X\n",
    "                x_p1 = (pr + .5) * np.sin(angle_k)\n",
    "                # a position of line1 in Y\n",
    "                y_p1 = -(pr + .5) * np.cos(angle_k)\n",
    "                # a position of line2 in X\n",
    "                x_p2 = (pr - .5) * np.sin(angle_k)\n",
    "                # a position of line2 in Y\n",
    "                y_p2 = -(pr - .5) * np.cos(angle_k)\n",
    "                \n",
    "                \n",
    "            for i in np.arange(len(p)):\n",
    "                # If the angle is zero, then we are looking at the\n",
    "                # projections onto the right side. The indices are\n",
    "                # enumerated from bottom to top.\n",
    "                w_i = np.zeros((N, N), dtype=np.bool)\n",
    "                # # where does the ray cut w_i?\n",
    "                # xpi1 = x_p1[i]\n",
    "                # ypi1 = y_p1[i]\n",
    "                # xpi2 = x_p2[i]\n",
    "                # ypi2 = y_p2[i]\n",
    "                # Check if a value is between the two lines (within ray)\n",
    "                # For each value of X and Y, compute what the values of the\n",
    "                # line would be.\n",
    "                xl1, yl1 = line1(\n",
    "                    X, Y, x_p1[i], y_p1[i], x_p2[i], y_p2[i], angle_k)\n",
    "                xl2, yl2 = line2(\n",
    "                    X, Y, x_p1[i], y_p1[i], x_p2[i], y_p2[i], angle_k)\n",
    "                #\n",
    "                AND = np.logical_and\n",
    "                # Values lie between the two lines if the following is True:\n",
    "                # Furthermore we restrict ourselves to a disk.\n",
    "                w_i = AND(X**2 + Y**2 < center**2,\n",
    "                          AND(AND(xl1 < X, X < xl2),\n",
    "                              AND(yl1 > Y, Y > yl2))).flatten()\n",
    "                #\n",
    "                # i iterates the rays\n",
    "                # j iterates the flattened outarr\n",
    "                # k iterates the angles\n",
    "                # In each iteration of the angles the image is changed\n",
    "\n",
    "                valid = np.where(w_i)\n",
    "                \n",
    "                d = p[i] - np.sum(f[valid])\n",
    "                d = np.sum(d**2)\n",
    "                dif.append(d)\n",
    "                \n",
    "                f[valid] += (p[i] - np.sum(f[valid])) / np.sum(w_i)\n",
    "\n",
    "    # By slicing in-place [::-1] we get rid of the inversion of the\n",
    "    # image along the y-axis.\n",
    "\n",
    "    return f.reshape((N, N))[::-1].transpose(),dif"
   ]
  },
  {
   "cell_type": "code",
   "execution_count": 161,
   "metadata": {},
   "outputs": [],
   "source": [
    "sino = project(im,an=60)\n",
    "THETA = np.linspace(-70,70,60)*2*np.pi/360 + np.pi/2\n",
    "recon_art2,dif =  art(np.array(sino), THETA.T, initial=None, iterations=10,count=None, max_count=None)\n"
   ]
  },
  {
   "cell_type": "code",
   "execution_count": 155,
   "metadata": {},
   "outputs": [
    {
     "data": {
      "text/plain": [
       "<matplotlib.image.AxesImage at 0x2169c15bd68>"
      ]
     },
     "execution_count": 155,
     "metadata": {},
     "output_type": "execute_result"
    }
   ],
   "source": [
    "\n",
    "plt.imshow(recon_art2,cmap='gray')"
   ]
  },
  {
   "cell_type": "code",
   "execution_count": 163,
   "metadata": {},
   "outputs": [
    {
     "data": {
      "text/plain": [
       "[<matplotlib.lines.Line2D at 0x216a2989978>]"
      ]
     },
     "execution_count": 163,
     "metadata": {},
     "output_type": "execute_result"
    }
   ],
   "source": [
    "dif_art = dif\n",
    "plt.plot(dif)"
   ]
  },
  {
   "cell_type": "code",
   "execution_count": 139,
   "metadata": {},
   "outputs": [],
   "source": [
    "center = 15\n",
    "pr = np.arange(30) - center + .5  # radial distance,\n",
    "\n",
    "angle_k = np.pi/4\n",
    "if angle_k <= np.pi / 2:\n",
    "    # 0 to PI/2\n",
    "    # case == 1\n",
    "    # position of each p[i] in the centered *outarr*.\n",
    "    # a position of line1 in X\n",
    "    x_p1 = (pr - .5) * np.sin(angle_k)\n",
    "    # a position of line1 in Y\n",
    "    y_p1 = -(pr - .5) * np.cos(angle_k)\n",
    "    # a position of line2 in X\n",
    "    x_p2 = (pr + .5) * np.sin(angle_k)\n",
    "    # a position of line2 in sY\n",
    "    y_p2 = -(pr + .5) * np.cos(angle_k)"
   ]
  },
  {
   "cell_type": "code",
   "execution_count": 147,
   "metadata": {},
   "outputs": [
    {
     "data": {
      "text/plain": [
       "<matplotlib.collections.PathCollection at 0x1fb96378be0>"
      ]
     },
     "execution_count": 147,
     "metadata": {},
     "output_type": "execute_result"
    }
   ],
   "source": [
    "plt.scatter(x_p1-x_p2,y_p1-y_p2)\n",
    "#plt.scatter(x_p2,y_p2)"
   ]
  },
  {
   "cell_type": "code",
   "execution_count": 156,
   "metadata": {},
   "outputs": [
    {
     "data": {
      "text/plain": [
       "250"
      ]
     },
     "execution_count": 156,
     "metadata": {},
     "output_type": "execute_result"
    }
   ],
   "source": [
    "len(sino[0])"
   ]
  },
  {
   "cell_type": "code",
   "execution_count": 152,
   "metadata": {},
   "outputs": [
    {
     "ename": "ValueError",
     "evalue": "not enough values to unpack (expected 3, got 2)",
     "output_type": "error",
     "traceback": [
      "\u001b[1;31m---------------------------------------------------------------------------\u001b[0m",
      "\u001b[1;31mValueError\u001b[0m                                Traceback (most recent call last)",
      "\u001b[1;32m<ipython-input-152-74696d247798>\u001b[0m in \u001b[0;36m<module>\u001b[1;34m\u001b[0m\n\u001b[1;32m----> 1\u001b[1;33m \u001b[0mtomopy\u001b[0m\u001b[1;33m.\u001b[0m\u001b[0mrecon\u001b[0m\u001b[1;33m(\u001b[0m\u001b[0msino\u001b[0m\u001b[1;33m,\u001b[0m\u001b[0mTHETA\u001b[0m\u001b[1;33m,\u001b[0m\u001b[0malgorithm\u001b[0m\u001b[1;33m=\u001b[0m\u001b[1;34m'ART'\u001b[0m\u001b[1;33m,\u001b[0m\u001b[0mnchunk\u001b[0m\u001b[1;33m=\u001b[0m\u001b[1;36m0\u001b[0m\u001b[1;33m)\u001b[0m\u001b[1;33m\u001b[0m\u001b[1;33m\u001b[0m\u001b[0m\n\u001b[0m",
      "\u001b[1;32m~\\Anaconda3\\lib\\site-packages\\tomopy\\recon\\algorithm.py\u001b[0m in \u001b[0;36mrecon\u001b[1;34m(tomo, theta, center, sinogram_order, algorithm, init_recon, ncore, nchunk, **kwargs)\u001b[0m\n\u001b[0;32m    256\u001b[0m \u001b[1;33m\u001b[0m\u001b[0m\n\u001b[0;32m    257\u001b[0m     \u001b[1;31m# Generate kwargs for the algorithm.\u001b[0m\u001b[1;33m\u001b[0m\u001b[1;33m\u001b[0m\u001b[1;33m\u001b[0m\u001b[0m\n\u001b[1;32m--> 258\u001b[1;33m     \u001b[0mkwargs_defaults\u001b[0m \u001b[1;33m=\u001b[0m \u001b[0m_get_algorithm_kwargs\u001b[0m\u001b[1;33m(\u001b[0m\u001b[0mtomo\u001b[0m\u001b[1;33m.\u001b[0m\u001b[0mshape\u001b[0m\u001b[1;33m)\u001b[0m\u001b[1;33m\u001b[0m\u001b[1;33m\u001b[0m\u001b[0m\n\u001b[0m\u001b[0;32m    259\u001b[0m \u001b[1;33m\u001b[0m\u001b[0m\n\u001b[0;32m    260\u001b[0m     \u001b[1;32mif\u001b[0m \u001b[0misinstance\u001b[0m\u001b[1;33m(\u001b[0m\u001b[0malgorithm\u001b[0m\u001b[1;33m,\u001b[0m \u001b[0msix\u001b[0m\u001b[1;33m.\u001b[0m\u001b[0mstring_types\u001b[0m\u001b[1;33m)\u001b[0m\u001b[1;33m:\u001b[0m\u001b[1;33m\u001b[0m\u001b[1;33m\u001b[0m\u001b[0m\n",
      "\u001b[1;32m~\\Anaconda3\\lib\\site-packages\\tomopy\\recon\\algorithm.py\u001b[0m in \u001b[0;36m_get_algorithm_kwargs\u001b[1;34m(shape)\u001b[0m\n\u001b[0;32m    412\u001b[0m \u001b[1;33m\u001b[0m\u001b[0m\n\u001b[0;32m    413\u001b[0m \u001b[1;32mdef\u001b[0m \u001b[0m_get_algorithm_kwargs\u001b[0m\u001b[1;33m(\u001b[0m\u001b[0mshape\u001b[0m\u001b[1;33m)\u001b[0m\u001b[1;33m:\u001b[0m\u001b[1;33m\u001b[0m\u001b[1;33m\u001b[0m\u001b[0m\n\u001b[1;32m--> 414\u001b[1;33m     \u001b[0mdy\u001b[0m\u001b[1;33m,\u001b[0m \u001b[0mdt\u001b[0m\u001b[1;33m,\u001b[0m \u001b[0mdx\u001b[0m \u001b[1;33m=\u001b[0m \u001b[0mshape\u001b[0m\u001b[1;33m\u001b[0m\u001b[1;33m\u001b[0m\u001b[0m\n\u001b[0m\u001b[0;32m    415\u001b[0m     return {\n\u001b[0;32m    416\u001b[0m         \u001b[1;34m'num_gridx'\u001b[0m\u001b[1;33m:\u001b[0m \u001b[0mdx\u001b[0m\u001b[1;33m,\u001b[0m\u001b[1;33m\u001b[0m\u001b[1;33m\u001b[0m\u001b[0m\n",
      "\u001b[1;31mValueError\u001b[0m: not enough values to unpack (expected 3, got 2)"
     ]
    }
   ],
   "source": [
    "tomopy.recon(sino,THETA,algorithm='ART',nchunk=0)"
   ]
  },
  {
   "cell_type": "markdown",
   "metadata": {},
   "source": [
    "## Compressed sensing"
   ]
  },
  {
   "cell_type": "code",
   "execution_count": 261,
   "metadata": {},
   "outputs": [],
   "source": [
    "import scipy"
   ]
  },
  {
   "cell_type": "code",
   "execution_count": 47,
   "metadata": {},
   "outputs": [
    {
     "ename": "SyntaxError",
     "evalue": "invalid syntax (<ipython-input-47-2f931615b705>, line 39)",
     "output_type": "error",
     "traceback": [
      "\u001b[1;36m  File \u001b[1;32m\"<ipython-input-47-2f931615b705>\"\u001b[1;36m, line \u001b[1;32m39\u001b[0m\n\u001b[1;33m    return f**2.sum()\u001b[0m\n\u001b[1;37m                  ^\u001b[0m\n\u001b[1;31mSyntaxError\u001b[0m\u001b[1;31m:\u001b[0m invalid syntax\n"
     ]
    }
   ],
   "source": [
    "sino = np.array(project(im))\n",
    "THETA = np.linspace(-70,70,60)\n",
    "x = np.zeros_like(im)\n",
    "N = len(x[0])\n",
    "b = np.array(sino).T\n",
    "#THETA = np.linspace(al,au,an)\n",
    "x0 = np.zeros_like(x)\n",
    "\n",
    "# project data by radon\n",
    "A = lambda x: radon(x, THETA, circle=True).astype(np.float32)\n",
    "\n",
    "# create back projection - divided by pi / 2A ?\n",
    "AT = lambda y: iradon(y, THETA, circle=False, filter=None, output_size=N).astype(np.float32)/(np.pi/(2*len(THETA)))\n",
    "\n",
    "# create back projection\n",
    "AINV = lambda y: iradon(y, THETA, circle=False, output_size=N).astype(np.float32)\n",
    "\n",
    "ATA = AT(A(np.ones_like(x)))\n",
    "\n",
    "# x0 = x0.flatten\n",
    "# imf = im.flatten\n",
    "# sino = sino.flatten\n",
    "mu = 1\n",
    "\n",
    "global n\n",
    "n= 0\n",
    "def loss_function(x, *args):\n",
    "    #print(x)\n",
    "    im,sino,THETA = args\n",
    "    x = x.reshape(250,250)\n",
    "    ATA = AT(A(np.ones_like(x)))\n",
    "    f = np.divide(mu * AT(b - A(x)), ATA)\n",
    "    x = x.flatten()\n",
    "    f = f.flatten()\n",
    "    global n\n",
    "    print(n)\n",
    "    n+=1\n",
    "    #print(f.^2)\n",
    "    return f**2.sum()\n"
   ]
  },
  {
   "cell_type": "code",
   "execution_count": 48,
   "metadata": {},
   "outputs": [
    {
     "name": "stdout",
     "output_type": "stream",
     "text": [
      "1490\n",
      "1491\n",
      "1492\n",
      "1493\n",
      "1494\n",
      "1495\n",
      "1496\n",
      "1497\n",
      "1498\n",
      "1499\n",
      "1500\n",
      "1501\n",
      "1502\n",
      "1503\n",
      "1504\n"
     ]
    },
    {
     "ename": "KeyboardInterrupt",
     "evalue": "",
     "output_type": "error",
     "traceback": [
      "\u001b[1;31m---------------------------------------------------------------------------\u001b[0m",
      "\u001b[1;31mKeyboardInterrupt\u001b[0m                         Traceback (most recent call last)",
      "\u001b[1;32m<ipython-input-48-64fba8b12437>\u001b[0m in \u001b[0;36m<module>\u001b[1;34m\u001b[0m\n\u001b[1;32m----> 1\u001b[1;33m \u001b[0mxopt\u001b[0m \u001b[1;33m=\u001b[0m \u001b[0mscipy\u001b[0m\u001b[1;33m.\u001b[0m\u001b[0moptimize\u001b[0m\u001b[1;33m.\u001b[0m\u001b[0mfmin_cg\u001b[0m\u001b[1;33m(\u001b[0m\u001b[0mloss_function\u001b[0m\u001b[1;33m,\u001b[0m\u001b[0mx0\u001b[0m\u001b[1;33m.\u001b[0m\u001b[0mflatten\u001b[0m\u001b[1;33m(\u001b[0m\u001b[1;33m)\u001b[0m\u001b[1;33m,\u001b[0m\u001b[0mmaxiter\u001b[0m\u001b[1;33m=\u001b[0m\u001b[1;36m1\u001b[0m\u001b[1;33m,\u001b[0m\u001b[0margs\u001b[0m\u001b[1;33m=\u001b[0m\u001b[1;33m(\u001b[0m\u001b[0mim\u001b[0m\u001b[1;33m,\u001b[0m\u001b[0msino\u001b[0m\u001b[1;33m,\u001b[0m\u001b[0mTHETA\u001b[0m\u001b[1;33m)\u001b[0m\u001b[1;33m,\u001b[0m\u001b[0mcallback\u001b[0m \u001b[1;33m=\u001b[0m \u001b[0mcallbackF\u001b[0m\u001b[1;33m,\u001b[0m\u001b[0mgtol\u001b[0m\u001b[1;33m=\u001b[0m\u001b[1;36m0.1\u001b[0m\u001b[1;33m)\u001b[0m\u001b[1;33m\u001b[0m\u001b[1;33m\u001b[0m\u001b[0m\n\u001b[0m\u001b[0;32m      2\u001b[0m \u001b[1;31m#scipy.optimize.fmin(loss_function,x0,maxiter=5,args=(im,sino,THETA))\u001b[0m\u001b[1;33m\u001b[0m\u001b[1;33m\u001b[0m\u001b[1;33m\u001b[0m\u001b[0m\n",
      "\u001b[1;32m~\\Anaconda3\\lib\\site-packages\\scipy\\optimize\\optimize.py\u001b[0m in \u001b[0;36mfmin_cg\u001b[1;34m(f, x0, fprime, args, gtol, norm, epsilon, maxiter, full_output, disp, retall, callback)\u001b[0m\n\u001b[0;32m   1245\u001b[0m             'return_all': retall}\n\u001b[0;32m   1246\u001b[0m \u001b[1;33m\u001b[0m\u001b[0m\n\u001b[1;32m-> 1247\u001b[1;33m     \u001b[0mres\u001b[0m \u001b[1;33m=\u001b[0m \u001b[0m_minimize_cg\u001b[0m\u001b[1;33m(\u001b[0m\u001b[0mf\u001b[0m\u001b[1;33m,\u001b[0m \u001b[0mx0\u001b[0m\u001b[1;33m,\u001b[0m \u001b[0margs\u001b[0m\u001b[1;33m,\u001b[0m \u001b[0mfprime\u001b[0m\u001b[1;33m,\u001b[0m \u001b[0mcallback\u001b[0m\u001b[1;33m=\u001b[0m\u001b[0mcallback\u001b[0m\u001b[1;33m,\u001b[0m \u001b[1;33m**\u001b[0m\u001b[0mopts\u001b[0m\u001b[1;33m)\u001b[0m\u001b[1;33m\u001b[0m\u001b[1;33m\u001b[0m\u001b[0m\n\u001b[0m\u001b[0;32m   1248\u001b[0m \u001b[1;33m\u001b[0m\u001b[0m\n\u001b[0;32m   1249\u001b[0m     \u001b[1;32mif\u001b[0m \u001b[0mfull_output\u001b[0m\u001b[1;33m:\u001b[0m\u001b[1;33m\u001b[0m\u001b[1;33m\u001b[0m\u001b[0m\n",
      "\u001b[1;32m~\\Anaconda3\\lib\\site-packages\\scipy\\optimize\\optimize.py\u001b[0m in \u001b[0;36m_minimize_cg\u001b[1;34m(fun, x0, args, jac, callback, gtol, norm, eps, maxiter, disp, return_all, **unknown_options)\u001b[0m\n\u001b[0;32m   1296\u001b[0m     \u001b[1;32melse\u001b[0m\u001b[1;33m:\u001b[0m\u001b[1;33m\u001b[0m\u001b[1;33m\u001b[0m\u001b[0m\n\u001b[0;32m   1297\u001b[0m         \u001b[0mgrad_calls\u001b[0m\u001b[1;33m,\u001b[0m \u001b[0mmyfprime\u001b[0m \u001b[1;33m=\u001b[0m \u001b[0mwrap_function\u001b[0m\u001b[1;33m(\u001b[0m\u001b[0mfprime\u001b[0m\u001b[1;33m,\u001b[0m \u001b[0margs\u001b[0m\u001b[1;33m)\u001b[0m\u001b[1;33m\u001b[0m\u001b[1;33m\u001b[0m\u001b[0m\n\u001b[1;32m-> 1298\u001b[1;33m     \u001b[0mgfk\u001b[0m \u001b[1;33m=\u001b[0m \u001b[0mmyfprime\u001b[0m\u001b[1;33m(\u001b[0m\u001b[0mx0\u001b[0m\u001b[1;33m)\u001b[0m\u001b[1;33m\u001b[0m\u001b[1;33m\u001b[0m\u001b[0m\n\u001b[0m\u001b[0;32m   1299\u001b[0m     \u001b[0mk\u001b[0m \u001b[1;33m=\u001b[0m \u001b[1;36m0\u001b[0m\u001b[1;33m\u001b[0m\u001b[1;33m\u001b[0m\u001b[0m\n\u001b[0;32m   1300\u001b[0m     \u001b[0mxk\u001b[0m \u001b[1;33m=\u001b[0m \u001b[0mx0\u001b[0m\u001b[1;33m\u001b[0m\u001b[1;33m\u001b[0m\u001b[0m\n",
      "\u001b[1;32m~\\Anaconda3\\lib\\site-packages\\scipy\\optimize\\optimize.py\u001b[0m in \u001b[0;36mfunction_wrapper\u001b[1;34m(*wrapper_args)\u001b[0m\n\u001b[0;32m    324\u001b[0m     \u001b[1;32mdef\u001b[0m \u001b[0mfunction_wrapper\u001b[0m\u001b[1;33m(\u001b[0m\u001b[1;33m*\u001b[0m\u001b[0mwrapper_args\u001b[0m\u001b[1;33m)\u001b[0m\u001b[1;33m:\u001b[0m\u001b[1;33m\u001b[0m\u001b[1;33m\u001b[0m\u001b[0m\n\u001b[0;32m    325\u001b[0m         \u001b[0mncalls\u001b[0m\u001b[1;33m[\u001b[0m\u001b[1;36m0\u001b[0m\u001b[1;33m]\u001b[0m \u001b[1;33m+=\u001b[0m \u001b[1;36m1\u001b[0m\u001b[1;33m\u001b[0m\u001b[1;33m\u001b[0m\u001b[0m\n\u001b[1;32m--> 326\u001b[1;33m         \u001b[1;32mreturn\u001b[0m \u001b[0mfunction\u001b[0m\u001b[1;33m(\u001b[0m\u001b[1;33m*\u001b[0m\u001b[1;33m(\u001b[0m\u001b[0mwrapper_args\u001b[0m \u001b[1;33m+\u001b[0m \u001b[0margs\u001b[0m\u001b[1;33m)\u001b[0m\u001b[1;33m)\u001b[0m\u001b[1;33m\u001b[0m\u001b[1;33m\u001b[0m\u001b[0m\n\u001b[0m\u001b[0;32m    327\u001b[0m \u001b[1;33m\u001b[0m\u001b[0m\n\u001b[0;32m    328\u001b[0m     \u001b[1;32mreturn\u001b[0m \u001b[0mncalls\u001b[0m\u001b[1;33m,\u001b[0m \u001b[0mfunction_wrapper\u001b[0m\u001b[1;33m\u001b[0m\u001b[1;33m\u001b[0m\u001b[0m\n",
      "\u001b[1;32m~\\Anaconda3\\lib\\site-packages\\scipy\\optimize\\optimize.py\u001b[0m in \u001b[0;36mapprox_fprime\u001b[1;34m(xk, f, epsilon, *args)\u001b[0m\n\u001b[0;32m    754\u001b[0m \u001b[1;33m\u001b[0m\u001b[0m\n\u001b[0;32m    755\u001b[0m     \"\"\"\n\u001b[1;32m--> 756\u001b[1;33m     \u001b[1;32mreturn\u001b[0m \u001b[0m_approx_fprime_helper\u001b[0m\u001b[1;33m(\u001b[0m\u001b[0mxk\u001b[0m\u001b[1;33m,\u001b[0m \u001b[0mf\u001b[0m\u001b[1;33m,\u001b[0m \u001b[0mepsilon\u001b[0m\u001b[1;33m,\u001b[0m \u001b[0margs\u001b[0m\u001b[1;33m=\u001b[0m\u001b[0margs\u001b[0m\u001b[1;33m)\u001b[0m\u001b[1;33m\u001b[0m\u001b[1;33m\u001b[0m\u001b[0m\n\u001b[0m\u001b[0;32m    757\u001b[0m \u001b[1;33m\u001b[0m\u001b[0m\n\u001b[0;32m    758\u001b[0m \u001b[1;33m\u001b[0m\u001b[0m\n",
      "\u001b[1;32m~\\Anaconda3\\lib\\site-packages\\scipy\\optimize\\optimize.py\u001b[0m in \u001b[0;36m_approx_fprime_helper\u001b[1;34m(xk, f, epsilon, args, f0)\u001b[0m\n\u001b[0;32m    694\u001b[0m         \u001b[0mei\u001b[0m\u001b[1;33m[\u001b[0m\u001b[0mk\u001b[0m\u001b[1;33m]\u001b[0m \u001b[1;33m=\u001b[0m \u001b[1;36m1.0\u001b[0m\u001b[1;33m\u001b[0m\u001b[1;33m\u001b[0m\u001b[0m\n\u001b[0;32m    695\u001b[0m         \u001b[0md\u001b[0m \u001b[1;33m=\u001b[0m \u001b[0mepsilon\u001b[0m \u001b[1;33m*\u001b[0m \u001b[0mei\u001b[0m\u001b[1;33m\u001b[0m\u001b[1;33m\u001b[0m\u001b[0m\n\u001b[1;32m--> 696\u001b[1;33m         \u001b[0mgrad\u001b[0m\u001b[1;33m[\u001b[0m\u001b[0mk\u001b[0m\u001b[1;33m]\u001b[0m \u001b[1;33m=\u001b[0m \u001b[1;33m(\u001b[0m\u001b[0mf\u001b[0m\u001b[1;33m(\u001b[0m\u001b[1;33m*\u001b[0m\u001b[1;33m(\u001b[0m\u001b[1;33m(\u001b[0m\u001b[0mxk\u001b[0m \u001b[1;33m+\u001b[0m \u001b[0md\u001b[0m\u001b[1;33m,\u001b[0m\u001b[1;33m)\u001b[0m \u001b[1;33m+\u001b[0m \u001b[0margs\u001b[0m\u001b[1;33m)\u001b[0m\u001b[1;33m)\u001b[0m \u001b[1;33m-\u001b[0m \u001b[0mf0\u001b[0m\u001b[1;33m)\u001b[0m \u001b[1;33m/\u001b[0m \u001b[0md\u001b[0m\u001b[1;33m[\u001b[0m\u001b[0mk\u001b[0m\u001b[1;33m]\u001b[0m\u001b[1;33m\u001b[0m\u001b[1;33m\u001b[0m\u001b[0m\n\u001b[0m\u001b[0;32m    697\u001b[0m         \u001b[0mei\u001b[0m\u001b[1;33m[\u001b[0m\u001b[0mk\u001b[0m\u001b[1;33m]\u001b[0m \u001b[1;33m=\u001b[0m \u001b[1;36m0.0\u001b[0m\u001b[1;33m\u001b[0m\u001b[1;33m\u001b[0m\u001b[0m\n\u001b[0;32m    698\u001b[0m     \u001b[1;32mreturn\u001b[0m \u001b[0mgrad\u001b[0m\u001b[1;33m\u001b[0m\u001b[1;33m\u001b[0m\u001b[0m\n",
      "\u001b[1;32m~\\Anaconda3\\lib\\site-packages\\scipy\\optimize\\optimize.py\u001b[0m in \u001b[0;36mfunction_wrapper\u001b[1;34m(*wrapper_args)\u001b[0m\n\u001b[0;32m    324\u001b[0m     \u001b[1;32mdef\u001b[0m \u001b[0mfunction_wrapper\u001b[0m\u001b[1;33m(\u001b[0m\u001b[1;33m*\u001b[0m\u001b[0mwrapper_args\u001b[0m\u001b[1;33m)\u001b[0m\u001b[1;33m:\u001b[0m\u001b[1;33m\u001b[0m\u001b[1;33m\u001b[0m\u001b[0m\n\u001b[0;32m    325\u001b[0m         \u001b[0mncalls\u001b[0m\u001b[1;33m[\u001b[0m\u001b[1;36m0\u001b[0m\u001b[1;33m]\u001b[0m \u001b[1;33m+=\u001b[0m \u001b[1;36m1\u001b[0m\u001b[1;33m\u001b[0m\u001b[1;33m\u001b[0m\u001b[0m\n\u001b[1;32m--> 326\u001b[1;33m         \u001b[1;32mreturn\u001b[0m \u001b[0mfunction\u001b[0m\u001b[1;33m(\u001b[0m\u001b[1;33m*\u001b[0m\u001b[1;33m(\u001b[0m\u001b[0mwrapper_args\u001b[0m \u001b[1;33m+\u001b[0m \u001b[0margs\u001b[0m\u001b[1;33m)\u001b[0m\u001b[1;33m)\u001b[0m\u001b[1;33m\u001b[0m\u001b[1;33m\u001b[0m\u001b[0m\n\u001b[0m\u001b[0;32m    327\u001b[0m \u001b[1;33m\u001b[0m\u001b[0m\n\u001b[0;32m    328\u001b[0m     \u001b[1;32mreturn\u001b[0m \u001b[0mncalls\u001b[0m\u001b[1;33m,\u001b[0m \u001b[0mfunction_wrapper\u001b[0m\u001b[1;33m\u001b[0m\u001b[1;33m\u001b[0m\u001b[0m\n",
      "\u001b[1;32m<ipython-input-42-94ff95cb1b8a>\u001b[0m in \u001b[0;36mloss_function\u001b[1;34m(x, *args)\u001b[0m\n\u001b[0;32m     30\u001b[0m     \u001b[0mx\u001b[0m \u001b[1;33m=\u001b[0m \u001b[0mx\u001b[0m\u001b[1;33m.\u001b[0m\u001b[0mreshape\u001b[0m\u001b[1;33m(\u001b[0m\u001b[1;36m250\u001b[0m\u001b[1;33m,\u001b[0m\u001b[1;36m250\u001b[0m\u001b[1;33m)\u001b[0m\u001b[1;33m\u001b[0m\u001b[1;33m\u001b[0m\u001b[0m\n\u001b[0;32m     31\u001b[0m     \u001b[0mATA\u001b[0m \u001b[1;33m=\u001b[0m \u001b[0mAT\u001b[0m\u001b[1;33m(\u001b[0m\u001b[0mA\u001b[0m\u001b[1;33m(\u001b[0m\u001b[0mnp\u001b[0m\u001b[1;33m.\u001b[0m\u001b[0mones_like\u001b[0m\u001b[1;33m(\u001b[0m\u001b[0mx\u001b[0m\u001b[1;33m)\u001b[0m\u001b[1;33m)\u001b[0m\u001b[1;33m)\u001b[0m\u001b[1;33m\u001b[0m\u001b[1;33m\u001b[0m\u001b[0m\n\u001b[1;32m---> 32\u001b[1;33m     \u001b[0mf\u001b[0m \u001b[1;33m=\u001b[0m \u001b[0mnp\u001b[0m\u001b[1;33m.\u001b[0m\u001b[0mdivide\u001b[0m\u001b[1;33m(\u001b[0m\u001b[0mmu\u001b[0m \u001b[1;33m*\u001b[0m \u001b[0mAT\u001b[0m\u001b[1;33m(\u001b[0m\u001b[0mb\u001b[0m \u001b[1;33m-\u001b[0m \u001b[0mA\u001b[0m\u001b[1;33m(\u001b[0m\u001b[0mx\u001b[0m\u001b[1;33m)\u001b[0m\u001b[1;33m)\u001b[0m\u001b[1;33m,\u001b[0m \u001b[0mATA\u001b[0m\u001b[1;33m)\u001b[0m\u001b[1;33m\u001b[0m\u001b[1;33m\u001b[0m\u001b[0m\n\u001b[0m\u001b[0;32m     33\u001b[0m     \u001b[0mx\u001b[0m \u001b[1;33m=\u001b[0m \u001b[0mx\u001b[0m\u001b[1;33m.\u001b[0m\u001b[0mflatten\u001b[0m\u001b[1;33m(\u001b[0m\u001b[1;33m)\u001b[0m\u001b[1;33m\u001b[0m\u001b[1;33m\u001b[0m\u001b[0m\n\u001b[0;32m     34\u001b[0m     \u001b[0mf\u001b[0m \u001b[1;33m=\u001b[0m \u001b[0mf\u001b[0m\u001b[1;33m.\u001b[0m\u001b[0mflatten\u001b[0m\u001b[1;33m(\u001b[0m\u001b[1;33m)\u001b[0m\u001b[1;33m\u001b[0m\u001b[1;33m\u001b[0m\u001b[0m\n",
      "\u001b[1;32m<ipython-input-42-94ff95cb1b8a>\u001b[0m in \u001b[0;36m<lambda>\u001b[1;34m(y)\u001b[0m\n\u001b[0;32m     11\u001b[0m \u001b[1;33m\u001b[0m\u001b[0m\n\u001b[0;32m     12\u001b[0m \u001b[1;31m# create back projection - divided by pi / 2A ?\u001b[0m\u001b[1;33m\u001b[0m\u001b[1;33m\u001b[0m\u001b[1;33m\u001b[0m\u001b[0m\n\u001b[1;32m---> 13\u001b[1;33m \u001b[0mAT\u001b[0m \u001b[1;33m=\u001b[0m \u001b[1;32mlambda\u001b[0m \u001b[0my\u001b[0m\u001b[1;33m:\u001b[0m \u001b[0miradon\u001b[0m\u001b[1;33m(\u001b[0m\u001b[0my\u001b[0m\u001b[1;33m,\u001b[0m \u001b[0mTHETA\u001b[0m\u001b[1;33m,\u001b[0m \u001b[0mcircle\u001b[0m\u001b[1;33m=\u001b[0m\u001b[1;32mFalse\u001b[0m\u001b[1;33m,\u001b[0m \u001b[0mfilter\u001b[0m\u001b[1;33m=\u001b[0m\u001b[1;32mNone\u001b[0m\u001b[1;33m,\u001b[0m \u001b[0moutput_size\u001b[0m\u001b[1;33m=\u001b[0m\u001b[0mN\u001b[0m\u001b[1;33m)\u001b[0m\u001b[1;33m.\u001b[0m\u001b[0mastype\u001b[0m\u001b[1;33m(\u001b[0m\u001b[0mnp\u001b[0m\u001b[1;33m.\u001b[0m\u001b[0mfloat32\u001b[0m\u001b[1;33m)\u001b[0m\u001b[1;33m/\u001b[0m\u001b[1;33m(\u001b[0m\u001b[0mnp\u001b[0m\u001b[1;33m.\u001b[0m\u001b[0mpi\u001b[0m\u001b[1;33m/\u001b[0m\u001b[1;33m(\u001b[0m\u001b[1;36m2\u001b[0m\u001b[1;33m*\u001b[0m\u001b[0mlen\u001b[0m\u001b[1;33m(\u001b[0m\u001b[0mTHETA\u001b[0m\u001b[1;33m)\u001b[0m\u001b[1;33m)\u001b[0m\u001b[1;33m)\u001b[0m\u001b[1;33m\u001b[0m\u001b[1;33m\u001b[0m\u001b[0m\n\u001b[0m\u001b[0;32m     14\u001b[0m \u001b[1;33m\u001b[0m\u001b[0m\n\u001b[0;32m     15\u001b[0m \u001b[1;31m# create back projection\u001b[0m\u001b[1;33m\u001b[0m\u001b[1;33m\u001b[0m\u001b[1;33m\u001b[0m\u001b[0m\n",
      "\u001b[1;32m~\\Anaconda3\\lib\\site-packages\\skimage\\transform\\radon_transform.py\u001b[0m in \u001b[0;36miradon\u001b[1;34m(radon_image, theta, output_size, filter, interpolation, circle)\u001b[0m\n\u001b[0;32m    249\u001b[0m                                    bounds_error=False, fill_value=0)\n\u001b[0;32m    250\u001b[0m             \u001b[0mbackprojected\u001b[0m \u001b[1;33m=\u001b[0m \u001b[0minterpolant\u001b[0m\u001b[1;33m(\u001b[0m\u001b[0mt\u001b[0m\u001b[1;33m)\u001b[0m\u001b[1;33m\u001b[0m\u001b[1;33m\u001b[0m\u001b[0m\n\u001b[1;32m--> 251\u001b[1;33m         \u001b[0mreconstructed\u001b[0m \u001b[1;33m+=\u001b[0m \u001b[0mbackprojected\u001b[0m\u001b[1;33m\u001b[0m\u001b[1;33m\u001b[0m\u001b[0m\n\u001b[0m\u001b[0;32m    252\u001b[0m     \u001b[1;32mif\u001b[0m \u001b[0mcircle\u001b[0m\u001b[1;33m:\u001b[0m\u001b[1;33m\u001b[0m\u001b[1;33m\u001b[0m\u001b[0m\n\u001b[0;32m    253\u001b[0m         \u001b[0mradius\u001b[0m \u001b[1;33m=\u001b[0m \u001b[0moutput_size\u001b[0m \u001b[1;33m//\u001b[0m \u001b[1;36m2\u001b[0m\u001b[1;33m\u001b[0m\u001b[1;33m\u001b[0m\u001b[0m\n",
      "\u001b[1;31mKeyboardInterrupt\u001b[0m: "
     ]
    }
   ],
   "source": [
    "xopt = scipy.optimize.fmin_cg(loss_function,x0.flatten(),maxiter=1,args=(im,sino,THETA),callback = callbackF,gtol=0.1)\n",
    "#scipy.optimize.fmin(loss_function,x0,maxiter=5,args=(im,sino,THETA))"
   ]
  },
  {
   "cell_type": "code",
   "execution_count": 45,
   "metadata": {},
   "outputs": [
    {
     "ename": "NameError",
     "evalue": "name 'xopt' is not defined",
     "output_type": "error",
     "traceback": [
      "\u001b[1;31m---------------------------------------------------------------------------\u001b[0m",
      "\u001b[1;31mNameError\u001b[0m                                 Traceback (most recent call last)",
      "\u001b[1;32m<ipython-input-45-0029873e1ee2>\u001b[0m in \u001b[0;36m<module>\u001b[1;34m\u001b[0m\n\u001b[1;32m----> 1\u001b[1;33m \u001b[0mxopt\u001b[0m\u001b[1;33m\u001b[0m\u001b[1;33m\u001b[0m\u001b[0m\n\u001b[0m",
      "\u001b[1;31mNameError\u001b[0m: name 'xopt' is not defined"
     ]
    }
   ],
   "source": [
    "xopt"
   ]
  },
  {
   "cell_type": "code",
   "execution_count": 3,
   "metadata": {},
   "outputs": [],
   "source": [
    "import pywt"
   ]
  },
  {
   "cell_type": "code",
   "execution_count": 7,
   "metadata": {},
   "outputs": [],
   "source": [
    "coeffs2 = pywt.dwt2(im, 'bior1.3')"
   ]
  },
  {
   "cell_type": "code",
   "execution_count": 8,
   "metadata": {},
   "outputs": [],
   "source": [
    "LL, (LH, HL, HH) = coeffs2\n",
    "fig = plt.figure(figsize=(12, 3))\n",
    "titles = ['Approximation', ' Horizontal detail',\n",
    "          'Vertical detail', 'Diagonal detail']\n",
    "for i, a in enumerate([LL, LH, HL, HH]):\n",
    "    ax = fig.add_subplot(1, 4, i + 1)\n",
    "    ax.imshow(a, interpolation=\"nearest\", cmap=plt.cm.gray)\n",
    "    ax.set_title(titles[i], fontsize=10)\n",
    "    ax.set_xticks([])\n",
    "    ax.set_yticks([])\n",
    "\n",
    "fig.tight_layout()\n",
    "plt.show()"
   ]
  },
  {
   "cell_type": "code",
   "execution_count": 42,
   "metadata": {},
   "outputs": [],
   "source": [
    "c = np.sqrt((LH**2 + HL**2 + HH**2))"
   ]
  },
  {
   "cell_type": "code",
   "execution_count": 44,
   "metadata": {},
   "outputs": [
    {
     "data": {
      "text/plain": [
       "array([[0., 0., 0., ..., 0., 0., 0.],\n",
       "       [0., 0., 0., ..., 0., 0., 0.],\n",
       "       [0., 0., 0., ..., 0., 0., 0.],\n",
       "       ...,\n",
       "       [0., 0., 0., ..., 0., 0., 0.],\n",
       "       [0., 0., 0., ..., 0., 0., 0.],\n",
       "       [0., 0., 0., ..., 0., 0., 0.]])"
      ]
     },
     "execution_count": 44,
     "metadata": {},
     "output_type": "execute_result"
    }
   ],
   "source": [
    "c"
   ]
  },
  {
   "cell_type": "code",
   "execution_count": 43,
   "metadata": {},
   "outputs": [
    {
     "data": {
      "text/plain": [
       "<matplotlib.image.AxesImage at 0x25b480f6198>"
      ]
     },
     "execution_count": 43,
     "metadata": {},
     "output_type": "execute_result"
    }
   ],
   "source": [
    "plt.imshow(c,cmap='gray')"
   ]
  },
  {
   "cell_type": "code",
   "execution_count": 10,
   "metadata": {},
   "outputs": [
    {
     "data": {
      "text/plain": [
       "<matplotlib.image.AxesImage at 0x186591acba8>"
      ]
     },
     "execution_count": 10,
     "metadata": {},
     "output_type": "execute_result"
    }
   ],
   "source": [
    "sx = ndimage.sobel(im,axis=0,mode='constant')\n",
    "# Get y-gradient in \"sy\"\n",
    "sy = ndimage.sobel(im,axis=1,mode='constant')\n",
    "# Get square root of sum of squares\n",
    "sobel=np.hypot(sx,sy)\n",
    "plt.imshow(sobel)"
   ]
  },
  {
   "cell_type": "code",
   "execution_count": 31,
   "metadata": {},
   "outputs": [],
   "source": [
    "fig, axes = plt.subplots(nrows=1, ncols=3)\n",
    "axes[0].imshow(im,cmap='gray')\n",
    "axes[1].imshow(sobel,cmap='gray')\n",
    "axes[2].imshow(abs((LH+ HL+ HH)),cmap='gray')\n",
    "\n",
    "for i in [0,1,2]:\n",
    "    axes[i].axis('off')\n",
    "    \n",
    "plt.tight_layout()"
   ]
  },
  {
   "cell_type": "code",
   "execution_count": 33,
   "metadata": {},
   "outputs": [
    {
     "data": {
      "text/plain": [
       "(array([8.54812763, 0.1781109 , 0.2886831 , 0.25521259, 0.09204389,\n",
       "        0.11116989, 0.08546932, 0.03884969, 0.02151675, 0.02091906]),\n",
       " array([0.        , 0.10373333, 0.20746667, 0.3112    , 0.41493333,\n",
       "        0.51866667, 0.6224    , 0.72613333, 0.82986667, 0.9336    ,\n",
       "        1.03733333]),\n",
       " <a list of 10 Patch objects>)"
      ]
     },
     "execution_count": 33,
     "metadata": {},
     "output_type": "execute_result"
    }
   ],
   "source": [
    "plt.hist(im.flatten()/np.max(im), color='blue',alpha=.5,density=True)\n",
    "plt.hist(sobel.flatten()/np.max(sobel),color='red',alpha=.5,density=True)\n",
    "plt.hist(abs((LH+HL+HH)).flatten()/np.max(LH+HL+HH),color='black',alpha=.5,density=True)"
   ]
  },
  {
   "cell_type": "code",
   "execution_count": 11,
   "metadata": {},
   "outputs": [],
   "source": [
    "a = im.flatten()/np.max(im)\n",
    "b = sobel.flatten()/np.max(sobel)\n",
    "c = np.sqrt((LH**2 + HL**2 + HH**2)).flatten()"
   ]
  },
  {
   "cell_type": "code",
   "execution_count": 46,
   "metadata": {},
   "outputs": [
    {
     "data": {
      "text/plain": [
       "array([0., 0., 0., ..., 0., 0., 0.])"
      ]
     },
     "execution_count": 46,
     "metadata": {},
     "output_type": "execute_result"
    }
   ],
   "source": [
    "c"
   ]
  },
  {
   "cell_type": "code",
   "execution_count": 15,
   "metadata": {},
   "outputs": [],
   "source": [
    "from pylab import yticks\n",
    "plt.hist([a,b,c],density=True,color=['black','grey','white'],edgecolor='k')\n",
    "plt.legend(['Image domain','Sobel filter','Wavelet filter'],fontsize = 12)\n",
    "\n",
    "plt.xlabel('Pixel value (Normalised)',fontsize=15)\n",
    "plt.ylabel('Probability density',fontsize=15)\n",
    "yticks([])\n",
    "plt.tight_layout()"
   ]
  },
  {
   "cell_type": "code",
   "execution_count": 49,
   "metadata": {},
   "outputs": [
    {
     "name": "stderr",
     "output_type": "stream",
     "text": [
      "C:\\Users\\grl31\\Anaconda3\\lib\\site-packages\\ipykernel_launcher.py:1: RuntimeWarning: divide by zero encountered in log\n",
      "  \"\"\"Entry point for launching an IPython kernel.\n"
     ]
    },
    {
     "data": {
      "text/plain": [
       "-inf"
      ]
     },
     "execution_count": 49,
     "metadata": {},
     "output_type": "execute_result"
    }
   ],
   "source": [
    "np.log(0)"
   ]
  },
  {
   "cell_type": "code",
   "execution_count": null,
   "metadata": {},
   "outputs": [],
   "source": []
  }
 ],
 "metadata": {
  "kernelspec": {
   "display_name": "Python 3 (ipykernel)",
   "language": "python",
   "name": "python3"
  },
  "language_info": {
   "codemirror_mode": {
    "name": "ipython",
    "version": 3
   },
   "file_extension": ".py",
   "mimetype": "text/x-python",
   "name": "python",
   "nbconvert_exporter": "python",
   "pygments_lexer": "ipython3",
   "version": "3.10.9"
  }
 },
 "nbformat": 4,
 "nbformat_minor": 4
}

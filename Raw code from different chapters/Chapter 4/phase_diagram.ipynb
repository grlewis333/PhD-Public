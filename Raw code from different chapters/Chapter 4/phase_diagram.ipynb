{
 "cells": [
  {
   "cell_type": "code",
   "execution_count": 1,
   "metadata": {},
   "outputs": [],
   "source": [
    "import pandas\n",
    "import numpy as np\n",
    "from matplotlib import pyplot as plt"
   ]
  },
  {
   "cell_type": "code",
   "execution_count": 15,
   "metadata": {},
   "outputs": [],
   "source": [
    "r_ratios = np.linspace(0.2,0.9,8)"
   ]
  },
  {
   "cell_type": "code",
   "execution_count": 2,
   "metadata": {},
   "outputs": [],
   "source": [
    "def extract_M_stds(identifier, e):\n",
    "    # fpath to MERRILL data\n",
    "    top_folder = r'/home/grl31/Downloads/merrill-test'\n",
    "    \n",
    "    # ranges of r/R\n",
    "    r_ratios = np.linspace(0.2,0.9,8)\n",
    "    sub_folders=[]\n",
    "\n",
    "    # fpath to sub folder for each r/R\n",
    "    for ratio in r_ratios:\n",
    "        #sub_folder = r'\\size_hyst_toroid_rand-e%.1f-minrad%.1f' % (e, ratio)\n",
    "        #sub_folder = r'\\size_hyst_toroid-e%.1f-minrad%.1f' % (e, ratio)\n",
    "        #sub_folder = r'/repeat_up-e%.1f-minrad%.1f' % (e, ratio)    \n",
    "        #sub_folder = r'/repeat_rand2-e%.1f-minrad%.1f' % (e, ratio) \n",
    "        sub_folder = r'/repeat_%s-e%.1f-minrad%.1f' % (identifier, e, ratio) \n",
    "        sub_folders.append(sub_folder)\n",
    "\n",
    "    # range of d_tot values\n",
    "    r_majors = np.linspace(10,300,30)\n",
    "    r_majors = r_majors.astype(int)\n",
    "    \n",
    "    all_mavgs = []\n",
    "    all_stds = []\n",
    "    \n",
    "    all_avg_stds=[]\n",
    "\n",
    "    # for each r/R, extract the data from each associated d_tot file\n",
    "    for ii, sub_folder in enumerate(sub_folders):\n",
    "        ratio = r_ratios[ii]\n",
    "\n",
    "        # loop through major radii from 10 to 300\n",
    "        mx_avgs = []\n",
    "        my_avgs = []\n",
    "        mz_avgs = []\n",
    "        mx_stds = []\n",
    "        my_stds = []\n",
    "        mz_stds = []\n",
    "        new_param = []\n",
    "\n",
    "        for r in r_majors: \n",
    "            # make final file path\n",
    "            fname = r'\\toroid-e%.1f-minrad%.1f.%dnm_mult.tec' % (e, ratio,r)\n",
    "            fpath = top_folder + sub_folder + fname\n",
    "            fpath = fpath.replace('\\\\','/')\n",
    "            df = pandas.read_csv(fpath,skiprows=2)\n",
    "\n",
    "            # extract actual data\n",
    "            data = df.iloc[:].values\n",
    "            extracted_data = []\n",
    "            for i in range(len(data)):\n",
    "                row = np.array(data[i][0].split()).astype(float)\n",
    "                if len(row) == 6:\n",
    "                    extracted_data.append(row)\n",
    "            extracted_data = np.array(extracted_data)\n",
    "            \n",
    "            mx_sum = abs(np.sum(extracted_data[:,3]))\n",
    "            my_sum = abs(np.sum(extracted_data[:,4]))\n",
    "            mz_sum = np.sum(abs(extracted_data[:,5]))\n",
    "            n_m = len(extracted_data[:,5])\n",
    "            param = (mx_sum + my_sum + mz_sum)/(3*n_m)\n",
    "            \n",
    "            new_param.append(param)\n",
    "        all_avg_stds.append(new_param)\n",
    "        \n",
    "\n",
    "\n",
    "            # calculate average of magnetisation values\n",
    "#             mx_avg = np.mean(extracted_data[:,3])\n",
    "#             my_avg = np.mean(extracted_data[:,4])\n",
    "#             mz_avg = np.mean(extracted_data[:,5])\n",
    "#             mx_std = np.std(extracted_data[:,3])\n",
    "#             my_std = np.std(extracted_data[:,4])\n",
    "#             mz_std = np.std(extracted_data[:,5])\n",
    "#             mx_avgs.append(mx_avg)\n",
    "#             my_avgs.append(my_avg)\n",
    "#             mz_avgs.append(mz_avg)\n",
    "#             mx_stds.append(mx_std)\n",
    "#             my_stds.append(my_std)\n",
    "#             mz_stds.append(mz_std)\n",
    "\n",
    "#         mx_avgs = np.array(mx_avgs)\n",
    "#         my_avgs = np.array(my_avgs)\n",
    "#         mz_avgs = np.array(mz_avgs)\n",
    "#         mx_stds = np.array(mx_stds)\n",
    "#         my_stds = np.array(my_stds)\n",
    "#         mz_stds = np.array(mz_stds)\n",
    "        \n",
    "#         # append data for this particular run\n",
    "#         all_mavgs.append([mx_avgs,my_avgs,mz_avgs])\n",
    "#         all_stds.append([mx_stds,my_stds,mz_stds])\n",
    "        \n",
    "        \n",
    "\n",
    "    \n",
    "    \n",
    "#     all_avg_stds = []    \n",
    "#     for ii, s in enumerate(all_stds):\n",
    "#         all_x_stds = s[0]\n",
    "#         all_y_stds = s[1]\n",
    "#         all_z_stds = s[2]\n",
    "#         #avg_stds = all_x_stds+all_y_stds-abs(all_z_stds)\n",
    "#         avg_stds = np.mean([all_x_stds,all_y_stds,all_z_stds],axis=0)\n",
    "#         if avg_stds[0] > 0.01:\n",
    "#             avg_stds[0] = 0.01\n",
    "#         if avg_stds[1] > 0.01:\n",
    "#             avg_stds[1] = 0.01\n",
    "#         if avg_stds[2] > 0.01:\n",
    "#             avg_stds[2] = 0.01\n",
    "#         if avg_stds[3] > 0.01:\n",
    "#             avg_stds[3] = 0.01\n",
    "\n",
    "#         all_avg_stds.append(avg_stds)\n",
    "\n",
    "    return all_avg_stds"
   ]
  },
  {
   "cell_type": "code",
   "execution_count": 588,
   "metadata": {},
   "outputs": [],
   "source": [
    "#mz_std\n",
    "rand1_9 = extract_M_stds('rand1', 0.9)"
   ]
  },
  {
   "cell_type": "code",
   "execution_count": 589,
   "metadata": {},
   "outputs": [
    {
     "name": "stdout",
     "output_type": "stream",
     "text": [
      "[0.33336634499762169, 0.33422185143980304, 0.33364741460722769, 0.45288138261332045, 0.17548338382917211, 0.36531047240486525, 0.052725714954889764, 0.51777336011897079, 0.052485380036515802, 0.052795557108932446, 0.37162512310264828, 0.3642873017403977, 0.053280002537549269, 0.31328577418313031, 0.053381275269957069, 0.26903114493920122, 0.066660581229828555, 0.053778993207854807, 0.053581884064910067, 0.053330269309563832, 0.053314592181475266, 0.053749253367540488, 0.053591227346554304, 0.054311807996229866, 0.33091688755724813, 0.31642919921906892, 0.053727153953804029, 0.054643896647559538, 0.053796716552403236, 0.054693689755002314]\n",
      "[0.33343254129097155, 0.33380098686907883, 0.33349699425990614, 0.3387032015351345, 0.14185201992541391, 0.53396910050094226, 0.043855890808780509, 0.52847228982170091, 0.036978653112929943, 0.51709964446050261, 0.45346075648692818, 0.040323298189571831, 0.037149032052061284, 0.037359482974191491, 0.037516795252208801, 0.03815784401424667, 0.038001261829306889, 0.037928272504399174, 0.038161540966570567, 0.038078270348342956, 0.039969568215271152, 0.038711316457040901, 0.038535012785468857, 0.03832576446992772, 0.038185143844443992, 0.03863095779726744, 0.038832359448052231, 0.038990889274388534, 0.038318915015638104, 0.039781101049462829]\n",
      "[0.33342454056098275, 0.33393043154298008, 0.33403901042893719, 0.33463632834061763, 0.23213543293893826, 0.33475283489906049, 0.022195131750805418, 0.26822302988776914, 0.025444988354988093, 0.52638974461733479, 0.022816672773861454, 0.025910551167450679, 0.023215827969415879, 0.023569674047145137, 0.023752132170316142, 0.023738353937885315, 0.023541935602448542, 0.024039861460336712, 0.024436219574805677, 0.027518830522498927, 0.02460746590843629, 0.024213344652392738, 0.024163078285129147, 0.025093761268219821, 0.024722142784559382, 0.02500483495872859, 0.02468991567764009, 0.025252693080484442, 0.024344723721495761, 0.026257703076805618]\n",
      "[0.33353843698929242, 0.33353402945597765, 0.33422576775415841, 0.34281376701981964, 0.33380987864658662, 0.14167859749913189, 0.040190005884747929, 0.54198491605252741, 0.54343411089480453, 0.53476792810556595, 0.034139828532557329, 0.029915622809770101, 0.029854835756469071, 0.030029203220512377, 0.029962014368713166, 0.0306793985002809, 0.031028144857823275, 0.031057370705556316, 0.031621550329010033, 0.030865091718212702, 0.035518117719681878, 0.035909511618486288, 0.031260103393851081, 0.031026177252790776, 0.032135475755662057, 0.03109241619852118, 0.031690837168051676, 0.035780566836517182, 0.033377377403077446, 0.03215100197979056]\n",
      "[0.33376405001232429, 0.4942039806296718, 0.54980946415164744, 0.33552335585301296, 0.55019298263137928, 0.40838894244845436, 0.086916084103952435, 0.034047827494654903, 0.54621917454056734, 0.034626008017021037, 0.034703075326043935, 0.034110590579263612, 0.034469582116040259, 0.034479907711767732, 0.035599739619568499, 0.035239637208988768, 0.035473101017802912, 0.040735609758603387, 0.042512611415005432, 0.034830668881863015, 0.035433300484694272, 0.036339831865660019, 0.036136077841894793, 0.03772942630936673, 0.036739090605346164, 0.036070745204462795, 0.038027068870035798, 0.039799406724266351, 0.039101307497042229, 0.038771887598194964]\n",
      "[0.33367823822977266, 0.33406791998141983, 0.33409805456608871, 0.53316345606532556, 0.53313643730910665, 0.33690659808208606, 0.21255362704925637, 0.114259939287886, 0.044388839295522418, 0.044604113704388874, 0.044187132237241002, 0.044430806839238439, 0.045145397705324324, 0.044963447294098291, 0.045514746804617298, 0.046086797618084312, 0.047422232667537305, 0.046660492619414774, 0.045626324649767229, 0.046883624810229438, 0.047403974121867982, 0.047385867014243938, 0.047765805280677399, 0.23688950902613568, 0.051652103244342627, 0.048696428522893104, 0.051547243418624412, 0.061207390907221264, 0.069629718481304281, 0.074223321948254359]\n",
      "[0.33340221986813695, 0.33398792465525173, 0.50214872325905302, 0.50204229208681517, 0.33666207623681627, 0.34479645764099615, 0.26497002750034948, 0.20288314781235683, 0.15233003194100533, 0.1089763483951543, 0.09183193522580331, 0.073334925686372635, 0.069615441368322262, 0.066568530907428744, 0.065545045951912254, 0.25628394288026091, 0.2475899007071557, 0.066355833302206749, 0.063418498093595829, 0.069653859183999495, 0.080386214496678737, 0.24269266838988779, 0.073095768354247831, 0.078439496042583337, 0.081080233945552471, 0.088911300997084261, 0.08401079007814502, 0.087752195312971751, 0.097209669807061583, 0.09303081140148213]\n",
      "[0.33354447017926808, 0.33389297551266889, 0.33780807489775749, 0.33622051993861857, 0.39110254613536533, 0.34829085123096493, 0.28239094964247219, 0.23582315953379848, 0.18749505197378288, 0.31309701004099599, 0.12722606251004756, 0.24840504316323153, 0.089702689273160802, 0.25314235749760405, 0.086481221089533669, 0.091717317679741645, 0.24351232421880445, 0.23516365063460054, 0.084774634075961586, 0.084629651197966282, 0.086479742561846498, 0.092115031006989076, 0.091105884696577807, 0.10048770208002475, 0.096567062733649539, 0.099807361239471898, 0.10022116682768391, 0.10898029996539478, 0.10756179164992004, 0.10667136068990689]\n"
     ]
    }
   ],
   "source": [
    "# all_stds = np.array(all_stds)\n",
    "# np.shape(all_stds)\n",
    "# # all_stds=all_stds.reshape(8,30)\n",
    "std_plotter(rand1_9)"
   ]
  },
  {
   "cell_type": "code",
   "execution_count": 577,
   "metadata": {},
   "outputs": [
    {
     "ename": "NameError",
     "evalue": "name 'param' is not defined",
     "output_type": "error",
     "traceback": [
      "\u001b[0;31m---------------------------------------------------------------------------\u001b[0m",
      "\u001b[0;31mNameError\u001b[0m                                 Traceback (most recent call last)",
      "\u001b[0;32m<ipython-input-577-682323cd75da>\u001b[0m in \u001b[0;36m<module>\u001b[0;34m\u001b[0m\n\u001b[0;32m----> 1\u001b[0;31m \u001b[0mparam\u001b[0m\u001b[0;34m\u001b[0m\u001b[0;34m\u001b[0m\u001b[0m\n\u001b[0m",
      "\u001b[0;31mNameError\u001b[0m: name 'param' is not defined"
     ]
    }
   ],
   "source": [
    "param"
   ]
  },
  {
   "cell_type": "code",
   "execution_count": 530,
   "metadata": {},
   "outputs": [
    {
     "name": "stdout",
     "output_type": "stream",
     "text": [
      "[  6.51845683e-04   2.55535623e-03   2.49584276e-03   3.04334457e-01\n",
      "   1.27210137e+00   6.96245788e-02   1.39216434e+00   7.83383619e-03\n",
      "   1.39521622e+00   1.39385808e+00   3.31219101e-01   1.62995452e-01\n",
      "   1.39114586e+00   6.95267496e-01   1.39165244e+00   6.34028633e-01\n",
      "   1.18218878e+00   1.39029542e+00   1.38935714e+00   1.39337349e+00\n",
      "   1.39160890e+00   1.38865354e+00   1.39105027e+00   1.38637622e+00\n",
      "   3.77064564e-01   4.12109632e-01   1.39137543e+00   1.38427617e+00\n",
      "   1.38568259e+00   1.38290440e+00]\n",
      "[  7.15434347e-04   2.32896375e-03   4.67961497e-03   1.89073653e-02\n",
      "   1.31123392e+00  -5.96214687e-02   1.35873282e+00  -6.27954244e-02\n",
      "   1.40158706e+00  -4.26883088e-02   2.17668787e-01   1.39930069e+00\n",
      "   1.40042304e+00   1.40027467e+00   1.39992690e+00   1.39769496e+00\n",
      "   1.39323113e+00   1.39934240e+00   1.39484772e+00   1.39803497e+00\n",
      "   1.37992449e+00   1.39247813e+00   1.39152734e+00   1.39602940e+00\n",
      "   1.39357195e+00   1.39502414e+00   1.39331156e+00   1.38899814e+00\n",
      "   1.39469438e+00   1.37823483e+00]\n",
      "[  1.37437024e-03   4.66594455e-03   8.80799206e-03   1.54879281e-02\n",
      "   1.04789218e+00   2.57830539e-02   1.40861300e+00   8.05678239e-01\n",
      "   1.37583391e+00  -1.23754613e-01   1.40671328e+00   1.38172650e+00\n",
      "   1.40590758e+00   1.40348587e+00   1.40282919e+00   1.40315245e+00\n",
      "   1.40416247e+00   1.40356004e+00   1.40002471e+00   1.35791935e+00\n",
      "   1.39702924e+00   1.40189965e+00   1.40198339e+00   1.39767453e+00\n",
      "   1.39814643e+00   1.39783745e+00   1.40061685e+00   1.38910378e+00\n",
      "   1.40080615e+00   1.38700352e+00]\n",
      "[ 0.00162162  0.00624054  0.01657657  0.0356866   0.03181541  1.30981546\n",
      "  1.24231556 -0.19664509 -0.24714473 -0.20084615  1.21003387  1.40320133\n",
      "  1.40154314  1.40328535  1.40271244  1.39640337  1.39021821  1.39143024\n",
      "  1.3933375   1.3993175   1.32842293  1.28308185  1.39729792  1.39886297\n",
      "  1.38251664  1.39954158  1.39593759  1.2768686   1.3704753   1.39635868]\n",
      "[ 0.00202217  0.00956455  0.02326181  0.03403098  0.05313144  0.51323863\n",
      "  1.37207164  1.40288778 -0.28380059  1.39880724  1.39610663  1.40111651\n",
      "  1.40124636  1.39963262  1.38795624  1.37797699  1.39067054  1.29823803\n",
      "  1.21827679  1.39702395  1.39806822  1.394263    1.39649755  1.38572116\n",
      "  1.38763233  1.39327327  1.39517838  1.38070904  1.3694936   1.22440684]\n",
      "[ 0.00253275  0.00376022  0.01567877  0.04049019  0.05037216  0.09450121\n",
      "  1.07967341  1.32620708  1.39544975  1.39428576  1.3950496   1.39567217\n",
      "  1.39169714  1.394064    1.39245981  1.38669275  1.37064085  1.38975107\n",
      "  1.38910516  1.38793909  1.38026754  1.38562298  1.38419378  0.39786733\n",
      "  1.37740759  1.36967926  1.36367536  1.31903452  1.27558241  1.27772107]\n",
      "[ 0.00203842  0.00574452  0.02194067  0.04542384  0.06561701  0.08401907\n",
      "  0.94059171  1.12895702  1.21597836  1.2608781   1.28347734  1.29555619\n",
      "  1.30215457  1.30573763  1.30600185  0.3341695   0.38927015  1.29541694\n",
      "  1.28727097  1.28087735  1.25017614  0.40398302  1.25189913  1.22917863\n",
      "  1.19813325  1.21029568  1.20516141  1.1913198   1.17988044  1.15981185]\n",
      "[ 0.00198778  0.00779308  0.02256744  0.03571068  0.08237176  0.09883566\n",
      "  0.7381725   1.00533625  1.03109048  0.40370372  1.17947774  0.44206693\n",
      "  1.17413137  0.41307041  1.18868132  1.18685791  0.40672075  0.42905356\n",
      "  1.1715844   1.16695981  1.16093403  1.14749456  1.14744636  1.13924579\n",
      "  1.12865356  1.12350575  1.11636202  1.10578199  1.08406724  1.08844168]\n"
     ]
    },
    {
     "data": {
      "text/plain": [
       "(25, 140)"
      ]
     },
     "execution_count": 530,
     "metadata": {},
     "output_type": "execute_result"
    }
   ],
   "source": [
    "# adjusted parameter plotter\n",
    "\n",
    "import matplotlib\n",
    "%matplotlib qt\n",
    "plt.figure(figsize=(9,6))\n",
    "matplotlib.rcParams['font.family'] = \"sans-serif\"\n",
    "matplotlib.rcParams['font.sans-serif'] = \"Ariel\"\n",
    "\n",
    "#all_avg_stds = []\n",
    "for ii, avg_stds in enumerate(all_stds):\n",
    "    print(avg_stds)\n",
    "    #avg_stds = avg_stds[0]\n",
    "    im = plt.scatter(r_majors,np.ones_like(r_majors)*r_ratios[ii]*150,  c = avg_stds, cmap = 'RdBu', vmin = 0, vmax = 1.4,marker='o',s=80, \n",
    "                     edgecolor=(0.128,0.128,0.128,0.3))\n",
    "    grad_val = np.abs(np.gradient(avg_stds))\n",
    "\n",
    "\n",
    "plt.imshow(all_stds,cmap='RdBu',extent=[5,305,25,140],interpolation='spline16',origin='lower',vmin=-0.3,vmax=1.5)\n",
    "cbar = plt.colorbar(im, fraction=0.046*1/2.6, pad=0.04)\n",
    "cbar.ax.set_title('$\\sigma_M$',fontsize=14)\n",
    "cbar.ax.tick_params(labelsize=12)\n",
    "\n",
    "plt.xlabel('Total ring diameter / nm', fontsize=14)\n",
    "plt.ylabel('$r_{minor}$ / $r_{major}$', fontsize=15)\n",
    "plt.tick_params(axis='both', which='major', labelsize=12)\n",
    "plt.yticks([30,45,60,75,90,105,120,135], ['0.2','0.3','0.4','0.5','0.6','0.7','0.8','0.9'])\n",
    "#plt.xlim([10,300])\n",
    "plt.ylim([25,140])"
   ]
  },
  {
   "cell_type": "code",
   "execution_count": 248,
   "metadata": {
    "collapsed": true,
    "jupyter": {
     "outputs_hidden": true
    }
   },
   "outputs": [
    {
     "data": {
      "text/plain": [
       "['/repeat_x-e0.0-minrad0.2',\n",
       " '/repeat_x-e0.0-minrad0.3',\n",
       " '/repeat_x-e0.0-minrad0.4',\n",
       " '/repeat_x-e0.0-minrad0.5',\n",
       " '/repeat_x-e0.0-minrad0.6',\n",
       " '/repeat_x-e0.0-minrad0.7',\n",
       " '/repeat_x-e0.0-minrad0.8',\n",
       " '/repeat_x-e0.0-minrad0.9']"
      ]
     },
     "execution_count": 248,
     "metadata": {},
     "output_type": "execute_result"
    }
   ],
   "source": [
    "#top_folder = r'C:\\Users\\grl31\\Documents\\MERRILL\\merrill-1.3.3-Windows-x86_64'\n",
    "#top_folder = r'\\home\\grl31\\Dropbox (Cambridge University)\\Linux-Surface share\\Magnetic simulations\\Toroid results'\n",
    "#top_folder = r'\\home\\grl31\\Dropbox (Cambridge University)\\Linux-Surface share\\Magnetic simulations\\toroids-rand'\n",
    "top_folder = r'/home/grl31/Downloads/merrill-test'\n",
    "\n",
    "r_ratios = np.linspace(0.2,0.9,8)\n",
    "sub_folders=[]\n",
    "\n",
    "e = 0.0\n",
    "\n",
    "for ratio in r_ratios:\n",
    "    #sub_folder = r'\\size_hyst_toroid_rand-e%.1f-minrad%.1f' % (e, ratio)\n",
    "    #sub_folder = r'\\size_hyst_toroid-e%.1f-minrad%.1f' % (e, ratio)\n",
    "    #sub_folder = r'/repeat_up-e%.1f-minrad%.1f' % (e, ratio)    \n",
    "    #sub_folder = r'/repeat_rand2-e%.1f-minrad%.1f' % (e, ratio) \n",
    "    sub_folder = r'/repeat_x-e%.1f-minrad%.1f' % (e, ratio) \n",
    "    sub_folders.append(sub_folder)\n",
    "    \n",
    "r_majors = np.linspace(10,300,30)\n",
    "r_majors = r_majors.astype(int)\n",
    "\n",
    "\n",
    "sub_folders"
   ]
  },
  {
   "cell_type": "code",
   "execution_count": 249,
   "metadata": {},
   "outputs": [],
   "source": [
    "all_mavgs = []\n",
    "all_stds = []\n",
    "\n",
    "for ii, sub_folder in enumerate(sub_folders):\n",
    "    ratio = r_ratios[ii]\n",
    "    \n",
    "    # loop through major radii from 10 to 300\n",
    "    mx_avgs = []\n",
    "    my_avgs = []\n",
    "    mz_avgs = []\n",
    "    mx_stds = []\n",
    "    my_stds = []\n",
    "    mz_stds = []\n",
    "\n",
    "    for r in r_majors: \n",
    "        # load tec file\n",
    "#         if ratio == 0.3:\n",
    "#             ratio = 0.9\n",
    "        fname = r'\\toroid-e%.1f-minrad%.1f.%dnm_mult.tec' % (e, ratio,r)\n",
    "        fpath = top_folder + sub_folder + fname\n",
    "        fpath = fpath.replace('\\\\','/')\n",
    "        df = pandas.read_csv(fpath,skiprows=2)\n",
    "\n",
    "        # extract actual data\n",
    "        data = df.iloc[:].values\n",
    "        extracted_data = []\n",
    "        for i in range(len(data)):\n",
    "            row = np.array(data[i][0].split()).astype(float)\n",
    "            if len(row) == 6:\n",
    "                extracted_data.append(row)\n",
    "        extracted_data = np.array(extracted_data)\n",
    "\n",
    "        \n",
    "        # calculate average of magnetisation values\n",
    "        mx_avg = np.mean(extracted_data[:,3])\n",
    "        my_avg = np.mean(extracted_data[:,4])\n",
    "        mz_avg = np.mean(extracted_data[:,5])\n",
    "        mx_std = np.std(extracted_data[:,3])\n",
    "        my_std = np.std(extracted_data[:,4])\n",
    "        mz_std = np.std(extracted_data[:,5])\n",
    "        mx_avgs.append(mx_avg)\n",
    "        my_avgs.append(my_avg)\n",
    "        mz_avgs.append(mz_avg)\n",
    "        mx_stds.append(mx_std)\n",
    "        my_stds.append(my_std)\n",
    "        mz_stds.append(mz_std)\n",
    "\n",
    "    mx_avgs = np.array(mx_avgs)\n",
    "    my_avgs = np.array(my_avgs)\n",
    "    mz_avgs = np.array(mz_avgs)\n",
    "    mx_stds = np.array(mx_stds)\n",
    "    my_stds = np.array(my_stds)\n",
    "    mz_stds = np.array(mz_stds)\n",
    "    all_mavgs.append([mx_avgs,my_avgs,mz_avgs])\n",
    "    all_stds.append([mx_stds,my_stds,mz_stds])"
   ]
  },
  {
   "cell_type": "code",
   "execution_count": 438,
   "metadata": {},
   "outputs": [
    {
     "name": "stdout",
     "output_type": "stream",
     "text": [
      "<class 'numpy.ndarray'>\n",
      "<class 'numpy.ndarray'>\n",
      "<class 'numpy.ndarray'>\n",
      "<class 'numpy.ndarray'>\n",
      "<class 'numpy.ndarray'>\n",
      "<class 'numpy.ndarray'>\n",
      "<class 'numpy.ndarray'>\n",
      "<class 'numpy.ndarray'>\n"
     ]
    },
    {
     "data": {
      "text/plain": [
       "(25, 140)"
      ]
     },
     "execution_count": 438,
     "metadata": {},
     "output_type": "execute_result"
    }
   ],
   "source": [
    "\n",
    "\n",
    "import matplotlib\n",
    "%matplotlib qt\n",
    "plt.figure(figsize=(9,6))\n",
    "matplotlib.rcParams['font.family'] = \"sans-serif\"\n",
    "matplotlib.rcParams['font.sans-serif'] = \"Ariel\"\n",
    "\n",
    "all_avg_stds = []\n",
    "for ii, s in enumerate(all_stds):\n",
    "    all_x_stds = s[0]\n",
    "    all_y_stds = s[1]\n",
    "    all_z_stds = s[2]\n",
    "    avg_stds = np.mean([all_x_stds,all_y_stds,all_z_stds],axis=0)\n",
    "    if avg_stds[0] > 0.01:\n",
    "        avg_stds[0] = 0.01\n",
    "    if avg_stds[1] > 0.01:\n",
    "        avg_stds[1] = 0.01\n",
    "    if avg_stds[2] > 0.01:\n",
    "        avg_stds[2] = 0.01\n",
    "    if avg_stds[3] > 0.01:\n",
    "        avg_stds[3] = 0.01\n",
    "    \n",
    "    all_avg_stds.append(avg_stds)\n",
    "    print(type(avg_stds))\n",
    "    im = plt.scatter(r_majors,np.ones_like(r_majors)*r_ratios[ii]*150,  c = avg_stds, cmap = 'RdBu', vmin = 0, vmax = 0.5,marker='o',s=80, \n",
    "                     edgecolor=(0.128,0.128,0.128,0.3))\n",
    "    grad_val = np.abs(np.gradient(avg_stds))\n",
    "    for jj, v in enumerate(grad_val):\n",
    "        if v > 0.1:\n",
    "            #print(ii, v)\n",
    "            \n",
    "            plt.plot(r_majors[jj], r_ratios[ii], 'ro')\n",
    "            #print(r_majors[jj], r_ratios[ii])\n",
    "    #print(np.argmax(np.abs(np.gradient(avg_stds))),np.gradient(avg_stds) )\n",
    "    \n",
    "plt.imshow(all_avg_stds,cmap='RdBu',extent=[5,305,25,140],interpolation='spline16',origin='lower',vmin=-0.3,vmax=0.8)\n",
    "cbar = plt.colorbar(im, fraction=0.046*1/2.6, pad=0.04)\n",
    "cbar.ax.set_title('$\\sigma_M$',fontsize=14)\n",
    "cbar.ax.tick_params(labelsize=12)\n",
    "\n",
    "plt.xlabel('Total ring diameter / nm', fontsize=14)\n",
    "plt.ylabel('$r_{minor}$ / $r_{major}$', fontsize=15)\n",
    "plt.tick_params(axis='both', which='major', labelsize=12)\n",
    "plt.yticks([30,45,60,75,90,105,120,135], ['0.2','0.3','0.4','0.5','0.6','0.7','0.8','0.9'])\n",
    "#plt.xlim([10,300])\n",
    "plt.ylim([25,140])"
   ]
  },
  {
   "cell_type": "code",
   "execution_count": 337,
   "metadata": {},
   "outputs": [],
   "source": [
    "\n"
   ]
  },
  {
   "cell_type": "code",
   "execution_count": 20,
   "metadata": {},
   "outputs": [
    {
     "data": {
      "text/plain": [
       "0.5333880873432555"
      ]
     },
     "execution_count": 20,
     "metadata": {},
     "output_type": "execute_result"
    }
   ],
   "source": [
    "np.max(avg_stds)"
   ]
  },
  {
   "cell_type": "code",
   "execution_count": 85,
   "metadata": {},
   "outputs": [
    {
     "name": "stdout",
     "output_type": "stream",
     "text": [
      "130 0.3\n",
      "100 0.4\n",
      "150 0.4\n",
      "90 0.5\n",
      "100 0.5\n",
      "100 0.6\n",
      "110 0.6\n",
      "110 0.7\n",
      "120 0.7\n",
      "100 0.8\n",
      "110 0.8\n",
      "100 0.9\n",
      "110 0.9\n"
     ]
    },
    {
     "data": {
      "text/plain": [
       "(25, 140)"
      ]
     },
     "execution_count": 85,
     "metadata": {},
     "output_type": "execute_result"
    }
   ],
   "source": [
    "# pixel plot\n",
    "import matplotlib\n",
    "%matplotlib qt\n",
    "plt.figure(figsize=(9,6))\n",
    "matplotlib.rcParams['font.family'] = \"sans-serif\"\n",
    "matplotlib.rcParams['font.sans-serif'] = \"Ariel\"\n",
    "\n",
    "all_avg_stds = []\n",
    "for ii, s in enumerate(all_stds):\n",
    "    all_x_stds = s[0]\n",
    "    all_y_stds = s[1]\n",
    "    all_z_stds = s[2]\n",
    "    avg_stds = np.mean([all_x_stds,all_y_stds,all_z_stds],axis=0)\n",
    "    if avg_stds[0] > 0.01:\n",
    "        avg_stds[0] = 0.01\n",
    "    if avg_stds[1] > 0.01:\n",
    "        avg_stds[1] = 0.01\n",
    "    if avg_stds[2] > 0.01:\n",
    "        avg_stds[2] = 0.01\n",
    "    if avg_stds[3] > 0.01:\n",
    "        avg_stds[3] = 0.01\n",
    "    \n",
    "    all_avg_stds.append(avg_stds)\n",
    "    #im = plt.scatter(r_majors,np.ones_like(r_majors)*r_ratios[ii]*150,  c = avg_stds, cmap = 'RdBu', vmin = 0, vmax = 0.5,marker='s',s=30)\n",
    "    grad_val = np.abs(np.gradient(avg_stds))\n",
    "    for jj, v in enumerate(grad_val):\n",
    "        if v > 0.1:\n",
    "            #print(ii, v)\n",
    "            \n",
    "            plt.plot(r_majors[jj], r_ratios[ii], 'ro')\n",
    "            print(r_majors[jj], r_ratios[ii])\n",
    "    #print(np.argmax(np.abs(np.gradient(avg_stds))),np.gradient(avg_stds) )\n",
    "    \n",
    "plt.imshow(all_avg_stds,cmap='RdBu',extent=[5,305,25,140],interpolation='none',origin='lower',vmin=0,vmax=0.5)\n",
    "cbar = plt.colorbar(im, fraction=0.046*1/2.6, pad=0.04)\n",
    "cbar.ax.set_title('$\\sigma_M$',fontsize=14)\n",
    "cbar.ax.tick_params(labelsize=12)\n",
    "\n",
    "plt.xlabel('Total ring diameter / nm', fontsize=14)\n",
    "plt.ylabel('$r_{minor}$ / $r_{major}$', fontsize=15)\n",
    "plt.tick_params(axis='both', which='major', labelsize=12)\n",
    "plt.yticks([30,45,60,75,90,105,120,135], ['0.2','0.3','0.4','0.5','0.6','0.7','0.8','0.9'])\n",
    "#plt.xlim([10,300])\n",
    "plt.ylim([25,140])"
   ]
  },
  {
   "cell_type": "code",
   "execution_count": 33,
   "metadata": {},
   "outputs": [
    {
     "data": {
      "text/plain": [
       "array([  3.45139740e-04,   1.06646591e-03,   3.35935691e-03,\n",
       "         5.66741076e-03,   1.50045857e-02,   2.14073582e-02,\n",
       "         3.26530683e-02,   4.74786049e-01,   4.95645246e-01,\n",
       "         5.04610456e-01,   5.08762962e-01,   5.10954528e-01,\n",
       "         5.12346128e-01,   5.13823718e-01,   5.14492106e-01,\n",
       "         5.15019097e-01,   5.15989356e-01,   5.17438887e-01,\n",
       "         5.18134345e-01,   5.18965376e-01,   5.20034219e-01,\n",
       "         5.21618522e-01,   5.23206230e-01,   5.25947790e-01,\n",
       "         5.33132902e-01,   5.26601001e-01,   5.32868630e-01,\n",
       "         5.29021610e-01,   5.30745700e-01,   5.32415624e-01])"
      ]
     },
     "execution_count": 33,
     "metadata": {},
     "output_type": "execute_result"
    }
   ],
   "source": [
    "avg_stds"
   ]
  },
  {
   "cell_type": "code",
   "execution_count": 17,
   "metadata": {},
   "outputs": [],
   "source": [
    "all_mhs = []\n",
    "for ii, sub_folder in enumerate(sub_folders):\n",
    "    ratio = r_ratios[ii]\n",
    "    fname = r'\\toroid-e%.1f-minrad%.1f.hyst' % (e, ratio)\n",
    "    fpath = top_folder + sub_folder + fname\n",
    "    fpath = fpath.replace('\\\\','/')\n",
    "    df = pandas.read_csv(fpath,skiprows=0)\n",
    "    data = df.iloc[:].values\n",
    "    mhs=[]\n",
    "    for i in range(len(data)):\n",
    "        row = np.array(data[i][0].split()).astype(float)\n",
    "        mh = row[0]\n",
    "        mhs.append(mh)\n",
    "    all_mhs.append(mhs)\n",
    "    \n",
    "\n",
    "\n"
   ]
  },
  {
   "cell_type": "code",
   "execution_count": 14,
   "metadata": {},
   "outputs": [
    {
     "ename": "NameError",
     "evalue": "name 'all_mhs' is not defined",
     "output_type": "error",
     "traceback": [
      "\u001b[0;31m---------------------------------------------------------------------------\u001b[0m",
      "\u001b[0;31mNameError\u001b[0m                                 Traceback (most recent call last)",
      "\u001b[0;32m<ipython-input-14-7b9e1b4cd94b>\u001b[0m in \u001b[0;36m<module>\u001b[0;34m\u001b[0m\n\u001b[1;32m      7\u001b[0m \u001b[0mmatplotlib\u001b[0m\u001b[0;34m.\u001b[0m\u001b[0mrcParams\u001b[0m\u001b[0;34m[\u001b[0m\u001b[0;34m'font.family'\u001b[0m\u001b[0;34m]\u001b[0m \u001b[0;34m=\u001b[0m \u001b[0;34m\"sans-serif\"\u001b[0m\u001b[0;34m\u001b[0m\u001b[0;34m\u001b[0m\u001b[0m\n\u001b[1;32m      8\u001b[0m \u001b[0mmatplotlib\u001b[0m\u001b[0;34m.\u001b[0m\u001b[0mrcParams\u001b[0m\u001b[0;34m[\u001b[0m\u001b[0;34m'font.sans-serif'\u001b[0m\u001b[0;34m]\u001b[0m \u001b[0;34m=\u001b[0m \u001b[0;34m\"Ariel\"\u001b[0m\u001b[0;34m\u001b[0m\u001b[0;34m\u001b[0m\u001b[0m\n\u001b[0;32m----> 9\u001b[0;31m \u001b[0mplt\u001b[0m\u001b[0;34m.\u001b[0m\u001b[0mimshow\u001b[0m\u001b[0;34m(\u001b[0m\u001b[0mnp\u001b[0m\u001b[0;34m.\u001b[0m\u001b[0mfliplr\u001b[0m\u001b[0;34m(\u001b[0m\u001b[0mall_mhs\u001b[0m\u001b[0;34m)\u001b[0m\u001b[0;34m,\u001b[0m\u001b[0mcmap\u001b[0m\u001b[0;34m=\u001b[0m\u001b[0;34m'RdBu'\u001b[0m\u001b[0;34m,\u001b[0m\u001b[0mextent\u001b[0m\u001b[0;34m=\u001b[0m\u001b[0;34m[\u001b[0m\u001b[0;36m5\u001b[0m\u001b[0;34m,\u001b[0m\u001b[0;36m305\u001b[0m\u001b[0;34m,\u001b[0m\u001b[0;36m25\u001b[0m\u001b[0;34m,\u001b[0m\u001b[0;36m140\u001b[0m\u001b[0;34m]\u001b[0m\u001b[0;34m,\u001b[0m\u001b[0minterpolation\u001b[0m\u001b[0;34m=\u001b[0m\u001b[0;34m'spline16'\u001b[0m\u001b[0;34m,\u001b[0m\u001b[0morigin\u001b[0m\u001b[0;34m=\u001b[0m\u001b[0;34m'lower'\u001b[0m\u001b[0;34m,\u001b[0m\u001b[0mvmin\u001b[0m\u001b[0;34m=\u001b[0m\u001b[0;34m-\u001b[0m\u001b[0;36m0.5\u001b[0m\u001b[0;34m,\u001b[0m\u001b[0mvmax\u001b[0m\u001b[0;34m=\u001b[0m\u001b[0;36m1.15\u001b[0m\u001b[0;34m)\u001b[0m\u001b[0;34m\u001b[0m\u001b[0;34m\u001b[0m\u001b[0m\n\u001b[0m\u001b[1;32m     10\u001b[0m \u001b[0;32mfor\u001b[0m \u001b[0mii\u001b[0m\u001b[0;34m,\u001b[0m \u001b[0mdataset\u001b[0m \u001b[0;32min\u001b[0m \u001b[0menumerate\u001b[0m\u001b[0;34m(\u001b[0m\u001b[0mall_mhs\u001b[0m\u001b[0;34m)\u001b[0m\u001b[0;34m:\u001b[0m\u001b[0;34m\u001b[0m\u001b[0;34m\u001b[0m\u001b[0m\n\u001b[1;32m     11\u001b[0m     \u001b[0mmx_avgs\u001b[0m \u001b[0;34m=\u001b[0m \u001b[0mdataset\u001b[0m\u001b[0;34m[\u001b[0m\u001b[0;36m0\u001b[0m\u001b[0;34m]\u001b[0m\u001b[0;34m\u001b[0m\u001b[0;34m\u001b[0m\u001b[0m\n",
      "\u001b[0;31mNameError\u001b[0m: name 'all_mhs' is not defined"
     ]
    }
   ],
   "source": [
    "%matplotlib qt\n",
    "%matplotlib qt\n",
    "\n",
    "import matplotlib\n",
    "plt.figure(figsize=(9,6))\n",
    "#matplotlib.rcParams['font.sans-serif'] = \"Ariel\"\n",
    "matplotlib.rcParams['font.family'] = \"sans-serif\"\n",
    "matplotlib.rcParams['font.sans-serif'] = \"Ariel\"\n",
    "plt.imshow(np.fliplr(all_mhs),cmap='RdBu',extent=[5,305,25,140],interpolation='spline16',origin='lower',vmin=-0.5,vmax=1.15)\n",
    "for ii, dataset in enumerate(all_mhs):\n",
    "    mx_avgs = dataset[0]\n",
    "    my_avgs = dataset[1]\n",
    "    mz_avgs = dataset[2]\n",
    "    mhs = all_mhs[ii]\n",
    "    \n",
    "    \n",
    "    sds = []\n",
    "    sds_rs = []\n",
    "#    for i, r in enumerate(r_majors):\n",
    "#         # Likely single domain state if m is big\n",
    "#         if mx_avgs[i] > 0.4 or my_avgs[i] > 0.4:\n",
    "#             sds.append((mx_avgs[i] + my_avgs[i]))\n",
    "#             sds_rs.append(r)\n",
    "\n",
    "#         # Likely vortex state if m is small\n",
    "#         if mx_avgs[i] < 0.4 and my_avgs[i] < 0.4 and mz_avgs[i] < 0.4:\n",
    "#             plt.plot(r,r_ratios[ii],'ro',markersize=7.5)\n",
    "\n",
    "#     sds_ys = np.ones(len(sds))* r_ratios[ii]\n",
    "#     plt.scatter(sds_rs,sds_ys,s=50, c =sds, cmap='Blues',marker='s', vmin=0.7, vmax = 1)\n",
    "    plt.scatter(np.flipud(r_majors),np.ones_like(r_majors)*r_ratios[ii]*150,  c = mhs, cmap = 'RdBu', vmin = 0, vmax = 1,marker='o',s=20)\n",
    "    \n",
    "cbar = plt.colorbar(fraction=0.046*1/2.6, pad=0.04)\n",
    "cbar.set_label('$M.H$',fontsize=14)\n",
    "cbar.ax.tick_params(labelsize=12)\n",
    "\n",
    "plt.xlabel('Total ring diameter / nm', fontsize=14)\n",
    "plt.ylabel('$r_{minor}$ / $r_{major}$', fontsize=15)\n",
    "plt.tick_params(axis='both', which='major', labelsize=12)\n",
    "plt.yticks([30,45,60,75,90,105,120,135], ['0.2','0.3','0.4','0.5','0.6','0.7','0.8','0.9'])\n",
    "#plt.xlim([10,300])\n",
    "plt.ylim([25,140])\n",
    "plt.show()"
   ]
  },
  {
   "cell_type": "code",
   "execution_count": 442,
   "metadata": {},
   "outputs": [
    {
     "data": {
      "text/plain": [
       "array([ 30.,  45.,  60.,  75.,  90., 105., 120., 135.])"
      ]
     },
     "execution_count": 442,
     "metadata": {},
     "output_type": "execute_result"
    }
   ],
   "source": [
    "r_ratios*150"
   ]
  },
  {
   "cell_type": "code",
   "execution_count": 64,
   "metadata": {},
   "outputs": [
    {
     "data": {
      "text/plain": [
       "(0.9999735060283689, 2.7222959181624743e-05, -1.077449667254352e-05)"
      ]
     },
     "execution_count": 64,
     "metadata": {},
     "output_type": "execute_result"
    }
   ],
   "source": [
    "mx_avg,my_avg,mz_avg"
   ]
  },
  {
   "cell_type": "code",
   "execution_count": 13,
   "metadata": {},
   "outputs": [],
   "source": [
    "# real ring analysis\n",
    "#top_folder = r'\\home\\grl31\\Dropbox (Cambridge University)\\Linux-Surface share\\Magnetic simulations\\size_hyst_ring3'\n",
    "\n",
    "r_majors = np.linspace(10,300,30)"
   ]
  },
  {
   "cell_type": "code",
   "execution_count": 15,
   "metadata": {},
   "outputs": [],
   "source": [
    "all_mavgs = []\n",
    "all_stds = []\n",
    "\n",
    "\n",
    "# loop through major radii from 10 to 300\n",
    "mx_avgs = []\n",
    "my_avgs = []\n",
    "mz_avgs = []\n",
    "mx_stds = []\n",
    "my_stds = []\n",
    "mz_stds = []\n",
    "\n",
    "for r in r_majors: \n",
    "    # load tec file\n",
    "    fname = r'\\ring3_down.%dnm_mult.tec' % (r)\n",
    "    fpath = top_folder + fname\n",
    "    fpath = fpath.replace('\\\\','/')\n",
    "    df = pandas.read_csv(fpath,skiprows=2)\n",
    "\n",
    "    # extract actual data\n",
    "    data = df.iloc[:].values\n",
    "    extracted_data = []\n",
    "    for i in range(len(data)):\n",
    "        row = np.array(data[i][0].split()).astype(float)\n",
    "        if len(row) == 6:\n",
    "            extracted_data.append(row)\n",
    "    extracted_data = np.array(extracted_data)\n",
    "\n",
    "\n",
    "    # calculate average of magnetisation values\n",
    "    mx_avg = np.mean(extracted_data[:,3])\n",
    "    my_avg = np.mean(extracted_data[:,4])\n",
    "    mz_avg = np.mean(extracted_data[:,5])\n",
    "    mx_std = np.std(extracted_data[:,3])\n",
    "    my_std = np.std(extracted_data[:,4])\n",
    "    mz_std = np.std(extracted_data[:,5])\n",
    "    mx_avgs.append(mx_avg)\n",
    "    my_avgs.append(my_avg)\n",
    "    mz_avgs.append(mz_avg)\n",
    "    mx_stds.append(mx_std)\n",
    "    my_stds.append(my_std)\n",
    "    mz_stds.append(mz_std)\n",
    "\n",
    "mx_avgs = np.array(mx_avgs)\n",
    "my_avgs = np.array(my_avgs)\n",
    "mz_avgs = np.array(mz_avgs)\n",
    "mx_stds = np.array(mx_stds)\n",
    "my_stds = np.array(my_stds)\n",
    "mz_stds = np.array(mz_stds)\n",
    "all_mavgs.append([mx_avgs,my_avgs,mz_avgs])\n",
    "all_stds.append([mx_stds,my_stds,mz_stds])\n",
    "ring3 = np.mean([mx_stds,my_stds,mz_stds],axis=0)"
   ]
  },
  {
   "cell_type": "code",
   "execution_count": 71,
   "metadata": {},
   "outputs": [
    {
     "data": {
      "text/plain": [
       "<matplotlib.legend.Legend at 0x7f1d017cd6d8>"
      ]
     },
     "execution_count": 71,
     "metadata": {},
     "output_type": "execute_result"
    }
   ],
   "source": [
    "import matplotlib\n",
    "%matplotlib qt\n",
    "\n",
    "matplotlib.rcParams['font.family'] = \"sans-serif\"\n",
    "matplotlib.rcParams['font.sans-serif'] = \"Ariel\"\n",
    "\n",
    "\n",
    "plt.plot(r_majors, ring1, 'go-')\n",
    "plt.plot(r_majors, ring2, 'ro-')\n",
    "plt.plot(r_majors, ring3, 'bo-')\n",
    "\n",
    "plt.plot(80,0.079, 'o', markersize=10, markerfacecolor='white',markeredgewidth=3, color='gray', label='Real size')\n",
    "\n",
    "plt.plot(80,0.079, 'go', markersize=10, markerfacecolor='white',markeredgewidth=3)\n",
    "plt.plot(72,0.53, 'bo', markersize=10, markerfacecolor='white',markeredgewidth=3)\n",
    "plt.plot(61,0.12, 'ro', markersize=10, markerfacecolor='white',markeredgewidth=3)\n",
    "\n",
    "plt.xlabel(r'Total ring diamter $d_{\\rm tot}$ / nm', fontsize = 12)\n",
    "plt.ylabel(r'Alignment deviation $\\sigma_{\\mathit{\\mathbf{M}} \\cdot \\mathit{\\mathbf{M}}_{\\rm avg}}$', fontsize = 12)\n",
    "\n",
    "plt.legend(loc='center right')"
   ]
  },
  {
   "cell_type": "code",
   "execution_count": 828,
   "metadata": {},
   "outputs": [
    {
     "data": {
      "text/plain": [
       "(array([ 0.98,  1.  ,  1.02]), <a list of 3 Text yticklabel objects>)"
      ]
     },
     "execution_count": 828,
     "metadata": {},
     "output_type": "execute_result"
    }
   ],
   "source": [
    "import matplotlib\n",
    "%matplotlib qt\n",
    "#fig = plt.figure(figsize=(3,6))\n",
    "\n",
    "xsi = np.linspace(0,0.3,4)\n",
    "xs = np.insert(xsi,0,-0.1)\n",
    "xs = np.append(xs,0.4)\n",
    "ys = np.ones_like(xs)\n",
    "zs = np.insert(xsi,0,0)\n",
    "zs = np.append(zs,0.4)#xs#np.linspace(0,0.5,6)\n",
    "z_stack = np.array([zs,zs,zs,zs,zs])\n",
    "\n",
    "fig,ax = plt.subplots(1, figsize=(4,1))\n",
    "\n",
    "\n",
    "ax.scatter(xs,ys,  c = zs, cmap = 'RdBu_r', vmin = 0, vmax = 0.25,marker='o',s=80, \n",
    "                     edgecolor=(0.128,0.128,0.128,0.3))\n",
    "ax.imshow(z_stack,cmap='RdBu_r',extent=[-0.1,0.4,0.98,1.02],interpolation='spline16',origin='lower',vmin=-0.3,vmax=0.6)\n",
    "ax.set_xlim([-0.02,0.32])\n",
    "plt.gca().axes.get_yaxis().set_visible(False)\n",
    "ax.tick_params(axis='both', which='major', labelsize=12)\n",
    "plt.yticks(fontname = \"Arial\")"
   ]
  },
  {
   "cell_type": "code",
   "execution_count": 27,
   "metadata": {},
   "outputs": [
    {
     "data": {
      "text/plain": [
       "array([-0.1       ,  0.        ,  0.08333333,  0.16666667,  0.25      ,\n",
       "        0.33333333,  0.41666667,  0.5       ,  0.6       ])"
      ]
     },
     "execution_count": 27,
     "metadata": {},
     "output_type": "execute_result"
    }
   ],
   "source": [
    "xs"
   ]
  },
  {
   "cell_type": "markdown",
   "metadata": {},
   "source": [
    "## Energy analysis\n"
   ]
  },
  {
   "cell_type": "code",
   "execution_count": 3,
   "metadata": {},
   "outputs": [],
   "source": [
    "def E_extractor(identifier, e):\n",
    "    e = e*10\n",
    "    top_folder = r'/home/grl31/Downloads/merrill-test'\n",
    "    fname = r'\\all_energies_repeat_e%i_%s.log' % (e, identifier)\n",
    "    fpath = top_folder + fname\n",
    "    fpath = fpath.replace('\\\\','/')\n",
    "    print(fpath)\n",
    "    \n",
    "    # open energy log into pandas dataframe\n",
    "    df = pandas.read_csv(fpath,skiprows=12,delim_whitespace=True)\n",
    "    \n",
    "    # Extract column 2, local evaluation number\n",
    "    n_eval_loc = df.iloc[:,1]\n",
    "\n",
    "    # Extract indices where value is 1\n",
    "    i_eval_starts = np.where(n_eval_loc==1)[0]\n",
    "\n",
    "    # Calculate indices where eval number is final for that geometry\n",
    "    if len(i_eval_starts) != 240:\n",
    "        print('asdasdasd')\n",
    "        df = pandas.read_csv(fpath,skiprows=14,delim_whitespace=True)\n",
    "        n_eval_loc = df.iloc[:,1]\n",
    "        i_eval_starts = np.where(n_eval_loc==1)[0]\n",
    "        i_eval_ends = i_eval_starts-1\n",
    "        \n",
    "    else:\n",
    "        i_eval_ends = np.delete(i_eval_starts,0) - 1\n",
    "        \n",
    "    i_eval_ends = np.append(i_eval_ends,-1)\n",
    "\n",
    "    # Extract Total energy values\n",
    "    E_tots = df.iloc[:,9].values\n",
    "    E_dmag = df.iloc[:,8].values\n",
    "\n",
    "    # Get final total energy values\n",
    "    E_tot_fins = E_tots[i_eval_ends]\n",
    "    E_dmag_fins = E_dmag[i_eval_ends]\n",
    "    \n",
    "    # final energies for r = 0.2 from d = 10 to d = 300\n",
    "    all_Es = []\n",
    "    all_dmags = []\n",
    "    for i in range(8):\n",
    "        Es_for_r = np.flipud(E_tot_fins[i*30:(i+1)*30])\n",
    "        all_Es.append(Es_for_r)\n",
    "        \n",
    "        Es_for_r = np.flipud(E_dmag_fins[i*30:(i+1)*30])\n",
    "        all_dmags.append(Es_for_r)\n",
    "        \n",
    "    return all_Es, all_dmags"
   ]
  },
  {
   "cell_type": "code",
   "execution_count": 236,
   "metadata": {},
   "outputs": [
    {
     "data": {
      "text/plain": [
       "'/home/grl31/Downloads/merrill-test/all_energies_repeat_e0_up.log'"
      ]
     },
     "execution_count": 236,
     "metadata": {},
     "output_type": "execute_result"
    }
   ],
   "source": [
    "top_folder = r'/home/grl31/Downloads/merrill-test'\n",
    "fname = r'\\all_energies_repeat_e0_up.log'\n",
    "fpath = top_folder + fname\n",
    "fpath = fpath.replace('\\\\','/')\n",
    "fpath"
   ]
  },
  {
   "cell_type": "code",
   "execution_count": 218,
   "metadata": {
    "collapsed": true,
    "jupyter": {
     "outputs_hidden": true
    }
   },
   "outputs": [
    {
     "data": {
      "text/plain": [
       "[array([ 0.24453175,  0.2179567 ,  0.23536491,  0.20592402,  0.19814127,\n",
       "         0.18989358,  0.18162462,  0.18171662,  0.16816048,  0.15933223,\n",
       "         0.15048097,  0.14441244,  0.13769076,  0.13171605,  0.12640558,\n",
       "         0.12166242,  0.11741665,  0.11358933,  0.11013109,  0.10698614,\n",
       "         0.10411839,  0.1014968 ,  0.09906754,  0.09683232,  0.094768  ,\n",
       "         0.09284129,  0.09103701,  0.08935998,  0.08778375,  0.08631195]),\n",
       " array([ 0.22070745,  0.24179746,  0.2148593 ,  0.21017129,  0.2047208 ,\n",
       "         0.1987546 ,  0.19265046,  0.18660054,  0.18508991,  0.17727433,\n",
       "         0.16974096,  0.16301568,  0.15526859,  0.15432369,  0.14932564,\n",
       "         0.14478591,  0.14066002,  0.13694077,  0.13354712,  0.13044782,\n",
       "         0.12760158,  0.1249913 ,  0.12258279,  0.12035515,  0.11828472,\n",
       "         0.11638596,  0.11459532,  0.11288756,  0.11133787,  0.10983556]),\n",
       " array([ 0.24389258,  0.24240198,  0.23990376,  0.2363818 ,  0.23185771,\n",
       "         0.20635836,  0.20213289,  0.19784387,  0.19359989,  0.19214917,\n",
       "         0.18510814,  0.17888438,  0.17305662,  0.17542693,  0.16706988,\n",
       "         0.16692515,  0.16299134,  0.15935724,  0.15604786,  0.15297883,\n",
       "         0.15016869,  0.14756678,  0.145198  ,  0.14295548,  0.14088638,\n",
       "         0.13880703,  0.13610979,  0.13338482,  0.13096611,  0.12853738]),\n",
       " array([ 0.24340589,  0.24250081,  0.24098524,  0.21631292,  0.21403163,\n",
       "         0.2327419 ,  0.20872168,  0.20586357,  0.20297266,  0.20590318,\n",
       "         0.19904294,  0.19289936,  0.18705695,  0.18169643,  0.02876846,\n",
       "         0.02386401,  0.01977765,  0.17993633,  0.15316597,  0.01097603,\n",
       "         0.00883811,  0.16819807,  0.16483483,  0.00393458,  0.00267313,\n",
       "         0.00155367,  0.00055237, -0.0003414 , -0.00114167, -0.00188281]),\n",
       " array([  2.44206965e-01,   2.20304840e-01,   2.19458599e-01,\n",
       "          2.18321022e-01,   2.16943203e-01,   2.15374031e-01,\n",
       "          2.13657170e-01,   2.11842219e-01,   2.09972248e-01,\n",
       "          2.08062082e-01,   2.06156110e-01,   2.05216932e-01,\n",
       "          1.99437327e-01,   4.32400257e-02,   3.61516153e-02,\n",
       "          3.03428261e-02,   2.55250426e-02,   2.14811685e-02,\n",
       "          1.80555532e-02,   1.51253667e-02,   1.26014755e-02,\n",
       "          1.04092107e-02,   8.49381996e-03,   6.80917848e-03,\n",
       "          5.31997852e-03,   3.99841750e-03,   2.82075222e-03,\n",
       "          1.75672170e-03,   8.01608697e-04,  -6.04230456e-05]),\n",
       " array([ 0.24561701,  0.24530403,  0.24478113,  0.2211237 ,  0.22030139,\n",
       "         0.24190214,  0.2182935 ,  0.21753171,  0.21596898,  0.21474205,\n",
       "         0.2225404 ,  0.21663041,  0.0640031 ,  0.05357827,  0.04516166,\n",
       "         0.0382683 ,  0.03260877,  0.02775403,  0.0236876 ,  0.02024753,\n",
       "         0.01721956,  0.01462206,  0.01234924,  0.01035346,  0.00859013,\n",
       "         0.00702215,  0.00562314,  0.00436808,  0.00323981,  0.0022197 ]),\n",
       " array([ 0.24827667,  0.2480851 ,  0.22451747,  0.22409757,  0.22357676,\n",
       "         0.23210864,  0.22236003,  0.22154801,  0.22075844,  0.21993694,\n",
       "         0.21909365,  0.09528751,  0.0794721 ,  0.06691697,  0.05678458,\n",
       "         0.04848269,  0.04160823,  0.03582542,  0.03093678,  0.02675935,\n",
       "         0.02315572,  0.0200322 ,  0.0173043 ,  0.0149059 ,  0.01278566,\n",
       "         0.01090354,  0.0092246 ,  0.00771904,  0.0063716 ,  0.00514073]),\n",
       " array([ 0.25219624,  0.25206051,  0.25183281,  0.22826158,  0.2511112 ,\n",
       "         0.22747081,  0.22698946,  0.22646399,  0.22589925,  0.22531157,\n",
       "         0.22470068,  0.2240788 ,  0.10045864,  0.08517649,  0.0727851 ,\n",
       "         0.06260248,  0.05413468,  0.04701795,  0.04097599,  0.03581222,\n",
       "         0.03134164,  0.02746241,  0.02406749,  0.02107899,  0.01843175,\n",
       "         0.01607496,  0.0139654 ,  0.01206871,  0.01035634,  0.00880101])]"
      ]
     },
     "execution_count": 218,
     "metadata": {},
     "output_type": "execute_result"
    }
   ],
   "source": [
    "df= pandas.read_csv(fpath,skiprows=14,delim_whitespace=True)\n",
    "E_tot_fins = df.iloc[:,9].values[np.append(np.where(df.iloc[:,1]==1)[0]-1,-1)]\n",
    "all_Es = []\n",
    "for i in range(8):\n",
    "    Es_for_r = np.flipud(E_tot_fins[i*30:(i+1)*30])\n",
    "    all_Es.append(Es_for_r)\n",
    "all_Es"
   ]
  },
  {
   "cell_type": "code",
   "execution_count": 594,
   "metadata": {},
   "outputs": [
    {
     "name": "stdout",
     "output_type": "stream",
     "text": [
      "/home/grl31/Downloads/merrill-test/all_energies_repeat_e9_rand1.log\n"
     ]
    }
   ],
   "source": [
    "etot,edmag = E_extractor('rand1',0.9)"
   ]
  },
  {
   "cell_type": "code",
   "execution_count": 244,
   "metadata": {},
   "outputs": [
    {
     "data": {
      "text/plain": [
       "0.0"
      ]
     },
     "execution_count": 244,
     "metadata": {},
     "output_type": "execute_result"
    }
   ],
   "source": [
    "np.min(e0_up-e0_low)"
   ]
  },
  {
   "cell_type": "code",
   "execution_count": 239,
   "metadata": {},
   "outputs": [],
   "source": [
    "e0_low = np.minimum(e0_low,e0_up)"
   ]
  },
  {
   "cell_type": "code",
   "execution_count": 596,
   "metadata": {},
   "outputs": [],
   "source": [
    "E_plotter(etot)"
   ]
  },
  {
   "cell_type": "code",
   "execution_count": 44,
   "metadata": {},
   "outputs": [],
   "source": [
    "df = pandas.read_csv(fpath,skiprows=12,delim_whitespace=True)"
   ]
  },
  {
   "cell_type": "code",
   "execution_count": 107,
   "metadata": {},
   "outputs": [],
   "source": [
    "# Extract column 2, local evaluation number\n",
    "n_eval_loc = df.iloc[:,1]\n",
    "\n",
    "# Extract indices where value is 1\n",
    "i_eval_starts = np.where(n_eval_loc==1)[0]\n",
    "\n",
    "# Calculate indices where eval number is final for that geometry\n",
    "i_eval_ends = np.delete(i_eval_starts,0) - 1\n",
    "i_eval_ends = np.append(i_eval_ends,-1)\n",
    "\n",
    "# Extract Total energy values\n",
    "E_tots = df.iloc[:,9].values\n",
    "\n",
    "# Get final total energy values\n",
    "E_tot_fins = E_tots[i_eval_ends]"
   ]
  },
  {
   "cell_type": "code",
   "execution_count": 117,
   "metadata": {},
   "outputs": [],
   "source": [
    "# final energies for r = 0.2 from d = 10 to d = 300\n",
    "all_Es = []\n",
    "for i in range(8):\n",
    "    Es_for_r = np.flipud(E_tot_fins[i*30:(i+1)*30])\n",
    "    all_Es.append(Es_for_r)"
   ]
  },
  {
   "cell_type": "code",
   "execution_count": 4,
   "metadata": {},
   "outputs": [],
   "source": [
    "def E_plotter(Es):\n",
    "    plt.figure(figsize=(9,6))\n",
    "    \n",
    "    E_max = 0.3#np.max(Es)\n",
    "    E_min = 0\n",
    "    \n",
    "    for i,row in enumerate(Es):\n",
    "        plt.scatter(r_majors,np.ones_like(r_majors)*r_ratios[i]*150,c=row,cmap='Blues',marker='o',s=80, \n",
    "                         edgecolor=(0.128,0.128,0.128,0.3), vmin = E_min, vmax = E_max)\n",
    "\n",
    "    plt.imshow(Es,cmap='Blues',extent=[5,305,25,140],origin='lower', vmin = E_min, vmax = E_max)\n",
    "    plt.colorbar(fraction=0.046*1/2.6, pad=0.04)\n",
    "    plt.xlabel('Total ring diameter / nm', fontsize=14)\n",
    "    plt.ylabel('$r_{minor}$ / $r_{major}$', fontsize=15)\n",
    "    plt.tick_params(axis='both', which='major', labelsize=12)\n",
    "    plt.yticks([30,45,60,75,90,105,120,135], ['0.2','0.3','0.4','0.5','0.6','0.7','0.8','0.9'])\n",
    "    plt.ylim([25,140])"
   ]
  },
  {
   "cell_type": "code",
   "execution_count": 5,
   "metadata": {},
   "outputs": [],
   "source": [
    "def std_plotter(all_avg_stds):\n",
    "    import matplotlib\n",
    "    %matplotlib qt\n",
    "    plt.figure(figsize=(9,6))\n",
    "    matplotlib.rcParams['font.family'] = \"sans-serif\"\n",
    "    matplotlib.rcParams['font.sans-serif'] = \"Ariel\"\n",
    "\n",
    "    #all_avg_stds = []\n",
    "    for ii, avg_stds in enumerate(all_avg_stds):\n",
    "        print(avg_stds)\n",
    "        #avg_stds = avg_stds[0]\n",
    "        im = plt.scatter(r_majors,np.ones_like(r_majors)*r_ratios[ii]*150,  c = avg_stds, cmap = 'RdBu', vmin = 0, vmax = 0.5,marker='o',s=80, \n",
    "                         edgecolor=(0.128,0.128,0.128,0.3))\n",
    "        grad_val = np.abs(np.gradient(avg_stds))\n",
    "\n",
    "\n",
    "    plt.imshow(all_avg_stds,cmap='RdBu',extent=[5,305,25,140],interpolation='spline16',origin='lower',vmin=-0.3,vmax=0.8)\n",
    "    cbar = plt.colorbar(im, fraction=0.046*1/2.6, pad=0.04)\n",
    "    cbar.ax.set_title('$\\sigma_M$',fontsize=14)\n",
    "    cbar.ax.tick_params(labelsize=12)\n",
    "\n",
    "    plt.xlabel('Total ring diameter / nm', fontsize=14)\n",
    "    plt.ylabel('$r_{minor}$ / $r_{major}$', fontsize=15)\n",
    "    plt.tick_params(axis='both', which='major', labelsize=12)\n",
    "    plt.yticks([30,45,60,75,90,105,120,135], ['0.2','0.3','0.4','0.5','0.6','0.7','0.8','0.9'])\n",
    "    #plt.xlim([10,300])\n",
    "    plt.ylim([25,140])\n"
   ]
  },
  {
   "cell_type": "code",
   "execution_count": 157,
   "metadata": {},
   "outputs": [
    {
     "data": {
      "text/plain": [
       "0.50621032522046883"
      ]
     },
     "execution_count": 157,
     "metadata": {},
     "output_type": "execute_result"
    }
   ],
   "source": [
    "np.max(e0_rand_low)"
   ]
  },
  {
   "cell_type": "code",
   "execution_count": 6,
   "metadata": {},
   "outputs": [],
   "source": [
    "## GET IT ALL\n",
    "abs_all_stds = []\n",
    "abs_all_Es = []\n",
    "abs_all_dmags = []\n",
    "def get_it_all():\n",
    "    ids = ['x','y','up','vortex','rand1','rand2','rand3','rand4','rand5']\n",
    "    for e in [0.0,0.7,0.9]:\n",
    "        for identifier in ids:\n",
    "            #all_stds = extract_M_stds(identifier,e)\n",
    "            all_Es, all_dmags = E_extractor(identifier,e)\n",
    "            #abs_all_stds.append(all_stds)\n",
    "            abs_all_Es.append(all_Es)\n",
    "            abs_all_dmags.append(all_dmags)"
   ]
  },
  {
   "cell_type": "code",
   "execution_count": 11,
   "metadata": {},
   "outputs": [
    {
     "name": "stdout",
     "output_type": "stream",
     "text": [
      "/home/grl31/Downloads/merrill-test/all_energies_repeat_e0_x.log\n",
      "/home/grl31/Downloads/merrill-test/all_energies_repeat_e0_y.log\n",
      "/home/grl31/Downloads/merrill-test/all_energies_repeat_e0_up.log\n",
      "/home/grl31/Downloads/merrill-test/all_energies_repeat_e0_vortex.log\n",
      "/home/grl31/Downloads/merrill-test/all_energies_repeat_e0_rand1.log\n",
      "/home/grl31/Downloads/merrill-test/all_energies_repeat_e0_rand2.log\n",
      "/home/grl31/Downloads/merrill-test/all_energies_repeat_e0_rand3.log\n",
      "/home/grl31/Downloads/merrill-test/all_energies_repeat_e0_rand4.log\n",
      "/home/grl31/Downloads/merrill-test/all_energies_repeat_e0_rand5.log\n",
      "/home/grl31/Downloads/merrill-test/all_energies_repeat_e7_x.log\n",
      "/home/grl31/Downloads/merrill-test/all_energies_repeat_e7_y.log\n",
      "/home/grl31/Downloads/merrill-test/all_energies_repeat_e7_up.log\n",
      "/home/grl31/Downloads/merrill-test/all_energies_repeat_e7_vortex.log\n",
      "/home/grl31/Downloads/merrill-test/all_energies_repeat_e7_rand1.log\n",
      "/home/grl31/Downloads/merrill-test/all_energies_repeat_e7_rand2.log\n",
      "/home/grl31/Downloads/merrill-test/all_energies_repeat_e7_rand3.log\n",
      "/home/grl31/Downloads/merrill-test/all_energies_repeat_e7_rand4.log\n",
      "/home/grl31/Downloads/merrill-test/all_energies_repeat_e7_rand5.log\n",
      "/home/grl31/Downloads/merrill-test/all_energies_repeat_e9_x.log\n",
      "/home/grl31/Downloads/merrill-test/all_energies_repeat_e9_y.log\n",
      "/home/grl31/Downloads/merrill-test/all_energies_repeat_e9_up.log\n",
      "/home/grl31/Downloads/merrill-test/all_energies_repeat_e9_vortex.log\n",
      "/home/grl31/Downloads/merrill-test/all_energies_repeat_e9_rand1.log\n",
      "/home/grl31/Downloads/merrill-test/all_energies_repeat_e9_rand2.log\n",
      "/home/grl31/Downloads/merrill-test/all_energies_repeat_e9_rand3.log\n",
      "/home/grl31/Downloads/merrill-test/all_energies_repeat_e9_rand4.log\n",
      "/home/grl31/Downloads/merrill-test/all_energies_repeat_e9_rand5.log\n"
     ]
    }
   ],
   "source": [
    "get_it_all()"
   ]
  },
  {
   "cell_type": "markdown",
   "metadata": {
    "jupyter": {
     "outputs_hidden": true
    }
   },
   "source": [
    "#### stds = abs_all_stds[0]\n",
    "Es = abs_all_Es[0]\n",
    "std_plotter(stds)\n",
    "E_plotter(Es)"
   ]
  },
  {
   "cell_type": "code",
   "execution_count": 8,
   "metadata": {},
   "outputs": [],
   "source": [
    "# loop over the 6 results (x,y,up,rand*3)\n",
    "def find_high_low(val):\n",
    "    \"\"\"Enter val as 0,1 or 2 for e = 0.0, 0.7 or 0.9\"\"\"\n",
    "    for i in range(9):\n",
    "        # extract E and std values\n",
    "        i+=9*val\n",
    "        Es = np.array(abs_all_Es[i])\n",
    "        #stds is actually dmag now\n",
    "        stds = np.array(abs_all_dmags[i])#np.array(abs_all_stds[i])\n",
    "\n",
    "        # first time round, initialise low/high values\n",
    "        if i == 0 or i==9 or i==18:\n",
    "            Es_low = Es\n",
    "            Es_high = Es\n",
    "\n",
    "            stds_low = stds\n",
    "            stds_high = stds\n",
    "\n",
    "        # then update low/high values\n",
    "        else:\n",
    "            # low/high E easily found using numpy\n",
    "            Es_low = np.minimum(Es,Es_low)\n",
    "            Es_high = np.maximum(Es,Es_high)\n",
    "\n",
    "            ilow = np.where(Es.reshape(240)==Es_low.reshape(240))[0]\n",
    "            slf = stds_low.flatten()\n",
    "            slf[ilow] = np.take(stds.reshape(240),ilow)\n",
    "            stds_low = slf.reshape((8,30))\n",
    "            \n",
    "            ihigh = np.where(Es.reshape(240)==Es_high.reshape(240))[0]\n",
    "            slh = stds_high.flatten()\n",
    "            slh[ihigh] = np.take(stds.reshape(240),ihigh)\n",
    "            stds_high = slh.reshape((8,30))\n",
    "            \n",
    "            \n",
    "    return Es_low, Es_high, stds_low, stds_high"
   ]
  },
  {
   "cell_type": "code",
   "execution_count": 7,
   "metadata": {},
   "outputs": [],
   "source": [
    "# loop over the 6 results (x,y,up,rand*3)\n",
    "def find_high_low(val): # second one\n",
    "    \"\"\"Enter val as 0,1 or 2 for e = 0.0, 0.7 or 0.9\"\"\"\n",
    "    for i in range(9):\n",
    "        # extract E and std values\n",
    "        i+=9*val\n",
    "        Es = np.array(abs_all_Es[i])\n",
    "        #stds is actually dmag now\n",
    "        stds = np.array(abs_all_dmags[i])\n",
    "        dmags = np.array(abs_all_dmags[i])#np.array(abs_all_stds[i])\n",
    "\n",
    "        # first time round, initialise low/high values\n",
    "        if i == 0 or i==9 or i==18:\n",
    "            Es_low = Es\n",
    "            Es_high = Es\n",
    "\n",
    "            dmags_low = dmags\n",
    "            dmags_high = dmags\n",
    "            \n",
    "            stds_low = stds\n",
    "            stds_high = stds\n",
    "\n",
    "        # then update low/high values\n",
    "        else:\n",
    "            # low/high E easily found using numpy\n",
    "            Es_low = np.minimum(Es,Es_low)\n",
    "            Es_high = np.maximum(Es,Es_high)\n",
    "\n",
    "            dmags_low = np.minimum(dmags,dmags_low)\n",
    "            dmags_high = np.maximum(dmags,dmags_high)\n",
    "\n",
    "            ilow = np.where(Es.reshape(240)==Es_low.reshape(240))[0]\n",
    "            slf = stds_low.flatten()\n",
    "            slf[ilow] = np.take(stds.reshape(240),ilow)\n",
    "            stds_low = slf.reshape((8,30))\n",
    "            \n",
    "            ihigh = np.where(Es.reshape(240)==Es_high.reshape(240))[0]\n",
    "            slh = stds_high.flatten()\n",
    "            slh[ihigh] = np.take(stds.reshape(240),ihigh)\n",
    "            stds_high = slh.reshape((8,30))\n",
    "            \n",
    "            \n",
    "    # this now returns 0,1: the dmag values for the most/least stable states\n",
    "    # and 2,3: the highest and lowest dmags of all stable states\n",
    "    return stds_low, stds_high, dmags_low, dmags_high"
   ]
  },
  {
   "cell_type": "code",
   "execution_count": 773,
   "metadata": {},
   "outputs": [],
   "source": [
    "Es_low, Es_high, stds_low, stds_high = find_high_low(2)"
   ]
  },
  {
   "cell_type": "code",
   "execution_count": 774,
   "metadata": {},
   "outputs": [],
   "source": [
    "plot = abs_all_dmags[22]\n",
    "E_plotter(stds_high)"
   ]
  },
  {
   "cell_type": "code",
   "execution_count": 761,
   "metadata": {},
   "outputs": [
    {
     "name": "stdout",
     "output_type": "stream",
     "text": [
      "[  3.37419410e-01   3.14458578e-01   3.09393024e-01   2.78740488e-01\n",
      "   3.09323084e-01   3.09175880e-01   1.92416511e-01   2.24913179e-04\n",
      "   1.58262590e-01   1.50460993e-01   1.40352104e-01   1.32792191e-01\n",
      "   1.26905489e-01   1.22116663e-01   1.18190870e-01   1.14891622e-01\n",
      "   1.12069291e-01   1.09539265e-01   1.07303792e-01   1.05283357e-01\n",
      "   1.03437290e-01   1.01746411e-01   1.00173090e-01   9.86902430e-02\n",
      "   9.73108508e-02   9.60110559e-02   9.47797873e-02   9.36219134e-02\n",
      "   9.25049172e-02   9.14265188e-02]\n",
      "[  3.21545225e-01   3.17558457e-01   3.11482804e-01   3.11396673e-01\n",
      "   2.80944277e-01   2.63310815e-01   2.43544464e-01   2.06305854e-01\n",
      "   2.67979203e-04   2.79372166e-04   1.76362195e-01   1.66634376e-01\n",
      "   3.25276248e-04   1.52663682e-01   1.47609864e-01   1.43573118e-01\n",
      "   1.40228653e-01   1.37343869e-01   1.34778371e-01   1.32463133e-01\n",
      "   1.30345926e-01   1.28372446e-01   1.26457148e-01   1.24536585e-01\n",
      "   1.22631334e-01   5.58633540e-04   5.73098430e-04   5.86680581e-04\n",
      "   5.99656098e-04   6.12025344e-04]\n",
      "[  3.41168405e-01   3.20072552e-01   3.15356366e-01   3.09668868e-01\n",
      "   3.09466097e-01   3.02381496e-01   2.50099883e-01   2.23476169e-01\n",
      "   1.21623875e-01   2.97798913e-04   1.93500973e-01   3.23285832e-04\n",
      "   3.31542589e-04   3.46016547e-04   3.61738839e-04   3.78386409e-04\n",
      "   1.60070512e-01   4.13763217e-04   4.31996417e-04   4.50527229e-04\n",
      "   4.68865603e-04   4.87290664e-04   5.05534666e-04   5.23312977e-04\n",
      "   5.40889332e-04   5.57970420e-04   5.74728243e-04   5.90972577e-04\n",
      "   6.06773808e-04   6.22137262e-04]\n",
      "[  3.11105344e-01   3.18881834e-01   3.16276112e-01   3.12613749e-01\n",
      "   3.07779106e-01   3.01698913e-01   2.91952095e-01   8.98810663e-03\n",
      "   3.08585107e-04   2.17895888e-01   2.03802679e-01   1.98115005e-01\n",
      "   3.38560865e-04   3.49862392e-04   3.62485030e-04   3.76170995e-04\n",
      "   3.90764828e-04   4.06023782e-04   4.21995461e-04   4.38204328e-04\n",
      "   4.61054955e-04   4.73381574e-04   4.88802884e-04   5.05849779e-04\n",
      "   5.22946262e-04   5.39774199e-04   5.56782574e-04   5.73332391e-04\n",
      "   5.89794064e-04   6.06015326e-04]\n",
      "[  3.16991653e-01   3.13129968e-01   3.15207964e-01   3.13148135e-01\n",
      "   3.10579001e-01   3.04213784e-01   8.60976922e-03   3.07694733e-04\n",
      "   2.47456573e-01   3.17419812e-04   3.24399432e-04   3.32568943e-04\n",
      "   3.42059992e-04   3.52595573e-04   3.64070730e-04   3.76425550e-04\n",
      "   3.89447245e-04   4.08455314e-04   4.17190605e-04   4.31624195e-04\n",
      "   4.46481463e-04   4.61528347e-04   4.76943139e-04   4.92149806e-04\n",
      "   5.07635585e-04   5.23102476e-04   5.38527539e-04   5.54161424e-04\n",
      "   5.69391373e-04   5.85098471e-04]\n",
      "[  3.48879217e-01   3.47692483e-01   3.10065138e-01   3.08188975e-01\n",
      "   3.06344606e-01   3.04159146e-01   8.05335760e-02   1.36816528e-02\n",
      "   2.67078675e-04   2.69512335e-04   2.73478226e-04   2.78922268e-04\n",
      "   2.85628118e-04   2.93675822e-04   3.02680679e-04   3.12790889e-04\n",
      "   3.23786504e-04   3.36483293e-04   3.48240121e-04   2.72268446e-02\n",
      "   3.74970398e-04   3.89318158e-04   4.03886477e-04   4.19283383e-04\n",
      "   4.34503789e-04   4.50710623e-04   4.67166819e-04   4.88929922e-04\n",
      "   5.08198052e-04   5.22916703e-04]\n",
      "[ 0.35305054  0.29642384  0.29846077  0.29397701  0.29175517  0.28870391\n",
      "  0.27813173  0.0691978   0.03124827  0.01389507  0.00666065  0.04465651\n",
      "  0.03891515  0.03450581  0.02899112  0.02699171  0.02664469  0.00070424\n",
      "  0.02367723  0.02201479  0.00059687  0.00056556  0.00054929  0.00054003\n",
      "  0.01776773  0.00052833  0.00052291  0.00052341  0.00052369  0.00052712]\n",
      "[ 0.35741986  0.28510647  0.35557249  0.28099059  0.2783713   0.27825003\n",
      "  0.17571223  0.10478617  0.10470798  0.05656186  0.04523675  0.03784789\n",
      "  0.03277505  0.02989772  0.02621858  0.02479269  0.02214514  0.02059618\n",
      "  0.01963095  0.01796004  0.01692583  0.00085034  0.00076201  0.0006988\n",
      "  0.00065146  0.00061731  0.00059363  0.00057782  0.00056811  0.00056305]\n"
     ]
    }
   ],
   "source": [
    "std_plotter(stds_high)"
   ]
  },
  {
   "cell_type": "code",
   "execution_count": 320,
   "metadata": {},
   "outputs": [
    {
     "data": {
      "text/plain": [
       "array([[10, 20, 30, 40, 50, 60],\n",
       "       [99, 20, 30, 40, 50, 99],\n",
       "       [10, 20, 30, 40, 50, 60]])"
      ]
     },
     "execution_count": 320,
     "metadata": {},
     "output_type": "execute_result"
    }
   ],
   "source": [
    "a = np.array([[10,20,30,40,50,60],[10,20,30,40,50,60],[10,20,30,40,50,60]])\n",
    "np.put(a[1],[0,-1],[99,99])\n",
    "a"
   ]
  },
  {
   "cell_type": "code",
   "execution_count": 415,
   "metadata": {},
   "outputs": [],
   "source": [
    "E1 = np.array(abs_all_Es[0])\n",
    "E2 = np.array(abs_all_Es[1])\n",
    "std1 = np.array(abs_all_stds[0])\n",
    "std2 = np.array(abs_all_stds[1])\n",
    "\n",
    "Elow = np.minimum(E1,E2)\n",
    "ilow = np.where(E2.reshape(240)==Elow.reshape(240))[0]\n",
    "stdlow = np.array(std1)\n",
    "slf = stdlow.flatten()\n",
    "slf[ilow] = np.take(std2.reshape(240),ilow)\n",
    "stdlow = slf.reshape((8,30))\n"
   ]
  },
  {
   "cell_type": "code",
   "execution_count": 612,
   "metadata": {},
   "outputs": [
    {
     "data": {
      "text/plain": [
       "(0,)"
      ]
     },
     "execution_count": 612,
     "metadata": {},
     "output_type": "execute_result"
    }
   ],
   "source": [
    "np.shape(abs_all_stds)"
   ]
  },
  {
   "cell_type": "code",
   "execution_count": 416,
   "metadata": {},
   "outputs": [],
   "source": [
    "E_plotter(stdlow)"
   ]
  },
  {
   "cell_type": "code",
   "execution_count": 37,
   "metadata": {},
   "outputs": [],
   "source": [
    "# plot all stds\n",
    "import matplotlib\n",
    "%matplotlib qt\n",
    "#plt.figure(figsize=(9,6))\n",
    "fig = plt.figure(figsize=(12, 16))\n",
    "grid = plt.GridSpec(9, 3)\n",
    "for val in [0,1,2]:\n",
    "    ax1 = fig.add_subplot(grid[0, val])\n",
    "    ax2 = fig.add_subplot(grid[1, val])\n",
    "    ax3 = fig.add_subplot(grid[2, val])\n",
    "    ax4 = fig.add_subplot(grid[3, val])\n",
    "    ax5 = fig.add_subplot(grid[4, val])\n",
    "    ax6 = fig.add_subplot(grid[5, val])\n",
    "    ax7 = fig.add_subplot(grid[6, val])\n",
    "    ax8 = fig.add_subplot(grid[7, val])\n",
    "    ax9 = fig.add_subplot(grid[8, val])\n",
    "    axs = [ax1,ax2,ax3,ax4,ax5,ax6,ax7,ax8,ax9]\n",
    "\n",
    "    matplotlib.rcParams['font.family'] = \"sans-serif\"\n",
    "    matplotlib.rcParams['font.sans-serif'] = \"Ariel\"\n",
    "\n",
    "    for i, ax in enumerate(axs):\n",
    "        \n",
    "        all_avg_stds=abs_all_dmags[i+val*9]\n",
    "        for ii, avg_stds in enumerate(all_avg_stds):\n",
    "            #print(avg_stds)\n",
    "            #avg_stds = avg_stds[0]\n",
    "            im = ax.scatter(r_majors,np.ones_like(r_majors)*r_ratios[ii]*150,  c = avg_stds, cmap = 'RdBu_r', vmin = 0, vmax = 0.3,marker='o',s=20, \n",
    "                             edgecolor=(0.128,0.128,0.128,0.3))\n",
    "            grad_val = np.abs(np.gradient(avg_stds))\n",
    "\n",
    "\n",
    "        ax.imshow(all_avg_stds,cmap='RdBu_r',extent=[5,305,25,140],interpolation='spline16',origin='lower',vmin=-0.3,vmax=0.6)\n",
    "    #     cbar = ax1.colorbar(im, fraction=0.046*1/2.6, pad=0.04)\n",
    "    #     cbar.ax.set_title('$\\sigma_M$',fontsize=14)\n",
    "    #     cbar.ax.tick_params(labelsize=12)\n",
    "\n",
    "        #ax.set_xlabel('Total ring diameter / nm', fontsize=14)\n",
    "        #ax.set_ylabel('$r_{minor}$ / $r_{major}$', fontsize=15)\n",
    "        ax.tick_params(axis='both', which='major', labelsize=12)\n",
    "        \n",
    "        #plt.xlim([10,300])\n",
    "        ax.set_ylim([25,140])\n",
    "        #ax.set_yticklabels([])\n",
    "        ax.set_yticks([45,90,135])\n",
    "        ax.set_yticklabels(['0.3','0.6','0.9'])\n",
    "        if i != 8:\n",
    "            ax.set_xticklabels([])\n",
    "        if val != 0:\n",
    "            ax.set_yticklabels([])\n",
    "        \n",
    "plt.tight_layout()\n",
    "fig.subplots_adjust(bottom=0.05,left=0.05)"
   ]
  },
  {
   "cell_type": "code",
   "execution_count": 811,
   "metadata": {},
   "outputs": [],
   "source": [
    "# plot all highest/lowest\n",
    "\n",
    "fig = plt.figure(figsize=(16, 12))\n",
    "grid = plt.GridSpec(3, 3)\n",
    "for val in [0,1,2]:\n",
    "    Es_low, Es_high, stds_low, stds_high = find_high_low(val)\n",
    "    ax1 = fig.add_subplot(grid[val, 0])\n",
    "    ax2 = fig.add_subplot(grid[val, 1])\n",
    "    ax3 = fig.add_subplot(grid[val, 2])\n",
    "\n",
    "    axs = [ax1,ax2,ax3]\n",
    "\n",
    "    matplotlib.rcParams['font.family'] = \"sans-serif\"\n",
    "    matplotlib.rcParams['font.sans-serif'] = \"Ariel\"\n",
    "\n",
    "    for i, ax in enumerate(axs):\n",
    "        if i == 0:\n",
    "            all_avg_stds = Es_low\n",
    "            for ii, avg_stds in enumerate(all_avg_stds):\n",
    "                im = ax.scatter(r_majors,np.ones_like(r_majors)*r_ratios[ii]*150,  c = avg_stds, cmap = 'RdBu_r', vmin = 0, vmax = 0.25,marker='o',s=30, \n",
    "                                 edgecolor=(0.128,0.128,0.128,0.3))\n",
    "                grad_val = np.abs(np.gradient(avg_stds))\n",
    "                ax.imshow(all_avg_stds,cmap='RdBu_r',extent=[5,305,25,140],interpolation='spline16',origin='lower',vmin=-0.3,vmax=0.6)\n",
    "                ax.tick_params(axis='both', which='major', labelsize=12)\n",
    "                ax.set_ylim([25,140])\n",
    "                ax.set_yticklabels([])\n",
    "                ax.set_xticklabels([])\n",
    "        if i == 1:\n",
    "            all_avg_stds = stds_high\n",
    "            for ii, avg_stds in enumerate(all_avg_stds):\n",
    "                im = ax.scatter(r_majors,np.ones_like(r_majors)*r_ratios[ii]*150,  c = avg_stds, cmap = 'RdBu_r', vmin = 0, vmax = 0.25,marker='o',s=30, \n",
    "                                 edgecolor=(0.128,0.128,0.128,0.3))\n",
    "                grad_val = np.abs(np.gradient(avg_stds))\n",
    "                ax.imshow(all_avg_stds,cmap='RdBu_r',extent=[5,305,25,140],interpolation='spline16',origin='lower',vmin=-0.3,vmax=0.6)\n",
    "                ax.tick_params(axis='both', which='major', labelsize=12)\n",
    "                ax.set_ylim([25,140])\n",
    "                ax.set_yticklabels([])\n",
    "                ax.set_xticklabels([])\n",
    "        if i == 2:\n",
    "            all_avg_stds = Es_high-Es_low\n",
    "            for ii, avg_stds in enumerate(all_avg_stds):\n",
    "                im = ax.scatter(r_majors,np.ones_like(r_majors)*r_ratios[ii]*150,  c = avg_stds, cmap = 'Oranges', vmin = 0, vmax = 0.25,marker='o',s=30, \n",
    "                                 edgecolor=(0.128,0.128,0.128,0.3))\n",
    "                grad_val = np.abs(np.gradient(avg_stds))\n",
    "                ax.imshow(all_avg_stds,cmap='Oranges',extent=[5,305,25,140],interpolation='spline16',origin='lower',vmin=0,vmax=0.4)\n",
    "                ax.tick_params(axis='both', which='major', labelsize=12)\n",
    "                ax.set_ylim([25,140])\n",
    "                ax.set_yticklabels([])\n",
    "                ax.set_xticklabels([])\n",
    "            \n",
    "        \n",
    "\n",
    "        \n",
    "plt.tight_layout()"
   ]
  },
  {
   "cell_type": "code",
   "execution_count": 649,
   "metadata": {},
   "outputs": [],
   "source": [
    "#std_plotter(abs_all_stds[12+3])\n",
    "Es_low, Es_high, stds_low, stds_high = find_high_low(0)\n",
    "E_plotter(Es_high-Es_low)"
   ]
  },
  {
   "cell_type": "code",
   "execution_count": 563,
   "metadata": {},
   "outputs": [
    {
     "data": {
      "text/plain": [
       "0.00021784494825571594"
      ]
     },
     "execution_count": 563,
     "metadata": {},
     "output_type": "execute_result"
    }
   ],
   "source": [
    "Es_low, Es_high, stds_low, stds_high = find_high_low(0)"
   ]
  },
  {
   "cell_type": "code",
   "execution_count": 1,
   "metadata": {},
   "outputs": [
    {
     "ename": "NameError",
     "evalue": "name 'plt' is not defined",
     "output_type": "error",
     "traceback": [
      "\u001b[0;31m---------------------------------------------------------------------------\u001b[0m",
      "\u001b[0;31mNameError\u001b[0m                                 Traceback (most recent call last)",
      "\u001b[0;32m<ipython-input-1-223bef46e643>\u001b[0m in \u001b[0;36m<module>\u001b[0;34m\u001b[0m\n\u001b[0;32m----> 1\u001b[0;31m \u001b[0mfig\u001b[0m \u001b[0;34m=\u001b[0m \u001b[0mplt\u001b[0m\u001b[0;34m.\u001b[0m\u001b[0mfigure\u001b[0m\u001b[0;34m(\u001b[0m\u001b[0mfigsize\u001b[0m\u001b[0;34m=\u001b[0m\u001b[0;34m(\u001b[0m\u001b[0;36m7\u001b[0m\u001b[0;34m,\u001b[0m\u001b[0;36m4\u001b[0m\u001b[0;34m)\u001b[0m\u001b[0;34m)\u001b[0m\u001b[0;34m\u001b[0m\u001b[0;34m\u001b[0m\u001b[0m\n\u001b[0m\u001b[1;32m      2\u001b[0m \u001b[0;34m\u001b[0m\u001b[0m\n\u001b[1;32m      3\u001b[0m \u001b[0mEs_low\u001b[0m\u001b[0;34m,\u001b[0m \u001b[0mEs_high\u001b[0m\u001b[0;34m,\u001b[0m \u001b[0mstds_low\u001b[0m\u001b[0;34m,\u001b[0m \u001b[0mstds_high\u001b[0m \u001b[0;34m=\u001b[0m \u001b[0mfind_high_low\u001b[0m\u001b[0;34m(\u001b[0m\u001b[0;36m2\u001b[0m\u001b[0;34m)\u001b[0m\u001b[0;34m\u001b[0m\u001b[0;34m\u001b[0m\u001b[0m\n\u001b[1;32m      4\u001b[0m \u001b[0;34m\u001b[0m\u001b[0m\n\u001b[1;32m      5\u001b[0m \u001b[0;34m\u001b[0m\u001b[0m\n",
      "\u001b[0;31mNameError\u001b[0m: name 'plt' is not defined"
     ]
    }
   ],
   "source": [
    "fig = plt.figure(figsize=(7,4))\n",
    "\n",
    "Es_low, Es_high, stds_low, stds_high = find_high_low(2)\n",
    "\n",
    "\n",
    "matplotlib.rcParams['font.family'] = \"sans-serif\"\n",
    "matplotlib.rcParams['font.sans-serif'] = \"Ariel\"\n",
    "\n",
    "#all_avg_stds = Es_low\n",
    "all_avg_stds = stds_high\n",
    "all_avg_stds[all_avg_stds>0.4] = 0.4\n",
    "all_avg_stds[4,6] = 0.3\n",
    "for ii, avg_stds in enumerate(all_avg_stds):\n",
    "    im = plt.scatter(r_majors,np.ones_like(r_majors)*r_ratios[ii]*150,  c = avg_stds, cmap = 'RdBu_r', vmin = 0, vmax = 0.25,marker='o',s=70, \n",
    "                     edgecolor=(0.128,0.128,0.128,0.3))\n",
    "    grad_val = np.abs(np.gradient(avg_stds))\n",
    "    plt.imshow(all_avg_stds,cmap='RdBu_r',extent=[5,305,25,140],interpolation='spline16',origin='lower',vmin=-0.3,vmax=0.6)\n",
    "    plt.xlabel('Total ring diameter / nm', fontsize=14)\n",
    "    plt.ylabel('$r_{minor}$ / $r_{major}$', fontsize=15)\n",
    "    plt.tick_params(axis='both', which='major', labelsize=12)\n",
    "    plt.yticks([30,45,60,75,90,105,120,135], ['0.2','0.3','0.4','0.5','0.6','0.7','0.8','0.9'])\n",
    "    #plt.xlim([10,300])\n",
    "    plt.ylim([25,140])\n",
    "    \n",
    "ys = np.array([25,30.,   45.,   60.,   75.,   90.,  105.,  120.,  135.,140])\n",
    "\n",
    "#xs = np.array([55,55,65,55,65,65,75,85,85,85]) #e=0.0\n",
    "#xs = np.array([45,45,55,55,55,65,65,75,75,75]) #e=0.7\n",
    "xs = np.array([45,45,45,45,55,65,65,75,85,85]) #e=0.9\n",
    "\n",
    "\n",
    "plt.plot(xs,ys,'w-',linewidth=4,alpha=0.9)\n",
    "plt.plot(xs-2,ys,'r--',linewidth=2,alpha=0.7)\n",
    "plt.plot(xs+2,ys,'b--',linewidth=2,alpha=0.7)\n"
   ]
  },
  {
   "cell_type": "code",
   "execution_count": 719,
   "metadata": {},
   "outputs": [
    {
     "data": {
      "text/plain": [
       "[<matplotlib.lines.Line2D at 0x7f81b1c7aa58>]"
      ]
     },
     "execution_count": 719,
     "metadata": {},
     "output_type": "execute_result"
    }
   ],
   "source": [
    "xs = np.array([25,30.,   45.,   60.,   75.,   90.,  105.,  120.,  135.,140])\n",
    "ys = np.array([45,45,55,55,55,65,65,75,75,75]) #e=0.7\n",
    "\n",
    "poly = np.polyfit(xs,ys,5)\n",
    "poly_y = np.poly1d(poly)(xs)\n",
    "plt.plot(poly_y,xs)"
   ]
  },
  {
   "cell_type": "code",
   "execution_count": 807,
   "metadata": {},
   "outputs": [
    {
     "data": {
      "text/plain": [
       "[<matplotlib.lines.Line2D at 0x7f8188a8dd68>]"
      ]
     },
     "execution_count": 807,
     "metadata": {},
     "output_type": "execute_result"
    }
   ],
   "source": [
    "plt.plot(all_avg_stds[4,:])"
   ]
  },
  {
   "cell_type": "code",
   "execution_count": 832,
   "metadata": {},
   "outputs": [],
   "source": [
    "a=np.array([1,2,3])"
   ]
  },
  {
   "cell_type": "code",
   "execution_count": 834,
   "metadata": {},
   "outputs": [
    {
     "ename": "SyntaxError",
     "evalue": "invalid syntax (<ipython-input-834-40fd86eeddab>, line 1)",
     "output_type": "error",
     "traceback": [
      "\u001b[0;36m  File \u001b[0;32m\"<ipython-input-834-40fd86eeddab>\"\u001b[0;36m, line \u001b[0;32m1\u001b[0m\n\u001b[0;31m    a[>2]\u001b[0m\n\u001b[0m      ^\u001b[0m\n\u001b[0;31mSyntaxError\u001b[0m\u001b[0;31m:\u001b[0m invalid syntax\n"
     ]
    }
   ],
   "source": [
    "a[>2]"
   ]
  },
  {
   "cell_type": "markdown",
   "metadata": {},
   "source": [
    "## Real plot"
   ]
  },
  {
   "cell_type": "code",
   "execution_count": 9,
   "metadata": {},
   "outputs": [],
   "source": [
    "def real_E_extractor(identifier, ringno):\n",
    "    top_folder = r'/home/grl31/Downloads/merrill-test'\n",
    "    fname = r'\\all_energies_%s_ring%i.log' % (identifier,ringno)\n",
    "    fpath = top_folder + fname\n",
    "    fpath = fpath.replace('\\\\','/')\n",
    "    print(fpath)\n",
    "    \n",
    "    # open energy log into pandas dataframe\n",
    "    df = pandas.read_csv(fpath,skiprows=12,delim_whitespace=True)\n",
    "    \n",
    "    # Extract column 2, local evaluation number\n",
    "    n_eval_loc = df.iloc[:,1]\n",
    "\n",
    "    # Extract indices where value is 1\n",
    "    i_eval_starts = np.where(n_eval_loc==1)[0]\n",
    "\n",
    "    # Calculate indices where eval number is final for that geometry\n",
    "    if len(i_eval_starts) != 240:\n",
    "        df = pandas.read_csv(fpath,skiprows=14,delim_whitespace=True)\n",
    "        n_eval_loc = df.iloc[:,1]\n",
    "        i_eval_starts = np.where(n_eval_loc==1)[0]\n",
    "        i_eval_ends = i_eval_starts-1\n",
    "        \n",
    "    else:\n",
    "        i_eval_ends = np.delete(i_eval_starts,0) - 1\n",
    "        \n",
    "    i_eval_ends = np.append(i_eval_ends,-1)\n",
    "\n",
    "    # Extract Total energy values\n",
    "    E_tots = df.iloc[:,9].values\n",
    "    E_dmag = df.iloc[:,8].values\n",
    "\n",
    "    # Get final total energy values\n",
    "    E_tot_fins = E_tots[i_eval_ends]\n",
    "    E_dmag_fins = E_dmag[i_eval_ends]\n",
    "    \n",
    "    # final energies for r = 0.2 from d = 10 to d = 300\n",
    "    all_Es = []\n",
    "    all_dmags = []\n",
    "    for i in range(1):\n",
    "        Es_for_r = np.flipud(E_tot_fins[i*30:(i+1)*30])\n",
    "        all_Es.append(Es_for_r)\n",
    "        \n",
    "        Es_for_r = np.flipud(E_dmag_fins[i*30:(i+1)*30])\n",
    "        all_dmags.append(Es_for_r)\n",
    "        \n",
    "    return all_Es, all_dmags"
   ]
  },
  {
   "cell_type": "code",
   "execution_count": 1015,
   "metadata": {},
   "outputs": [
    {
     "name": "stdout",
     "output_type": "stream",
     "text": [
      "/home/grl31/Downloads/merrill-test/all_energies_x_ring1.log\n",
      "/home/grl31/Downloads/merrill-test/all_energies_x_ring2.log\n",
      "/home/grl31/Downloads/merrill-test/all_energies_x_ring3.log\n",
      "/home/grl31/Downloads/merrill-test/all_energies_y_ring1.log\n",
      "/home/grl31/Downloads/merrill-test/all_energies_y_ring2.log\n",
      "/home/grl31/Downloads/merrill-test/all_energies_y_ring3.log\n",
      "/home/grl31/Downloads/merrill-test/all_energies_z_ring1.log\n",
      "/home/grl31/Downloads/merrill-test/all_energies_z_ring2.log\n",
      "/home/grl31/Downloads/merrill-test/all_energies_z_ring3.log\n"
     ]
    }
   ],
   "source": [
    "r1x_t, r1x_d = real_E_extractor('x',1)\n",
    "r2x_t, r2x_d = real_E_extractor('x',2)\n",
    "r3x_t, r3x_d = real_E_extractor('x',3)\n",
    "\n",
    "r1y_t, r1y_d = real_E_extractor('y',1)\n",
    "r2y_t, r2y_d = real_E_extractor('y',2)\n",
    "r3y_t, r3y_d = real_E_extractor('y',3)\n",
    "\n",
    "r1z_t, r1z_d = real_E_extractor('z',1)\n",
    "r2z_t, r2z_d = real_E_extractor('z',2)\n",
    "r3z_t, r3z_d = real_E_extractor('z',3)\n",
    "r3y_d[0][-1] = 0.009\n",
    "r3z_d[0][-7] = 0.009\n",
    "r2z_d[0][0] = 0.3"
   ]
  },
  {
   "cell_type": "code",
   "execution_count": 1013,
   "metadata": {},
   "outputs": [],
   "source": [
    "r3z_d[0][1] = 0.3"
   ]
  },
  {
   "cell_type": "code",
   "execution_count": 1017,
   "metadata": {},
   "outputs": [
    {
     "data": {
      "text/plain": [
       "Text(0, 0.5, 'Demagnetisation energy E$_{\\\\rm demag}$ / $K_{\\\\rm d}V$')"
      ]
     },
     "execution_count": 1017,
     "metadata": {},
     "output_type": "execute_result"
    }
   ],
   "source": [
    "matplotlib.rcParams['font.family'] = \"sans-serif\"\n",
    "matplotlib.rcParams['font.sans-serif'] = \"Ariel\"\n",
    "\n",
    "x = np.linspace(10,300,30)\n",
    "plt.plot(x,r1x_d[0],'g4',alpha=0.5,markersize=10)\n",
    "plt.plot(x,r1y_d[0],'g2',alpha=0.5,markersize=10)\n",
    "plt.plot(x,r1z_d[0],'gd',alpha=0.5)\n",
    "\n",
    "plt.plot(x,r2x_d[0],'r4',alpha=0.5,markersize=10)\n",
    "plt.plot(x,r2y_d[0],'r2',alpha=0.5,markersize=10)\n",
    "plt.plot(x,r2z_d[0],'rd',alpha=0.5)\n",
    "\n",
    "plt.plot(x,r3x_d[0],'b4',alpha=0.5,markersize=10)\n",
    "plt.plot(x,r3y_d[0],'b2',alpha=0.5,markersize=10)\n",
    "plt.plot(x,r3z_d[0],'bd',alpha=0.5)\n",
    "\n",
    "r1_max = np.maximum(r1x_d,r1y_d)\n",
    "r1_max = np.maximum(r1_max,r1z_d)\n",
    "r1_min = np.minimum(r1x_d,r1y_d)\n",
    "r1_min = np.minimum(r1_min,r1z_d)\n",
    "\n",
    "r2_max = np.maximum(r2x_d,r2y_d)\n",
    "r2_max = np.maximum(r2_max,r2z_d)\n",
    "r2_min = np.minimum(r2x_d,r2y_d)\n",
    "r2_min = np.minimum(r2_min,r2z_d)\n",
    "\n",
    "r3_max = np.maximum(r3x_d,r3y_d)\n",
    "r3_max = np.maximum(r3_max,r3z_d)\n",
    "r3_min = np.minimum(r3x_d,r3y_d)\n",
    "r3_min = np.minimum(r3_min,r3z_d)\n",
    "\n",
    "plt.fill_between(x,r1_max[0],r1_min[0],color='green',alpha=0.2,linestyle='--')\n",
    "plt.fill_between(x,r2_max[0],r2_min[0],color='red',alpha=0.2)\n",
    "plt.fill_between(x,r3_max[0],r3_min[0],color='blue',alpha=0.2,linestyle=':')\n",
    "\n",
    "plt.plot(80,0.229, 'go--', markersize=13,markerfacecolor='white',markeredgewidth=3)\n",
    "plt.plot(61,0.259, 'rs', markersize=13,markerfacecolor='white',markeredgewidth=3)\n",
    "plt.plot(72,0.013, 'b^', markersize=13,markerfacecolor='white',markeredgewidth=3)\n",
    "\n",
    "plt.xlabel('Maximum total diameter / nm')\n",
    "plt.ylabel(r'Demagnetisation energy E$_{\\rm demag}$ / $K_{\\rm d}V$')"
   ]
  },
  {
   "cell_type": "code",
   "execution_count": 1009,
   "metadata": {},
   "outputs": [
    {
     "data": {
      "text/plain": [
       "<matplotlib.legend.Legend at 0x7f814ee31cf8>"
      ]
     },
     "execution_count": 1009,
     "metadata": {},
     "output_type": "execute_result"
    }
   ],
   "source": [
    "plt.plot(x,r1x_d[0],'k4',alpha=0.5,markersize=10, label='Uniform x')\n",
    "plt.plot(x,r1y_d[0],'k2',alpha=0.5,markersize=10, label='Uniform y')\n",
    "plt.plot(x,r1z_d[0],'kd',alpha=0.5, label='Uniform z')\n",
    "\n",
    "plt.plot(80,0.229, 'go--', markersize=13,markerfacecolor='white',markeredgewidth=3)\n",
    "plt.plot(61,0.259, 'rs', markersize=13,markerfacecolor='white',markeredgewidth=3)\n",
    "plt.plot(72,0.013, 'b^', markersize=13,markerfacecolor='white',markeredgewidth=3)\n",
    "\n",
    "plt.legend()"
   ]
  },
  {
   "cell_type": "markdown",
   "metadata": {},
   "source": [
    "## Energy barriers"
   ]
  },
  {
   "cell_type": "code",
   "execution_count": 1,
   "metadata": {},
   "outputs": [
    {
     "ename": "FileNotFoundError",
     "evalue": "[Errno 2] File /home/grl31/Downloads/merrill-test/barrier_12_path-structure-energies_final does not exist: '/home/grl31/Downloads/merrill-test/barrier_12_path-structure-energies_final'",
     "output_type": "error",
     "traceback": [
      "\u001b[1;31m---------------------------------------------------------------------------\u001b[0m",
      "\u001b[1;31mFileNotFoundError\u001b[0m                         Traceback (most recent call last)",
      "\u001b[1;32m<ipython-input-1-d0a2eeb40051>\u001b[0m in \u001b[0;36m<module>\u001b[1;34m\u001b[0m\n\u001b[0;32m      7\u001b[0m \u001b[0mfpath\u001b[0m \u001b[1;33m=\u001b[0m \u001b[0mtop_folder\u001b[0m \u001b[1;33m+\u001b[0m \u001b[0mfname\u001b[0m\u001b[1;33m\u001b[0m\u001b[1;33m\u001b[0m\u001b[0m\n\u001b[0;32m      8\u001b[0m \u001b[0mfpath\u001b[0m \u001b[1;33m=\u001b[0m \u001b[0mfpath\u001b[0m\u001b[1;33m.\u001b[0m\u001b[0mreplace\u001b[0m\u001b[1;33m(\u001b[0m\u001b[1;34m'\\\\'\u001b[0m\u001b[1;33m,\u001b[0m\u001b[1;34m'/'\u001b[0m\u001b[1;33m)\u001b[0m\u001b[1;33m\u001b[0m\u001b[1;33m\u001b[0m\u001b[0m\n\u001b[1;32m----> 9\u001b[1;33m \u001b[0mdf\u001b[0m \u001b[1;33m=\u001b[0m \u001b[0mpandas\u001b[0m\u001b[1;33m.\u001b[0m\u001b[0mread_csv\u001b[0m\u001b[1;33m(\u001b[0m\u001b[0mfpath\u001b[0m\u001b[1;33m,\u001b[0m\u001b[0mheader\u001b[0m\u001b[1;33m=\u001b[0m\u001b[1;32mNone\u001b[0m\u001b[1;33m,\u001b[0m\u001b[0mdelim_whitespace\u001b[0m\u001b[1;33m=\u001b[0m\u001b[1;32mTrue\u001b[0m\u001b[1;33m)\u001b[0m\u001b[1;33m\u001b[0m\u001b[1;33m\u001b[0m\u001b[0m\n\u001b[0m\u001b[0;32m     10\u001b[0m \u001b[0mezo\u001b[0m \u001b[1;33m=\u001b[0m \u001b[0mdf\u001b[0m\u001b[1;33m.\u001b[0m\u001b[0miloc\u001b[0m\u001b[1;33m[\u001b[0m\u001b[1;33m:\u001b[0m\u001b[1;33m]\u001b[0m\u001b[1;33m.\u001b[0m\u001b[0mvalues\u001b[0m\u001b[1;33m[\u001b[0m\u001b[1;33m:\u001b[0m\u001b[1;33m,\u001b[0m\u001b[1;36m1\u001b[0m\u001b[1;33m]\u001b[0m\u001b[1;33m\u001b[0m\u001b[1;33m\u001b[0m\u001b[0m\n\u001b[0;32m     11\u001b[0m \u001b[1;33m\u001b[0m\u001b[0m\n",
      "\u001b[1;32m~\\Anaconda3\\lib\\site-packages\\pandas\\io\\parsers.py\u001b[0m in \u001b[0;36mparser_f\u001b[1;34m(filepath_or_buffer, sep, delimiter, header, names, index_col, usecols, squeeze, prefix, mangle_dupe_cols, dtype, engine, converters, true_values, false_values, skipinitialspace, skiprows, skipfooter, nrows, na_values, keep_default_na, na_filter, verbose, skip_blank_lines, parse_dates, infer_datetime_format, keep_date_col, date_parser, dayfirst, cache_dates, iterator, chunksize, compression, thousands, decimal, lineterminator, quotechar, quoting, doublequote, escapechar, comment, encoding, dialect, error_bad_lines, warn_bad_lines, delim_whitespace, low_memory, memory_map, float_precision)\u001b[0m\n\u001b[0;32m    674\u001b[0m         )\n\u001b[0;32m    675\u001b[0m \u001b[1;33m\u001b[0m\u001b[0m\n\u001b[1;32m--> 676\u001b[1;33m         \u001b[1;32mreturn\u001b[0m \u001b[0m_read\u001b[0m\u001b[1;33m(\u001b[0m\u001b[0mfilepath_or_buffer\u001b[0m\u001b[1;33m,\u001b[0m \u001b[0mkwds\u001b[0m\u001b[1;33m)\u001b[0m\u001b[1;33m\u001b[0m\u001b[1;33m\u001b[0m\u001b[0m\n\u001b[0m\u001b[0;32m    677\u001b[0m \u001b[1;33m\u001b[0m\u001b[0m\n\u001b[0;32m    678\u001b[0m     \u001b[0mparser_f\u001b[0m\u001b[1;33m.\u001b[0m\u001b[0m__name__\u001b[0m \u001b[1;33m=\u001b[0m \u001b[0mname\u001b[0m\u001b[1;33m\u001b[0m\u001b[1;33m\u001b[0m\u001b[0m\n",
      "\u001b[1;32m~\\Anaconda3\\lib\\site-packages\\pandas\\io\\parsers.py\u001b[0m in \u001b[0;36m_read\u001b[1;34m(filepath_or_buffer, kwds)\u001b[0m\n\u001b[0;32m    446\u001b[0m \u001b[1;33m\u001b[0m\u001b[0m\n\u001b[0;32m    447\u001b[0m     \u001b[1;31m# Create the parser.\u001b[0m\u001b[1;33m\u001b[0m\u001b[1;33m\u001b[0m\u001b[1;33m\u001b[0m\u001b[0m\n\u001b[1;32m--> 448\u001b[1;33m     \u001b[0mparser\u001b[0m \u001b[1;33m=\u001b[0m \u001b[0mTextFileReader\u001b[0m\u001b[1;33m(\u001b[0m\u001b[0mfp_or_buf\u001b[0m\u001b[1;33m,\u001b[0m \u001b[1;33m**\u001b[0m\u001b[0mkwds\u001b[0m\u001b[1;33m)\u001b[0m\u001b[1;33m\u001b[0m\u001b[1;33m\u001b[0m\u001b[0m\n\u001b[0m\u001b[0;32m    449\u001b[0m \u001b[1;33m\u001b[0m\u001b[0m\n\u001b[0;32m    450\u001b[0m     \u001b[1;32mif\u001b[0m \u001b[0mchunksize\u001b[0m \u001b[1;32mor\u001b[0m \u001b[0miterator\u001b[0m\u001b[1;33m:\u001b[0m\u001b[1;33m\u001b[0m\u001b[1;33m\u001b[0m\u001b[0m\n",
      "\u001b[1;32m~\\Anaconda3\\lib\\site-packages\\pandas\\io\\parsers.py\u001b[0m in \u001b[0;36m__init__\u001b[1;34m(self, f, engine, **kwds)\u001b[0m\n\u001b[0;32m    878\u001b[0m             \u001b[0mself\u001b[0m\u001b[1;33m.\u001b[0m\u001b[0moptions\u001b[0m\u001b[1;33m[\u001b[0m\u001b[1;34m\"has_index_names\"\u001b[0m\u001b[1;33m]\u001b[0m \u001b[1;33m=\u001b[0m \u001b[0mkwds\u001b[0m\u001b[1;33m[\u001b[0m\u001b[1;34m\"has_index_names\"\u001b[0m\u001b[1;33m]\u001b[0m\u001b[1;33m\u001b[0m\u001b[1;33m\u001b[0m\u001b[0m\n\u001b[0;32m    879\u001b[0m \u001b[1;33m\u001b[0m\u001b[0m\n\u001b[1;32m--> 880\u001b[1;33m         \u001b[0mself\u001b[0m\u001b[1;33m.\u001b[0m\u001b[0m_make_engine\u001b[0m\u001b[1;33m(\u001b[0m\u001b[0mself\u001b[0m\u001b[1;33m.\u001b[0m\u001b[0mengine\u001b[0m\u001b[1;33m)\u001b[0m\u001b[1;33m\u001b[0m\u001b[1;33m\u001b[0m\u001b[0m\n\u001b[0m\u001b[0;32m    881\u001b[0m \u001b[1;33m\u001b[0m\u001b[0m\n\u001b[0;32m    882\u001b[0m     \u001b[1;32mdef\u001b[0m \u001b[0mclose\u001b[0m\u001b[1;33m(\u001b[0m\u001b[0mself\u001b[0m\u001b[1;33m)\u001b[0m\u001b[1;33m:\u001b[0m\u001b[1;33m\u001b[0m\u001b[1;33m\u001b[0m\u001b[0m\n",
      "\u001b[1;32m~\\Anaconda3\\lib\\site-packages\\pandas\\io\\parsers.py\u001b[0m in \u001b[0;36m_make_engine\u001b[1;34m(self, engine)\u001b[0m\n\u001b[0;32m   1112\u001b[0m     \u001b[1;32mdef\u001b[0m \u001b[0m_make_engine\u001b[0m\u001b[1;33m(\u001b[0m\u001b[0mself\u001b[0m\u001b[1;33m,\u001b[0m \u001b[0mengine\u001b[0m\u001b[1;33m=\u001b[0m\u001b[1;34m\"c\"\u001b[0m\u001b[1;33m)\u001b[0m\u001b[1;33m:\u001b[0m\u001b[1;33m\u001b[0m\u001b[1;33m\u001b[0m\u001b[0m\n\u001b[0;32m   1113\u001b[0m         \u001b[1;32mif\u001b[0m \u001b[0mengine\u001b[0m \u001b[1;33m==\u001b[0m \u001b[1;34m\"c\"\u001b[0m\u001b[1;33m:\u001b[0m\u001b[1;33m\u001b[0m\u001b[1;33m\u001b[0m\u001b[0m\n\u001b[1;32m-> 1114\u001b[1;33m             \u001b[0mself\u001b[0m\u001b[1;33m.\u001b[0m\u001b[0m_engine\u001b[0m \u001b[1;33m=\u001b[0m \u001b[0mCParserWrapper\u001b[0m\u001b[1;33m(\u001b[0m\u001b[0mself\u001b[0m\u001b[1;33m.\u001b[0m\u001b[0mf\u001b[0m\u001b[1;33m,\u001b[0m \u001b[1;33m**\u001b[0m\u001b[0mself\u001b[0m\u001b[1;33m.\u001b[0m\u001b[0moptions\u001b[0m\u001b[1;33m)\u001b[0m\u001b[1;33m\u001b[0m\u001b[1;33m\u001b[0m\u001b[0m\n\u001b[0m\u001b[0;32m   1115\u001b[0m         \u001b[1;32melse\u001b[0m\u001b[1;33m:\u001b[0m\u001b[1;33m\u001b[0m\u001b[1;33m\u001b[0m\u001b[0m\n\u001b[0;32m   1116\u001b[0m             \u001b[1;32mif\u001b[0m \u001b[0mengine\u001b[0m \u001b[1;33m==\u001b[0m \u001b[1;34m\"python\"\u001b[0m\u001b[1;33m:\u001b[0m\u001b[1;33m\u001b[0m\u001b[1;33m\u001b[0m\u001b[0m\n",
      "\u001b[1;32m~\\Anaconda3\\lib\\site-packages\\pandas\\io\\parsers.py\u001b[0m in \u001b[0;36m__init__\u001b[1;34m(self, src, **kwds)\u001b[0m\n\u001b[0;32m   1889\u001b[0m         \u001b[0mkwds\u001b[0m\u001b[1;33m[\u001b[0m\u001b[1;34m\"usecols\"\u001b[0m\u001b[1;33m]\u001b[0m \u001b[1;33m=\u001b[0m \u001b[0mself\u001b[0m\u001b[1;33m.\u001b[0m\u001b[0musecols\u001b[0m\u001b[1;33m\u001b[0m\u001b[1;33m\u001b[0m\u001b[0m\n\u001b[0;32m   1890\u001b[0m \u001b[1;33m\u001b[0m\u001b[0m\n\u001b[1;32m-> 1891\u001b[1;33m         \u001b[0mself\u001b[0m\u001b[1;33m.\u001b[0m\u001b[0m_reader\u001b[0m \u001b[1;33m=\u001b[0m \u001b[0mparsers\u001b[0m\u001b[1;33m.\u001b[0m\u001b[0mTextReader\u001b[0m\u001b[1;33m(\u001b[0m\u001b[0msrc\u001b[0m\u001b[1;33m,\u001b[0m \u001b[1;33m**\u001b[0m\u001b[0mkwds\u001b[0m\u001b[1;33m)\u001b[0m\u001b[1;33m\u001b[0m\u001b[1;33m\u001b[0m\u001b[0m\n\u001b[0m\u001b[0;32m   1892\u001b[0m         \u001b[0mself\u001b[0m\u001b[1;33m.\u001b[0m\u001b[0munnamed_cols\u001b[0m \u001b[1;33m=\u001b[0m \u001b[0mself\u001b[0m\u001b[1;33m.\u001b[0m\u001b[0m_reader\u001b[0m\u001b[1;33m.\u001b[0m\u001b[0munnamed_cols\u001b[0m\u001b[1;33m\u001b[0m\u001b[1;33m\u001b[0m\u001b[0m\n\u001b[0;32m   1893\u001b[0m \u001b[1;33m\u001b[0m\u001b[0m\n",
      "\u001b[1;32mpandas\\_libs\\parsers.pyx\u001b[0m in \u001b[0;36mpandas._libs.parsers.TextReader.__cinit__\u001b[1;34m()\u001b[0m\n",
      "\u001b[1;32mpandas\\_libs\\parsers.pyx\u001b[0m in \u001b[0;36mpandas._libs.parsers.TextReader._setup_parser_source\u001b[1;34m()\u001b[0m\n",
      "\u001b[1;31mFileNotFoundError\u001b[0m: [Errno 2] File /home/grl31/Downloads/merrill-test/barrier_12_path-structure-energies_final does not exist: '/home/grl31/Downloads/merrill-test/barrier_12_path-structure-energies_final'"
     ]
    }
   ],
   "source": [
    "import pandas\n",
    "import numpy as np\n",
    "from matplotlib import pyplot as plt\n",
    "\n",
    "top_folder = r'/home/grl31/Downloads/merrill-test/'\n",
    "fname = r'barrier_12_path-structure-energies_final'\n",
    "fpath = top_folder + fname\n",
    "fpath = fpath.replace('\\\\','/')\n",
    "df = pandas.read_csv(fpath,header=None,delim_whitespace=True)\n",
    "ezo = df.iloc[:].values[:,1]\n",
    "\n",
    "top_folder = r'/home/grl31/Downloads/merrill-test/'\n",
    "fname = r'barrier_11_path-structure-energies_final'\n",
    "fpath = top_folder + fname\n",
    "fpath = fpath.replace('\\\\','/')\n",
    "df = pandas.read_csv(fpath,header=None,delim_whitespace=True)\n",
    "ezv = df.iloc[:].values[:,1]\n",
    "\n",
    "top_folder = r'/home/grl31/Downloads/merrill-test/'\n",
    "fname = r'barrier_10_path-structure-energies_final'\n",
    "fpath = top_folder + fname\n",
    "fpath = fpath.replace('\\\\','/')\n",
    "df = pandas.read_csv(fpath,header=None,delim_whitespace=True)\n",
    "eov = df.iloc[:].values[:,1]"
   ]
  },
  {
   "cell_type": "code",
   "execution_count": 8,
   "metadata": {},
   "outputs": [
    {
     "data": {
      "text/plain": [
       "([<matplotlib.axis.XTick at 0x7f4f5013bfd0>,\n",
       "  <matplotlib.axis.XTick at 0x7f4f5013b710>,\n",
       "  <matplotlib.axis.XTick at 0x7f4f5013b450>,\n",
       "  <matplotlib.axis.XTick at 0x7f4f5014a390>,\n",
       "  <matplotlib.axis.XTick at 0x7f4f501527d0>],\n",
       " <a list of 5 Text xticklabel objects>)"
      ]
     },
     "execution_count": 8,
     "metadata": {},
     "output_type": "execute_result"
    }
   ],
   "source": [
    "%matplotlib qt\n",
    "import matplotlib\n",
    "\n",
    "\n",
    "matplotlib.rcParams['font.family'] = \"sans-serif\"\n",
    "matplotlib.rcParams['font.sans-serif'] = \"Ariel\"\n",
    "plt.plot(ezv, 'ko-', label = 'Uniform z to vortex',markersize=4,markerfacecolor='white')\n",
    "plt.plot(ezo, 'kx-',label = ' Uniform z to onion',markersize=4)\n",
    "plt.plot(eov, 'ko-',label = '      Onion to vortex',markersize=4)\n",
    "\n",
    "plt.legend()\n",
    "plt.xlabel('Path step')\n",
    "plt.ylabel('Energy / $J$')\n",
    "\n",
    "plt.ticklabel_format(axis='y', style='sci',useMathText=True)\n",
    "plt.xticks([0,4,9,14,19],[1,5,10,15,20])"
   ]
  },
  {
   "cell_type": "code",
   "execution_count": null,
   "metadata": {},
   "outputs": [],
   "source": [
    "def E_extractor(identifier):\n",
    "    top_folder = r'/home/grl31/Downloads/merrill-test'\n",
    "    fname = r'\\all_energies_barrier_%s.log' % (identifier)\n",
    "    fpath = top_folder + fname\n",
    "    fpath = fpath.replace('\\\\','/')\n",
    "    print(fpath)\n",
    "    \n",
    "    # open energy log into pandas dataframe\n",
    "    df = pandas.read_csv(fpath,skiprows=22,delim_whitespace=True,skipfooter=25700*2)\n",
    "    \n",
    "    # Extract column 2, local evaluation number\n",
    "    n_eval_loc = df.iloc[:,1]\n",
    "\n",
    "    # Extract indices where value is 1\n",
    "    i_eval_starts = np.where(n_eval_loc==1)[0]\n",
    "\n",
    "    # Calculate indices where eval number is final for that geometry\n",
    "    if len(i_eval_starts) != 240:\n",
    "        df = pandas.read_csv(fpath,skiprows=14,delim_whitespace=True)\n",
    "        n_eval_loc = df.iloc[:,1]\n",
    "        i_eval_starts = np.where(n_eval_loc==1)[0]\n",
    "        i_eval_ends = i_eval_starts-1\n",
    "        \n",
    "    else:\n",
    "        i_eval_ends = np.delete(i_eval_starts,0) - 1\n",
    "        \n",
    "    i_eval_ends = np.append(i_eval_ends,-1)\n",
    "\n",
    "    # Extract Total energy values\n",
    "    E_tots = df.iloc[:,7].values\n",
    "    E_dmag = df.iloc[:,5].values\n",
    "    Mx = df.iloc[:,8].values\n",
    "    My = df.iloc[:,9].values\n",
    "    Mz = df.iloc[:,10].values\n",
    "\n",
    "    # Get final total energy values\n",
    "    E_tot_fins = E_tots[i_eval_ends]\n",
    "    E_dmag_fins = E_dmag[i_eval_ends]\n",
    "    Mx_fins = np.array(Mx[i_eval_ends])\n",
    "    My_fins = np.array(My[i_eval_ends])\n",
    "    Mz_fins = np.array(Mz[i_eval_ends])\n",
    "    \n",
    "    M = (Mx_fins**2 + My_fins**2 + Mz_fins**2)**0.5\n",
    "\n",
    "    \n",
    "    # shape it into rows/columns\n",
    "    all_Es = []\n",
    "    all_dmags = []\n",
    "#     for i in range(8):\n",
    "#         Es_for_r = np.flipud(E_tot_fins[i*30:(i+1)*30])\n",
    "#         all_Es.append(Es_for_r)\n",
    "        \n",
    "#         Es_for_r = np.flipud(E_dmag_fins[i*30:(i+1)*30])\n",
    "#         all_dmags.append(Es_for_r)\n",
    "        \n",
    "    return E_tot_fins, E_dmag_fins, M"
   ]
  },
  {
   "cell_type": "code",
   "execution_count": 7,
   "metadata": {
    "collapsed": true,
    "jupyter": {
     "outputs_hidden": true
    }
   },
   "outputs": [
    {
     "name": "stdout",
     "output_type": "stream",
     "text": [
      "/home/grl31/Downloads/merrill-test/all_energies_barrier_st_resizefirst.log\n"
     ]
    },
    {
     "name": "stderr",
     "output_type": "stream",
     "text": [
      "/home/grl31/anaconda3/lib/python3.7/site-packages/ipykernel_launcher.py:9: ParserWarning: Falling back to the 'python' engine because the 'c' engine does not support skipfooter; you can avoid this warning by specifying engine='python'.\n",
      "  if __name__ == '__main__':\n"
     ]
    },
    {
     "ename": "ParserError",
     "evalue": "Expected 11 fields in line 396251, saw 13. Error could possibly be due to quotes being ignored when a multi-char delimiter is used.",
     "output_type": "error",
     "traceback": [
      "\u001b[0;31m---------------------------------------------------------------------------\u001b[0m",
      "\u001b[0;31mParserError\u001b[0m                               Traceback (most recent call last)",
      "\u001b[0;32m<ipython-input-7-c427ac7f79ba>\u001b[0m in \u001b[0;36m<module>\u001b[0;34m\u001b[0m\n\u001b[0;32m----> 1\u001b[0;31m \u001b[0mst\u001b[0m \u001b[0;34m=\u001b[0m \u001b[0mE_extractor\u001b[0m\u001b[0;34m(\u001b[0m\u001b[0;34m'st_resizefirst'\u001b[0m\u001b[0;34m)\u001b[0m\u001b[0;34m\u001b[0m\u001b[0;34m\u001b[0m\u001b[0m\n\u001b[0m",
      "\u001b[0;32m<ipython-input-6-47ebc3ec7271>\u001b[0m in \u001b[0;36mE_extractor\u001b[0;34m(identifier)\u001b[0m\n\u001b[1;32m      7\u001b[0m \u001b[0;34m\u001b[0m\u001b[0m\n\u001b[1;32m      8\u001b[0m     \u001b[0;31m# open energy log into pandas dataframe\u001b[0m\u001b[0;34m\u001b[0m\u001b[0;34m\u001b[0m\u001b[0;34m\u001b[0m\u001b[0m\n\u001b[0;32m----> 9\u001b[0;31m     \u001b[0mdf\u001b[0m \u001b[0;34m=\u001b[0m \u001b[0mpandas\u001b[0m\u001b[0;34m.\u001b[0m\u001b[0mread_csv\u001b[0m\u001b[0;34m(\u001b[0m\u001b[0mfpath\u001b[0m\u001b[0;34m,\u001b[0m\u001b[0mskiprows\u001b[0m\u001b[0;34m=\u001b[0m\u001b[0;36m22\u001b[0m\u001b[0;34m,\u001b[0m\u001b[0mdelim_whitespace\u001b[0m\u001b[0;34m=\u001b[0m\u001b[0;32mTrue\u001b[0m\u001b[0;34m,\u001b[0m\u001b[0mskipfooter\u001b[0m\u001b[0;34m=\u001b[0m\u001b[0;36m25700\u001b[0m\u001b[0;34m*\u001b[0m\u001b[0;36m2\u001b[0m\u001b[0;34m)\u001b[0m\u001b[0;34m\u001b[0m\u001b[0;34m\u001b[0m\u001b[0m\n\u001b[0m\u001b[1;32m     10\u001b[0m \u001b[0;34m\u001b[0m\u001b[0m\n\u001b[1;32m     11\u001b[0m     \u001b[0;31m# Extract column 2, local evaluation number\u001b[0m\u001b[0;34m\u001b[0m\u001b[0;34m\u001b[0m\u001b[0;34m\u001b[0m\u001b[0m\n",
      "\u001b[0;32m~/anaconda3/lib/python3.7/site-packages/pandas/io/parsers.py\u001b[0m in \u001b[0;36mparser_f\u001b[0;34m(filepath_or_buffer, sep, delimiter, header, names, index_col, usecols, squeeze, prefix, mangle_dupe_cols, dtype, engine, converters, true_values, false_values, skipinitialspace, skiprows, skipfooter, nrows, na_values, keep_default_na, na_filter, verbose, skip_blank_lines, parse_dates, infer_datetime_format, keep_date_col, date_parser, dayfirst, cache_dates, iterator, chunksize, compression, thousands, decimal, lineterminator, quotechar, quoting, doublequote, escapechar, comment, encoding, dialect, error_bad_lines, warn_bad_lines, delim_whitespace, low_memory, memory_map, float_precision)\u001b[0m\n\u001b[1;32m    683\u001b[0m         )\n\u001b[1;32m    684\u001b[0m \u001b[0;34m\u001b[0m\u001b[0m\n\u001b[0;32m--> 685\u001b[0;31m         \u001b[0;32mreturn\u001b[0m \u001b[0m_read\u001b[0m\u001b[0;34m(\u001b[0m\u001b[0mfilepath_or_buffer\u001b[0m\u001b[0;34m,\u001b[0m \u001b[0mkwds\u001b[0m\u001b[0;34m)\u001b[0m\u001b[0;34m\u001b[0m\u001b[0;34m\u001b[0m\u001b[0m\n\u001b[0m\u001b[1;32m    686\u001b[0m \u001b[0;34m\u001b[0m\u001b[0m\n\u001b[1;32m    687\u001b[0m     \u001b[0mparser_f\u001b[0m\u001b[0;34m.\u001b[0m\u001b[0m__name__\u001b[0m \u001b[0;34m=\u001b[0m \u001b[0mname\u001b[0m\u001b[0;34m\u001b[0m\u001b[0;34m\u001b[0m\u001b[0m\n",
      "\u001b[0;32m~/anaconda3/lib/python3.7/site-packages/pandas/io/parsers.py\u001b[0m in \u001b[0;36m_read\u001b[0;34m(filepath_or_buffer, kwds)\u001b[0m\n\u001b[1;32m    461\u001b[0m \u001b[0;34m\u001b[0m\u001b[0m\n\u001b[1;32m    462\u001b[0m     \u001b[0;32mtry\u001b[0m\u001b[0;34m:\u001b[0m\u001b[0;34m\u001b[0m\u001b[0;34m\u001b[0m\u001b[0m\n\u001b[0;32m--> 463\u001b[0;31m         \u001b[0mdata\u001b[0m \u001b[0;34m=\u001b[0m \u001b[0mparser\u001b[0m\u001b[0;34m.\u001b[0m\u001b[0mread\u001b[0m\u001b[0;34m(\u001b[0m\u001b[0mnrows\u001b[0m\u001b[0;34m)\u001b[0m\u001b[0;34m\u001b[0m\u001b[0;34m\u001b[0m\u001b[0m\n\u001b[0m\u001b[1;32m    464\u001b[0m     \u001b[0;32mfinally\u001b[0m\u001b[0;34m:\u001b[0m\u001b[0;34m\u001b[0m\u001b[0;34m\u001b[0m\u001b[0m\n\u001b[1;32m    465\u001b[0m         \u001b[0mparser\u001b[0m\u001b[0;34m.\u001b[0m\u001b[0mclose\u001b[0m\u001b[0;34m(\u001b[0m\u001b[0;34m)\u001b[0m\u001b[0;34m\u001b[0m\u001b[0;34m\u001b[0m\u001b[0m\n",
      "\u001b[0;32m~/anaconda3/lib/python3.7/site-packages/pandas/io/parsers.py\u001b[0m in \u001b[0;36mread\u001b[0;34m(self, nrows)\u001b[0m\n\u001b[1;32m   1152\u001b[0m     \u001b[0;32mdef\u001b[0m \u001b[0mread\u001b[0m\u001b[0;34m(\u001b[0m\u001b[0mself\u001b[0m\u001b[0;34m,\u001b[0m \u001b[0mnrows\u001b[0m\u001b[0;34m=\u001b[0m\u001b[0;32mNone\u001b[0m\u001b[0;34m)\u001b[0m\u001b[0;34m:\u001b[0m\u001b[0;34m\u001b[0m\u001b[0;34m\u001b[0m\u001b[0m\n\u001b[1;32m   1153\u001b[0m         \u001b[0mnrows\u001b[0m \u001b[0;34m=\u001b[0m \u001b[0m_validate_integer\u001b[0m\u001b[0;34m(\u001b[0m\u001b[0;34m\"nrows\"\u001b[0m\u001b[0;34m,\u001b[0m \u001b[0mnrows\u001b[0m\u001b[0;34m)\u001b[0m\u001b[0;34m\u001b[0m\u001b[0;34m\u001b[0m\u001b[0m\n\u001b[0;32m-> 1154\u001b[0;31m         \u001b[0mret\u001b[0m \u001b[0;34m=\u001b[0m \u001b[0mself\u001b[0m\u001b[0;34m.\u001b[0m\u001b[0m_engine\u001b[0m\u001b[0;34m.\u001b[0m\u001b[0mread\u001b[0m\u001b[0;34m(\u001b[0m\u001b[0mnrows\u001b[0m\u001b[0;34m)\u001b[0m\u001b[0;34m\u001b[0m\u001b[0;34m\u001b[0m\u001b[0m\n\u001b[0m\u001b[1;32m   1155\u001b[0m \u001b[0;34m\u001b[0m\u001b[0m\n\u001b[1;32m   1156\u001b[0m         \u001b[0;31m# May alter columns / col_dict\u001b[0m\u001b[0;34m\u001b[0m\u001b[0;34m\u001b[0m\u001b[0;34m\u001b[0m\u001b[0m\n",
      "\u001b[0;32m~/anaconda3/lib/python3.7/site-packages/pandas/io/parsers.py\u001b[0m in \u001b[0;36mread\u001b[0;34m(self, rows)\u001b[0m\n\u001b[1;32m   2491\u001b[0m             \u001b[0mcontent\u001b[0m \u001b[0;34m=\u001b[0m \u001b[0mcontent\u001b[0m\u001b[0;34m[\u001b[0m\u001b[0;36m1\u001b[0m\u001b[0;34m:\u001b[0m\u001b[0;34m]\u001b[0m\u001b[0;34m\u001b[0m\u001b[0;34m\u001b[0m\u001b[0m\n\u001b[1;32m   2492\u001b[0m \u001b[0;34m\u001b[0m\u001b[0m\n\u001b[0;32m-> 2493\u001b[0;31m         \u001b[0malldata\u001b[0m \u001b[0;34m=\u001b[0m \u001b[0mself\u001b[0m\u001b[0;34m.\u001b[0m\u001b[0m_rows_to_cols\u001b[0m\u001b[0;34m(\u001b[0m\u001b[0mcontent\u001b[0m\u001b[0;34m)\u001b[0m\u001b[0;34m\u001b[0m\u001b[0;34m\u001b[0m\u001b[0m\n\u001b[0m\u001b[1;32m   2494\u001b[0m         \u001b[0mdata\u001b[0m \u001b[0;34m=\u001b[0m \u001b[0mself\u001b[0m\u001b[0;34m.\u001b[0m\u001b[0m_exclude_implicit_index\u001b[0m\u001b[0;34m(\u001b[0m\u001b[0malldata\u001b[0m\u001b[0;34m)\u001b[0m\u001b[0;34m\u001b[0m\u001b[0;34m\u001b[0m\u001b[0m\n\u001b[1;32m   2495\u001b[0m \u001b[0;34m\u001b[0m\u001b[0m\n",
      "\u001b[0;32m~/anaconda3/lib/python3.7/site-packages/pandas/io/parsers.py\u001b[0m in \u001b[0;36m_rows_to_cols\u001b[0;34m(self, content)\u001b[0m\n\u001b[1;32m   3155\u001b[0m                     \u001b[0mmsg\u001b[0m \u001b[0;34m+=\u001b[0m \u001b[0;34m\". \"\u001b[0m \u001b[0;34m+\u001b[0m \u001b[0mreason\u001b[0m\u001b[0;34m\u001b[0m\u001b[0;34m\u001b[0m\u001b[0m\n\u001b[1;32m   3156\u001b[0m \u001b[0;34m\u001b[0m\u001b[0m\n\u001b[0;32m-> 3157\u001b[0;31m                 \u001b[0mself\u001b[0m\u001b[0;34m.\u001b[0m\u001b[0m_alert_malformed\u001b[0m\u001b[0;34m(\u001b[0m\u001b[0mmsg\u001b[0m\u001b[0;34m,\u001b[0m \u001b[0mrow_num\u001b[0m \u001b[0;34m+\u001b[0m \u001b[0;36m1\u001b[0m\u001b[0;34m)\u001b[0m\u001b[0;34m\u001b[0m\u001b[0;34m\u001b[0m\u001b[0m\n\u001b[0m\u001b[1;32m   3158\u001b[0m \u001b[0;34m\u001b[0m\u001b[0m\n\u001b[1;32m   3159\u001b[0m         \u001b[0;31m# see gh-13320\u001b[0m\u001b[0;34m\u001b[0m\u001b[0;34m\u001b[0m\u001b[0;34m\u001b[0m\u001b[0m\n",
      "\u001b[0;32m~/anaconda3/lib/python3.7/site-packages/pandas/io/parsers.py\u001b[0m in \u001b[0;36m_alert_malformed\u001b[0;34m(self, msg, row_num)\u001b[0m\n\u001b[1;32m   2912\u001b[0m \u001b[0;34m\u001b[0m\u001b[0m\n\u001b[1;32m   2913\u001b[0m         \u001b[0;32mif\u001b[0m \u001b[0mself\u001b[0m\u001b[0;34m.\u001b[0m\u001b[0merror_bad_lines\u001b[0m\u001b[0;34m:\u001b[0m\u001b[0;34m\u001b[0m\u001b[0;34m\u001b[0m\u001b[0m\n\u001b[0;32m-> 2914\u001b[0;31m             \u001b[0;32mraise\u001b[0m \u001b[0mParserError\u001b[0m\u001b[0;34m(\u001b[0m\u001b[0mmsg\u001b[0m\u001b[0;34m)\u001b[0m\u001b[0;34m\u001b[0m\u001b[0;34m\u001b[0m\u001b[0m\n\u001b[0m\u001b[1;32m   2915\u001b[0m         \u001b[0;32melif\u001b[0m \u001b[0mself\u001b[0m\u001b[0;34m.\u001b[0m\u001b[0mwarn_bad_lines\u001b[0m\u001b[0;34m:\u001b[0m\u001b[0;34m\u001b[0m\u001b[0;34m\u001b[0m\u001b[0m\n\u001b[1;32m   2916\u001b[0m             \u001b[0mbase\u001b[0m \u001b[0;34m=\u001b[0m \u001b[0;34m\"Skipping line {row_num}: \"\u001b[0m\u001b[0;34m.\u001b[0m\u001b[0mformat\u001b[0m\u001b[0;34m(\u001b[0m\u001b[0mrow_num\u001b[0m\u001b[0;34m=\u001b[0m\u001b[0mrow_num\u001b[0m\u001b[0;34m)\u001b[0m\u001b[0;34m\u001b[0m\u001b[0;34m\u001b[0m\u001b[0m\n",
      "\u001b[0;31mParserError\u001b[0m: Expected 11 fields in line 396251, saw 13. Error could possibly be due to quotes being ignored when a multi-char delimiter is used."
     ]
    }
   ],
   "source": [
    "st = E_extractor('st_resizefirst')"
   ]
  },
  {
   "cell_type": "code",
   "execution_count": 273,
   "metadata": {},
   "outputs": [
    {
     "data": {
      "text/plain": [
       "[<matplotlib.lines.Line2D at 0x7fc0209482e8>]"
      ]
     },
     "execution_count": 273,
     "metadata": {},
     "output_type": "execute_result"
    }
   ],
   "source": [
    "plt.plot(st[0])"
   ]
  },
  {
   "cell_type": "code",
   "execution_count": 238,
   "metadata": {},
   "outputs": [
    {
     "data": {
      "text/plain": [
       "25699"
      ]
     },
     "execution_count": 238,
     "metadata": {},
     "output_type": "execute_result"
    }
   ],
   "source": [
    "315780 - 290081"
   ]
  },
  {
   "cell_type": "markdown",
   "metadata": {},
   "source": [
    "## Energy barrier splitter tec"
   ]
  },
  {
   "cell_type": "code",
   "execution_count": 2,
   "metadata": {},
   "outputs": [],
   "source": [
    "#!/usr/bin/env python3\n",
    "\n",
    "'''Split a MERRILL-generated TECPLOT path into files for each state.\n",
    "\n",
    "Block file format:\n",
    "0. first header (defines N, E)\n",
    "1. 3 sets of N float components (10/line) of VCL\n",
    "2. 3 sets of N float components (10/line) of PMag (first zone)\n",
    "3. 1 set  of E  int  components (10/line) of TetSubDomains\n",
    "4. E sets of 4  int  components ( 4/line) of TIL\n",
    "5. for each zone:\n",
    "   0. subheader (redefines N, E using the same values as before)\n",
    "   1. 3 sets of N float components (10/line) of PMag (nth zone)\n",
    "'''\n",
    "\n",
    "import sys\n",
    "from argparse import ArgumentParser, FileType\n",
    "\n",
    "\n",
    "def read_points(in_file, num_points):\n",
    "    '''Read num_points space-delimited fields from in_file, returning lines.'''\n",
    "    components, points_read = [], 0\n",
    "    while points_read < num_points:\n",
    "        line = in_file.readline()\n",
    "        components.append(line)\n",
    "        points_read += len(line.split())\n",
    "    return components\n",
    "\n",
    "\n",
    "def write_zone(fname, *parts):\n",
    "    '''Write lines from each argument to fname.'''\n",
    "    with open(fname, 'w') as out_file:\n",
    "        for part in parts:\n",
    "            out_file.writelines(part)\n",
    "\n",
    "\n",
    "def read_path_header(in_file):\n",
    "    '''Read the overall file header.'''\n",
    "    header = [in_file.readline() for _ in range(4)]\n",
    "    header[0] = header[0].replace('Magnetization path ', '', 1)\n",
    "    n_points = int(header[2][25:38])\n",
    "    n_tris = int(header[2][41:53])\n",
    "    return header, n_points, n_tris\n",
    "\n",
    "\n",
    "def read_first_zone(in_file, n_points, n_tris):\n",
    "    '''Read all data from the first zone.'''\n",
    "    # ???\n",
    "    vcl = read_points(in_file, 3 * n_points)\n",
    "    # Magnetization vectors.\n",
    "    pmag = read_points(in_file, 3 * n_points)\n",
    "    # Subdomain information.\n",
    "    tet_subdomains = read_points(in_file, n_tris)\n",
    "    # Mesh connectivity.\n",
    "    til = read_points(in_file, 4 * n_tris)\n",
    "    return vcl, pmag, tet_subdomains, til\n",
    "\n",
    "\n",
    "def read_magnetization_only_zones(in_file, n_points):\n",
    "    '''Read the next zone, assuming it contains magnetization data only.'''\n",
    "    # Skip 2 header lines.\n",
    "    while in_file.readline() and in_file.readline():\n",
    "        yield read_points(in_file, 3 * n_points)\n",
    "\n",
    "\n",
    "def read_all_zones(in_file, n_points, n_tris):\n",
    "    '''Read all zones from the file, filling in data from the first zone.'''\n",
    "    vcl, _, tet_subdomains, til = first_zone = \\\n",
    "        read_first_zone(in_file, n_points, n_tris)\n",
    "    yield first_zone\n",
    "    for pmag in read_magnetization_only_zones(in_file, n_points):\n",
    "        yield (vcl, pmag, tet_subdomains, til)\n",
    "\n",
    "\n",
    "def parse_args():\n",
    "    '''Parse command-line arguments.'''\n",
    "    parser = ArgumentParser(description=__doc__.splitlines()[0])\n",
    "    parser.add_argument('-b', '--batch', action='store_true',\n",
    "                        help=\"don't show a GUI window\")\n",
    "    parser.add_argument('-f', '--format', default='%04d.tec',\n",
    "                        help=('output file name printf-style format; only '\n",
    "                              'argument: sequential 0-based zone number '\n",
    "                              '(default %(default)s)'))\n",
    "    parser.add_argument('in_file', metavar='PATH.tec', type=FileType(),\n",
    "                        nargs='?', default=sys.stdin,\n",
    "                        help=('TECPLOT path file from MERRILL WriteTecplotPath '\n",
    "                              '(\"-\" for stdin; default stdin)'))\n",
    "    return parser.parse_args()\n",
    "\n",
    "\n",
    "def do_conversion(in_file, out_format):\n",
    "    '''Read the given input file and produce output files.'''\n",
    "    header, n_points, n_tris = read_path_header(in_file)\n",
    "    for i, data in enumerate(read_all_zones(in_file, n_points, n_tris)):\n",
    "        write_zone(out_format % i, header, *data)\n",
    "\n",
    "\n",
    "def main(args):\n",
    "    '''Application entry point.'''\n",
    "    if args.batch:\n",
    "        do_conversion(args.in_file, args.format)\n",
    "        return\n",
    "\n",
    "    import os\n",
    "    from os.path import dirname, basename\n",
    "    import tkinter as tk\n",
    "    from tkinter import ttk, filedialog\n",
    "    from textwrap import dedent\n",
    "\n",
    "    class App(ttk.Frame):\n",
    "        def __init__(self, master=None):\n",
    "            super().__init__(master)\n",
    "            self.master = master\n",
    "            self.pack(expand=True, fill=tk.BOTH)\n",
    "            self.columnconfigure(0, weight=1)\n",
    "            self.rowconfigure(50, weight=1)\n",
    "\n",
    "            self.in_file_name = tk.StringVar(self, args.in_file.name, 'file name')\n",
    "            self.curdir = tk.StringVar(self, os.getcwd(), 'current directory')\n",
    "            self.out_format = tk.StringVar(self, args.format, 'output format string')\n",
    "            self.out_format_example = tk.StringVar(self, '', 'output format string example')\n",
    "            self.out_format_updated()\n",
    "\n",
    "            choose_file = ttk.LabelFrame(self, text='Step 1')\n",
    "            choose_file.grid(row=0, column=0, sticky=tk.NSEW, padx=5, pady=5)\n",
    "            choose_file.columnconfigure(1, weight=1)\n",
    "            ttk.Buttonutton(choose_file, text='Choose path.tec file', command=self.choose_input_file) \\\n",
    "               .grid(row=0, column=0, columnspan=2, padx=3, pady=3, sticky=tk.EW)\n",
    "            ttk.Label(choose_file, text='Directory:') \\\n",
    "               .grid(row=1, column=0, padx=3, pady=3, sticky=tk.EW)\n",
    "            ttk.Label(choose_file, textvariable=self.curdir) \\\n",
    "               .grid(row=1, column=1, padx=3, pady=3, sticky=tk.EW)\n",
    "            ttk.Label(choose_file, text='Chosen file:') \\\n",
    "               .grid(row=2, column=0, padx=3, pady=3, sticky=tk.EW)\n",
    "            ttk.Label(choose_file, textvariable=self.in_file_name) \\\n",
    "               .grid(row=2, column=1, padx=3, pady=3, sticky=tk.EW)\n",
    "\n",
    "            output_format = ttk.LabelFrame(self, text='Step 2')\n",
    "            output_format.grid(row=10, column=0, sticky=tk.NSEW, padx=5, pady=5)\n",
    "            output_format.columnconfigure(1, weight=1)\n",
    "            output_format.rowconfigure(0, weight=1)\n",
    "\n",
    "            lbl = ttk.Label(output_format, text=dedent('''\\\n",
    "            This is the template for output file names. Use a single printf-style format specifier for the path step number, e.g. %04d to get a 4-digit integer padded with leading zeros.\n",
    "\n",
    "            Use slashes (\"/\") to use subdirectories; they will NOT be created. If you use slashes, make sure subdirectories exist before clicking \"Convert\".\n",
    "            '''), wraplength=300)\n",
    "            lbl.grid(row=0, column=0, columnspan=2, padx=3, pady=3, sticky=tk.NSEW)\n",
    "            lbl.bind('<Configure>', lambda e: e.widget.configure(wraplength=e.width))\n",
    "\n",
    "            fmt = ttk.Entry(output_format, textvariable=self.out_format)\n",
    "            fmt.grid(row=5, column=0, columnspan=2, padx=3, pady=3, sticky=tk.EW)\n",
    "            fmt.bind('<KeyRelease>', self.out_format_updated)\n",
    "\n",
    "            ttk.Label(output_format, text='Example:') \\\n",
    "               .grid(row=10, column=0, padx=3, pady=3, sticky=tk.EW)\n",
    "            ttk.Label(output_format, textvariable=self.out_format_example) \\\n",
    "               .grid(row=10, column=1, padx=3, pady=3, sticky=tk.EW)\n",
    "\n",
    "            self.convert = ttk.Button(\n",
    "                self, text='Convert', command=self.do_conversion, state=tk.DISABLED)\n",
    "            self.convert.grid(row=90, column=0, padx=5, pady=5, sticky=tk.EW)\n",
    "\n",
    "        def out_format_updated(self, _=None):\n",
    "            '''Update the output format example.'''\n",
    "            # This is a small number so leading zeros appear if specified.\n",
    "            magic_example_value = 7\n",
    "            try:\n",
    "                self.out_format_example.set(self.out_format.get() % magic_example_value)\n",
    "            except ValueError:\n",
    "                self.out_format_example.set('ERROR: invalid template string')\n",
    "            except TypeError:\n",
    "                self.out_format_example.set('ERROR: wrong number of %-specifiers (need exactly 1)')\n",
    "\n",
    "        def choose_input_file(self):\n",
    "            '''Show a file chooser to the user to ask for the input TECPLOT file.'''\n",
    "            dlg = filedialog.LoadFileDialog(self, 'Choose output of WriteTecplotPath')\n",
    "            file_name = dlg.go(os.curdir, '*.tec', basename(self.in_file_name.get()))\n",
    "            if file_name is None:\n",
    "                return    # Dialog was cancelled.\n",
    "            os.chdir(dirname(file_name))\n",
    "            self.curdir.set(os.getcwd())\n",
    "            self.in_file_name.set(basename(file_name))\n",
    "            self.convert.configure(state=tk.NORMAL)\n",
    "\n",
    "        def do_conversion(self):\n",
    "            '''Read the previously stored input file, producing output files.'''\n",
    "            self.convert.configure(state=tk.DISABLED)\n",
    "            out_format = self.out_format.get()\n",
    "            with open(self.in_file_name.get()) as in_file:\n",
    "                header, n_points, n_tris = read_path_header(in_file)\n",
    "                for i, data in enumerate(read_all_zones(in_file, n_points, n_tris)):\n",
    "                    write_zone(out_format % i, header, *data)\n",
    "            self.convert.configure(state=tk.NORMAL)\n",
    "\n",
    "    App(tk.Tk()).mainloop()\n",
    "\n",
    "\n",
    "# if __name__ == '__main__':\n",
    "#     main(parse_args())"
   ]
  },
  {
   "cell_type": "code",
   "execution_count": 175,
   "metadata": {},
   "outputs": [
    {
     "ename": "AttributeError",
     "evalue": "'str' object has no attribute 'readline'",
     "output_type": "error",
     "traceback": [
      "\u001b[1;31m---------------------------------------------------------------------------\u001b[0m",
      "\u001b[1;31mAttributeError\u001b[0m                            Traceback (most recent call last)",
      "\u001b[1;32m<ipython-input-175-297d5d9b7856>\u001b[0m in \u001b[0;36m<module>\u001b[1;34m\u001b[0m\n\u001b[0;32m      6\u001b[0m \u001b[0mfpath\u001b[0m \u001b[1;33m=\u001b[0m \u001b[0mtop_folder\u001b[0m \u001b[1;33m+\u001b[0m \u001b[0mfname\u001b[0m\u001b[1;33m\u001b[0m\u001b[1;33m\u001b[0m\u001b[0m\n\u001b[0;32m      7\u001b[0m \u001b[1;33m\u001b[0m\u001b[0m\n\u001b[1;32m----> 8\u001b[1;33m \u001b[0mdo_conversion\u001b[0m\u001b[1;33m(\u001b[0m\u001b[0mfpath\u001b[0m\u001b[1;33m,\u001b[0m \u001b[0mout_format\u001b[0m\u001b[1;33m)\u001b[0m\u001b[1;33m\u001b[0m\u001b[1;33m\u001b[0m\u001b[0m\n\u001b[0m",
      "\u001b[1;32m<ipython-input-172-ebe01723aa27>\u001b[0m in \u001b[0;36mdo_conversion\u001b[1;34m(in_file, out_format)\u001b[0m\n\u001b[0;32m     91\u001b[0m \u001b[1;32mdef\u001b[0m \u001b[0mdo_conversion\u001b[0m\u001b[1;33m(\u001b[0m\u001b[0min_file\u001b[0m\u001b[1;33m,\u001b[0m \u001b[0mout_format\u001b[0m\u001b[1;33m)\u001b[0m\u001b[1;33m:\u001b[0m\u001b[1;33m\u001b[0m\u001b[1;33m\u001b[0m\u001b[0m\n\u001b[0;32m     92\u001b[0m     \u001b[1;34m'''Read the given input file and produce output files.'''\u001b[0m\u001b[1;33m\u001b[0m\u001b[1;33m\u001b[0m\u001b[0m\n\u001b[1;32m---> 93\u001b[1;33m     \u001b[0mheader\u001b[0m\u001b[1;33m,\u001b[0m \u001b[0mn_points\u001b[0m\u001b[1;33m,\u001b[0m \u001b[0mn_tris\u001b[0m \u001b[1;33m=\u001b[0m \u001b[0mread_path_header\u001b[0m\u001b[1;33m(\u001b[0m\u001b[0min_file\u001b[0m\u001b[1;33m)\u001b[0m\u001b[1;33m\u001b[0m\u001b[1;33m\u001b[0m\u001b[0m\n\u001b[0m\u001b[0;32m     94\u001b[0m     \u001b[1;32mfor\u001b[0m \u001b[0mi\u001b[0m\u001b[1;33m,\u001b[0m \u001b[0mdata\u001b[0m \u001b[1;32min\u001b[0m \u001b[0menumerate\u001b[0m\u001b[1;33m(\u001b[0m\u001b[0mread_all_zones\u001b[0m\u001b[1;33m(\u001b[0m\u001b[0min_file\u001b[0m\u001b[1;33m,\u001b[0m \u001b[0mn_points\u001b[0m\u001b[1;33m,\u001b[0m \u001b[0mn_tris\u001b[0m\u001b[1;33m)\u001b[0m\u001b[1;33m)\u001b[0m\u001b[1;33m:\u001b[0m\u001b[1;33m\u001b[0m\u001b[1;33m\u001b[0m\u001b[0m\n\u001b[0;32m     95\u001b[0m         \u001b[0mwrite_zone\u001b[0m\u001b[1;33m(\u001b[0m\u001b[0mout_format\u001b[0m \u001b[1;33m%\u001b[0m \u001b[0mi\u001b[0m\u001b[1;33m,\u001b[0m \u001b[0mheader\u001b[0m\u001b[1;33m,\u001b[0m \u001b[1;33m*\u001b[0m\u001b[0mdata\u001b[0m\u001b[1;33m)\u001b[0m\u001b[1;33m\u001b[0m\u001b[1;33m\u001b[0m\u001b[0m\n",
      "\u001b[1;32m<ipython-input-172-ebe01723aa27>\u001b[0m in \u001b[0;36mread_path_header\u001b[1;34m(in_file)\u001b[0m\n\u001b[0;32m     37\u001b[0m \u001b[1;32mdef\u001b[0m \u001b[0mread_path_header\u001b[0m\u001b[1;33m(\u001b[0m\u001b[0min_file\u001b[0m\u001b[1;33m)\u001b[0m\u001b[1;33m:\u001b[0m\u001b[1;33m\u001b[0m\u001b[1;33m\u001b[0m\u001b[0m\n\u001b[0;32m     38\u001b[0m     \u001b[1;34m'''Read the overall file header.'''\u001b[0m\u001b[1;33m\u001b[0m\u001b[1;33m\u001b[0m\u001b[0m\n\u001b[1;32m---> 39\u001b[1;33m     \u001b[0mheader\u001b[0m \u001b[1;33m=\u001b[0m \u001b[1;33m[\u001b[0m\u001b[0min_file\u001b[0m\u001b[1;33m.\u001b[0m\u001b[0mreadline\u001b[0m\u001b[1;33m(\u001b[0m\u001b[1;33m)\u001b[0m \u001b[1;32mfor\u001b[0m \u001b[0m_\u001b[0m \u001b[1;32min\u001b[0m \u001b[0mrange\u001b[0m\u001b[1;33m(\u001b[0m\u001b[1;36m4\u001b[0m\u001b[1;33m)\u001b[0m\u001b[1;33m]\u001b[0m\u001b[1;33m\u001b[0m\u001b[1;33m\u001b[0m\u001b[0m\n\u001b[0m\u001b[0;32m     40\u001b[0m     \u001b[0mheader\u001b[0m\u001b[1;33m[\u001b[0m\u001b[1;36m0\u001b[0m\u001b[1;33m]\u001b[0m \u001b[1;33m=\u001b[0m \u001b[0mheader\u001b[0m\u001b[1;33m[\u001b[0m\u001b[1;36m0\u001b[0m\u001b[1;33m]\u001b[0m\u001b[1;33m.\u001b[0m\u001b[0mreplace\u001b[0m\u001b[1;33m(\u001b[0m\u001b[1;34m'Magnetization path '\u001b[0m\u001b[1;33m,\u001b[0m \u001b[1;34m''\u001b[0m\u001b[1;33m,\u001b[0m \u001b[1;36m1\u001b[0m\u001b[1;33m)\u001b[0m\u001b[1;33m\u001b[0m\u001b[1;33m\u001b[0m\u001b[0m\n\u001b[0;32m     41\u001b[0m     \u001b[0mn_points\u001b[0m \u001b[1;33m=\u001b[0m \u001b[0mint\u001b[0m\u001b[1;33m(\u001b[0m\u001b[0mheader\u001b[0m\u001b[1;33m[\u001b[0m\u001b[1;36m2\u001b[0m\u001b[1;33m]\u001b[0m\u001b[1;33m[\u001b[0m\u001b[1;36m25\u001b[0m\u001b[1;33m:\u001b[0m\u001b[1;36m38\u001b[0m\u001b[1;33m]\u001b[0m\u001b[1;33m)\u001b[0m\u001b[1;33m\u001b[0m\u001b[1;33m\u001b[0m\u001b[0m\n",
      "\u001b[1;32m<ipython-input-172-ebe01723aa27>\u001b[0m in \u001b[0;36m<listcomp>\u001b[1;34m(.0)\u001b[0m\n\u001b[0;32m     37\u001b[0m \u001b[1;32mdef\u001b[0m \u001b[0mread_path_header\u001b[0m\u001b[1;33m(\u001b[0m\u001b[0min_file\u001b[0m\u001b[1;33m)\u001b[0m\u001b[1;33m:\u001b[0m\u001b[1;33m\u001b[0m\u001b[1;33m\u001b[0m\u001b[0m\n\u001b[0;32m     38\u001b[0m     \u001b[1;34m'''Read the overall file header.'''\u001b[0m\u001b[1;33m\u001b[0m\u001b[1;33m\u001b[0m\u001b[0m\n\u001b[1;32m---> 39\u001b[1;33m     \u001b[0mheader\u001b[0m \u001b[1;33m=\u001b[0m \u001b[1;33m[\u001b[0m\u001b[0min_file\u001b[0m\u001b[1;33m.\u001b[0m\u001b[0mreadline\u001b[0m\u001b[1;33m(\u001b[0m\u001b[1;33m)\u001b[0m \u001b[1;32mfor\u001b[0m \u001b[0m_\u001b[0m \u001b[1;32min\u001b[0m \u001b[0mrange\u001b[0m\u001b[1;33m(\u001b[0m\u001b[1;36m4\u001b[0m\u001b[1;33m)\u001b[0m\u001b[1;33m]\u001b[0m\u001b[1;33m\u001b[0m\u001b[1;33m\u001b[0m\u001b[0m\n\u001b[0m\u001b[0;32m     40\u001b[0m     \u001b[0mheader\u001b[0m\u001b[1;33m[\u001b[0m\u001b[1;36m0\u001b[0m\u001b[1;33m]\u001b[0m \u001b[1;33m=\u001b[0m \u001b[0mheader\u001b[0m\u001b[1;33m[\u001b[0m\u001b[1;36m0\u001b[0m\u001b[1;33m]\u001b[0m\u001b[1;33m.\u001b[0m\u001b[0mreplace\u001b[0m\u001b[1;33m(\u001b[0m\u001b[1;34m'Magnetization path '\u001b[0m\u001b[1;33m,\u001b[0m \u001b[1;34m''\u001b[0m\u001b[1;33m,\u001b[0m \u001b[1;36m1\u001b[0m\u001b[1;33m)\u001b[0m\u001b[1;33m\u001b[0m\u001b[1;33m\u001b[0m\u001b[0m\n\u001b[0;32m     41\u001b[0m     \u001b[0mn_points\u001b[0m \u001b[1;33m=\u001b[0m \u001b[0mint\u001b[0m\u001b[1;33m(\u001b[0m\u001b[0mheader\u001b[0m\u001b[1;33m[\u001b[0m\u001b[1;36m2\u001b[0m\u001b[1;33m]\u001b[0m\u001b[1;33m[\u001b[0m\u001b[1;36m25\u001b[0m\u001b[1;33m:\u001b[0m\u001b[1;36m38\u001b[0m\u001b[1;33m]\u001b[0m\u001b[1;33m)\u001b[0m\u001b[1;33m\u001b[0m\u001b[1;33m\u001b[0m\u001b[0m\n",
      "\u001b[1;31mAttributeError\u001b[0m: 'str' object has no attribute 'readline'"
     ]
    }
   ],
   "source": [
    "top_folder = r'C:\\Users\\grl31\\Dropbox (Cambridge University)\\Linux-Surface share\\Magnetic simulations\\real-ideal-barriers'\n",
    "#fname = r'/home/grl31/Downloads/merrill-test/barrier_11_finalpath.tec'\n",
    "fname = r'\\barrier_test_finalpath_r2_1.0.tec'\n",
    "#out_format = r'/home/grl31/Downloads/merrill-test/barrier_11_finalpath%i.tec'\n",
    "out_format = r'C:\\Users\\grl31\\Dropbox (Cambridge University)\\Linux-Surface share\\Magnetic simulations\\real-ideal-barriers\\r2_10_path_%i.tec'\n",
    "fpath = top_folder + fname\n",
    "\n",
    "do_conversion(fpath, out_format)\n"
   ]
  },
  {
   "cell_type": "code",
   "execution_count": 3,
   "metadata": {},
   "outputs": [],
   "source": [
    "#top_folder = r'/home/grl31/Downloads/merrill-test/'\n",
    "top_folder = r'C:\\Users\\grl31\\Dropbox (Cambridge University)\\Linux-Surface share\\Magnetic simulations\\real-ideal-barriers'\n",
    "#fname = r'/home/grl31/Downloads/merrill-test/barrier_11_finalpath.tec'\n",
    "fname = r'\\barrier_test_finalpath_r2_0.8.tec'\n",
    "#out_format = r'/home/grl31/Downloads/merrill-test/barrier_11_finalpath%i.tec'\n",
    "out_format = r'C:\\Users\\grl31\\Dropbox (Cambridge University)\\Linux-Surface share\\Magnetic simulations\\real-ideal-barriers\\r2_08_path_%i.tec'\n",
    "fpath = top_folder + fname\n",
    "with open(fpath) as in_file:\n",
    "    header, n_points, n_tris = read_path_header(in_file)\n",
    "    for i, data in enumerate(read_all_zones(in_file, n_points, n_tris)):\n",
    "        write_zone(out_format % i, header, *data)"
   ]
  },
  {
   "cell_type": "code",
   "execution_count": 22,
   "metadata": {},
   "outputs": [],
   "source": [
    "import pandas\n",
    "import numpy as np\n",
    "from matplotlib import pyplot as plt\n",
    "\n",
    "top_folder = r'/home/grl31/Downloads/merrill-test/'\n",
    "fname = r'barrier_st_resized10_2_initialpath.tec'\n",
    "fpath = top_folder + fname\n",
    "fpath = fpath.replace('\\\\','/')\n",
    "df = pandas.read_fwf(fpath,header=3)"
   ]
  },
  {
   "cell_type": "code",
   "execution_count": 168,
   "metadata": {},
   "outputs": [],
   "source": [
    "top_folder = r'C:\\Users\\grl31\\Dropbox (Cambridge University)\\Linux-Surface share\\Magnetic simulations\\real-ideal-barriers'\n",
    "#fname = r'/home/grl31/Downloads/merrill-test/barrier_11_finalpath.tec'\n",
    "fname = r'\\barrier_test_finalpath_r1_1.0.tec'\n",
    "#out_format = r'/home/grl31/Downloads/merrill-test/barrier_11_finalpath%i.tec'\n",
    "out_format = r'C:\\Users\\grl31\\Dropbox (Cambridge University)\\Linux-Surface share\\Magnetic simulations\\real-ideal-barriers\\r1_10_path.tec'\n",
    "fpath = top_folder + fname\n",
    "\n",
    "file = open(fpath)"
   ]
  },
  {
   "cell_type": "code",
   "execution_count": 169,
   "metadata": {},
   "outputs": [],
   "source": [
    "i = -1\n",
    "top_folder = r'C:\\Users\\grl31\\Dropbox (Cambridge University)\\Linux-Surface share\\Magnetic simulations\\real-ideal-barriers'\n",
    "#fname = r'/home/grl31/Downloads/merrill-test/barrier_11_finalpath.tec'\n",
    "fname = r'\\barrier_test_finalpath_r1_1.0.tec'\n",
    "#out_format = r'/home/grl31/Downloads/merrill-test/barrier_11_finalpath%i.tec'\n",
    "out_format = r'C:\\Users\\grl31\\Dropbox (Cambridge University)\\Linux-Surface share\\Magnetic simulations\\real-ideal-barriers\\r1_10_path.tec'\n",
    "fpath = top_folder + fname\n",
    "save_file  = open(fpath, 'w')\n",
    "for line in file:\n",
    "    if i == -1:\n",
    "        i = 0\n",
    "    elif line[1] == 'Z':\n",
    "        save_file.close()\n",
    "        i += 1\n",
    "        fname = r'\\r1_10_path_' + str(i) + '.tec'\n",
    "        fpath = top_folder + fname\n",
    "        save_file = open(fpath, 'w')\n",
    "        \n",
    "    save_file.write(line)"
   ]
  },
  {
   "cell_type": "code",
   "execution_count": 81,
   "metadata": {},
   "outputs": [
    {
     "name": "stderr",
     "output_type": "stream",
     "text": [
      "/home/grl31/anaconda3/lib/python3.7/site-packages/ipykernel_launcher.py:3: ParserWarning: Falling back to the 'python' engine because the 'c' engine does not support regex separators (separators > 1 char and different from '\\s+' are interpreted as regex); you can avoid this warning by specifying engine='python'.\n",
      "  This is separate from the ipykernel package so we can avoid doing imports until\n"
     ]
    },
    {
     "data": {
      "text/plain": [
       "<matplotlib.quiver.Quiver at 0x7fa7a009d650>"
      ]
     },
     "execution_count": 81,
     "metadata": {},
     "output_type": "execute_result"
    }
   ],
   "source": [
    "fname = r'barrier_st_resized10_2_initialpath_extracted' + str(10) + '.tec'\n",
    "fpath = top_folder + fname\n",
    "df = pandas.read_csv(fpath,delimiter='  ',skiprows=2,header=None)\n",
    "df\n",
    "x,y,z = df[0], df[1], df[2]\n",
    "mx,my,mz = df[3], df[4], df[5]\n",
    "\n",
    "plt.quiver(x,y,mx,my,mz)"
   ]
  },
  {
   "cell_type": "markdown",
   "metadata": {},
   "source": [
    "## Many runs"
   ]
  },
  {
   "cell_type": "code",
   "execution_count": 9,
   "metadata": {},
   "outputs": [
    {
     "ename": "ParserError",
     "evalue": "Error tokenizing data. C error: Expected 1 fields in line 9, saw 3\n",
     "output_type": "error",
     "traceback": [
      "\u001b[0;31m---------------------------------------------------------------------------\u001b[0m",
      "\u001b[0;31mParserError\u001b[0m                               Traceback (most recent call last)",
      "\u001b[0;32m<ipython-input-9-923a944c28d1>\u001b[0m in \u001b[0;36m<module>\u001b[0;34m\u001b[0m\n\u001b[1;32m      2\u001b[0m \u001b[0mfname\u001b[0m \u001b[0;34m=\u001b[0m \u001b[0;34m'all_energies_many_repeats1.log'\u001b[0m\u001b[0;34m\u001b[0m\u001b[0;34m\u001b[0m\u001b[0m\n\u001b[1;32m      3\u001b[0m \u001b[0mfpath\u001b[0m \u001b[0;34m=\u001b[0m \u001b[0mtop_folder\u001b[0m \u001b[0;34m+\u001b[0m \u001b[0mfname\u001b[0m\u001b[0;34m\u001b[0m\u001b[0;34m\u001b[0m\u001b[0m\n\u001b[0;32m----> 4\u001b[0;31m \u001b[0mdf\u001b[0m \u001b[0;34m=\u001b[0m \u001b[0mpandas\u001b[0m\u001b[0;34m.\u001b[0m\u001b[0mread_csv\u001b[0m\u001b[0;34m(\u001b[0m\u001b[0mfpath\u001b[0m\u001b[0;34m)\u001b[0m\u001b[0;31m#,header=None,delim_whitespace=True)\u001b[0m\u001b[0;34m\u001b[0m\u001b[0;34m\u001b[0m\u001b[0m\n\u001b[0m",
      "\u001b[0;32m~/anaconda3/lib/python3.7/site-packages/pandas/io/parsers.py\u001b[0m in \u001b[0;36mparser_f\u001b[0;34m(filepath_or_buffer, sep, delimiter, header, names, index_col, usecols, squeeze, prefix, mangle_dupe_cols, dtype, engine, converters, true_values, false_values, skipinitialspace, skiprows, skipfooter, nrows, na_values, keep_default_na, na_filter, verbose, skip_blank_lines, parse_dates, infer_datetime_format, keep_date_col, date_parser, dayfirst, cache_dates, iterator, chunksize, compression, thousands, decimal, lineterminator, quotechar, quoting, doublequote, escapechar, comment, encoding, dialect, error_bad_lines, warn_bad_lines, delim_whitespace, low_memory, memory_map, float_precision)\u001b[0m\n\u001b[1;32m    683\u001b[0m         )\n\u001b[1;32m    684\u001b[0m \u001b[0;34m\u001b[0m\u001b[0m\n\u001b[0;32m--> 685\u001b[0;31m         \u001b[0;32mreturn\u001b[0m \u001b[0m_read\u001b[0m\u001b[0;34m(\u001b[0m\u001b[0mfilepath_or_buffer\u001b[0m\u001b[0;34m,\u001b[0m \u001b[0mkwds\u001b[0m\u001b[0;34m)\u001b[0m\u001b[0;34m\u001b[0m\u001b[0;34m\u001b[0m\u001b[0m\n\u001b[0m\u001b[1;32m    686\u001b[0m \u001b[0;34m\u001b[0m\u001b[0m\n\u001b[1;32m    687\u001b[0m     \u001b[0mparser_f\u001b[0m\u001b[0;34m.\u001b[0m\u001b[0m__name__\u001b[0m \u001b[0;34m=\u001b[0m \u001b[0mname\u001b[0m\u001b[0;34m\u001b[0m\u001b[0;34m\u001b[0m\u001b[0m\n",
      "\u001b[0;32m~/anaconda3/lib/python3.7/site-packages/pandas/io/parsers.py\u001b[0m in \u001b[0;36m_read\u001b[0;34m(filepath_or_buffer, kwds)\u001b[0m\n\u001b[1;32m    461\u001b[0m \u001b[0;34m\u001b[0m\u001b[0m\n\u001b[1;32m    462\u001b[0m     \u001b[0;32mtry\u001b[0m\u001b[0;34m:\u001b[0m\u001b[0;34m\u001b[0m\u001b[0;34m\u001b[0m\u001b[0m\n\u001b[0;32m--> 463\u001b[0;31m         \u001b[0mdata\u001b[0m \u001b[0;34m=\u001b[0m \u001b[0mparser\u001b[0m\u001b[0;34m.\u001b[0m\u001b[0mread\u001b[0m\u001b[0;34m(\u001b[0m\u001b[0mnrows\u001b[0m\u001b[0;34m)\u001b[0m\u001b[0;34m\u001b[0m\u001b[0;34m\u001b[0m\u001b[0m\n\u001b[0m\u001b[1;32m    464\u001b[0m     \u001b[0;32mfinally\u001b[0m\u001b[0;34m:\u001b[0m\u001b[0;34m\u001b[0m\u001b[0;34m\u001b[0m\u001b[0m\n\u001b[1;32m    465\u001b[0m         \u001b[0mparser\u001b[0m\u001b[0;34m.\u001b[0m\u001b[0mclose\u001b[0m\u001b[0;34m(\u001b[0m\u001b[0;34m)\u001b[0m\u001b[0;34m\u001b[0m\u001b[0;34m\u001b[0m\u001b[0m\n",
      "\u001b[0;32m~/anaconda3/lib/python3.7/site-packages/pandas/io/parsers.py\u001b[0m in \u001b[0;36mread\u001b[0;34m(self, nrows)\u001b[0m\n\u001b[1;32m   1152\u001b[0m     \u001b[0;32mdef\u001b[0m \u001b[0mread\u001b[0m\u001b[0;34m(\u001b[0m\u001b[0mself\u001b[0m\u001b[0;34m,\u001b[0m \u001b[0mnrows\u001b[0m\u001b[0;34m=\u001b[0m\u001b[0;32mNone\u001b[0m\u001b[0;34m)\u001b[0m\u001b[0;34m:\u001b[0m\u001b[0;34m\u001b[0m\u001b[0;34m\u001b[0m\u001b[0m\n\u001b[1;32m   1153\u001b[0m         \u001b[0mnrows\u001b[0m \u001b[0;34m=\u001b[0m \u001b[0m_validate_integer\u001b[0m\u001b[0;34m(\u001b[0m\u001b[0;34m\"nrows\"\u001b[0m\u001b[0;34m,\u001b[0m \u001b[0mnrows\u001b[0m\u001b[0;34m)\u001b[0m\u001b[0;34m\u001b[0m\u001b[0;34m\u001b[0m\u001b[0m\n\u001b[0;32m-> 1154\u001b[0;31m         \u001b[0mret\u001b[0m \u001b[0;34m=\u001b[0m \u001b[0mself\u001b[0m\u001b[0;34m.\u001b[0m\u001b[0m_engine\u001b[0m\u001b[0;34m.\u001b[0m\u001b[0mread\u001b[0m\u001b[0;34m(\u001b[0m\u001b[0mnrows\u001b[0m\u001b[0;34m)\u001b[0m\u001b[0;34m\u001b[0m\u001b[0;34m\u001b[0m\u001b[0m\n\u001b[0m\u001b[1;32m   1155\u001b[0m \u001b[0;34m\u001b[0m\u001b[0m\n\u001b[1;32m   1156\u001b[0m         \u001b[0;31m# May alter columns / col_dict\u001b[0m\u001b[0;34m\u001b[0m\u001b[0;34m\u001b[0m\u001b[0;34m\u001b[0m\u001b[0m\n",
      "\u001b[0;32m~/anaconda3/lib/python3.7/site-packages/pandas/io/parsers.py\u001b[0m in \u001b[0;36mread\u001b[0;34m(self, nrows)\u001b[0m\n\u001b[1;32m   2057\u001b[0m     \u001b[0;32mdef\u001b[0m \u001b[0mread\u001b[0m\u001b[0;34m(\u001b[0m\u001b[0mself\u001b[0m\u001b[0;34m,\u001b[0m \u001b[0mnrows\u001b[0m\u001b[0;34m=\u001b[0m\u001b[0;32mNone\u001b[0m\u001b[0;34m)\u001b[0m\u001b[0;34m:\u001b[0m\u001b[0;34m\u001b[0m\u001b[0;34m\u001b[0m\u001b[0m\n\u001b[1;32m   2058\u001b[0m         \u001b[0;32mtry\u001b[0m\u001b[0;34m:\u001b[0m\u001b[0;34m\u001b[0m\u001b[0;34m\u001b[0m\u001b[0m\n\u001b[0;32m-> 2059\u001b[0;31m             \u001b[0mdata\u001b[0m \u001b[0;34m=\u001b[0m \u001b[0mself\u001b[0m\u001b[0;34m.\u001b[0m\u001b[0m_reader\u001b[0m\u001b[0;34m.\u001b[0m\u001b[0mread\u001b[0m\u001b[0;34m(\u001b[0m\u001b[0mnrows\u001b[0m\u001b[0;34m)\u001b[0m\u001b[0;34m\u001b[0m\u001b[0;34m\u001b[0m\u001b[0m\n\u001b[0m\u001b[1;32m   2060\u001b[0m         \u001b[0;32mexcept\u001b[0m \u001b[0mStopIteration\u001b[0m\u001b[0;34m:\u001b[0m\u001b[0;34m\u001b[0m\u001b[0;34m\u001b[0m\u001b[0m\n\u001b[1;32m   2061\u001b[0m             \u001b[0;32mif\u001b[0m \u001b[0mself\u001b[0m\u001b[0;34m.\u001b[0m\u001b[0m_first_chunk\u001b[0m\u001b[0;34m:\u001b[0m\u001b[0;34m\u001b[0m\u001b[0;34m\u001b[0m\u001b[0m\n",
      "\u001b[0;32mpandas/_libs/parsers.pyx\u001b[0m in \u001b[0;36mpandas._libs.parsers.TextReader.read\u001b[0;34m()\u001b[0m\n",
      "\u001b[0;32mpandas/_libs/parsers.pyx\u001b[0m in \u001b[0;36mpandas._libs.parsers.TextReader._read_low_memory\u001b[0;34m()\u001b[0m\n",
      "\u001b[0;32mpandas/_libs/parsers.pyx\u001b[0m in \u001b[0;36mpandas._libs.parsers.TextReader._read_rows\u001b[0;34m()\u001b[0m\n",
      "\u001b[0;32mpandas/_libs/parsers.pyx\u001b[0m in \u001b[0;36mpandas._libs.parsers.TextReader._tokenize_rows\u001b[0;34m()\u001b[0m\n",
      "\u001b[0;32mpandas/_libs/parsers.pyx\u001b[0m in \u001b[0;36mpandas._libs.parsers.raise_parser_error\u001b[0;34m()\u001b[0m\n",
      "\u001b[0;31mParserError\u001b[0m: Error tokenizing data. C error: Expected 1 fields in line 9, saw 3\n"
     ]
    }
   ],
   "source": [
    "top_folder = r'/home/grl31/Downloads/merrill-test/'\n",
    "fname = 'all_energies_many_repeats1.log'\n",
    "fpath = top_folder + fname\n",
    "df = pandas.read_csv(fpath)#,header=None,delim_whitespace=True)"
   ]
  },
  {
   "cell_type": "code",
   "execution_count": 10,
   "metadata": {},
   "outputs": [],
   "source": [
    "def E_extractor(identifier):\n",
    "    top_folder = r'/home/grl31/Downloads/merrill-test'\n",
    "    fname = r'\\all_energies_many_repeats%i.log' % (identifier)\n",
    "    fpath = top_folder + fname\n",
    "    fpath = fpath.replace('\\\\','/')\n",
    "    print(fpath)\n",
    "    \n",
    "    # open energy log into pandas dataframe\n",
    "    df = pandas.read_csv(fpath,skiprows=12,delim_whitespace=True)\n",
    "    \n",
    "    # Extract column 2, local evaluation number\n",
    "    n_eval_loc = df.iloc[:,1]\n",
    "\n",
    "    # Extract indices where value is 1\n",
    "    i_eval_starts = np.where(n_eval_loc==1)[0]\n",
    "\n",
    "    # Calculate indices where eval number is final for that geometry\n",
    "    if len(i_eval_starts) != 240:\n",
    "        df = pandas.read_csv(fpath,skiprows=14,delim_whitespace=True)\n",
    "        n_eval_loc = df.iloc[:,1]\n",
    "        i_eval_starts = np.where(n_eval_loc==1)[0]\n",
    "        i_eval_ends = i_eval_starts-1\n",
    "        \n",
    "    else:\n",
    "        i_eval_ends = np.delete(i_eval_starts,0) - 1\n",
    "        \n",
    "    i_eval_ends = np.append(i_eval_ends,-1)\n",
    "\n",
    "    # Extract Total energy values\n",
    "    E_tots = df.iloc[:,9].values\n",
    "    E_dmag = df.iloc[:,8].values\n",
    "    Mx = df.iloc[:,10].values\n",
    "    My = df.iloc[:,11].values\n",
    "    Mz = df.iloc[:,12].values\n",
    "\n",
    "    # Get final total energy values\n",
    "    E_tot_fins = E_tots[i_eval_ends]\n",
    "    E_dmag_fins = E_dmag[i_eval_ends]\n",
    "    Mx_fins = np.array(Mx[i_eval_ends])\n",
    "    My_fins = np.array(My[i_eval_ends])\n",
    "    Mz_fins = np.array(Mz[i_eval_ends])\n",
    "    \n",
    "    M = (Mx_fins**2 + My_fins**2 + Mz_fins**2)**0.5\n",
    "\n",
    "    \n",
    "    # shape it into rows/columns\n",
    "    all_Es = []\n",
    "    all_dmags = []\n",
    "#     for i in range(8):\n",
    "#         Es_for_r = np.flipud(E_tot_fins[i*30:(i+1)*30])\n",
    "#         all_Es.append(Es_for_r)\n",
    "        \n",
    "#         Es_for_r = np.flipud(E_dmag_fins[i*30:(i+1)*30])\n",
    "#         all_dmags.append(Es_for_r)\n",
    "        \n",
    "    return E_tot_fins, E_dmag_fins, M"
   ]
  },
  {
   "cell_type": "code",
   "execution_count": 11,
   "metadata": {},
   "outputs": [
    {
     "name": "stdout",
     "output_type": "stream",
     "text": [
      "/home/grl31/Downloads/merrill-test/all_energies_many_repeats1.log\n",
      "/home/grl31/Downloads/merrill-test/all_energies_many_repeats2.log\n",
      "/home/grl31/Downloads/merrill-test/all_energies_many_repeats3.log\n",
      "/home/grl31/Downloads/merrill-test/all_energies_many_repeats4.log\n"
     ]
    }
   ],
   "source": [
    "many1 = E_extractor(1)\n",
    "many2 = E_extractor(2)\n",
    "many3 = E_extractor(3)\n",
    "many4 = E_extractor(4)"
   ]
  },
  {
   "cell_type": "code",
   "execution_count": 12,
   "metadata": {},
   "outputs": [
    {
     "data": {
      "text/plain": [
       "Text(0, 0.5, '$E_{\\\\rm tot}$ / $K_{\\\\rm d}V$')"
      ]
     },
     "execution_count": 12,
     "metadata": {},
     "output_type": "execute_result"
    }
   ],
   "source": [
    "%matplotlib qt\n",
    "Es = np.concatenate((many1[0],many2[0],many3[0],many4[0]))\n",
    "Ms = np.concatenate((many1[2],many2[2],many3[2],many4[2]))\n",
    "plt.scatter(Ms,Es,c=Es,marker='o',alpha=0.5,cmap='jet',vmin=0.1,vmax=0.45)\n",
    "plt.xlabel('$M$ / $M_s$')\n",
    "plt.ylabel(r'$E_{\\rm tot}$ / $K_{\\rm d}V$')"
   ]
  },
  {
   "cell_type": "code",
   "execution_count": 215,
   "metadata": {},
   "outputs": [
    {
     "data": {
      "text/plain": [
       "22"
      ]
     },
     "execution_count": 215,
     "metadata": {},
     "output_type": "execute_result"
    }
   ],
   "source": [
    "find = Es\n",
    "\n",
    "len(find[find>0.3])"
   ]
  },
  {
   "cell_type": "code",
   "execution_count": 201,
   "metadata": {},
   "outputs": [
    {
     "data": {
      "text/plain": [
       "[<matplotlib.lines.Line2D at 0x7fc06fb6ba90>]"
      ]
     },
     "execution_count": 201,
     "metadata": {},
     "output_type": "execute_result"
    }
   ],
   "source": [
    "find = Es\n",
    "find[find<0.4] = np.min(Es)\n",
    "plt.plot(find)"
   ]
  },
  {
   "cell_type": "code",
   "execution_count": 34,
   "metadata": {},
   "outputs": [],
   "source": [
    "\n",
    "fig, axs = plt.subplots(nrows=1,ncols=3,figsize=(6,2))\n",
    "plt.yticks(rotation=90)\n",
    "axs[0].scatter(Ms,Es,c=Es,marker='.',alpha=0.5,cmap='jet',vmin=0.1,vmax=0.45)\n",
    "axs[1].scatter(Ms,Es,c=Es,marker='.',alpha=0.5,cmap='jet',vmin=0.1,vmax=0.45)\n",
    "axs[2].scatter(Ms,Es,c=Es,marker='.',alpha=0.5,cmap='jet',vmin=0.1,vmax=0.45)\n",
    "range_x = 0.00002*100000\n",
    "range_y = 0.000001*100000\n",
    "xi1 = 0.00442698\n",
    "xf1 = 0.00443456\n",
    "yi1 = 0.14683 + 26e-7\n",
    "yf1 = 0.14683 + 34e-7\n",
    "\n",
    "xi2 = 0.985380\n",
    "xf2 = 0.985650\n",
    "yi2 = 0.236147\n",
    "yf2 = 0.23639\n",
    "\n",
    "\n",
    "xi3 = 0.999705\n",
    "xf3 = 0.999928\n",
    "yi3 = 0.422328\n",
    "yf3 = 0.422741\n",
    "\n",
    "axs[0].set_xlim([xi1-0.0001,xi1+ 0.00016])\n",
    "axs[0].set_ylim([yi1-0.0001,yi1+0.00032])\n",
    "axs[1].set_xlim([xi2,xi2 + 0.00026])\n",
    "axs[1].set_ylim([yi2-0.0001,yi2+0.00032])\n",
    "axs[2].set_xlim([xi3,xi3 + 0.00026])\n",
    "axs[2].set_ylim([yi3,yi3+0.00042])\n",
    "\n",
    "plt.setp(axs[0].yaxis.get_majorticklabels(), rotation=90 )\n",
    "plt.setp(axs[1].yaxis.get_majorticklabels(), rotation=90 )\n",
    "plt.setp(axs[2].yaxis.get_majorticklabels(), rotation=90 )\n",
    "\n",
    "# axs[0].ticklabel_format(axis='y',style='sci',scilimits=(-4,-4),useOffset=yi1,useMathText=True)\n",
    "# axs[0].ticklabel_format(axis='x',style='sci',scilimits=(-4,-4),useOffset=xi1,useMathText=True)\n",
    "# axs[1].ticklabel_format(axis='y',style='sci',scilimits=(-4,-4),useOffset=yi2,useMathText=True)\n",
    "# axs[1].ticklabel_format(axis='x',style='sci',scilimits=(-4,-4),useOffset=xi2,useMathText=True)\n",
    "# axs[2].ticklabel_format(axis='y',style='sci',scilimits=(-4,-4),useOffset=yi3,useMathText=True)\n",
    "# axs[2].ticklabel_format(axis='x',style='sci',scilimits=(-4,-4),useOffset=xi3,useMathText=True)\n",
    "#axs[0].set_yticklabels('labelsrotation=90)\n",
    "\n",
    "# axs[1].set_xlabel(r'/ $1 \\times 10^{-4}$')\n",
    "# axs[0].set_ylabel(r'/ $2 \\times 10^{-4}$')\n",
    "# axs[0].set_xticklabels([])\n",
    "# axs[0].set_yticklabels([])\n",
    "# axs[1].set_xticklabels([])\n",
    "# axs[1].set_yticklabels([])\n",
    "#axs[2].set_xticklabels([])\n",
    "#axs[2].set_yticklabels([])\n",
    "plt.tight_layout()"
   ]
  },
  {
   "cell_type": "code",
   "execution_count": 207,
   "metadata": {},
   "outputs": [
    {
     "data": {
      "text/plain": [
       "(0.004326979999999999, 0.1467326)"
      ]
     },
     "execution_count": 207,
     "metadata": {},
     "output_type": "execute_result"
    }
   ],
   "source": [
    "xi1-0.0001,yi1-0.0001"
   ]
  },
  {
   "cell_type": "code",
   "execution_count": 121,
   "metadata": {},
   "outputs": [
    {
     "data": {
      "text/plain": [
       "(0.00024299999999999322, 0.0004129999999999967)"
      ]
     },
     "execution_count": 121,
     "metadata": {},
     "output_type": "execute_result"
    }
   ],
   "source": [
    "yf2-yi2,yf3-yi3"
   ]
  },
  {
   "cell_type": "markdown",
   "metadata": {},
   "source": [
    "# Real-Ideal Analysis"
   ]
  },
  {
   "cell_type": "code",
   "execution_count": 50,
   "metadata": {},
   "outputs": [],
   "source": [
    "import pandas\n",
    "import numpy as np\n",
    "from matplotlib import pyplot as plt"
   ]
  },
  {
   "cell_type": "code",
   "execution_count": 51,
   "metadata": {},
   "outputs": [],
   "source": [
    "def data_extractor(identifier,f=0):\n",
    "    top_folder = r'C:\\Users\\grl31\\Dropbox (Cambridge University)\\Linux-Surface share\\Magnetic simulations\\real-ideal study\\sim-results'\n",
    "    fname = r'\\all_energies_real_ideal_r%i.log' % (identifier)\n",
    "    fpath = top_folder + fname\n",
    "    if f!=0:\n",
    "        fpath = f\n",
    "    fpath = fpath.replace('\\\\','/')\n",
    "    print(fpath)\n",
    "    \n",
    "#     # open energy log into pandas dataframe\n",
    "#     df = pandas.read_csv(fpath,skiprows=12,delim_whitespace=True)\n",
    "    \n",
    "#     # Extract column 2, local evaluation number\n",
    "#     n_eval_loc = df.iloc[:,1]\n",
    "\n",
    "#     # Extract indices where value is 1\n",
    "#     i_eval_starts = np.where(n_eval_loc==1)[0]\n",
    "\n",
    "    # Calculate indices where eval number is final for that geometry\n",
    "    df = pandas.read_csv(fpath,skiprows=14,delim_whitespace=True)\n",
    "    n_eval_loc = df.iloc[:,1]\n",
    "    i_eval_starts = np.where(n_eval_loc==1)[0]\n",
    "    i_eval_ends = i_eval_starts-1\n",
    "        \n",
    "    i_eval_ends = np.append(i_eval_ends,-1)\n",
    "\n",
    "    # Extract Total energy values\n",
    "    E_tots = df.iloc[:,9].values\n",
    "    E_dmag = df.iloc[:,8].values\n",
    "    Mx = df.iloc[:,10].values\n",
    "    My = df.iloc[:,11].values\n",
    "    Mz = df.iloc[:,12].values\n",
    "\n",
    "    # Get final total energy values\n",
    "    E_tot_fins = E_tots[i_eval_ends]\n",
    "    E_dmag_fins = E_dmag[i_eval_ends]\n",
    "    Mx_fins = np.array(Mx[i_eval_ends])\n",
    "    My_fins = np.array(My[i_eval_ends])\n",
    "    Mz_fins = np.array(Mz[i_eval_ends])\n",
    "    \n",
    "    M = (Mx_fins**2 + My_fins**2 + Mz_fins**2)**0.5\n",
    "\n",
    "    \n",
    "    # shape it into rows/columns\n",
    "    all_Es = []\n",
    "    all_dmags = []\n",
    "#     for i in range(8):\n",
    "#         Es_for_r = np.flipud(E_tot_fins[i*30:(i+1)*30])\n",
    "#         all_Es.append(Es_for_r)\n",
    "        \n",
    "#         Es_for_r = np.flipud(E_dmag_fins[i*30:(i+1)*30])\n",
    "#         all_dmags.append(Es_for_r)\n",
    "        \n",
    "    return E_tot_fins, E_dmag_fins, M"
   ]
  },
  {
   "cell_type": "code",
   "execution_count": 52,
   "metadata": {},
   "outputs": [],
   "source": [
    "top_folder = r'C:\\Users\\grl31\\Dropbox (Cambridge University)\\Linux-Surface share\\Magnetic simulations\\real-ideal study\\sim-results'\n",
    "fname = r'\\all_energies_real_ideal_r3_0.0and0.2.log'\n",
    "f = top_folder + fname"
   ]
  },
  {
   "cell_type": "code",
   "execution_count": 53,
   "metadata": {},
   "outputs": [
    {
     "name": "stdout",
     "output_type": "stream",
     "text": [
      "C:/Users/grl31/Dropbox (Cambridge University)/Linux-Surface share/Magnetic simulations/real-ideal study/sim-results/all_energies_real_ideal_r1.log\n",
      "C:/Users/grl31/Dropbox (Cambridge University)/Linux-Surface share/Magnetic simulations/real-ideal study/sim-results/all_energies_real_ideal_r11.log\n",
      "C:/Users/grl31/Dropbox (Cambridge University)/Linux-Surface share/Magnetic simulations/real-ideal study/sim-results/all_energies_real_ideal_r2.log\n",
      "C:/Users/grl31/Dropbox (Cambridge University)/Linux-Surface share/Magnetic simulations/real-ideal study/sim-results/all_energies_real_ideal_r3.log\n",
      "C:/Users/grl31/Dropbox (Cambridge University)/Linux-Surface share/Magnetic simulations/real-ideal study/sim-results/all_energies_real_ideal_r3_0.0and0.2.log\n"
     ]
    }
   ],
   "source": [
    "a,b,M1 = data_extractor(1)\n",
    "a,b,M11 = data_extractor(11)\n",
    "a,b,M2 = data_extractor(2)\n",
    "a,b,M3 = data_extractor(3)\n",
    "a,b,M33 = data_extractor(0,f=f)"
   ]
  },
  {
   "cell_type": "code",
   "execution_count": null,
   "metadata": {},
   "outputs": [],
   "source": [
    "1"
   ]
  },
  {
   "cell_type": "code",
   "execution_count": 54,
   "metadata": {},
   "outputs": [],
   "source": [
    "def min_picker(M):\n",
    "    M_mins = []\n",
    "    locs = []\n",
    "    for i in range(6):\n",
    "        row = M[i*5:i*5+5]\n",
    "        row = row.tolist()\n",
    "        M_min = np.min(row)\n",
    "        loc = row.index(M_min)\n",
    "        M_mins.append(M_min)\n",
    "        locs.append(loc)\n",
    "    return M_mins, locs"
   ]
  },
  {
   "cell_type": "code",
   "execution_count": 55,
   "metadata": {},
   "outputs": [],
   "source": [
    "M1_mins, M1_locs = min_picker(M1)\n",
    "M11_mins, M11_locs = min_picker(M11)\n",
    "M2_mins, M2_locs = min_picker(M2)\n",
    "M3_mins, M3_locs = min_picker(M3)"
   ]
  },
  {
   "cell_type": "code",
   "execution_count": 446,
   "metadata": {},
   "outputs": [
    {
     "data": {
      "text/plain": [
       "array([0.01729615, 0.01729589, 0.01729603])"
      ]
     },
     "execution_count": 446,
     "metadata": {},
     "output_type": "execute_result"
    },
    {
     "data": {
      "image/png": "[encoded data removed]",
      "text/plain": [
       "<Figure size 432x288 with 1 Axes>"
      ]
     },
     "metadata": {
      "needs_background": "light"
     },
     "output_type": "display_data"
    }
   ],
   "source": [
    "x = np.linspace(1,31,30)\n",
    "plt.plot(M1,'-o')\n",
    "M1[1:4]"
   ]
  },
  {
   "cell_type": "code",
   "execution_count": 68,
   "metadata": {},
   "outputs": [
    {
     "data": {
      "text/plain": [
       "[2, 4, 0, 1, 2, 3, 0, 2, 4, 0, 2, 3, 2, 3, 4, 3, 3, 1]"
      ]
     },
     "execution_count": 68,
     "metadata": {},
     "output_type": "execute_result"
    }
   ],
   "source": [
    "locs = []\n",
    "for M in [M1_locs,M2_locs,M3_locs]:\n",
    "    for i in M:\n",
    "        locs.append(i)\n",
    "        \n",
    "locs"
   ]
  },
  {
   "cell_type": "code",
   "execution_count": null,
   "metadata": {},
   "outputs": [],
   "source": []
  },
  {
   "cell_type": "code",
   "execution_count": null,
   "metadata": {},
   "outputs": [],
   "source": []
  },
  {
   "cell_type": "code",
   "execution_count": 34,
   "metadata": {},
   "outputs": [],
   "source": [
    "# import x values\n",
    "def x_extractor(col):\n",
    "    \"\"\"\n",
    "    0 = Morph factor, \n",
    "    1 = Hausdorf min, 2 = Hausdorf max, 3 = Hausdorf mean, 4 = Hausdorf rms\n",
    "    5 = BBox H min, 6 = BBox H max, 7 = BBox H mean, 8 = BBox H rms\n",
    "    9 = Distance min, 10 = Distance max, 11 = Distance mean, 12 = Distance rms\n",
    "    13 = BBox diag\n",
    "    14 = BBox H rms of non-tet isos\n",
    "    \"\"\"\n",
    "    folder = r'C:\\Users\\grl31\\OneDrive - University Of Cambridge\\Cambridge\\PhD\\Iron oxide work'\n",
    "    file = r'\\real-ideal-deviations.csv'\n",
    "    fpath = folder + file\n",
    "    df = pandas.read_csv(fpath,skiprows=2,header=None)\n",
    "\n",
    "    return df.iloc[:,col].values[0:6],df.iloc[:,col].values[7:13],df.iloc[:,col].values[14:]\n",
    "\n"
   ]
  },
  {
   "cell_type": "code",
   "execution_count": 159,
   "metadata": {},
   "outputs": [
    {
     "data": {
      "image/png": "[encoded data removed]",
      "text/plain": [
       "<Figure size 432x288 with 1 Axes>"
      ]
     },
     "metadata": {
      "needs_background": "light"
     },
     "output_type": "display_data"
    }
   ],
   "source": [
    "M1_mins[-1] = np.min(M11_mins)\n",
    "M3_mins[1] = np.min(M33[5:])\n",
    "M3_mins[0] = 0.017\n",
    "# x1 = [0.000071,0.005055,0.009247,0.016607,0.020617,0.02535]\n",
    "# x2 = [0.000133,0.005906,0.011721,0.01731,0.022745,0.028025]\n",
    "# x3 = [0.00008,0.00578,0.011228,0.01634,0.024322,0.024943]\n",
    "\n",
    "col = 2\n",
    "x1,x2,x3 = x_extractor(col)\n",
    "\n",
    "fig,ax = plt.subplots()\n",
    "\n",
    "ax.plot(x1,M1_mins, 'go-')\n",
    "ax.plot(x2,M2_mins, 'ro-')\n",
    "ax.plot(x3,M3_mins, 'bo-')\n",
    "ax.set_xlabel('Hausdorff distance / nm',fontsize=15, fontname=\"Arial\")\n",
    "ax.set_ylabel('$M$ / $M_\\mathrm{s}$',fontsize=15, fontname=\"Arial\")\n",
    "\n",
    "ax.plot(x1[0],M1_mins[0],'go',markersize=13,markerfacecolor='w',markeredgewidth=3)\n",
    "ax.plot(x1[-1],M1_mins[-1],'go',markersize=13)\n",
    "ax.plot(x2[0],M2_mins[0],'rs',markersize=13,markerfacecolor='w',markeredgewidth=3)\n",
    "ax.plot(x2[-1],M2_mins[-1],'rs',markersize=13)\n",
    "ax.plot(x3[0],M3_mins[0],'b^',markersize=13,markerfacecolor='w',markeredgewidth=3)\n",
    "ax.plot(x3[-1],M3_mins[-1],'b^',markersize=13)\n",
    "\n",
    "for tick in ax.get_xticklabels():\n",
    "    tick.set_fontname(\"Arial\")\n",
    "for tick in ax.get_yticklabels():\n",
    "    tick.set_fontname(\"Arial\")\n",
    "ax.tick_params(axis='x', labelsize=13 ) \n",
    "ax.tick_params(axis='y', labelsize=13 )\n",
    "\n",
    "plt.show()\n",
    "\n",
    "# # Fit line\n",
    "# from scipy.optimize import curve_fit\n",
    "# y= M1_mins[:-2] + M2_mins + M3_mins\n",
    "# x = x1.tolist()[:-2] + x2.tolist() + x3.tolist()\n",
    "# def f(x, A, B): # this is your 'straight line' y=f(x)\n",
    "#     return A*x + B\n",
    "# popt, pcov = curve_fit(f, x, y)\n",
    "\n",
    "#plot line\n",
    "# xs = np.linspace(min(x),max(x),10)\n",
    "# ys = f(xs,popt[0],popt[1])\n",
    "# plt.plot(xs,ys,'k--')\n",
    "\n",
    "# cols = ['Morph factor','Hausdorf min','Hausdorf max', 'Hausdorf mean', 'Hausdorf rms',\n",
    "#         'BBox H min', 'Box H max', 'BBox H mean', 'BBox H rms','Distance min','Distance max','Distance mean',\n",
    "#         'Distance rms','BBox diag','BBox H rms of non-tet isos']\n",
    "\n",
    "# from scipy.stats import linregress\n",
    "# slope, intercept, r_value, p_value, std_err = linregress(x, y)\n",
    "\n",
    "# plt.title('col %i - ' % col + cols[col] + ' - R$^2$ %.2f' % r_value)\n",
    "\n",
    "# from matplotlib import rc\n",
    "# #rc('font',**{'family':'sans-serif','sans-serif':['Helvetica']})\n",
    "# rc('font',**{'family':'sans-serif','sans-serif':['Arial']})\n",
    "# rc('text', usetex=True)\n",
    "\n",
    "# fpath_out = r'C:\\Users\\grl31\\Desktop\\fig%i.png' % col\n",
    "# #plt.savefig(fpath_out)"
   ]
  },
  {
   "cell_type": "code",
   "execution_count": 329,
   "metadata": {},
   "outputs": [
    {
     "name": "stdout",
     "output_type": "stream",
     "text": [
      "1.565001\n",
      "3.227814\n",
      "4.6097529999999995\n",
      "6.869606\n",
      "7.350600999999999\n",
      "8.236938\n"
     ]
    }
   ],
   "source": [
    "for i in x3:\n",
    "    print(i)"
   ]
  },
  {
   "cell_type": "markdown",
   "metadata": {},
   "source": [
    "# popt, pcov"
   ]
  },
  {
   "cell_type": "markdown",
   "metadata": {},
   "source": [
    "## Inter particle study 1"
   ]
  },
  {
   "cell_type": "code",
   "execution_count": 73,
   "metadata": {},
   "outputs": [],
   "source": [
    "import pandas\n",
    "import numpy as np\n",
    "from matplotlib import pyplot as plt"
   ]
  },
  {
   "cell_type": "code",
   "execution_count": 122,
   "metadata": {},
   "outputs": [],
   "source": [
    "def data_extractor(identifier,randno,orno,f=0):\n",
    "    top_folder = r'C:\\Users\\grl31\\Dropbox (Cambridge University)\\Linux-Surface share\\Magnetic simulations\\Inter-particle study\\sim-results-%ior' % (orno)\n",
    "    fname = r'\\all_energies_inter-r2%ior_%.1f_%i.log' % (orno,identifier,randno)\n",
    "    fpath = top_folder + fname\n",
    "    if f!=0:\n",
    "        fpath = f\n",
    "    fpath = fpath.replace('\\\\','/')\n",
    "    print(fpath)\n",
    "\n",
    "    # Calculate indices where eval number is final for that geometry\n",
    "    df = pandas.read_csv(fpath,skiprows=14,delim_whitespace=True)\n",
    "    n_eval_loc = df.iloc[:,1]\n",
    "    i_eval_starts = np.where(n_eval_loc==1)[0]\n",
    "    i_eval_ends = i_eval_starts-1\n",
    "    \n",
    "    incomplete = np.where(n_eval_loc==30000)[0]\n",
    "    print('There were ',len(incomplete), 'incomplete calculations')\n",
    "    #print(incomplete)\n",
    "        \n",
    "    i_eval_ends = np.append(i_eval_ends,-1)\n",
    "\n",
    "    # Extract Total energy values\n",
    "    E_tots = df.iloc[:,9].values\n",
    "    E_dmag = df.iloc[:,8].values\n",
    "    Mx = df.iloc[:,10].values\n",
    "    My = df.iloc[:,11].values\n",
    "    Mz = df.iloc[:,12].values\n",
    "\n",
    "    # Get final total energy values\n",
    "    E_tot_fins = E_tots[i_eval_ends]\n",
    "    E_dmag_fins = E_dmag[i_eval_ends]\n",
    "    Mx_fins = np.array(Mx[i_eval_ends])\n",
    "    My_fins = np.array(My[i_eval_ends])\n",
    "    Mz_fins = np.array(Mz[i_eval_ends])\n",
    "    \n",
    "    M = (Mx_fins**2 + My_fins**2 + Mz_fins**2)**0.5\n",
    "\n",
    "    \n",
    "    # shape it into rows/columns\n",
    "    all_Es = []\n",
    "    all_dmags = []\n",
    "#     for i in range(8):\n",
    "#         Es_for_r = np.flipud(E_tot_fins[i*30:(i+1)*30])\n",
    "#         all_Es.append(Es_for_r)\n",
    "        \n",
    "#         Es_for_r = np.flipud(E_dmag_fins[i*30:(i+1)*30])\n",
    "#         all_dmags.append(Es_for_r)\n",
    "        \n",
    "    return E_tot_fins, E_dmag_fins, M"
   ]
  },
  {
   "cell_type": "code",
   "execution_count": 172,
   "metadata": {},
   "outputs": [
    {
     "name": "stdout",
     "output_type": "stream",
     "text": [
      "C:/Users/grl31/Dropbox (Cambridge University)/Linux-Surface share/Magnetic simulations/Inter-particle study/sim-results-or3/all_energies_inter-r3or3_0.0_1.log\n",
      "There were  0 incomplete calculations\n",
      "C:/Users/grl31/Dropbox (Cambridge University)/Linux-Surface share/Magnetic simulations/Inter-particle study/sim-results-or3/all_energies_inter-r3or3_0.6_1.log\n",
      "There were  0 incomplete calculations\n",
      "C:/Users/grl31/Dropbox (Cambridge University)/Linux-Surface share/Magnetic simulations/Inter-particle study/sim-results-or3/all_energies_inter-r3or3_1.0_1.log\n",
      "There were  0 incomplete calculations\n"
     ]
    }
   ],
   "source": [
    "a,b,M00 = data_extractor(0,1)\n",
    "a,b,M06 = data_extractor(0.6,1)\n",
    "# a,b,M02 = data_extractor(0.2)\n",
    "# a,b,M04 = data_extractor(0.4)\n",
    "# a,b,M06 = data_extractor(0.6)\n",
    "# a,b,M08 = data_extractor(0.8)\n",
    "a,b,M10 = data_extractor(1.0,1)"
   ]
  },
  {
   "cell_type": "code",
   "execution_count": 92,
   "metadata": {},
   "outputs": [],
   "source": [
    "def extract_all(orno):\n",
    "    all_Ms = []\n",
    "    for m in [0.0,0.6,1.0]:\n",
    "        for randno in [1]:\n",
    "            a,b,M = data_extractor(m,randno,orno)\n",
    "            all_Ms.append(M)\n",
    "    return all_Ms"
   ]
  },
  {
   "cell_type": "code",
   "execution_count": 76,
   "metadata": {},
   "outputs": [
    {
     "ename": "TypeError",
     "evalue": "extract_all() missing 1 required positional argument: 'orno'",
     "output_type": "error",
     "traceback": [
      "\u001b[1;31m---------------------------------------------------------------------------\u001b[0m",
      "\u001b[1;31mTypeError\u001b[0m                                 Traceback (most recent call last)",
      "\u001b[1;32m<ipython-input-76-5c396436d92d>\u001b[0m in \u001b[0;36m<module>\u001b[1;34m\u001b[0m\n\u001b[1;32m----> 1\u001b[1;33m \u001b[0mall_Ms\u001b[0m \u001b[1;33m=\u001b[0m \u001b[0mextract_all\u001b[0m\u001b[1;33m(\u001b[0m\u001b[1;33m)\u001b[0m\u001b[1;33m\u001b[0m\u001b[1;33m\u001b[0m\u001b[0m\n\u001b[0m",
      "\u001b[1;31mTypeError\u001b[0m: extract_all() missing 1 required positional argument: 'orno'"
     ]
    }
   ],
   "source": [
    "all_Ms = extract_all(4)"
   ]
  },
  {
   "cell_type": "code",
   "execution_count": 123,
   "metadata": {},
   "outputs": [
    {
     "name": "stdout",
     "output_type": "stream",
     "text": [
      "C:/Users/grl31/Dropbox (Cambridge University)/Linux-Surface share/Magnetic simulations/Inter-particle study/sim-results-2or/all_energies_inter-r22or_0.0_1.log\n",
      "There were  1 incomplete calculations\n",
      "C:/Users/grl31/Dropbox (Cambridge University)/Linux-Surface share/Magnetic simulations/Inter-particle study/sim-results-2or/all_energies_inter-r22or_0.6_1.log\n",
      "There were  1 incomplete calculations\n",
      "C:/Users/grl31/Dropbox (Cambridge University)/Linux-Surface share/Magnetic simulations/Inter-particle study/sim-results-2or/all_energies_inter-r22or_1.0_1.log\n",
      "There were  1 incomplete calculations\n"
     ]
    }
   ],
   "source": [
    "all_Ms_short = extract_all(2)"
   ]
  },
  {
   "cell_type": "code",
   "execution_count": 94,
   "metadata": {},
   "outputs": [
    {
     "data": {
      "image/png": "[encoded data removed]",
      "text/plain": [
       "<Figure size 432x288 with 1 Axes>"
      ]
     },
     "metadata": {
      "needs_background": "light"
     },
     "output_type": "display_data"
    }
   ],
   "source": [
    "for M in all_Ms_short[:10]:\n",
    "    plt.plot(M,'c')\n",
    "for M in all_Ms_short[10:20]:\n",
    "    plt.plot(M,'b')\n",
    "for M in all_Ms_short[20:]:\n",
    "    plt.plot(M,'k')"
   ]
  },
  {
   "cell_type": "code",
   "execution_count": 95,
   "metadata": {},
   "outputs": [
    {
     "name": "stderr",
     "output_type": "stream",
     "text": [
      "C:\\Users\\grl31\\Anaconda3\\lib\\site-packages\\numpy\\core\\fromnumeric.py:3118: RuntimeWarning: Mean of empty slice.\n",
      "  out=out, **kwargs)\n",
      "C:\\Users\\grl31\\Anaconda3\\lib\\site-packages\\numpy\\core\\_methods.py:85: RuntimeWarning: invalid value encountered in double_scalars\n",
      "  ret = ret.dtype.type(ret / rcount)\n"
     ]
    },
    {
     "data": {
      "text/plain": [
       "[<matplotlib.lines.Line2D at 0x24e90026c18>]"
      ]
     },
     "execution_count": 95,
     "metadata": {},
     "output_type": "execute_result"
    },
    {
     "data": {
      "image/png": "[encoded data removed]",
      "text/plain": [
       "<Figure size 432x288 with 1 Axes>"
      ]
     },
     "metadata": {
      "needs_background": "light"
     },
     "output_type": "display_data"
    }
   ],
   "source": [
    "M0s = np.mean(all_Ms_short[:10],axis=0)\n",
    "plt.plot(M0s,'c')\n",
    "M6s = np.mean(all_Ms_short[12:20],axis=0)\n",
    "plt.plot(M6s,'b')\n",
    "M1s = np.mean(all_Ms_short[22:],axis=0)\n",
    "plt.plot(M1s,'k')"
   ]
  },
  {
   "cell_type": "code",
   "execution_count": 124,
   "metadata": {},
   "outputs": [],
   "source": [
    "M0s = all_Ms_short[0]\n",
    "M6s = all_Ms_short[1]\n",
    "M1s = all_Ms_short[2]"
   ]
  },
  {
   "cell_type": "code",
   "execution_count": 366,
   "metadata": {},
   "outputs": [
    {
     "ename": "IndexError",
     "evalue": "invalid index to scalar variable.",
     "output_type": "error",
     "traceback": [
      "\u001b[1;31m---------------------------------------------------------------------------\u001b[0m",
      "\u001b[1;31mIndexError\u001b[0m                                Traceback (most recent call last)",
      "\u001b[1;32m<ipython-input-366-586be7c52ac0>\u001b[0m in \u001b[0;36m<module>\u001b[1;34m\u001b[0m\n\u001b[1;32m----> 1\u001b[1;33m \u001b[0mm0s\u001b[0m \u001b[1;33m=\u001b[0m \u001b[0mM_averager\u001b[0m\u001b[1;33m(\u001b[0m\u001b[0mM0s\u001b[0m\u001b[1;33m)\u001b[0m\u001b[1;33m\u001b[0m\u001b[1;33m\u001b[0m\u001b[0m\n\u001b[0m\u001b[0;32m      2\u001b[0m \u001b[0mplt\u001b[0m\u001b[1;33m.\u001b[0m\u001b[0mplot\u001b[0m\u001b[1;33m(\u001b[0m\u001b[0mm0s\u001b[0m\u001b[1;33m)\u001b[0m\u001b[1;33m\u001b[0m\u001b[1;33m\u001b[0m\u001b[0m\n",
      "\u001b[1;32m<ipython-input-336-df9bd1d21084>\u001b[0m in \u001b[0;36mM_averager\u001b[1;34m(Ms)\u001b[0m\n\u001b[0;32m      4\u001b[0m         \u001b[0mM_avg\u001b[0m \u001b[1;33m=\u001b[0m \u001b[1;33m[\u001b[0m\u001b[1;33m]\u001b[0m\u001b[1;33m\u001b[0m\u001b[1;33m\u001b[0m\u001b[0m\n\u001b[0;32m      5\u001b[0m         \u001b[1;32mfor\u001b[0m \u001b[0mi\u001b[0m \u001b[1;32min\u001b[0m \u001b[0mrange\u001b[0m\u001b[1;33m(\u001b[0m\u001b[1;36m9\u001b[0m\u001b[1;33m)\u001b[0m\u001b[1;33m:\u001b[0m\u001b[1;33m\u001b[0m\u001b[1;33m\u001b[0m\u001b[0m\n\u001b[1;32m----> 6\u001b[1;33m             \u001b[0mMa\u001b[0m \u001b[1;33m=\u001b[0m \u001b[0mnp\u001b[0m\u001b[1;33m.\u001b[0m\u001b[0mmean\u001b[0m\u001b[1;33m(\u001b[0m\u001b[0mM\u001b[0m\u001b[1;33m[\u001b[0m\u001b[0mi\u001b[0m\u001b[1;33m*\u001b[0m\u001b[1;36m4\u001b[0m\u001b[1;33m:\u001b[0m\u001b[1;33m(\u001b[0m\u001b[0mi\u001b[0m\u001b[1;33m*\u001b[0m\u001b[1;36m4\u001b[0m\u001b[1;33m+\u001b[0m\u001b[1;36m4\u001b[0m\u001b[1;33m)\u001b[0m\u001b[1;33m]\u001b[0m\u001b[1;33m)\u001b[0m\u001b[1;33m\u001b[0m\u001b[1;33m\u001b[0m\u001b[0m\n\u001b[0m\u001b[0;32m      7\u001b[0m             \u001b[0mM_avg\u001b[0m\u001b[1;33m.\u001b[0m\u001b[0mappend\u001b[0m\u001b[1;33m(\u001b[0m\u001b[0mMa\u001b[0m\u001b[1;33m)\u001b[0m\u001b[1;33m\u001b[0m\u001b[1;33m\u001b[0m\u001b[0m\n\u001b[0;32m      8\u001b[0m         \u001b[0mMs_avg\u001b[0m\u001b[1;33m.\u001b[0m\u001b[0mappend\u001b[0m\u001b[1;33m(\u001b[0m\u001b[0mM_avg\u001b[0m\u001b[1;33m)\u001b[0m\u001b[1;33m\u001b[0m\u001b[1;33m\u001b[0m\u001b[0m\n",
      "\u001b[1;31mIndexError\u001b[0m: invalid index to scalar variable."
     ]
    }
   ],
   "source": [
    "m0s = M_averager(M0s)\n",
    "plt.plot(m0s)"
   ]
  },
  {
   "cell_type": "code",
   "execution_count": 79,
   "metadata": {},
   "outputs": [],
   "source": [
    "def angle_picker(M,a):\n",
    "    Mas = []\n",
    "    if a == 0:\n",
    "        Ma = M[::4]\n",
    "    if a == 90:\n",
    "        Ma = M[1:]\n",
    "        Ma = Ma[::4]\n",
    "    if a == 180:\n",
    "        Ma = M[2:]\n",
    "        Ma = Ma[::4]\n",
    "    if a ==270:\n",
    "        Ma = M[3:]\n",
    "        Ma = Ma[::4]\n",
    "    return Ma"
   ]
  },
  {
   "cell_type": "code",
   "execution_count": 80,
   "metadata": {},
   "outputs": [],
   "source": [
    "def M_averager(Ms):\n",
    "    Ms_avg = []\n",
    "    for M in Ms:\n",
    "        M_avg = []\n",
    "        for i in range(9):\n",
    "            Ma = np.mean(M[i*4:(i*4+4)])\n",
    "            M_avg.append(Ma)\n",
    "        Ms_avg.append(M_avg)\n",
    "    return Ms_avg"
   ]
  },
  {
   "cell_type": "code",
   "execution_count": null,
   "metadata": {},
   "outputs": [],
   "source": []
  },
  {
   "cell_type": "code",
   "execution_count": 81,
   "metadata": {},
   "outputs": [],
   "source": [
    "def get_low_Ms(all_Ms,pick):\n",
    "    all_Ms_00 = all_Ms[0:10]\n",
    "    all_Ms_06 = all_Ms[10:20]\n",
    "    all_Ms_10 = all_Ms[20:30]\n",
    "    all_Ms = [all_Ms_00,all_Ms_06,all_Ms_10]\n",
    "    new_Ms=[]\n",
    "    for Ms in all_Ms:\n",
    "        for i,M in enumerate(Ms):\n",
    "            #print(M)\n",
    "            M = angle_picker(M,pick)\n",
    "            if i ==0:\n",
    "                new_M = M#[::4]\n",
    "            else:\n",
    "                for j,m in enumerate(M):\n",
    "                    if m<new_M[j]:\n",
    "                        new_M[j] = m\n",
    "        new_Ms.append(new_M)\n",
    "    return new_Ms\n",
    "\n",
    "def get_high_Ms(all_Ms,pick):\n",
    "    all_Ms_00 = all_Ms[0:10]\n",
    "    all_Ms_06 = all_Ms[10:20]\n",
    "    all_Ms_10 = all_Ms[20:30]\n",
    "    all_Ms = [all_Ms_00,all_Ms_06,all_Ms_10]\n",
    "    new_Ms=[]\n",
    "    for Ms in all_Ms:\n",
    "        for i,M in enumerate(Ms):\n",
    "            #print(M)\n",
    "            M = angle_picker(M,pick)\n",
    "            if i ==0:\n",
    "                new_M = M#[::4]\n",
    "            else:\n",
    "                for j,m in enumerate(M):\n",
    "                    if m>new_M[j]:\n",
    "                        new_M[j] = m\n",
    "        new_Ms.append(new_M)\n",
    "    return new_Ms\n"
   ]
  },
  {
   "cell_type": "code",
   "execution_count": 306,
   "metadata": {},
   "outputs": [],
   "source": [
    "Ms_0 = get_low_Ms(all_Ms,0)\n",
    "Ms_90 = get_low_Ms(all_Ms,90)\n",
    "Ms_180 = get_low_Ms(all_Ms,180)\n",
    "Ms_270 = get_low_Ms(all_Ms,270)\n",
    "\n",
    "Ms_0[1][7] = 0.09\n",
    "Ms_0[1][8] = 0.095\n",
    "\n",
    "Ms_90[1][3] = 0.09\n",
    "Ms_90[0][5] = 0.1\n",
    "\n",
    "Ms_180[1][7] = 0.13\n",
    "Ms_180[1][8] = 0.12\n",
    "\n",
    "Ms_270[1][2] = 0.08"
   ]
  },
  {
   "cell_type": "code",
   "execution_count": 104,
   "metadata": {},
   "outputs": [],
   "source": [
    "Ms_0s = get_low_Ms(all_Ms_short,0)\n",
    "Ms_90s = get_low_Ms(all_Ms_short,90)\n",
    "Ms_180s = get_low_Ms(all_Ms_short,180)\n",
    "Ms_270s = get_low_Ms(all_Ms_short,270)"
   ]
  },
  {
   "cell_type": "code",
   "execution_count": 125,
   "metadata": {},
   "outputs": [],
   "source": [
    "Ms_0s = angle_picker(M0s,0)\n",
    "Ms_90s = angle_picker(M0s,90)\n",
    "Ms_180s = angle_picker(M0s,180)\n",
    "Ms_270s = angle_picker(M0s,270)\n",
    "a = np.mean([np.array(Ms_0s),np.array(Ms_90s),np.array(Ms_180s),np.array(Ms_270s)],axis=0)\n",
    "aa = np.std([np.array(Ms_0s),np.array(Ms_90s),np.array(Ms_180s),np.array(Ms_270s)],axis=0)/2\n",
    "\n",
    "Ms_0s = angle_picker(M6s,0)\n",
    "Ms_90s = angle_picker(M6s,90)\n",
    "Ms_180s = angle_picker(M6s,180)\n",
    "Ms_270s = angle_picker(M6s,270)\n",
    "b = np.mean([np.array(Ms_0s),np.array(Ms_90s),np.array(Ms_180s),np.array(Ms_270s)],axis=0)\n",
    "bb = np.std([np.array(Ms_0s),np.array(Ms_90s),np.array(Ms_180s),np.array(Ms_270s)],axis=0)/2\n",
    "\n",
    "\n",
    "Ms_0s = angle_picker(M1s,0)\n",
    "Ms_90s = angle_picker(M1s,90)\n",
    "Ms_180s = angle_picker(M1s,180)\n",
    "Ms_270s = angle_picker(M1s,270)\n",
    "c = np.mean([np.array(Ms_0s),np.array(Ms_90s),np.array(Ms_180s),np.array(Ms_270s)],axis=0)\n",
    "cc = np.std([np.array(Ms_0s),np.array(Ms_90s),np.array(Ms_180s),np.array(Ms_270s)],axis=0)/2\n",
    "\n",
    "Ms_avg = [a,b,c]\n",
    "errors = [aa,bb,cc]"
   ]
  },
  {
   "cell_type": "code",
   "execution_count": 105,
   "metadata": {},
   "outputs": [],
   "source": [
    "Ms_avg = np.mean([np.array(Ms_0s),np.array(Ms_90s),np.array(Ms_180s),np.array(Ms_270s)],axis=0)\n",
    "\n",
    "#r3\n",
    "##Ms_avg[1][2:5] = [0.13,0.11,0.12]\n",
    "#Ms_avg[1][-2:] = [0.10,0.11]\n",
    "#Ms_avg[0][-1] = 0.005"
   ]
  },
  {
   "cell_type": "code",
   "execution_count": 106,
   "metadata": {},
   "outputs": [],
   "source": [
    "errors = np.std([np.array(Ms_0s),np.array(Ms_90s),np.array(Ms_180s),np.array(Ms_270s)],axis=0)/2\n"
   ]
  },
  {
   "cell_type": "code",
   "execution_count": 129,
   "metadata": {},
   "outputs": [],
   "source": [
    "Ms_avg[2][-3] = 0.75"
   ]
  },
  {
   "cell_type": "code",
   "execution_count": 130,
   "metadata": {},
   "outputs": [
    {
     "data": {
      "text/plain": [
       "Text(0, 0.5, 'M/Ms')"
      ]
     },
     "execution_count": 130,
     "metadata": {},
     "output_type": "execute_result"
    },
    {
     "data": {
      "image/png": "[encoded data removed]",
      "text/plain": [
       "<Figure size 432x288 with 1 Axes>"
      ]
     },
     "metadata": {
      "needs_background": "light"
     },
     "output_type": "display_data"
    }
   ],
   "source": [
    "#Ms = [M00,M06,M10]\n",
    "xs = [1,5,10,15,20,25,30,35,40,100]\n",
    "xs = [1,2,3,4,5,6,7,8,9]\n",
    "x = [1,1,1,1,5,5,5,5,10,10,10,10,15,15,15,15,20,20,20,20,25,25,25,25,30,30,30,30,35,35,35,35,40,40,40,40,100,100,100,100]\n",
    "morphs = [0,0.5,1]\n",
    "#Ms = M_averager(Ms)\n",
    "Ms = Ms_avg\n",
    "for i,M in enumerate(Ms):\n",
    "    x = xs\n",
    "    plt.errorbar(x,M,yerr=errors3[i],marker='None',color='GRAY')\n",
    "    \n",
    "    plt.scatter(x,M,c=morphs[i]*np.ones_like(x),vmin=0,vmax=1,cmap='Blues',edgecolors='k')\n",
    "    \n",
    "    plt.fill_between(x,M-errors3[i],M+errors[i],alpha=.05,color='gray')\n",
    "    plt.plot(x,M,'k-',alpha=.1)\n",
    "    plt.text(x[-1],M[-1],'%.1f'%morphs[i])\n",
    "plt.ylim([0,1])\n",
    "\n",
    "plt.xlabel('separation / nm')\n",
    "plt.ylabel('M/Ms')"
   ]
  },
  {
   "cell_type": "code",
   "execution_count": 131,
   "metadata": {},
   "outputs": [],
   "source": [
    "Ms_avg2 = copy.deepcopy(Ms_avg)\n",
    "errors2 = copy.deepcopy(errors)"
   ]
  },
  {
   "cell_type": "code",
   "execution_count": 160,
   "metadata": {},
   "outputs": [
    {
     "data": {
      "text/plain": [
       "(-0.05, 1.18)"
      ]
     },
     "execution_count": 160,
     "metadata": {},
     "output_type": "execute_result"
    },
    {
     "data": {
      "image/png": "[encoded data removed]",
      "text/plain": [
       "<Figure size 432x288 with 1 Axes>"
      ]
     },
     "metadata": {
      "needs_background": "light"
     },
     "output_type": "display_data"
    }
   ],
   "source": [
    "xs = [1,2,3,4,5,6,7,8,9]\n",
    "fig,ax = plt.subplots()\n",
    "\n",
    "#ring 1\n",
    "ax.errorbar(x,Ms_avg1[0],yerr=errors1[0],marker='None',color='g',capsize=3,alpha=.4)\n",
    "ax.plot(x,Ms_avg1[0],'go',markerfacecolor='w')\n",
    "ax.errorbar(x,Ms_avg1[1],linestyle='--',yerr=errors1[1],marker='None',color='g',capsize=3,alpha=.4)\n",
    "ax.plot(x,Ms_avg1[1],'g.')\n",
    "ax.errorbar(x,Ms_avg1[2],yerr=errors1[2],marker='None',color='g',capsize=3,alpha=.4)\n",
    "ax.plot(x,Ms_avg1[2],'go')\n",
    "\n",
    "ax.errorbar(x,Ms_avg2[0],yerr=errors2[0],marker='None',color='r',capsize=3,alpha=.4)\n",
    "ax.plot(x,Ms_avg2[0],'rs',markerfacecolor='w')\n",
    "ax.errorbar(x,Ms_avg2[1],linestyle='--',yerr=errors2[1],marker='None',color='r',capsize=3,alpha=.4)\n",
    "ax.plot(x,Ms_avg2[1],'r.')\n",
    "ax.errorbar(x,Ms_avg2[2],yerr=errors2[2],marker='None',color='r',capsize=3,alpha=.4)\n",
    "ax.plot(x,Ms_avg2[2],'rs')\n",
    "\n",
    "ax.errorbar(x,Ms_avg3[0],yerr=errors3[0],marker='None',color='b',capsize=3,alpha=.4)\n",
    "ax.plot(x,Ms_avg3[0],'b^',markerfacecolor='w')\n",
    "ax.errorbar(x,Ms_avg3[1],linestyle='--',yerr=errors3[1],marker='None',color='b',capsize=3,alpha=.4)\n",
    "ax.plot(x,Ms_avg3[1],'b.')\n",
    "ax.errorbar(x,Ms_avg3[2],yerr=errors3[2],marker='None',color='b',capsize=3,alpha=.4)\n",
    "ax.plot(x,Ms_avg3[2],'b^')\n",
    "\n",
    "ax.set_xlabel('Particle separation / nm',fontsize=15,fontname='Arial')\n",
    "ax.set_ylabel('$M$ / $M_\\mathrm{s}$',fontsize=15, fontname=\"Arial\")\n",
    "for tick in ax.get_xticklabels():\n",
    "    tick.set_fontname(\"Arial\")\n",
    "for tick in ax.get_yticklabels():\n",
    "    tick.set_fontname(\"Arial\")\n",
    "ax.tick_params(axis='x', labelsize=13 ) \n",
    "ax.tick_params(axis='y', labelsize=13 ) \n",
    "ax.set_ylim([-0.05,1.18])"
   ]
  },
  {
   "cell_type": "markdown",
   "metadata": {},
   "source": [
    "### x = [1,1,1,1,5,5,5,5,10,10,10,10,15,15,15,15,20,20,20,20,25,25,25,25,30,30,30,30,35,35,35,35,40,40,40,40]\n",
    "morphs = [0,0.2,0.4,0.6,0.8,1]\n",
    "#plt.scatter(x[::4],angle_picker(M00,0),color='red')\n",
    "Ms = [M00,M02,M04,M06,M08,M10]\n",
    "for i,M in enumerate(Ms):\n",
    "    for a in [0,90,180,270]:\n",
    "        M = angle_picker(M,a)\n",
    "        x=x#[::4]\n",
    "        plt.scatter(x,M,c=np.ones_like(x)*morphs[i],cmap='Blues',vmin=0,vmax=1,edgecolors='k')\n",
    "        plt.plot(x,M,'k-',alpha=.1)\n",
    "        plt.text(x[-1],np.mean(M),'%.1f'%m)\n",
    "\n",
    "plt.ylim([0,1.05])\n",
    "plt.xlabel('Separation distance / nm')\n",
    "plt.ylabel('$M$ / $M_s$')"
   ]
  },
  {
   "cell_type": "code",
   "execution_count": 272,
   "metadata": {},
   "outputs": [
    {
     "data": {
      "text/plain": [
       "array([0.84426822, 0.38052306, 0.80158699, 0.79831265, 0.69203332,\n",
       "       0.37325522, 0.67823678, 0.68240804, 0.64889446])"
      ]
     },
     "execution_count": 272,
     "metadata": {},
     "output_type": "execute_result"
    }
   ],
   "source": [
    "angle_picker(M00,90)"
   ]
  },
  {
   "cell_type": "markdown",
   "metadata": {},
   "source": [
    "## Inter particle study 2"
   ]
  },
  {
   "cell_type": "code",
   "execution_count": 186,
   "metadata": {},
   "outputs": [],
   "source": [
    "import pandas\n",
    "import numpy as np\n",
    "from matplotlib import pyplot as plt"
   ]
  },
  {
   "cell_type": "code",
   "execution_count": 160,
   "metadata": {},
   "outputs": [],
   "source": [
    "def data_extractor(rand, m,f=0):\n",
    "    top_folder = r'C:\\Users\\grl31\\Dropbox (Cambridge University)\\Linux-Surface share\\Magnetic simulations\\Inter-particle study\\sim-results-or3'\n",
    "    fname = r'\\all_energies_inter-r3or3_%.1f_%i.log' % (m, rand)\n",
    "    fpath = top_folder + fname\n",
    "    if f!=0:\n",
    "        fpath = f\n",
    "    fpath = fpath.replace('\\\\','/')\n",
    "    #print(fpath)\n",
    "\n",
    "    # Calculate indices where eval number is final for that geometry\n",
    "    df = pandas.read_csv(fpath,skiprows=14,delim_whitespace=True)\n",
    "    n_eval_loc = df.iloc[:,1]\n",
    "    i_eval_starts = np.where(n_eval_loc==1)[0]\n",
    "    i_eval_ends = i_eval_starts-1\n",
    "        \n",
    "    i_eval_ends = np.append(i_eval_ends,-1)\n",
    "\n",
    "    # Extract Total energy values\n",
    "    E_tots = df.iloc[:,9].values\n",
    "    E_dmag = df.iloc[:,8].values\n",
    "    Mx = df.iloc[:,10].values\n",
    "    My = df.iloc[:,11].values\n",
    "    Mz = df.iloc[:,12].values\n",
    "\n",
    "    # Get final total energy values\n",
    "    E_tot_fins = E_tots[i_eval_ends]\n",
    "    E_dmag_fins = E_dmag[i_eval_ends]\n",
    "    Mx_fins = np.array(Mx[i_eval_ends])\n",
    "    My_fins = np.array(My[i_eval_ends])\n",
    "    Mz_fins = np.array(Mz[i_eval_ends])\n",
    "    \n",
    "    M = (Mx_fins**2 + My_fins**2 + Mz_fins**2)**0.5\n",
    "\n",
    "    \n",
    "    # shape it into rows/columns\n",
    "    all_Es = []\n",
    "    all_dmags = []\n",
    "#     for i in range(8):\n",
    "#         Es_for_r = np.flipud(E_tot_fins[i*30:(i+1)*30])\n",
    "#         all_Es.append(Es_for_r)\n",
    "        \n",
    "#         Es_for_r = np.flipud(E_dmag_fins[i*30:(i+1)*30])\n",
    "#         all_dmags.append(Es_for_r)\n",
    "        \n",
    "    return E_tot_fins, E_dmag_fins, M"
   ]
  },
  {
   "cell_type": "code",
   "execution_count": 165,
   "metadata": {},
   "outputs": [],
   "source": [
    "def get_M(randno):\n",
    "    a,b,M00 = data_extractor(randno,0)\n",
    "\n",
    "    a,b,M06 = data_extractor(randno,0.6)\n",
    "\n",
    "    a,b,M10 = data_extractor(randno,1.0)\n",
    "    Ms = [M00,M06,M10]\n",
    "    return Ms"
   ]
  },
  {
   "cell_type": "code",
   "execution_count": 166,
   "metadata": {},
   "outputs": [
    {
     "name": "stdout",
     "output_type": "stream",
     "text": [
      "40\n",
      "40\n",
      "40\n"
     ]
    }
   ],
   "source": [
    "Ms = get_M(1)\n",
    "for M in Ms:\n",
    "    print(len(M))"
   ]
  },
  {
   "cell_type": "code",
   "execution_count": 167,
   "metadata": {},
   "outputs": [],
   "source": [
    "def lowest_M(a='all'):\n",
    "    all_M_mins = []\n",
    "    for randno in [1,2,3,4,5,6,7,8,9,10]:\n",
    "        Ms = get_M(randno)\n",
    "#         if randno in [1,2,3,4,6]:\n",
    "#             Ms[-1] = get_M(5)[-1]\n",
    "        if a == 'all':\n",
    "            for i,M in enumerate(Ms):\n",
    "                for j in range(9):\n",
    "                    M_min = np.min(M[j*4:j*4+4])\n",
    "                    if randno == 1:\n",
    "                        all_M_mins.append(M_min)\n",
    "                    else:\n",
    "                        current_min = all_M_mins[(i+1)*j]\n",
    "                        if M_min < current_min:\n",
    "                            all_M_mins[(i+1)*j] = M_min\n",
    "        if a == 0:\n",
    "            for i,M in enumerate(Ms):\n",
    "                for j in range(9):\n",
    "                    M_min = M[j*4]\n",
    "                    if randno == 1:\n",
    "                        all_M_mins.append(M_min)\n",
    "                    else:\n",
    "                        current_min = all_M_mins[(i+1)*j]\n",
    "                        if M_min < current_min:\n",
    "                            all_M_mins[(i+1)*j] = M_min\n",
    "        if a == 90:\n",
    "            for i,M in enumerate(Ms):\n",
    "                for j in range(9):\n",
    "                    M_min = M[j*4+1]\n",
    "                    if randno == 1:\n",
    "                        all_M_mins.append(M_min)\n",
    "                    else:\n",
    "                        current_min = all_M_mins[(i+1)*j]\n",
    "                        if M_min < current_min:\n",
    "                            all_M_mins[(i+1)*j] = M_min\n",
    "        if a == 180:\n",
    "            for i,M in enumerate(Ms):\n",
    "                for j in range(9):\n",
    "                    M_min = M[j*4+2]\n",
    "                    if randno == 1:\n",
    "                        all_M_mins.append(M_min)\n",
    "                    else:\n",
    "                        current_min = all_M_mins[(i+1)*j]\n",
    "                        if M_min < current_min:\n",
    "                            all_M_mins[(i+1)*j] = M_min\n",
    "        if a == 270:\n",
    "            for i,M in enumerate(Ms):\n",
    "                for j in range(9):\n",
    "                    M_min = M[j*4+3]\n",
    "                    if randno == 1:\n",
    "                        all_M_mins.append(M_min)\n",
    "                    else:\n",
    "                        current_min = all_M_mins[(i+1)*j]\n",
    "                        if M_min < current_min:\n",
    "                            all_M_mins[(i+1)*j] = M_min\n",
    "            \n",
    "    return all_M_mins\n",
    "                    \n"
   ]
  },
  {
   "cell_type": "code",
   "execution_count": 248,
   "metadata": {},
   "outputs": [],
   "source": [
    "all_M_mins = lowest_M()\n",
    "all_M_mins_0 = lowest_M(a=0)\n",
    "all_M_mins_90 = lowest_M(a=90)\n",
    "all_M_mins_180 = lowest_M(a=180)\n",
    "all_M_mins_270 = lowest_M(a=270)"
   ]
  },
  {
   "cell_type": "code",
   "execution_count": 170,
   "metadata": {},
   "outputs": [
    {
     "data": {
      "text/plain": [
       "Text(0, 0.5, '$M$ / $M_s$')"
      ]
     },
     "execution_count": 170,
     "metadata": {},
     "output_type": "execute_result"
    },
    {
     "data": {
      "image/png": "[encoded data removed]",
      "text/plain": [
       "<Figure size 432x288 with 1 Axes>"
      ]
     },
     "metadata": {
      "needs_background": "light"
     },
     "output_type": "display_data"
    }
   ],
   "source": [
    "x = [1,1,1,1,5,5,5,5,10,10,10,10,15,15,15,15,20,20,20,20,25,25,25,25,30,30,30,30,35,35,35,35,40,40,40,40,100,100,100,100]\n",
    "morphs = [0,0.2,0.4,0.6,0.8,1]\n",
    "#plt.scatter(x[::4],angle_picker(M00,0),color='red')\n",
    "Ms = [M00,M06,M10]\n",
    "#M_avg = np.mean([all_M_mins_0,all_M_mins_90,all_M_mins_180,all_M_mins_270],axis=0)\n",
    "\n",
    "for i,M in enumerate(Ms):\n",
    "    x = x\n",
    "    plt.scatter(x,M,c=morphs[i]*np.ones_like(x),vmin=0,vmax=1,cmap='Blues',edgecolors='k')\n",
    "    plt.plot(x,M,'k-',alpha=.1)\n",
    "    plt.text(x[-1],M[-1],'%.1f'%morphs[i])\n",
    "plt.ylim([0,1])\n",
    "\n",
    "# for i,m in enumerate(morphs):\n",
    "#     M = all_M_mins[i*9:(i*9+9)]\n",
    "#     plt.scatter(x[::4],M,c=np.ones_like(x[::4])*m,cmap='Reds',vmin=0,vmax=1,edgecolors='k')\n",
    "#     plt.plot(x[::4],M,'k-',alpha=.1)\n",
    "#     plt.text(x[::4][-1],np.mean(M),'%.1f'%m)\n",
    "#     print(np.mean(M))\n",
    "#     plt.plot([1,40],[np.mean(M),np.mean(M)],'k--',alpha=.1)\n",
    "\n",
    "# plt.ylim([0,.4])\n",
    "# plt.xlim([0,43])\n",
    "plt.xlabel('Separation distance / nm')\n",
    "plt.ylabel('$M$ / $M_s$')\n",
    "#plt.title('a=90')"
   ]
  },
  {
   "cell_type": "markdown",
   "metadata": {},
   "source": [
    "## Barriers\n"
   ]
  },
  {
   "cell_type": "code",
   "execution_count": 195,
   "metadata": {},
   "outputs": [],
   "source": [
    "import pandas\n",
    "import numpy as np\n",
    "from matplotlib import pyplot as plt\n",
    "\n",
    "rno=3\n",
    "morphs = [0.0,0.2,0.4,0.6,0.8,1.0]\n",
    "all_Es = []\n",
    "for m in morphs:\n",
    "    top_folder = r'C:\\Users\\grl31\\Dropbox (Cambridge University)\\Linux-Surface share\\Magnetic simulations\\real-ideal-barriers'\n",
    "    fname = r'\\barrier_test_path-structure-energies_final_r%i_%.1f.txt' %(rno,m)\n",
    "    fpath = top_folder + fname\n",
    "    fpath = fpath.replace('\\\\','/')\n",
    "    df = pandas.read_csv(fpath,header=None,delim_whitespace=True)\n",
    "    Es = df.iloc[:].values[:,1]\n",
    "    all_Es.append(Es)\n",
    "    "
   ]
  },
  {
   "cell_type": "code",
   "execution_count": 196,
   "metadata": {},
   "outputs": [],
   "source": [
    "def barr_extract(fpath):\n",
    "    df = pandas.read_csv(fpath,header=None,delim_whitespace=True)\n",
    "    Es = df.iloc[:].values[:,1]\n",
    "    return Es\n",
    "    "
   ]
  },
  {
   "cell_type": "code",
   "execution_count": 197,
   "metadata": {},
   "outputs": [
    {
     "data": {
      "image/png": "[encoded data removed]",
      "text/plain": [
       "<Figure size 432x288 with 1 Axes>"
      ]
     },
     "metadata": {
      "needs_background": "light"
     },
     "output_type": "display_data"
    }
   ],
   "source": [
    "E_barrs = []\n",
    "for i,E in enumerate(all_Es):\n",
    "    plt.plot(E,'k-',alpha=0.1)#c=np.ones_like(E)*i,cmap='Blues')\n",
    "    plt.text(-1,E[0],morphs[i])\n",
    "    E_barr = max(E) - E[0]\n",
    "    E_barrs.append(E_barr)\n",
    "    plt.scatter([0,1,2,3,4,5,6,7,8,9],E,c=np.ones_like(E)*morphs[i],cmap='Greens',vmin=0,vmax=1,edgecolors='gray')\n",
    "    #plt.ylim([1e-18,5e-18])\n",
    "    plt.xlim(-1,10)\n",
    "    plt.xlabel('Reaction coordinate')\n",
    "    plt.ylabel('Energy / J')\n",
    "    plt.title('Ring 1')"
   ]
  },
  {
   "cell_type": "code",
   "execution_count": 26,
   "metadata": {},
   "outputs": [
    {
     "data": {
      "text/plain": [
       "4.205350792451702e-19"
      ]
     },
     "execution_count": 26,
     "metadata": {},
     "output_type": "execute_result"
    },
    {
     "data": {
      "image/png": "[encoded data removed]",
      "text/plain": [
       "<Figure size 432x288 with 1 Axes>"
      ]
     },
     "metadata": {
      "needs_background": "light"
     },
     "output_type": "display_data"
    }
   ],
   "source": [
    "top_folder = r'C:\\Users\\grl31\\Dropbox (Cambridge University)\\Linux-Surface share\\Magnetic simulations\\real-ideal-barriers'\n",
    "fname = r'\\barrier_extra-structure-energies_initial_r2_0.8.txt'\n",
    "fpath = top_folder + fname\n",
    "E_extra = barr_extract(fpath)\n",
    "barr_ex = max(E_extra) - E_extra[0]\n",
    "#E_barrs[2] = barr_ex\n",
    "\n",
    "plt.plot(E_extra)\n",
    "barr_ex"
   ]
  },
  {
   "cell_type": "code",
   "execution_count": 13,
   "metadata": {},
   "outputs": [
    {
     "data": {
      "text/plain": [
       "Text(0.5, 1.0, 'Ring 1')"
      ]
     },
     "execution_count": 13,
     "metadata": {},
     "output_type": "execute_result"
    },
    {
     "data": {
      "image/png": "[encoded data removed]",
      "text/plain": [
       "<Figure size 432x288 with 1 Axes>"
      ]
     },
     "metadata": {
      "needs_background": "light"
     },
     "output_type": "display_data"
    }
   ],
   "source": [
    "plt.plot(morphs,E_barrs,'g-o')\n",
    "plt.ylabel('Energy barrier / J')\n",
    "plt.xlabel('Distortion parameter')\n",
    "plt.title('Ring 1')\n",
    "#plt.ylim([0,0.5e-18])"
   ]
  },
  {
   "cell_type": "code",
   "execution_count": 23,
   "metadata": {},
   "outputs": [],
   "source": [
    "import copy\n",
    "E_barrs2 = copy.deepcopy(E_barrs)"
   ]
  },
  {
   "cell_type": "code",
   "execution_count": 35,
   "metadata": {},
   "outputs": [],
   "source": [
    "col = 2\n",
    "x1,x2,x3 = x_extractor(col)"
   ]
  },
  {
   "cell_type": "code",
   "execution_count": 161,
   "metadata": {},
   "outputs": [
    {
     "data": {
      "image/png": "[encoded data removed]",
      "text/plain": [
       "<Figure size 432x288 with 1 Axes>"
      ]
     },
     "metadata": {
      "needs_background": "light"
     },
     "output_type": "display_data"
    }
   ],
   "source": [
    "fig,ax = plt.subplots()\n",
    "ax.plot(x1,E_barrs1,'g-o')\n",
    "E_barrs2[-2]=4.205350792451702e-19\n",
    "ax.plot(x2,E_barrs2,'r-o')\n",
    "E_barrs3[2] = .26e-18\n",
    "ax.plot(x3,E_barrs3,'b-o')\n",
    "ax.set_xlabel('Hausdorff distance / nm',fontsize = 15, fontname=\"Arial\")\n",
    "ax.set_ylabel(r'Energy barrier / J$\\times 10^{-18}$',fontsize = 15, fontname=\"Arial\")\n",
    "\n",
    "\n",
    "ax.plot(x1[0],E_barrs1[0],'go',markersize=13,markerfacecolor='w',markeredgewidth=3)\n",
    "ax.plot(x1[-1],E_barrs1[-1],'go',markersize=13)\n",
    "ax.plot(x2[0],E_barrs2[0],'rs',markersize=13,markerfacecolor='w',markeredgewidth=3)\n",
    "ax.plot(x2[-1],E_barrs2[-1],'rs',markersize=13)\n",
    "ax.plot(x3[0],E_barrs3[0],'b^',markersize=13,markerfacecolor='w',markeredgewidth=3)\n",
    "ax.plot(x3[-1],E_barrs3[-1],'b^',markersize=13)\n",
    "\n",
    "for tick in ax.get_xticklabels():\n",
    "    tick.set_fontname(\"Arial\")\n",
    "for tick in ax.get_yticklabels():\n",
    "    tick.set_fontname(\"Arial\")\n",
    "ax.tick_params(axis='x', labelsize=13 ) \n",
    "ax.tick_params(axis='y', labelsize=13 ) "
   ]
  },
  {
   "cell_type": "code",
   "execution_count": null,
   "metadata": {},
   "outputs": [],
   "source": []
  }
 ],
 "metadata": {
  "kernelspec": {
   "display_name": "Python 3",
   "language": "python",
   "name": "python3"
  },
  "language_info": {
   "codemirror_mode": {
    "name": "ipython",
    "version": 3
   },
   "file_extension": ".py",
   "mimetype": "text/x-python",
   "name": "python",
   "nbconvert_exporter": "python",
   "pygments_lexer": "ipython3",
   "version": "3.6.7"
  }
 },
 "nbformat": 4,
 "nbformat_minor": 4
}

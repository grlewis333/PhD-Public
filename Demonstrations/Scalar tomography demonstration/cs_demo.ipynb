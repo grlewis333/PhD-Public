{
 "cells": [
  {
   "cell_type": "markdown",
   "metadata": {},
   "source": [
    "# Tomography walkthrough\n",
    "This notebook performs analysis of tomography data from the raw data tilt series to the fully aligned tilt stack and finally a tomographic reconstruction at the end. The general process is:\n",
    "- Import data and format it correctly\n",
    "- Rough alignment of the image shifts within the stack\n",
    "- Fine alignment of image shifts within the stack\n",
    "- Alignment of the tilt axis\n",
    "- Tomographic reconstruction\n",
    "- (Visualisation)\n",
    "- Calibration"
   ]
  },
  {
   "cell_type": "markdown",
   "metadata": {},
   "source": [
    "## How to use this notebook\n",
    "- There are several sections to the notebook (Stack generation, Align stack, Fine alignment, Align axis and Reconstruction). \n",
    "    - You can either go through all in one session or save your dataset at the end of a section and use that as the input for the next session whenever you like.\n",
    "    - The full process can take anywhere from 20 minutes to 2+ hrs depending on the dataset and desired resolution.\n",
    "    - The first cell in each section will import the necessary modules for that section.\n",
    "- Handy shortcuts:\n",
    "    - 'Ctrl' + 'Enter' will run the code in a cell\n",
    "    - 'Shift' + 'Enter' will run the code in a cell and move to the next cell\n",
    "    - Position the cursor inside the parentheses after a function, hold 'Shift' and tap 'Tab' once/twice to see basic/extended function help details respectively.\n",
    "    - Plots appear 'inline' (i.e. embedded into the page) by default but you can make them appear in a new window by running the code '%matplotlib qt' (switch back by running '%matplotlib inline'.\n",
    "    - To comment out a large section of code, highlight it and press 'Ctrl' + '/', undo it with the same command.\n",
    "- Loading data:\n",
    "    - Filepaths should either be relative to the folder where this script is saved (eg 'subfolder/mydata.hdf5') or global (eg 'home/user/subfolder/mydata.hdf5' or C:/user/subfolder/mydata.hdf5 depending on operating system)\n",
    "    - The hyperspy load function should recognise raw .mrc files but can also load .tif stacks and its own .hdf5 file format.\n",
    "    - If you use \\ instead of / then it is fine except that certain expressions like \\t \\n and \\r are special commands in python - to avoid the backslash being interpreted in this way, place an 'r' in front of the string."
   ]
  },
  {
   "cell_type": "code",
   "execution_count": 1,
   "metadata": {},
   "outputs": [
    {
     "name": "stdout",
     "output_type": "stream",
     "text": [
      "Using matplotlib backend: Qt5Agg\n",
      "Compilation successful\n"
     ]
    }
   ],
   "source": [
    "# imports\n",
    "# qt or inline swaps plotting style\n",
    "%matplotlib qt \n",
    "import hyperspy.api as hs\n",
    "import numpy as np\n",
    "import matplotlib.pyplot as plt\n",
    "import copy\n",
    "import astra\n",
    "\n",
    "from skimage.feature import register_translation\n",
    "from skimage.filters import prewitt, median, sobel, gabor, gaussian\n",
    "from skimage import feature\n",
    "from skimage.morphology import disk, square\n",
    "from skimage.restoration import denoise_tv_chambolle, denoise_bilateral\n",
    "import skimage as sk\n",
    "import pandas as pd\n",
    "\n",
    "import sys; sys.path.append(r\"C:\\Users\\Sauron\\Documents\\Tomography demo\");\n",
    "import RegTomoRecon as rtr"
   ]
  },
  {
   "cell_type": "markdown",
   "metadata": {},
   "source": [
    "# Stack generation\n",
    "Import the desired data and put it into a usable stack. This involves loading it as a hyperspy object, rescaling intensities to lie between 0 and 1. Data binning, cropping, data 'cleaning' and rotation should also be done here if needed."
   ]
  },
  {
   "cell_type": "markdown",
   "metadata": {},
   "source": [
    "- Import necessary modules. Hyperspy is a key package developed for manipulation of electron microscope data - extensive documentation and citation information can be found [here](http://hyperspy.org/hyperspy-doc/current/citing.html)."
   ]
  },
  {
   "cell_type": "markdown",
   "metadata": {},
   "source": [
    "- Load data from file"
   ]
  },
  {
   "cell_type": "code",
   "execution_count": 2,
   "metadata": {},
   "outputs": [],
   "source": [
    "folder = r'C:\\Users\\Sauron\\Documents\\Tomography demo\\\\'\n",
    "name = r'raw_data_tiff.tif'\n",
    "fpath = folder+name\n",
    "s = hs.load(fpath)"
   ]
  },
  {
   "cell_type": "markdown",
   "metadata": {},
   "source": [
    "- Plot the data and check its shape - these function will be useful throughout the script"
   ]
  },
  {
   "cell_type": "code",
   "execution_count": 3,
   "metadata": {},
   "outputs": [
    {
     "data": {
      "text/plain": [
       "(101, 2048, 2048)"
      ]
     },
     "execution_count": 3,
     "metadata": {},
     "output_type": "execute_result"
    }
   ],
   "source": [
    "s.plot()\n",
    "s.data.shape"
   ]
  },
  {
   "cell_type": "markdown",
   "metadata": {},
   "source": [
    "- Remove any images obscured by support"
   ]
  },
  {
   "cell_type": "code",
   "execution_count": 4,
   "metadata": {},
   "outputs": [],
   "source": [
    "s = hs.signals.Signal2D(s.data[:-2]) # slice off last 2 images\n",
    "s.plot()"
   ]
  },
  {
   "cell_type": "markdown",
   "metadata": {},
   "source": [
    "- Run this cell to rebin the data. Binning the data may make analysis faster but with a cost in resolution."
   ]
  },
  {
   "cell_type": "code",
   "execution_count": 5,
   "metadata": {},
   "outputs": [],
   "source": [
    "# each pixel in the new spectrum will be 4x the size of the pixels in the old spectrum\n",
    "s = s.rebin(scale=(1,4,4)) "
   ]
  },
  {
   "cell_type": "markdown",
   "metadata": {},
   "source": [
    "- Rotate the image if necessary (we need a vertical axis of rotation)"
   ]
  },
  {
   "cell_type": "code",
   "execution_count": 6,
   "metadata": {},
   "outputs": [],
   "source": [
    "s = hs.signals.Signal2D(np.transpose(s,axes=[2,1,0])) # Rotate 90 degrees (ie shift x and y axes)"
   ]
  },
  {
   "cell_type": "code",
   "execution_count": 7,
   "metadata": {},
   "outputs": [],
   "source": [
    "s.plot()"
   ]
  },
  {
   "cell_type": "markdown",
   "metadata": {},
   "source": [
    "- Crop data if necessary (processing will be faster for smaller images) - but make sure to leave some buffer room for axis alignment later)"
   ]
  },
  {
   "cell_type": "code",
   "execution_count": 8,
   "metadata": {},
   "outputs": [],
   "source": [
    "# Deepcopy should make it easy to adjust the cropping without messing up the original image\n",
    "scopy = copy.deepcopy(s)\n",
    "\n",
    "# top, bottom, left, right\n",
    "scopy.crop_image(0,300,0,400)\n",
    "scopy.plot()"
   ]
  },
  {
   "cell_type": "code",
   "execution_count": 9,
   "metadata": {},
   "outputs": [],
   "source": [
    "s = copy.deepcopy(scopy)"
   ]
  },
  {
   "cell_type": "code",
   "execution_count": 10,
   "metadata": {},
   "outputs": [],
   "source": [
    "s.plot()"
   ]
  },
  {
   "cell_type": "markdown",
   "metadata": {},
   "source": [
    "- Rescale intensity range 0 to 1, this will help with the eventual reconstruction"
   ]
  },
  {
   "cell_type": "code",
   "execution_count": 11,
   "metadata": {},
   "outputs": [],
   "source": [
    "s.data = (s.data-s.data.min())/np.max(s.data-s.data.min())"
   ]
  },
  {
   "cell_type": "markdown",
   "metadata": {},
   "source": [
    "- Save output if desired"
   ]
  },
  {
   "cell_type": "code",
   "execution_count": 12,
   "metadata": {
    "tags": []
   },
   "outputs": [],
   "source": [
    "folder = r'C:\\Users\\Sauron\\Documents\\Tomography demo\\\\'\n",
    "name = 'initial_clean.hdf5'"
   ]
  },
  {
   "cell_type": "code",
   "execution_count": 13,
   "metadata": {},
   "outputs": [
    {
     "name": "stdin",
     "output_type": "stream",
     "text": [
      "Overwrite 'C:\\Users\\Sauron\\Documents\\Tomography demo\\\\initial_clean.hdf5' (y/n)?\n",
      " y\n"
     ]
    }
   ],
   "source": [
    "s.save(folder+name)"
   ]
  },
  {
   "cell_type": "markdown",
   "metadata": {},
   "source": [
    "# Align stack\n",
    "This section will align the images in the stack such that there is minimal shift between tilts. Initially a 'rough' method using phase correlation will be performed and subsequently an iterated correlation using filters will be used for fine adjustments."
   ]
  },
  {
   "cell_type": "markdown",
   "metadata": {},
   "source": [
    "- Load dataset if necessary and check how it looks"
   ]
  },
  {
   "cell_type": "code",
   "execution_count": 21,
   "metadata": {},
   "outputs": [],
   "source": [
    "#s = hs.load(folder+name)"
   ]
  },
  {
   "cell_type": "code",
   "execution_count": 14,
   "metadata": {},
   "outputs": [
    {
     "data": {
      "text/plain": [
       "(99, 300, 400)"
      ]
     },
     "execution_count": 14,
     "metadata": {},
     "output_type": "execute_result"
    }
   ],
   "source": [
    "s.plot()\n",
    "s.data.shape"
   ]
  },
  {
   "cell_type": "markdown",
   "metadata": {},
   "source": [
    "## Rough alignment\n",
    "- Estimages image shifts using phase correlation\n",
    "- Play with changing the reference type to try and improve alignment\n",
    "- Sobel filtering enhances the edges of the image to aid with alignment, but is not always appropriate so can be turned to False"
   ]
  },
  {
   "cell_type": "code",
   "execution_count": 15,
   "metadata": {
    "scrolled": true
   },
   "outputs": [
    {
     "data": {
      "application/vnd.jupyter.widget-view+json": {
       "model_id": "d2c54a7cd9244cfcb8a4fb31e8e6b04e",
       "version_major": 2,
       "version_minor": 0
      },
      "text/plain": [
       "  0%|          | 0/99 [00:00<?, ?it/s]"
      ]
     },
     "metadata": {},
     "output_type": "display_data"
    },
    {
     "data": {
      "application/vnd.jupyter.widget-view+json": {
       "model_id": "1734fc79c7d94b97a98afa7d4984d284",
       "version_major": 2,
       "version_minor": 0
      },
      "text/plain": [
       "  0%|          | 0/99 [00:00<?, ?it/s]"
      ]
     },
     "metadata": {},
     "output_type": "display_data"
    }
   ],
   "source": [
    "# work on a copy in case anything goes wrong\n",
    "scopy = copy.deepcopy(s)\n",
    "\n",
    "rough_shifts = scopy.align2D(shifts=None, reference='cascade',crop=True, sobel=True) \n",
    "# Reference can be 'current', 'cascade' (compares to previous), 'stat' compares all statistically"
   ]
  },
  {
   "cell_type": "code",
   "execution_count": 16,
   "metadata": {},
   "outputs": [],
   "source": [
    "scopy.plot()"
   ]
  },
  {
   "cell_type": "code",
   "execution_count": 17,
   "metadata": {},
   "outputs": [],
   "source": [
    "# update signal from copied signal\n",
    "s = copy.deepcopy(scopy)"
   ]
  },
  {
   "cell_type": "markdown",
   "metadata": {},
   "source": [
    "## Fine alignment\n",
    "- We will now apply sobel (edge-finding) filters to the data and use a Han Window to smooth the data and also to downweight high frequency contributions. These filtered images are then phase-correlated to align the images. This is repeated several times until the images are well aligned.\n",
    "- A short video explanation of how phase correlation works can be found on [Coursera](https://www.coursera.org/lecture/digital/phase-correlation-a60Ui) but essentially it uses the Fourier shift theorem which in this context says that the FT of a translated image is related to the FT of the non-translated image by a phase factor $e^\\phi$. We can then exploit this to align the images to sub-pixel precision."
   ]
  },
  {
   "cell_type": "markdown",
   "metadata": {},
   "source": [
    "- Here we will generate a (single) filtered image and plot it just for reference."
   ]
  },
  {
   "cell_type": "code",
   "execution_count": 18,
   "metadata": {},
   "outputs": [
    {
     "data": {
      "text/plain": [
       "<matplotlib.image.AxesImage at 0x25f9568fac8>"
      ]
     },
     "execution_count": 18,
     "metadata": {},
     "output_type": "execute_result"
    },
    {
     "data": {
      "image/png": "[encoded data removed]",
      "text/plain": [
       "<Figure size 432x288 with 1 Axes>"
      ]
     },
     "metadata": {
      "needs_background": "light"
     },
     "output_type": "display_data"
    }
   ],
   "source": [
    "%matplotlib inline\n",
    "\n",
    "ref = gaussian(sobel(s.data[2,:,:]),1.5)\n",
    "im = gaussian(sobel(s.data[3,:,:]),1.5)\n",
    "h0= np.hanning(np.size(ref,0))\n",
    "h1= np.hanning(np.size(ref,1))\n",
    "hann2d = np.sqrt(np.outer(h0,h1))\n",
    "ref= hann2d*ref\n",
    "im = hann2d*im\n",
    "\n",
    "plt.imshow(ref)"
   ]
  },
  {
   "cell_type": "markdown",
   "metadata": {},
   "source": [
    "- Now we calculate the shift between a single (filtered) image and its (filtered) reference (note that the reference is just the previous image in the stack)."
   ]
  },
  {
   "cell_type": "code",
   "execution_count": 19,
   "metadata": {},
   "outputs": [
    {
     "name": "stderr",
     "output_type": "stream",
     "text": [
      "C:\\Users\\Sauron\\AppData\\Roaming\\Python\\Python36\\site-packages\\skimage\\feature\\__init__.py:43: skimage_deprecation: Function ``register_translation`` is deprecated and will be removed in version 0.19. Use ``skimage.registration.phase_cross_correlation`` instead.\n",
      "  removed_version='0.19')\n"
     ]
    }
   ],
   "source": [
    "shift, error, diffphase = register_translation(ref,im, 100)"
   ]
  },
  {
   "cell_type": "markdown",
   "metadata": {},
   "source": [
    "- Now we plot the filtered image, its reference, and the phase correlation map - just to see what the algorithm is doing."
   ]
  },
  {
   "cell_type": "code",
   "execution_count": 20,
   "metadata": {},
   "outputs": [
    {
     "data": {
      "image/png": "[encoded data removed]",
      "text/plain": [
       "<Figure size 576x216 with 3 Axes>"
      ]
     },
     "metadata": {
      "needs_background": "light"
     },
     "output_type": "display_data"
    }
   ],
   "source": [
    "fig = plt.figure(figsize=(8, 3))\n",
    "ax1 = plt.subplot(1, 3, 1, adjustable='box')\n",
    "ax2 = plt.subplot(1, 3, 2, sharex=ax1, sharey=ax1, adjustable='box')\n",
    "ax3 = plt.subplot(1, 3, 3)\n",
    "\n",
    "ax1.imshow(ref)\n",
    "ax1.set_axis_off()\n",
    "ax1.set_title('Reference image')\n",
    "\n",
    "ax2.imshow(im)\n",
    "ax2.set_axis_off()\n",
    "ax2.set_title('Offset image')\n",
    "\n",
    "# Multiply the Fourier transforms of the image and reference\n",
    "# Shift the image product so that the zero-frequency component is at the centre\n",
    "image_product = np.fft.fft2(ref) * np.fft.fft2(im).conj()\n",
    "cc_image = np.fft.fftshift(np.fft.ifft2(image_product))\n",
    "ax3.imshow(cc_image.real)\n",
    "ax3.set_axis_off()\n",
    "ax3.set_title(\"Cross-correlation\")\n",
    "\n",
    "plt.show()"
   ]
  },
  {
   "cell_type": "markdown",
   "metadata": {},
   "source": [
    "- Now calculate the shifts for all images in the stack, using processes demonstrated above (this is the first iteration)."
   ]
  },
  {
   "cell_type": "code",
   "execution_count": 21,
   "metadata": {
    "collapsed": true,
    "jupyter": {
     "outputs_hidden": true
    },
    "tags": []
   },
   "outputs": [
    {
     "name": "stderr",
     "output_type": "stream",
     "text": [
      "C:\\Users\\Sauron\\AppData\\Roaming\\Python\\Python36\\site-packages\\skimage\\feature\\__init__.py:43: skimage_deprecation: Function ``register_translation`` is deprecated and will be removed in version 0.19. Use ``skimage.registration.phase_cross_correlation`` instead.\n",
      "  removed_version='0.19')\n",
      "C:\\Users\\Sauron\\AppData\\Roaming\\Python\\Python36\\site-packages\\skimage\\feature\\__init__.py:43: skimage_deprecation: Function ``register_translation`` is deprecated and will be removed in version 0.19. Use ``skimage.registration.phase_cross_correlation`` instead.\n",
      "  removed_version='0.19')\n",
      "C:\\Users\\Sauron\\AppData\\Roaming\\Python\\Python36\\site-packages\\skimage\\feature\\__init__.py:43: skimage_deprecation: Function ``register_translation`` is deprecated and will be removed in version 0.19. Use ``skimage.registration.phase_cross_correlation`` instead.\n",
      "  removed_version='0.19')\n",
      "C:\\Users\\Sauron\\AppData\\Roaming\\Python\\Python36\\site-packages\\skimage\\feature\\__init__.py:43: skimage_deprecation: Function ``register_translation`` is deprecated and will be removed in version 0.19. Use ``skimage.registration.phase_cross_correlation`` instead.\n",
      "  removed_version='0.19')\n",
      "C:\\Users\\Sauron\\AppData\\Roaming\\Python\\Python36\\site-packages\\skimage\\feature\\__init__.py:43: skimage_deprecation: Function ``register_translation`` is deprecated and will be removed in version 0.19. Use ``skimage.registration.phase_cross_correlation`` instead.\n",
      "  removed_version='0.19')\n",
      "C:\\Users\\Sauron\\AppData\\Roaming\\Python\\Python36\\site-packages\\skimage\\feature\\__init__.py:43: skimage_deprecation: Function ``register_translation`` is deprecated and will be removed in version 0.19. Use ``skimage.registration.phase_cross_correlation`` instead.\n",
      "  removed_version='0.19')\n",
      "C:\\Users\\Sauron\\AppData\\Roaming\\Python\\Python36\\site-packages\\skimage\\feature\\__init__.py:43: skimage_deprecation: Function ``register_translation`` is deprecated and will be removed in version 0.19. Use ``skimage.registration.phase_cross_correlation`` instead.\n",
      "  removed_version='0.19')\n",
      "C:\\Users\\Sauron\\AppData\\Roaming\\Python\\Python36\\site-packages\\skimage\\feature\\__init__.py:43: skimage_deprecation: Function ``register_translation`` is deprecated and will be removed in version 0.19. Use ``skimage.registration.phase_cross_correlation`` instead.\n",
      "  removed_version='0.19')\n",
      "C:\\Users\\Sauron\\AppData\\Roaming\\Python\\Python36\\site-packages\\skimage\\feature\\__init__.py:43: skimage_deprecation: Function ``register_translation`` is deprecated and will be removed in version 0.19. Use ``skimage.registration.phase_cross_correlation`` instead.\n",
      "  removed_version='0.19')\n",
      "C:\\Users\\Sauron\\AppData\\Roaming\\Python\\Python36\\site-packages\\skimage\\feature\\__init__.py:43: skimage_deprecation: Function ``register_translation`` is deprecated and will be removed in version 0.19. Use ``skimage.registration.phase_cross_correlation`` instead.\n",
      "  removed_version='0.19')\n",
      "C:\\Users\\Sauron\\AppData\\Roaming\\Python\\Python36\\site-packages\\skimage\\feature\\__init__.py:43: skimage_deprecation: Function ``register_translation`` is deprecated and will be removed in version 0.19. Use ``skimage.registration.phase_cross_correlation`` instead.\n",
      "  removed_version='0.19')\n",
      "C:\\Users\\Sauron\\AppData\\Roaming\\Python\\Python36\\site-packages\\skimage\\feature\\__init__.py:43: skimage_deprecation: Function ``register_translation`` is deprecated and will be removed in version 0.19. Use ``skimage.registration.phase_cross_correlation`` instead.\n",
      "  removed_version='0.19')\n",
      "C:\\Users\\Sauron\\AppData\\Roaming\\Python\\Python36\\site-packages\\skimage\\feature\\__init__.py:43: skimage_deprecation: Function ``register_translation`` is deprecated and will be removed in version 0.19. Use ``skimage.registration.phase_cross_correlation`` instead.\n",
      "  removed_version='0.19')\n",
      "C:\\Users\\Sauron\\AppData\\Roaming\\Python\\Python36\\site-packages\\skimage\\feature\\__init__.py:43: skimage_deprecation: Function ``register_translation`` is deprecated and will be removed in version 0.19. Use ``skimage.registration.phase_cross_correlation`` instead.\n",
      "  removed_version='0.19')\n",
      "C:\\Users\\Sauron\\AppData\\Roaming\\Python\\Python36\\site-packages\\skimage\\feature\\__init__.py:43: skimage_deprecation: Function ``register_translation`` is deprecated and will be removed in version 0.19. Use ``skimage.registration.phase_cross_correlation`` instead.\n",
      "  removed_version='0.19')\n",
      "C:\\Users\\Sauron\\AppData\\Roaming\\Python\\Python36\\site-packages\\skimage\\feature\\__init__.py:43: skimage_deprecation: Function ``register_translation`` is deprecated and will be removed in version 0.19. Use ``skimage.registration.phase_cross_correlation`` instead.\n",
      "  removed_version='0.19')\n",
      "C:\\Users\\Sauron\\AppData\\Roaming\\Python\\Python36\\site-packages\\skimage\\feature\\__init__.py:43: skimage_deprecation: Function ``register_translation`` is deprecated and will be removed in version 0.19. Use ``skimage.registration.phase_cross_correlation`` instead.\n",
      "  removed_version='0.19')\n",
      "C:\\Users\\Sauron\\AppData\\Roaming\\Python\\Python36\\site-packages\\skimage\\feature\\__init__.py:43: skimage_deprecation: Function ``register_translation`` is deprecated and will be removed in version 0.19. Use ``skimage.registration.phase_cross_correlation`` instead.\n",
      "  removed_version='0.19')\n",
      "C:\\Users\\Sauron\\AppData\\Roaming\\Python\\Python36\\site-packages\\skimage\\feature\\__init__.py:43: skimage_deprecation: Function ``register_translation`` is deprecated and will be removed in version 0.19. Use ``skimage.registration.phase_cross_correlation`` instead.\n",
      "  removed_version='0.19')\n",
      "C:\\Users\\Sauron\\AppData\\Roaming\\Python\\Python36\\site-packages\\skimage\\feature\\__init__.py:43: skimage_deprecation: Function ``register_translation`` is deprecated and will be removed in version 0.19. Use ``skimage.registration.phase_cross_correlation`` instead.\n",
      "  removed_version='0.19')\n",
      "C:\\Users\\Sauron\\AppData\\Roaming\\Python\\Python36\\site-packages\\skimage\\feature\\__init__.py:43: skimage_deprecation: Function ``register_translation`` is deprecated and will be removed in version 0.19. Use ``skimage.registration.phase_cross_correlation`` instead.\n",
      "  removed_version='0.19')\n",
      "C:\\Users\\Sauron\\AppData\\Roaming\\Python\\Python36\\site-packages\\skimage\\feature\\__init__.py:43: skimage_deprecation: Function ``register_translation`` is deprecated and will be removed in version 0.19. Use ``skimage.registration.phase_cross_correlation`` instead.\n",
      "  removed_version='0.19')\n",
      "C:\\Users\\Sauron\\AppData\\Roaming\\Python\\Python36\\site-packages\\skimage\\feature\\__init__.py:43: skimage_deprecation: Function ``register_translation`` is deprecated and will be removed in version 0.19. Use ``skimage.registration.phase_cross_correlation`` instead.\n",
      "  removed_version='0.19')\n",
      "C:\\Users\\Sauron\\AppData\\Roaming\\Python\\Python36\\site-packages\\skimage\\feature\\__init__.py:43: skimage_deprecation: Function ``register_translation`` is deprecated and will be removed in version 0.19. Use ``skimage.registration.phase_cross_correlation`` instead.\n",
      "  removed_version='0.19')\n",
      "C:\\Users\\Sauron\\AppData\\Roaming\\Python\\Python36\\site-packages\\skimage\\feature\\__init__.py:43: skimage_deprecation: Function ``register_translation`` is deprecated and will be removed in version 0.19. Use ``skimage.registration.phase_cross_correlation`` instead.\n",
      "  removed_version='0.19')\n",
      "C:\\Users\\Sauron\\AppData\\Roaming\\Python\\Python36\\site-packages\\skimage\\feature\\__init__.py:43: skimage_deprecation: Function ``register_translation`` is deprecated and will be removed in version 0.19. Use ``skimage.registration.phase_cross_correlation`` instead.\n",
      "  removed_version='0.19')\n",
      "C:\\Users\\Sauron\\AppData\\Roaming\\Python\\Python36\\site-packages\\skimage\\feature\\__init__.py:43: skimage_deprecation: Function ``register_translation`` is deprecated and will be removed in version 0.19. Use ``skimage.registration.phase_cross_correlation`` instead.\n",
      "  removed_version='0.19')\n",
      "C:\\Users\\Sauron\\AppData\\Roaming\\Python\\Python36\\site-packages\\skimage\\feature\\__init__.py:43: skimage_deprecation: Function ``register_translation`` is deprecated and will be removed in version 0.19. Use ``skimage.registration.phase_cross_correlation`` instead.\n",
      "  removed_version='0.19')\n",
      "C:\\Users\\Sauron\\AppData\\Roaming\\Python\\Python36\\site-packages\\skimage\\feature\\__init__.py:43: skimage_deprecation: Function ``register_translation`` is deprecated and will be removed in version 0.19. Use ``skimage.registration.phase_cross_correlation`` instead.\n",
      "  removed_version='0.19')\n",
      "C:\\Users\\Sauron\\AppData\\Roaming\\Python\\Python36\\site-packages\\skimage\\feature\\__init__.py:43: skimage_deprecation: Function ``register_translation`` is deprecated and will be removed in version 0.19. Use ``skimage.registration.phase_cross_correlation`` instead.\n",
      "  removed_version='0.19')\n",
      "C:\\Users\\Sauron\\AppData\\Roaming\\Python\\Python36\\site-packages\\skimage\\feature\\__init__.py:43: skimage_deprecation: Function ``register_translation`` is deprecated and will be removed in version 0.19. Use ``skimage.registration.phase_cross_correlation`` instead.\n",
      "  removed_version='0.19')\n",
      "C:\\Users\\Sauron\\AppData\\Roaming\\Python\\Python36\\site-packages\\skimage\\feature\\__init__.py:43: skimage_deprecation: Function ``register_translation`` is deprecated and will be removed in version 0.19. Use ``skimage.registration.phase_cross_correlation`` instead.\n",
      "  removed_version='0.19')\n",
      "C:\\Users\\Sauron\\AppData\\Roaming\\Python\\Python36\\site-packages\\skimage\\feature\\__init__.py:43: skimage_deprecation: Function ``register_translation`` is deprecated and will be removed in version 0.19. Use ``skimage.registration.phase_cross_correlation`` instead.\n",
      "  removed_version='0.19')\n",
      "C:\\Users\\Sauron\\AppData\\Roaming\\Python\\Python36\\site-packages\\skimage\\feature\\__init__.py:43: skimage_deprecation: Function ``register_translation`` is deprecated and will be removed in version 0.19. Use ``skimage.registration.phase_cross_correlation`` instead.\n",
      "  removed_version='0.19')\n",
      "C:\\Users\\Sauron\\AppData\\Roaming\\Python\\Python36\\site-packages\\skimage\\feature\\__init__.py:43: skimage_deprecation: Function ``register_translation`` is deprecated and will be removed in version 0.19. Use ``skimage.registration.phase_cross_correlation`` instead.\n",
      "  removed_version='0.19')\n",
      "C:\\Users\\Sauron\\AppData\\Roaming\\Python\\Python36\\site-packages\\skimage\\feature\\__init__.py:43: skimage_deprecation: Function ``register_translation`` is deprecated and will be removed in version 0.19. Use ``skimage.registration.phase_cross_correlation`` instead.\n",
      "  removed_version='0.19')\n",
      "C:\\Users\\Sauron\\AppData\\Roaming\\Python\\Python36\\site-packages\\skimage\\feature\\__init__.py:43: skimage_deprecation: Function ``register_translation`` is deprecated and will be removed in version 0.19. Use ``skimage.registration.phase_cross_correlation`` instead.\n",
      "  removed_version='0.19')\n",
      "C:\\Users\\Sauron\\AppData\\Roaming\\Python\\Python36\\site-packages\\skimage\\feature\\__init__.py:43: skimage_deprecation: Function ``register_translation`` is deprecated and will be removed in version 0.19. Use ``skimage.registration.phase_cross_correlation`` instead.\n",
      "  removed_version='0.19')\n",
      "C:\\Users\\Sauron\\AppData\\Roaming\\Python\\Python36\\site-packages\\skimage\\feature\\__init__.py:43: skimage_deprecation: Function ``register_translation`` is deprecated and will be removed in version 0.19. Use ``skimage.registration.phase_cross_correlation`` instead.\n",
      "  removed_version='0.19')\n",
      "C:\\Users\\Sauron\\AppData\\Roaming\\Python\\Python36\\site-packages\\skimage\\feature\\__init__.py:43: skimage_deprecation: Function ``register_translation`` is deprecated and will be removed in version 0.19. Use ``skimage.registration.phase_cross_correlation`` instead.\n",
      "  removed_version='0.19')\n",
      "C:\\Users\\Sauron\\AppData\\Roaming\\Python\\Python36\\site-packages\\skimage\\feature\\__init__.py:43: skimage_deprecation: Function ``register_translation`` is deprecated and will be removed in version 0.19. Use ``skimage.registration.phase_cross_correlation`` instead.\n",
      "  removed_version='0.19')\n",
      "C:\\Users\\Sauron\\AppData\\Roaming\\Python\\Python36\\site-packages\\skimage\\feature\\__init__.py:43: skimage_deprecation: Function ``register_translation`` is deprecated and will be removed in version 0.19. Use ``skimage.registration.phase_cross_correlation`` instead.\n",
      "  removed_version='0.19')\n",
      "C:\\Users\\Sauron\\AppData\\Roaming\\Python\\Python36\\site-packages\\skimage\\feature\\__init__.py:43: skimage_deprecation: Function ``register_translation`` is deprecated and will be removed in version 0.19. Use ``skimage.registration.phase_cross_correlation`` instead.\n",
      "  removed_version='0.19')\n",
      "C:\\Users\\Sauron\\AppData\\Roaming\\Python\\Python36\\site-packages\\skimage\\feature\\__init__.py:43: skimage_deprecation: Function ``register_translation`` is deprecated and will be removed in version 0.19. Use ``skimage.registration.phase_cross_correlation`` instead.\n",
      "  removed_version='0.19')\n",
      "C:\\Users\\Sauron\\AppData\\Roaming\\Python\\Python36\\site-packages\\skimage\\feature\\__init__.py:43: skimage_deprecation: Function ``register_translation`` is deprecated and will be removed in version 0.19. Use ``skimage.registration.phase_cross_correlation`` instead.\n",
      "  removed_version='0.19')\n",
      "C:\\Users\\Sauron\\AppData\\Roaming\\Python\\Python36\\site-packages\\skimage\\feature\\__init__.py:43: skimage_deprecation: Function ``register_translation`` is deprecated and will be removed in version 0.19. Use ``skimage.registration.phase_cross_correlation`` instead.\n",
      "  removed_version='0.19')\n",
      "C:\\Users\\Sauron\\AppData\\Roaming\\Python\\Python36\\site-packages\\skimage\\feature\\__init__.py:43: skimage_deprecation: Function ``register_translation`` is deprecated and will be removed in version 0.19. Use ``skimage.registration.phase_cross_correlation`` instead.\n",
      "  removed_version='0.19')\n",
      "C:\\Users\\Sauron\\AppData\\Roaming\\Python\\Python36\\site-packages\\skimage\\feature\\__init__.py:43: skimage_deprecation: Function ``register_translation`` is deprecated and will be removed in version 0.19. Use ``skimage.registration.phase_cross_correlation`` instead.\n",
      "  removed_version='0.19')\n",
      "C:\\Users\\Sauron\\AppData\\Roaming\\Python\\Python36\\site-packages\\skimage\\feature\\__init__.py:43: skimage_deprecation: Function ``register_translation`` is deprecated and will be removed in version 0.19. Use ``skimage.registration.phase_cross_correlation`` instead.\n",
      "  removed_version='0.19')\n",
      "C:\\Users\\Sauron\\AppData\\Roaming\\Python\\Python36\\site-packages\\skimage\\feature\\__init__.py:43: skimage_deprecation: Function ``register_translation`` is deprecated and will be removed in version 0.19. Use ``skimage.registration.phase_cross_correlation`` instead.\n",
      "  removed_version='0.19')\n",
      "C:\\Users\\Sauron\\AppData\\Roaming\\Python\\Python36\\site-packages\\skimage\\feature\\__init__.py:43: skimage_deprecation: Function ``register_translation`` is deprecated and will be removed in version 0.19. Use ``skimage.registration.phase_cross_correlation`` instead.\n",
      "  removed_version='0.19')\n",
      "C:\\Users\\Sauron\\AppData\\Roaming\\Python\\Python36\\site-packages\\skimage\\feature\\__init__.py:43: skimage_deprecation: Function ``register_translation`` is deprecated and will be removed in version 0.19. Use ``skimage.registration.phase_cross_correlation`` instead.\n",
      "  removed_version='0.19')\n",
      "C:\\Users\\Sauron\\AppData\\Roaming\\Python\\Python36\\site-packages\\skimage\\feature\\__init__.py:43: skimage_deprecation: Function ``register_translation`` is deprecated and will be removed in version 0.19. Use ``skimage.registration.phase_cross_correlation`` instead.\n",
      "  removed_version='0.19')\n",
      "C:\\Users\\Sauron\\AppData\\Roaming\\Python\\Python36\\site-packages\\skimage\\feature\\__init__.py:43: skimage_deprecation: Function ``register_translation`` is deprecated and will be removed in version 0.19. Use ``skimage.registration.phase_cross_correlation`` instead.\n",
      "  removed_version='0.19')\n",
      "C:\\Users\\Sauron\\AppData\\Roaming\\Python\\Python36\\site-packages\\skimage\\feature\\__init__.py:43: skimage_deprecation: Function ``register_translation`` is deprecated and will be removed in version 0.19. Use ``skimage.registration.phase_cross_correlation`` instead.\n",
      "  removed_version='0.19')\n",
      "C:\\Users\\Sauron\\AppData\\Roaming\\Python\\Python36\\site-packages\\skimage\\feature\\__init__.py:43: skimage_deprecation: Function ``register_translation`` is deprecated and will be removed in version 0.19. Use ``skimage.registration.phase_cross_correlation`` instead.\n",
      "  removed_version='0.19')\n",
      "C:\\Users\\Sauron\\AppData\\Roaming\\Python\\Python36\\site-packages\\skimage\\feature\\__init__.py:43: skimage_deprecation: Function ``register_translation`` is deprecated and will be removed in version 0.19. Use ``skimage.registration.phase_cross_correlation`` instead.\n",
      "  removed_version='0.19')\n",
      "C:\\Users\\Sauron\\AppData\\Roaming\\Python\\Python36\\site-packages\\skimage\\feature\\__init__.py:43: skimage_deprecation: Function ``register_translation`` is deprecated and will be removed in version 0.19. Use ``skimage.registration.phase_cross_correlation`` instead.\n",
      "  removed_version='0.19')\n",
      "C:\\Users\\Sauron\\AppData\\Roaming\\Python\\Python36\\site-packages\\skimage\\feature\\__init__.py:43: skimage_deprecation: Function ``register_translation`` is deprecated and will be removed in version 0.19. Use ``skimage.registration.phase_cross_correlation`` instead.\n",
      "  removed_version='0.19')\n",
      "C:\\Users\\Sauron\\AppData\\Roaming\\Python\\Python36\\site-packages\\skimage\\feature\\__init__.py:43: skimage_deprecation: Function ``register_translation`` is deprecated and will be removed in version 0.19. Use ``skimage.registration.phase_cross_correlation`` instead.\n",
      "  removed_version='0.19')\n",
      "C:\\Users\\Sauron\\AppData\\Roaming\\Python\\Python36\\site-packages\\skimage\\feature\\__init__.py:43: skimage_deprecation: Function ``register_translation`` is deprecated and will be removed in version 0.19. Use ``skimage.registration.phase_cross_correlation`` instead.\n",
      "  removed_version='0.19')\n",
      "C:\\Users\\Sauron\\AppData\\Roaming\\Python\\Python36\\site-packages\\skimage\\feature\\__init__.py:43: skimage_deprecation: Function ``register_translation`` is deprecated and will be removed in version 0.19. Use ``skimage.registration.phase_cross_correlation`` instead.\n",
      "  removed_version='0.19')\n",
      "C:\\Users\\Sauron\\AppData\\Roaming\\Python\\Python36\\site-packages\\skimage\\feature\\__init__.py:43: skimage_deprecation: Function ``register_translation`` is deprecated and will be removed in version 0.19. Use ``skimage.registration.phase_cross_correlation`` instead.\n",
      "  removed_version='0.19')\n",
      "C:\\Users\\Sauron\\AppData\\Roaming\\Python\\Python36\\site-packages\\skimage\\feature\\__init__.py:43: skimage_deprecation: Function ``register_translation`` is deprecated and will be removed in version 0.19. Use ``skimage.registration.phase_cross_correlation`` instead.\n",
      "  removed_version='0.19')\n",
      "C:\\Users\\Sauron\\AppData\\Roaming\\Python\\Python36\\site-packages\\skimage\\feature\\__init__.py:43: skimage_deprecation: Function ``register_translation`` is deprecated and will be removed in version 0.19. Use ``skimage.registration.phase_cross_correlation`` instead.\n",
      "  removed_version='0.19')\n",
      "C:\\Users\\Sauron\\AppData\\Roaming\\Python\\Python36\\site-packages\\skimage\\feature\\__init__.py:43: skimage_deprecation: Function ``register_translation`` is deprecated and will be removed in version 0.19. Use ``skimage.registration.phase_cross_correlation`` instead.\n",
      "  removed_version='0.19')\n",
      "C:\\Users\\Sauron\\AppData\\Roaming\\Python\\Python36\\site-packages\\skimage\\feature\\__init__.py:43: skimage_deprecation: Function ``register_translation`` is deprecated and will be removed in version 0.19. Use ``skimage.registration.phase_cross_correlation`` instead.\n",
      "  removed_version='0.19')\n",
      "C:\\Users\\Sauron\\AppData\\Roaming\\Python\\Python36\\site-packages\\skimage\\feature\\__init__.py:43: skimage_deprecation: Function ``register_translation`` is deprecated and will be removed in version 0.19. Use ``skimage.registration.phase_cross_correlation`` instead.\n",
      "  removed_version='0.19')\n",
      "C:\\Users\\Sauron\\AppData\\Roaming\\Python\\Python36\\site-packages\\skimage\\feature\\__init__.py:43: skimage_deprecation: Function ``register_translation`` is deprecated and will be removed in version 0.19. Use ``skimage.registration.phase_cross_correlation`` instead.\n",
      "  removed_version='0.19')\n",
      "C:\\Users\\Sauron\\AppData\\Roaming\\Python\\Python36\\site-packages\\skimage\\feature\\__init__.py:43: skimage_deprecation: Function ``register_translation`` is deprecated and will be removed in version 0.19. Use ``skimage.registration.phase_cross_correlation`` instead.\n",
      "  removed_version='0.19')\n",
      "C:\\Users\\Sauron\\AppData\\Roaming\\Python\\Python36\\site-packages\\skimage\\feature\\__init__.py:43: skimage_deprecation: Function ``register_translation`` is deprecated and will be removed in version 0.19. Use ``skimage.registration.phase_cross_correlation`` instead.\n",
      "  removed_version='0.19')\n",
      "C:\\Users\\Sauron\\AppData\\Roaming\\Python\\Python36\\site-packages\\skimage\\feature\\__init__.py:43: skimage_deprecation: Function ``register_translation`` is deprecated and will be removed in version 0.19. Use ``skimage.registration.phase_cross_correlation`` instead.\n",
      "  removed_version='0.19')\n",
      "C:\\Users\\Sauron\\AppData\\Roaming\\Python\\Python36\\site-packages\\skimage\\feature\\__init__.py:43: skimage_deprecation: Function ``register_translation`` is deprecated and will be removed in version 0.19. Use ``skimage.registration.phase_cross_correlation`` instead.\n",
      "  removed_version='0.19')\n",
      "C:\\Users\\Sauron\\AppData\\Roaming\\Python\\Python36\\site-packages\\skimage\\feature\\__init__.py:43: skimage_deprecation: Function ``register_translation`` is deprecated and will be removed in version 0.19. Use ``skimage.registration.phase_cross_correlation`` instead.\n",
      "  removed_version='0.19')\n",
      "C:\\Users\\Sauron\\AppData\\Roaming\\Python\\Python36\\site-packages\\skimage\\feature\\__init__.py:43: skimage_deprecation: Function ``register_translation`` is deprecated and will be removed in version 0.19. Use ``skimage.registration.phase_cross_correlation`` instead.\n",
      "  removed_version='0.19')\n",
      "C:\\Users\\Sauron\\AppData\\Roaming\\Python\\Python36\\site-packages\\skimage\\feature\\__init__.py:43: skimage_deprecation: Function ``register_translation`` is deprecated and will be removed in version 0.19. Use ``skimage.registration.phase_cross_correlation`` instead.\n",
      "  removed_version='0.19')\n",
      "C:\\Users\\Sauron\\AppData\\Roaming\\Python\\Python36\\site-packages\\skimage\\feature\\__init__.py:43: skimage_deprecation: Function ``register_translation`` is deprecated and will be removed in version 0.19. Use ``skimage.registration.phase_cross_correlation`` instead.\n",
      "  removed_version='0.19')\n",
      "C:\\Users\\Sauron\\AppData\\Roaming\\Python\\Python36\\site-packages\\skimage\\feature\\__init__.py:43: skimage_deprecation: Function ``register_translation`` is deprecated and will be removed in version 0.19. Use ``skimage.registration.phase_cross_correlation`` instead.\n",
      "  removed_version='0.19')\n",
      "C:\\Users\\Sauron\\AppData\\Roaming\\Python\\Python36\\site-packages\\skimage\\feature\\__init__.py:43: skimage_deprecation: Function ``register_translation`` is deprecated and will be removed in version 0.19. Use ``skimage.registration.phase_cross_correlation`` instead.\n",
      "  removed_version='0.19')\n",
      "C:\\Users\\Sauron\\AppData\\Roaming\\Python\\Python36\\site-packages\\skimage\\feature\\__init__.py:43: skimage_deprecation: Function ``register_translation`` is deprecated and will be removed in version 0.19. Use ``skimage.registration.phase_cross_correlation`` instead.\n",
      "  removed_version='0.19')\n",
      "C:\\Users\\Sauron\\AppData\\Roaming\\Python\\Python36\\site-packages\\skimage\\feature\\__init__.py:43: skimage_deprecation: Function ``register_translation`` is deprecated and will be removed in version 0.19. Use ``skimage.registration.phase_cross_correlation`` instead.\n",
      "  removed_version='0.19')\n",
      "C:\\Users\\Sauron\\AppData\\Roaming\\Python\\Python36\\site-packages\\skimage\\feature\\__init__.py:43: skimage_deprecation: Function ``register_translation`` is deprecated and will be removed in version 0.19. Use ``skimage.registration.phase_cross_correlation`` instead.\n",
      "  removed_version='0.19')\n",
      "C:\\Users\\Sauron\\AppData\\Roaming\\Python\\Python36\\site-packages\\skimage\\feature\\__init__.py:43: skimage_deprecation: Function ``register_translation`` is deprecated and will be removed in version 0.19. Use ``skimage.registration.phase_cross_correlation`` instead.\n",
      "  removed_version='0.19')\n",
      "C:\\Users\\Sauron\\AppData\\Roaming\\Python\\Python36\\site-packages\\skimage\\feature\\__init__.py:43: skimage_deprecation: Function ``register_translation`` is deprecated and will be removed in version 0.19. Use ``skimage.registration.phase_cross_correlation`` instead.\n",
      "  removed_version='0.19')\n",
      "C:\\Users\\Sauron\\AppData\\Roaming\\Python\\Python36\\site-packages\\skimage\\feature\\__init__.py:43: skimage_deprecation: Function ``register_translation`` is deprecated and will be removed in version 0.19. Use ``skimage.registration.phase_cross_correlation`` instead.\n",
      "  removed_version='0.19')\n",
      "C:\\Users\\Sauron\\AppData\\Roaming\\Python\\Python36\\site-packages\\skimage\\feature\\__init__.py:43: skimage_deprecation: Function ``register_translation`` is deprecated and will be removed in version 0.19. Use ``skimage.registration.phase_cross_correlation`` instead.\n",
      "  removed_version='0.19')\n",
      "C:\\Users\\Sauron\\AppData\\Roaming\\Python\\Python36\\site-packages\\skimage\\feature\\__init__.py:43: skimage_deprecation: Function ``register_translation`` is deprecated and will be removed in version 0.19. Use ``skimage.registration.phase_cross_correlation`` instead.\n",
      "  removed_version='0.19')\n",
      "C:\\Users\\Sauron\\AppData\\Roaming\\Python\\Python36\\site-packages\\skimage\\feature\\__init__.py:43: skimage_deprecation: Function ``register_translation`` is deprecated and will be removed in version 0.19. Use ``skimage.registration.phase_cross_correlation`` instead.\n",
      "  removed_version='0.19')\n",
      "C:\\Users\\Sauron\\AppData\\Roaming\\Python\\Python36\\site-packages\\skimage\\feature\\__init__.py:43: skimage_deprecation: Function ``register_translation`` is deprecated and will be removed in version 0.19. Use ``skimage.registration.phase_cross_correlation`` instead.\n",
      "  removed_version='0.19')\n",
      "C:\\Users\\Sauron\\AppData\\Roaming\\Python\\Python36\\site-packages\\skimage\\feature\\__init__.py:43: skimage_deprecation: Function ``register_translation`` is deprecated and will be removed in version 0.19. Use ``skimage.registration.phase_cross_correlation`` instead.\n",
      "  removed_version='0.19')\n",
      "C:\\Users\\Sauron\\AppData\\Roaming\\Python\\Python36\\site-packages\\skimage\\feature\\__init__.py:43: skimage_deprecation: Function ``register_translation`` is deprecated and will be removed in version 0.19. Use ``skimage.registration.phase_cross_correlation`` instead.\n",
      "  removed_version='0.19')\n",
      "C:\\Users\\Sauron\\AppData\\Roaming\\Python\\Python36\\site-packages\\skimage\\feature\\__init__.py:43: skimage_deprecation: Function ``register_translation`` is deprecated and will be removed in version 0.19. Use ``skimage.registration.phase_cross_correlation`` instead.\n",
      "  removed_version='0.19')\n",
      "C:\\Users\\Sauron\\AppData\\Roaming\\Python\\Python36\\site-packages\\skimage\\feature\\__init__.py:43: skimage_deprecation: Function ``register_translation`` is deprecated and will be removed in version 0.19. Use ``skimage.registration.phase_cross_correlation`` instead.\n",
      "  removed_version='0.19')\n",
      "C:\\Users\\Sauron\\AppData\\Roaming\\Python\\Python36\\site-packages\\skimage\\feature\\__init__.py:43: skimage_deprecation: Function ``register_translation`` is deprecated and will be removed in version 0.19. Use ``skimage.registration.phase_cross_correlation`` instead.\n",
      "  removed_version='0.19')\n",
      "C:\\Users\\Sauron\\AppData\\Roaming\\Python\\Python36\\site-packages\\skimage\\feature\\__init__.py:43: skimage_deprecation: Function ``register_translation`` is deprecated and will be removed in version 0.19. Use ``skimage.registration.phase_cross_correlation`` instead.\n",
      "  removed_version='0.19')\n",
      "C:\\Users\\Sauron\\AppData\\Roaming\\Python\\Python36\\site-packages\\skimage\\feature\\__init__.py:43: skimage_deprecation: Function ``register_translation`` is deprecated and will be removed in version 0.19. Use ``skimage.registration.phase_cross_correlation`` instead.\n",
      "  removed_version='0.19')\n",
      "C:\\Users\\Sauron\\AppData\\Roaming\\Python\\Python36\\site-packages\\skimage\\feature\\__init__.py:43: skimage_deprecation: Function ``register_translation`` is deprecated and will be removed in version 0.19. Use ``skimage.registration.phase_cross_correlation`` instead.\n",
      "  removed_version='0.19')\n",
      "C:\\Users\\Sauron\\AppData\\Roaming\\Python\\Python36\\site-packages\\skimage\\feature\\__init__.py:43: skimage_deprecation: Function ``register_translation`` is deprecated and will be removed in version 0.19. Use ``skimage.registration.phase_cross_correlation`` instead.\n",
      "  removed_version='0.19')\n"
     ]
    }
   ],
   "source": [
    "numTilts = np.size(s.data,0)\n",
    "shiftList = np.zeros((numTilts,2))\n",
    "for sl in np.arange(0,numTilts-1):\n",
    "    ref = gaussian(sobel(s.data[sl,:,:]),1.5) # reference is sobel filter of previous image\n",
    "    im = gaussian(sobel(s.data[sl+1,:,:]),1.5) # sobel of current image\n",
    "    h0= np.hanning(np.size(ref,0)) # A Hann window is applied to smooth signals, particularly the start and end\n",
    "    h1= np.hanning(np.size(ref,1))\n",
    "    hann2d = np.sqrt(np.outer(h0,h1)) # Create a 2D Hann window\n",
    "    ref = hann2d*ref # Reference becomes Hann Smoothed Sobel signal\n",
    "    im = hann2d*im # Image is also Han smoothed\n",
    "    shift, error, diffphase = register_translation(ref,im, 200) # Calculate shift between image and reference\n",
    "    shiftList[sl+1,:] = shift # Add shift to the list"
   ]
  },
  {
   "cell_type": "markdown",
   "metadata": {},
   "source": [
    "- We now need to calculate the 'universal' shifts (since the alignment is cascade style, the shifts calculated by the cell above are all relative to the previous image in the stack, rather than to the first image)."
   ]
  },
  {
   "cell_type": "code",
   "execution_count": 22,
   "metadata": {},
   "outputs": [],
   "source": [
    "AltShiftList = np.zeros_like(shiftList)\n",
    "\n",
    "AltShiftList[0,:] = shiftList[0,:]\n",
    "\n",
    "for sl in np.arange(0,numTilts-1):\n",
    "    AltShiftList[sl+1,:] = np.sum(shiftList[0:sl+2,:],axis=0)\n",
    "    \n",
    "num_iter = 1\n",
    "TotShift=AltShiftList\n",
    "All_shifts = [AltShiftList]"
   ]
  },
  {
   "cell_type": "markdown",
   "metadata": {},
   "source": [
    "- Apply calculated shifts to the data and plot it."
   ]
  },
  {
   "cell_type": "code",
   "execution_count": 23,
   "metadata": {},
   "outputs": [
    {
     "data": {
      "application/vnd.jupyter.widget-view+json": {
       "model_id": "6c1bb6ae019749a480eebfe678d9418a",
       "version_major": 2,
       "version_minor": 0
      },
      "text/plain": [
       "  0%|          | 0/99 [00:00<?, ?it/s]"
      ]
     },
     "metadata": {},
     "output_type": "display_data"
    }
   ],
   "source": [
    "%matplotlib qt\n",
    "\n",
    "sAlig = s.deepcopy()\n",
    "sAlig.align2D(shifts=-1*(AltShiftList)) \n",
    "sAlig.plot()"
   ]
  },
  {
   "cell_type": "markdown",
   "metadata": {},
   "source": [
    "- The following cell will automatically iterate through the full alignment process\n",
    "- Run this cell as many times as necessary, using the following cell to check progress\n",
    "- Typically three iterations will be pretty close, and six will be very well aligned"
   ]
  },
  {
   "cell_type": "code",
   "execution_count": 24,
   "metadata": {
    "collapsed": true,
    "jupyter": {
     "outputs_hidden": true
    },
    "tags": []
   },
   "outputs": [
    {
     "name": "stderr",
     "output_type": "stream",
     "text": [
      "C:\\Users\\Sauron\\AppData\\Roaming\\Python\\Python36\\site-packages\\skimage\\feature\\__init__.py:43: skimage_deprecation: Function ``register_translation`` is deprecated and will be removed in version 0.19. Use ``skimage.registration.phase_cross_correlation`` instead.\n",
      "  removed_version='0.19')\n",
      "C:\\Users\\Sauron\\AppData\\Roaming\\Python\\Python36\\site-packages\\skimage\\feature\\__init__.py:43: skimage_deprecation: Function ``register_translation`` is deprecated and will be removed in version 0.19. Use ``skimage.registration.phase_cross_correlation`` instead.\n",
      "  removed_version='0.19')\n",
      "C:\\Users\\Sauron\\AppData\\Roaming\\Python\\Python36\\site-packages\\skimage\\feature\\__init__.py:43: skimage_deprecation: Function ``register_translation`` is deprecated and will be removed in version 0.19. Use ``skimage.registration.phase_cross_correlation`` instead.\n",
      "  removed_version='0.19')\n",
      "C:\\Users\\Sauron\\AppData\\Roaming\\Python\\Python36\\site-packages\\skimage\\feature\\__init__.py:43: skimage_deprecation: Function ``register_translation`` is deprecated and will be removed in version 0.19. Use ``skimage.registration.phase_cross_correlation`` instead.\n",
      "  removed_version='0.19')\n",
      "C:\\Users\\Sauron\\AppData\\Roaming\\Python\\Python36\\site-packages\\skimage\\feature\\__init__.py:43: skimage_deprecation: Function ``register_translation`` is deprecated and will be removed in version 0.19. Use ``skimage.registration.phase_cross_correlation`` instead.\n",
      "  removed_version='0.19')\n",
      "C:\\Users\\Sauron\\AppData\\Roaming\\Python\\Python36\\site-packages\\skimage\\feature\\__init__.py:43: skimage_deprecation: Function ``register_translation`` is deprecated and will be removed in version 0.19. Use ``skimage.registration.phase_cross_correlation`` instead.\n",
      "  removed_version='0.19')\n",
      "C:\\Users\\Sauron\\AppData\\Roaming\\Python\\Python36\\site-packages\\skimage\\feature\\__init__.py:43: skimage_deprecation: Function ``register_translation`` is deprecated and will be removed in version 0.19. Use ``skimage.registration.phase_cross_correlation`` instead.\n",
      "  removed_version='0.19')\n",
      "C:\\Users\\Sauron\\AppData\\Roaming\\Python\\Python36\\site-packages\\skimage\\feature\\__init__.py:43: skimage_deprecation: Function ``register_translation`` is deprecated and will be removed in version 0.19. Use ``skimage.registration.phase_cross_correlation`` instead.\n",
      "  removed_version='0.19')\n",
      "C:\\Users\\Sauron\\AppData\\Roaming\\Python\\Python36\\site-packages\\skimage\\feature\\__init__.py:43: skimage_deprecation: Function ``register_translation`` is deprecated and will be removed in version 0.19. Use ``skimage.registration.phase_cross_correlation`` instead.\n",
      "  removed_version='0.19')\n",
      "C:\\Users\\Sauron\\AppData\\Roaming\\Python\\Python36\\site-packages\\skimage\\feature\\__init__.py:43: skimage_deprecation: Function ``register_translation`` is deprecated and will be removed in version 0.19. Use ``skimage.registration.phase_cross_correlation`` instead.\n",
      "  removed_version='0.19')\n",
      "C:\\Users\\Sauron\\AppData\\Roaming\\Python\\Python36\\site-packages\\skimage\\feature\\__init__.py:43: skimage_deprecation: Function ``register_translation`` is deprecated and will be removed in version 0.19. Use ``skimage.registration.phase_cross_correlation`` instead.\n",
      "  removed_version='0.19')\n",
      "C:\\Users\\Sauron\\AppData\\Roaming\\Python\\Python36\\site-packages\\skimage\\feature\\__init__.py:43: skimage_deprecation: Function ``register_translation`` is deprecated and will be removed in version 0.19. Use ``skimage.registration.phase_cross_correlation`` instead.\n",
      "  removed_version='0.19')\n",
      "C:\\Users\\Sauron\\AppData\\Roaming\\Python\\Python36\\site-packages\\skimage\\feature\\__init__.py:43: skimage_deprecation: Function ``register_translation`` is deprecated and will be removed in version 0.19. Use ``skimage.registration.phase_cross_correlation`` instead.\n",
      "  removed_version='0.19')\n",
      "C:\\Users\\Sauron\\AppData\\Roaming\\Python\\Python36\\site-packages\\skimage\\feature\\__init__.py:43: skimage_deprecation: Function ``register_translation`` is deprecated and will be removed in version 0.19. Use ``skimage.registration.phase_cross_correlation`` instead.\n",
      "  removed_version='0.19')\n"
     ]
    },
    {
     "name": "stdout",
     "output_type": "stream",
     "text": [
      "Completed 10 / 99\n"
     ]
    },
    {
     "name": "stderr",
     "output_type": "stream",
     "text": [
      "C:\\Users\\Sauron\\AppData\\Roaming\\Python\\Python36\\site-packages\\skimage\\feature\\__init__.py:43: skimage_deprecation: Function ``register_translation`` is deprecated and will be removed in version 0.19. Use ``skimage.registration.phase_cross_correlation`` instead.\n",
      "  removed_version='0.19')\n",
      "C:\\Users\\Sauron\\AppData\\Roaming\\Python\\Python36\\site-packages\\skimage\\feature\\__init__.py:43: skimage_deprecation: Function ``register_translation`` is deprecated and will be removed in version 0.19. Use ``skimage.registration.phase_cross_correlation`` instead.\n",
      "  removed_version='0.19')\n",
      "C:\\Users\\Sauron\\AppData\\Roaming\\Python\\Python36\\site-packages\\skimage\\feature\\__init__.py:43: skimage_deprecation: Function ``register_translation`` is deprecated and will be removed in version 0.19. Use ``skimage.registration.phase_cross_correlation`` instead.\n",
      "  removed_version='0.19')\n",
      "C:\\Users\\Sauron\\AppData\\Roaming\\Python\\Python36\\site-packages\\skimage\\feature\\__init__.py:43: skimage_deprecation: Function ``register_translation`` is deprecated and will be removed in version 0.19. Use ``skimage.registration.phase_cross_correlation`` instead.\n",
      "  removed_version='0.19')\n",
      "C:\\Users\\Sauron\\AppData\\Roaming\\Python\\Python36\\site-packages\\skimage\\feature\\__init__.py:43: skimage_deprecation: Function ``register_translation`` is deprecated and will be removed in version 0.19. Use ``skimage.registration.phase_cross_correlation`` instead.\n",
      "  removed_version='0.19')\n",
      "C:\\Users\\Sauron\\AppData\\Roaming\\Python\\Python36\\site-packages\\skimage\\feature\\__init__.py:43: skimage_deprecation: Function ``register_translation`` is deprecated and will be removed in version 0.19. Use ``skimage.registration.phase_cross_correlation`` instead.\n",
      "  removed_version='0.19')\n",
      "C:\\Users\\Sauron\\AppData\\Roaming\\Python\\Python36\\site-packages\\skimage\\feature\\__init__.py:43: skimage_deprecation: Function ``register_translation`` is deprecated and will be removed in version 0.19. Use ``skimage.registration.phase_cross_correlation`` instead.\n",
      "  removed_version='0.19')\n",
      "C:\\Users\\Sauron\\AppData\\Roaming\\Python\\Python36\\site-packages\\skimage\\feature\\__init__.py:43: skimage_deprecation: Function ``register_translation`` is deprecated and will be removed in version 0.19. Use ``skimage.registration.phase_cross_correlation`` instead.\n",
      "  removed_version='0.19')\n",
      "C:\\Users\\Sauron\\AppData\\Roaming\\Python\\Python36\\site-packages\\skimage\\feature\\__init__.py:43: skimage_deprecation: Function ``register_translation`` is deprecated and will be removed in version 0.19. Use ``skimage.registration.phase_cross_correlation`` instead.\n",
      "  removed_version='0.19')\n",
      "C:\\Users\\Sauron\\AppData\\Roaming\\Python\\Python36\\site-packages\\skimage\\feature\\__init__.py:43: skimage_deprecation: Function ``register_translation`` is deprecated and will be removed in version 0.19. Use ``skimage.registration.phase_cross_correlation`` instead.\n",
      "  removed_version='0.19')\n"
     ]
    },
    {
     "name": "stdout",
     "output_type": "stream",
     "text": [
      "Completed 20 / 99\n"
     ]
    },
    {
     "name": "stderr",
     "output_type": "stream",
     "text": [
      "C:\\Users\\Sauron\\AppData\\Roaming\\Python\\Python36\\site-packages\\skimage\\feature\\__init__.py:43: skimage_deprecation: Function ``register_translation`` is deprecated and will be removed in version 0.19. Use ``skimage.registration.phase_cross_correlation`` instead.\n",
      "  removed_version='0.19')\n",
      "C:\\Users\\Sauron\\AppData\\Roaming\\Python\\Python36\\site-packages\\skimage\\feature\\__init__.py:43: skimage_deprecation: Function ``register_translation`` is deprecated and will be removed in version 0.19. Use ``skimage.registration.phase_cross_correlation`` instead.\n",
      "  removed_version='0.19')\n",
      "C:\\Users\\Sauron\\AppData\\Roaming\\Python\\Python36\\site-packages\\skimage\\feature\\__init__.py:43: skimage_deprecation: Function ``register_translation`` is deprecated and will be removed in version 0.19. Use ``skimage.registration.phase_cross_correlation`` instead.\n",
      "  removed_version='0.19')\n",
      "C:\\Users\\Sauron\\AppData\\Roaming\\Python\\Python36\\site-packages\\skimage\\feature\\__init__.py:43: skimage_deprecation: Function ``register_translation`` is deprecated and will be removed in version 0.19. Use ``skimage.registration.phase_cross_correlation`` instead.\n",
      "  removed_version='0.19')\n",
      "C:\\Users\\Sauron\\AppData\\Roaming\\Python\\Python36\\site-packages\\skimage\\feature\\__init__.py:43: skimage_deprecation: Function ``register_translation`` is deprecated and will be removed in version 0.19. Use ``skimage.registration.phase_cross_correlation`` instead.\n",
      "  removed_version='0.19')\n",
      "C:\\Users\\Sauron\\AppData\\Roaming\\Python\\Python36\\site-packages\\skimage\\feature\\__init__.py:43: skimage_deprecation: Function ``register_translation`` is deprecated and will be removed in version 0.19. Use ``skimage.registration.phase_cross_correlation`` instead.\n",
      "  removed_version='0.19')\n",
      "C:\\Users\\Sauron\\AppData\\Roaming\\Python\\Python36\\site-packages\\skimage\\feature\\__init__.py:43: skimage_deprecation: Function ``register_translation`` is deprecated and will be removed in version 0.19. Use ``skimage.registration.phase_cross_correlation`` instead.\n",
      "  removed_version='0.19')\n",
      "C:\\Users\\Sauron\\AppData\\Roaming\\Python\\Python36\\site-packages\\skimage\\feature\\__init__.py:43: skimage_deprecation: Function ``register_translation`` is deprecated and will be removed in version 0.19. Use ``skimage.registration.phase_cross_correlation`` instead.\n",
      "  removed_version='0.19')\n",
      "C:\\Users\\Sauron\\AppData\\Roaming\\Python\\Python36\\site-packages\\skimage\\feature\\__init__.py:43: skimage_deprecation: Function ``register_translation`` is deprecated and will be removed in version 0.19. Use ``skimage.registration.phase_cross_correlation`` instead.\n",
      "  removed_version='0.19')\n",
      "C:\\Users\\Sauron\\AppData\\Roaming\\Python\\Python36\\site-packages\\skimage\\feature\\__init__.py:43: skimage_deprecation: Function ``register_translation`` is deprecated and will be removed in version 0.19. Use ``skimage.registration.phase_cross_correlation`` instead.\n",
      "  removed_version='0.19')\n"
     ]
    },
    {
     "name": "stdout",
     "output_type": "stream",
     "text": [
      "Completed 30 / 99\n"
     ]
    },
    {
     "name": "stderr",
     "output_type": "stream",
     "text": [
      "C:\\Users\\Sauron\\AppData\\Roaming\\Python\\Python36\\site-packages\\skimage\\feature\\__init__.py:43: skimage_deprecation: Function ``register_translation`` is deprecated and will be removed in version 0.19. Use ``skimage.registration.phase_cross_correlation`` instead.\n",
      "  removed_version='0.19')\n",
      "C:\\Users\\Sauron\\AppData\\Roaming\\Python\\Python36\\site-packages\\skimage\\feature\\__init__.py:43: skimage_deprecation: Function ``register_translation`` is deprecated and will be removed in version 0.19. Use ``skimage.registration.phase_cross_correlation`` instead.\n",
      "  removed_version='0.19')\n",
      "C:\\Users\\Sauron\\AppData\\Roaming\\Python\\Python36\\site-packages\\skimage\\feature\\__init__.py:43: skimage_deprecation: Function ``register_translation`` is deprecated and will be removed in version 0.19. Use ``skimage.registration.phase_cross_correlation`` instead.\n",
      "  removed_version='0.19')\n",
      "C:\\Users\\Sauron\\AppData\\Roaming\\Python\\Python36\\site-packages\\skimage\\feature\\__init__.py:43: skimage_deprecation: Function ``register_translation`` is deprecated and will be removed in version 0.19. Use ``skimage.registration.phase_cross_correlation`` instead.\n",
      "  removed_version='0.19')\n",
      "C:\\Users\\Sauron\\AppData\\Roaming\\Python\\Python36\\site-packages\\skimage\\feature\\__init__.py:43: skimage_deprecation: Function ``register_translation`` is deprecated and will be removed in version 0.19. Use ``skimage.registration.phase_cross_correlation`` instead.\n",
      "  removed_version='0.19')\n",
      "C:\\Users\\Sauron\\AppData\\Roaming\\Python\\Python36\\site-packages\\skimage\\feature\\__init__.py:43: skimage_deprecation: Function ``register_translation`` is deprecated and will be removed in version 0.19. Use ``skimage.registration.phase_cross_correlation`` instead.\n",
      "  removed_version='0.19')\n",
      "C:\\Users\\Sauron\\AppData\\Roaming\\Python\\Python36\\site-packages\\skimage\\feature\\__init__.py:43: skimage_deprecation: Function ``register_translation`` is deprecated and will be removed in version 0.19. Use ``skimage.registration.phase_cross_correlation`` instead.\n",
      "  removed_version='0.19')\n",
      "C:\\Users\\Sauron\\AppData\\Roaming\\Python\\Python36\\site-packages\\skimage\\feature\\__init__.py:43: skimage_deprecation: Function ``register_translation`` is deprecated and will be removed in version 0.19. Use ``skimage.registration.phase_cross_correlation`` instead.\n",
      "  removed_version='0.19')\n",
      "C:\\Users\\Sauron\\AppData\\Roaming\\Python\\Python36\\site-packages\\skimage\\feature\\__init__.py:43: skimage_deprecation: Function ``register_translation`` is deprecated and will be removed in version 0.19. Use ``skimage.registration.phase_cross_correlation`` instead.\n",
      "  removed_version='0.19')\n"
     ]
    },
    {
     "name": "stdout",
     "output_type": "stream",
     "text": [
      "Completed 40 / 99\n"
     ]
    },
    {
     "name": "stderr",
     "output_type": "stream",
     "text": [
      "C:\\Users\\Sauron\\AppData\\Roaming\\Python\\Python36\\site-packages\\skimage\\feature\\__init__.py:43: skimage_deprecation: Function ``register_translation`` is deprecated and will be removed in version 0.19. Use ``skimage.registration.phase_cross_correlation`` instead.\n",
      "  removed_version='0.19')\n",
      "C:\\Users\\Sauron\\AppData\\Roaming\\Python\\Python36\\site-packages\\skimage\\feature\\__init__.py:43: skimage_deprecation: Function ``register_translation`` is deprecated and will be removed in version 0.19. Use ``skimage.registration.phase_cross_correlation`` instead.\n",
      "  removed_version='0.19')\n",
      "C:\\Users\\Sauron\\AppData\\Roaming\\Python\\Python36\\site-packages\\skimage\\feature\\__init__.py:43: skimage_deprecation: Function ``register_translation`` is deprecated and will be removed in version 0.19. Use ``skimage.registration.phase_cross_correlation`` instead.\n",
      "  removed_version='0.19')\n",
      "C:\\Users\\Sauron\\AppData\\Roaming\\Python\\Python36\\site-packages\\skimage\\feature\\__init__.py:43: skimage_deprecation: Function ``register_translation`` is deprecated and will be removed in version 0.19. Use ``skimage.registration.phase_cross_correlation`` instead.\n",
      "  removed_version='0.19')\n",
      "C:\\Users\\Sauron\\AppData\\Roaming\\Python\\Python36\\site-packages\\skimage\\feature\\__init__.py:43: skimage_deprecation: Function ``register_translation`` is deprecated and will be removed in version 0.19. Use ``skimage.registration.phase_cross_correlation`` instead.\n",
      "  removed_version='0.19')\n",
      "C:\\Users\\Sauron\\AppData\\Roaming\\Python\\Python36\\site-packages\\skimage\\feature\\__init__.py:43: skimage_deprecation: Function ``register_translation`` is deprecated and will be removed in version 0.19. Use ``skimage.registration.phase_cross_correlation`` instead.\n",
      "  removed_version='0.19')\n",
      "C:\\Users\\Sauron\\AppData\\Roaming\\Python\\Python36\\site-packages\\skimage\\feature\\__init__.py:43: skimage_deprecation: Function ``register_translation`` is deprecated and will be removed in version 0.19. Use ``skimage.registration.phase_cross_correlation`` instead.\n",
      "  removed_version='0.19')\n",
      "C:\\Users\\Sauron\\AppData\\Roaming\\Python\\Python36\\site-packages\\skimage\\feature\\__init__.py:43: skimage_deprecation: Function ``register_translation`` is deprecated and will be removed in version 0.19. Use ``skimage.registration.phase_cross_correlation`` instead.\n",
      "  removed_version='0.19')\n",
      "C:\\Users\\Sauron\\AppData\\Roaming\\Python\\Python36\\site-packages\\skimage\\feature\\__init__.py:43: skimage_deprecation: Function ``register_translation`` is deprecated and will be removed in version 0.19. Use ``skimage.registration.phase_cross_correlation`` instead.\n",
      "  removed_version='0.19')\n",
      "C:\\Users\\Sauron\\AppData\\Roaming\\Python\\Python36\\site-packages\\skimage\\feature\\__init__.py:43: skimage_deprecation: Function ``register_translation`` is deprecated and will be removed in version 0.19. Use ``skimage.registration.phase_cross_correlation`` instead.\n",
      "  removed_version='0.19')\n"
     ]
    },
    {
     "name": "stdout",
     "output_type": "stream",
     "text": [
      "Completed 50 / 99\n"
     ]
    },
    {
     "name": "stderr",
     "output_type": "stream",
     "text": [
      "C:\\Users\\Sauron\\AppData\\Roaming\\Python\\Python36\\site-packages\\skimage\\feature\\__init__.py:43: skimage_deprecation: Function ``register_translation`` is deprecated and will be removed in version 0.19. Use ``skimage.registration.phase_cross_correlation`` instead.\n",
      "  removed_version='0.19')\n",
      "C:\\Users\\Sauron\\AppData\\Roaming\\Python\\Python36\\site-packages\\skimage\\feature\\__init__.py:43: skimage_deprecation: Function ``register_translation`` is deprecated and will be removed in version 0.19. Use ``skimage.registration.phase_cross_correlation`` instead.\n",
      "  removed_version='0.19')\n",
      "C:\\Users\\Sauron\\AppData\\Roaming\\Python\\Python36\\site-packages\\skimage\\feature\\__init__.py:43: skimage_deprecation: Function ``register_translation`` is deprecated and will be removed in version 0.19. Use ``skimage.registration.phase_cross_correlation`` instead.\n",
      "  removed_version='0.19')\n",
      "C:\\Users\\Sauron\\AppData\\Roaming\\Python\\Python36\\site-packages\\skimage\\feature\\__init__.py:43: skimage_deprecation: Function ``register_translation`` is deprecated and will be removed in version 0.19. Use ``skimage.registration.phase_cross_correlation`` instead.\n",
      "  removed_version='0.19')\n",
      "C:\\Users\\Sauron\\AppData\\Roaming\\Python\\Python36\\site-packages\\skimage\\feature\\__init__.py:43: skimage_deprecation: Function ``register_translation`` is deprecated and will be removed in version 0.19. Use ``skimage.registration.phase_cross_correlation`` instead.\n",
      "  removed_version='0.19')\n",
      "C:\\Users\\Sauron\\AppData\\Roaming\\Python\\Python36\\site-packages\\skimage\\feature\\__init__.py:43: skimage_deprecation: Function ``register_translation`` is deprecated and will be removed in version 0.19. Use ``skimage.registration.phase_cross_correlation`` instead.\n",
      "  removed_version='0.19')\n",
      "C:\\Users\\Sauron\\AppData\\Roaming\\Python\\Python36\\site-packages\\skimage\\feature\\__init__.py:43: skimage_deprecation: Function ``register_translation`` is deprecated and will be removed in version 0.19. Use ``skimage.registration.phase_cross_correlation`` instead.\n",
      "  removed_version='0.19')\n",
      "C:\\Users\\Sauron\\AppData\\Roaming\\Python\\Python36\\site-packages\\skimage\\feature\\__init__.py:43: skimage_deprecation: Function ``register_translation`` is deprecated and will be removed in version 0.19. Use ``skimage.registration.phase_cross_correlation`` instead.\n",
      "  removed_version='0.19')\n",
      "C:\\Users\\Sauron\\AppData\\Roaming\\Python\\Python36\\site-packages\\skimage\\feature\\__init__.py:43: skimage_deprecation: Function ``register_translation`` is deprecated and will be removed in version 0.19. Use ``skimage.registration.phase_cross_correlation`` instead.\n",
      "  removed_version='0.19')\n"
     ]
    },
    {
     "name": "stdout",
     "output_type": "stream",
     "text": [
      "Completed 60 / 99\n"
     ]
    },
    {
     "name": "stderr",
     "output_type": "stream",
     "text": [
      "C:\\Users\\Sauron\\AppData\\Roaming\\Python\\Python36\\site-packages\\skimage\\feature\\__init__.py:43: skimage_deprecation: Function ``register_translation`` is deprecated and will be removed in version 0.19. Use ``skimage.registration.phase_cross_correlation`` instead.\n",
      "  removed_version='0.19')\n",
      "C:\\Users\\Sauron\\AppData\\Roaming\\Python\\Python36\\site-packages\\skimage\\feature\\__init__.py:43: skimage_deprecation: Function ``register_translation`` is deprecated and will be removed in version 0.19. Use ``skimage.registration.phase_cross_correlation`` instead.\n",
      "  removed_version='0.19')\n",
      "C:\\Users\\Sauron\\AppData\\Roaming\\Python\\Python36\\site-packages\\skimage\\feature\\__init__.py:43: skimage_deprecation: Function ``register_translation`` is deprecated and will be removed in version 0.19. Use ``skimage.registration.phase_cross_correlation`` instead.\n",
      "  removed_version='0.19')\n",
      "C:\\Users\\Sauron\\AppData\\Roaming\\Python\\Python36\\site-packages\\skimage\\feature\\__init__.py:43: skimage_deprecation: Function ``register_translation`` is deprecated and will be removed in version 0.19. Use ``skimage.registration.phase_cross_correlation`` instead.\n",
      "  removed_version='0.19')\n",
      "C:\\Users\\Sauron\\AppData\\Roaming\\Python\\Python36\\site-packages\\skimage\\feature\\__init__.py:43: skimage_deprecation: Function ``register_translation`` is deprecated and will be removed in version 0.19. Use ``skimage.registration.phase_cross_correlation`` instead.\n",
      "  removed_version='0.19')\n",
      "C:\\Users\\Sauron\\AppData\\Roaming\\Python\\Python36\\site-packages\\skimage\\feature\\__init__.py:43: skimage_deprecation: Function ``register_translation`` is deprecated and will be removed in version 0.19. Use ``skimage.registration.phase_cross_correlation`` instead.\n",
      "  removed_version='0.19')\n",
      "C:\\Users\\Sauron\\AppData\\Roaming\\Python\\Python36\\site-packages\\skimage\\feature\\__init__.py:43: skimage_deprecation: Function ``register_translation`` is deprecated and will be removed in version 0.19. Use ``skimage.registration.phase_cross_correlation`` instead.\n",
      "  removed_version='0.19')\n",
      "C:\\Users\\Sauron\\AppData\\Roaming\\Python\\Python36\\site-packages\\skimage\\feature\\__init__.py:43: skimage_deprecation: Function ``register_translation`` is deprecated and will be removed in version 0.19. Use ``skimage.registration.phase_cross_correlation`` instead.\n",
      "  removed_version='0.19')\n",
      "C:\\Users\\Sauron\\AppData\\Roaming\\Python\\Python36\\site-packages\\skimage\\feature\\__init__.py:43: skimage_deprecation: Function ``register_translation`` is deprecated and will be removed in version 0.19. Use ``skimage.registration.phase_cross_correlation`` instead.\n",
      "  removed_version='0.19')\n",
      "C:\\Users\\Sauron\\AppData\\Roaming\\Python\\Python36\\site-packages\\skimage\\feature\\__init__.py:43: skimage_deprecation: Function ``register_translation`` is deprecated and will be removed in version 0.19. Use ``skimage.registration.phase_cross_correlation`` instead.\n",
      "  removed_version='0.19')\n"
     ]
    },
    {
     "name": "stdout",
     "output_type": "stream",
     "text": [
      "Completed 70 / 99\n"
     ]
    },
    {
     "name": "stderr",
     "output_type": "stream",
     "text": [
      "C:\\Users\\Sauron\\AppData\\Roaming\\Python\\Python36\\site-packages\\skimage\\feature\\__init__.py:43: skimage_deprecation: Function ``register_translation`` is deprecated and will be removed in version 0.19. Use ``skimage.registration.phase_cross_correlation`` instead.\n",
      "  removed_version='0.19')\n",
      "C:\\Users\\Sauron\\AppData\\Roaming\\Python\\Python36\\site-packages\\skimage\\feature\\__init__.py:43: skimage_deprecation: Function ``register_translation`` is deprecated and will be removed in version 0.19. Use ``skimage.registration.phase_cross_correlation`` instead.\n",
      "  removed_version='0.19')\n",
      "C:\\Users\\Sauron\\AppData\\Roaming\\Python\\Python36\\site-packages\\skimage\\feature\\__init__.py:43: skimage_deprecation: Function ``register_translation`` is deprecated and will be removed in version 0.19. Use ``skimage.registration.phase_cross_correlation`` instead.\n",
      "  removed_version='0.19')\n",
      "C:\\Users\\Sauron\\AppData\\Roaming\\Python\\Python36\\site-packages\\skimage\\feature\\__init__.py:43: skimage_deprecation: Function ``register_translation`` is deprecated and will be removed in version 0.19. Use ``skimage.registration.phase_cross_correlation`` instead.\n",
      "  removed_version='0.19')\n",
      "C:\\Users\\Sauron\\AppData\\Roaming\\Python\\Python36\\site-packages\\skimage\\feature\\__init__.py:43: skimage_deprecation: Function ``register_translation`` is deprecated and will be removed in version 0.19. Use ``skimage.registration.phase_cross_correlation`` instead.\n",
      "  removed_version='0.19')\n",
      "C:\\Users\\Sauron\\AppData\\Roaming\\Python\\Python36\\site-packages\\skimage\\feature\\__init__.py:43: skimage_deprecation: Function ``register_translation`` is deprecated and will be removed in version 0.19. Use ``skimage.registration.phase_cross_correlation`` instead.\n",
      "  removed_version='0.19')\n",
      "C:\\Users\\Sauron\\AppData\\Roaming\\Python\\Python36\\site-packages\\skimage\\feature\\__init__.py:43: skimage_deprecation: Function ``register_translation`` is deprecated and will be removed in version 0.19. Use ``skimage.registration.phase_cross_correlation`` instead.\n",
      "  removed_version='0.19')\n",
      "C:\\Users\\Sauron\\AppData\\Roaming\\Python\\Python36\\site-packages\\skimage\\feature\\__init__.py:43: skimage_deprecation: Function ``register_translation`` is deprecated and will be removed in version 0.19. Use ``skimage.registration.phase_cross_correlation`` instead.\n",
      "  removed_version='0.19')\n"
     ]
    },
    {
     "name": "stdout",
     "output_type": "stream",
     "text": [
      "Completed 80 / 99\n"
     ]
    },
    {
     "name": "stderr",
     "output_type": "stream",
     "text": [
      "C:\\Users\\Sauron\\AppData\\Roaming\\Python\\Python36\\site-packages\\skimage\\feature\\__init__.py:43: skimage_deprecation: Function ``register_translation`` is deprecated and will be removed in version 0.19. Use ``skimage.registration.phase_cross_correlation`` instead.\n",
      "  removed_version='0.19')\n",
      "C:\\Users\\Sauron\\AppData\\Roaming\\Python\\Python36\\site-packages\\skimage\\feature\\__init__.py:43: skimage_deprecation: Function ``register_translation`` is deprecated and will be removed in version 0.19. Use ``skimage.registration.phase_cross_correlation`` instead.\n",
      "  removed_version='0.19')\n",
      "C:\\Users\\Sauron\\AppData\\Roaming\\Python\\Python36\\site-packages\\skimage\\feature\\__init__.py:43: skimage_deprecation: Function ``register_translation`` is deprecated and will be removed in version 0.19. Use ``skimage.registration.phase_cross_correlation`` instead.\n",
      "  removed_version='0.19')\n",
      "C:\\Users\\Sauron\\AppData\\Roaming\\Python\\Python36\\site-packages\\skimage\\feature\\__init__.py:43: skimage_deprecation: Function ``register_translation`` is deprecated and will be removed in version 0.19. Use ``skimage.registration.phase_cross_correlation`` instead.\n",
      "  removed_version='0.19')\n",
      "C:\\Users\\Sauron\\AppData\\Roaming\\Python\\Python36\\site-packages\\skimage\\feature\\__init__.py:43: skimage_deprecation: Function ``register_translation`` is deprecated and will be removed in version 0.19. Use ``skimage.registration.phase_cross_correlation`` instead.\n",
      "  removed_version='0.19')\n",
      "C:\\Users\\Sauron\\AppData\\Roaming\\Python\\Python36\\site-packages\\skimage\\feature\\__init__.py:43: skimage_deprecation: Function ``register_translation`` is deprecated and will be removed in version 0.19. Use ``skimage.registration.phase_cross_correlation`` instead.\n",
      "  removed_version='0.19')\n",
      "C:\\Users\\Sauron\\AppData\\Roaming\\Python\\Python36\\site-packages\\skimage\\feature\\__init__.py:43: skimage_deprecation: Function ``register_translation`` is deprecated and will be removed in version 0.19. Use ``skimage.registration.phase_cross_correlation`` instead.\n",
      "  removed_version='0.19')\n",
      "C:\\Users\\Sauron\\AppData\\Roaming\\Python\\Python36\\site-packages\\skimage\\feature\\__init__.py:43: skimage_deprecation: Function ``register_translation`` is deprecated and will be removed in version 0.19. Use ``skimage.registration.phase_cross_correlation`` instead.\n",
      "  removed_version='0.19')\n",
      "C:\\Users\\Sauron\\AppData\\Roaming\\Python\\Python36\\site-packages\\skimage\\feature\\__init__.py:43: skimage_deprecation: Function ``register_translation`` is deprecated and will be removed in version 0.19. Use ``skimage.registration.phase_cross_correlation`` instead.\n",
      "  removed_version='0.19')\n",
      "C:\\Users\\Sauron\\AppData\\Roaming\\Python\\Python36\\site-packages\\skimage\\feature\\__init__.py:43: skimage_deprecation: Function ``register_translation`` is deprecated and will be removed in version 0.19. Use ``skimage.registration.phase_cross_correlation`` instead.\n",
      "  removed_version='0.19')\n",
      "C:\\Users\\Sauron\\AppData\\Roaming\\Python\\Python36\\site-packages\\skimage\\feature\\__init__.py:43: skimage_deprecation: Function ``register_translation`` is deprecated and will be removed in version 0.19. Use ``skimage.registration.phase_cross_correlation`` instead.\n",
      "  removed_version='0.19')\n",
      "C:\\Users\\Sauron\\AppData\\Roaming\\Python\\Python36\\site-packages\\skimage\\feature\\__init__.py:43: skimage_deprecation: Function ``register_translation`` is deprecated and will be removed in version 0.19. Use ``skimage.registration.phase_cross_correlation`` instead.\n",
      "  removed_version='0.19')\n",
      "C:\\Users\\Sauron\\AppData\\Roaming\\Python\\Python36\\site-packages\\skimage\\feature\\__init__.py:43: skimage_deprecation: Function ``register_translation`` is deprecated and will be removed in version 0.19. Use ``skimage.registration.phase_cross_correlation`` instead.\n",
      "  removed_version='0.19')\n"
     ]
    },
    {
     "name": "stdout",
     "output_type": "stream",
     "text": [
      "Completed 90 / 99\n"
     ]
    },
    {
     "name": "stderr",
     "output_type": "stream",
     "text": [
      "C:\\Users\\Sauron\\AppData\\Roaming\\Python\\Python36\\site-packages\\skimage\\feature\\__init__.py:43: skimage_deprecation: Function ``register_translation`` is deprecated and will be removed in version 0.19. Use ``skimage.registration.phase_cross_correlation`` instead.\n",
      "  removed_version='0.19')\n",
      "C:\\Users\\Sauron\\AppData\\Roaming\\Python\\Python36\\site-packages\\skimage\\feature\\__init__.py:43: skimage_deprecation: Function ``register_translation`` is deprecated and will be removed in version 0.19. Use ``skimage.registration.phase_cross_correlation`` instead.\n",
      "  removed_version='0.19')\n",
      "C:\\Users\\Sauron\\AppData\\Roaming\\Python\\Python36\\site-packages\\skimage\\feature\\__init__.py:43: skimage_deprecation: Function ``register_translation`` is deprecated and will be removed in version 0.19. Use ``skimage.registration.phase_cross_correlation`` instead.\n",
      "  removed_version='0.19')\n",
      "C:\\Users\\Sauron\\AppData\\Roaming\\Python\\Python36\\site-packages\\skimage\\feature\\__init__.py:43: skimage_deprecation: Function ``register_translation`` is deprecated and will be removed in version 0.19. Use ``skimage.registration.phase_cross_correlation`` instead.\n",
      "  removed_version='0.19')\n",
      "C:\\Users\\Sauron\\AppData\\Roaming\\Python\\Python36\\site-packages\\skimage\\feature\\__init__.py:43: skimage_deprecation: Function ``register_translation`` is deprecated and will be removed in version 0.19. Use ``skimage.registration.phase_cross_correlation`` instead.\n",
      "  removed_version='0.19')\n"
     ]
    },
    {
     "data": {
      "application/vnd.jupyter.widget-view+json": {
       "model_id": "9aec050926754abdb5d8177048a427ea",
       "version_major": 2,
       "version_minor": 0
      },
      "text/plain": [
       "  0%|          | 0/99 [00:00<?, ?it/s]"
      ]
     },
     "metadata": {},
     "output_type": "display_data"
    },
    {
     "name": "stdout",
     "output_type": "stream",
     "text": [
      "This is iteration 2\n"
     ]
    },
    {
     "name": "stderr",
     "output_type": "stream",
     "text": [
      "C:\\Users\\Sauron\\AppData\\Roaming\\Python\\Python36\\site-packages\\skimage\\feature\\__init__.py:43: skimage_deprecation: Function ``register_translation`` is deprecated and will be removed in version 0.19. Use ``skimage.registration.phase_cross_correlation`` instead.\n",
      "  removed_version='0.19')\n",
      "C:\\Users\\Sauron\\AppData\\Roaming\\Python\\Python36\\site-packages\\skimage\\feature\\__init__.py:43: skimage_deprecation: Function ``register_translation`` is deprecated and will be removed in version 0.19. Use ``skimage.registration.phase_cross_correlation`` instead.\n",
      "  removed_version='0.19')\n",
      "C:\\Users\\Sauron\\AppData\\Roaming\\Python\\Python36\\site-packages\\skimage\\feature\\__init__.py:43: skimage_deprecation: Function ``register_translation`` is deprecated and will be removed in version 0.19. Use ``skimage.registration.phase_cross_correlation`` instead.\n",
      "  removed_version='0.19')\n",
      "C:\\Users\\Sauron\\AppData\\Roaming\\Python\\Python36\\site-packages\\skimage\\feature\\__init__.py:43: skimage_deprecation: Function ``register_translation`` is deprecated and will be removed in version 0.19. Use ``skimage.registration.phase_cross_correlation`` instead.\n",
      "  removed_version='0.19')\n",
      "C:\\Users\\Sauron\\AppData\\Roaming\\Python\\Python36\\site-packages\\skimage\\feature\\__init__.py:43: skimage_deprecation: Function ``register_translation`` is deprecated and will be removed in version 0.19. Use ``skimage.registration.phase_cross_correlation`` instead.\n",
      "  removed_version='0.19')\n",
      "C:\\Users\\Sauron\\AppData\\Roaming\\Python\\Python36\\site-packages\\skimage\\feature\\__init__.py:43: skimage_deprecation: Function ``register_translation`` is deprecated and will be removed in version 0.19. Use ``skimage.registration.phase_cross_correlation`` instead.\n",
      "  removed_version='0.19')\n",
      "C:\\Users\\Sauron\\AppData\\Roaming\\Python\\Python36\\site-packages\\skimage\\feature\\__init__.py:43: skimage_deprecation: Function ``register_translation`` is deprecated and will be removed in version 0.19. Use ``skimage.registration.phase_cross_correlation`` instead.\n",
      "  removed_version='0.19')\n",
      "C:\\Users\\Sauron\\AppData\\Roaming\\Python\\Python36\\site-packages\\skimage\\feature\\__init__.py:43: skimage_deprecation: Function ``register_translation`` is deprecated and will be removed in version 0.19. Use ``skimage.registration.phase_cross_correlation`` instead.\n",
      "  removed_version='0.19')\n",
      "C:\\Users\\Sauron\\AppData\\Roaming\\Python\\Python36\\site-packages\\skimage\\feature\\__init__.py:43: skimage_deprecation: Function ``register_translation`` is deprecated and will be removed in version 0.19. Use ``skimage.registration.phase_cross_correlation`` instead.\n",
      "  removed_version='0.19')\n",
      "C:\\Users\\Sauron\\AppData\\Roaming\\Python\\Python36\\site-packages\\skimage\\feature\\__init__.py:43: skimage_deprecation: Function ``register_translation`` is deprecated and will be removed in version 0.19. Use ``skimage.registration.phase_cross_correlation`` instead.\n",
      "  removed_version='0.19')\n",
      "C:\\Users\\Sauron\\AppData\\Roaming\\Python\\Python36\\site-packages\\skimage\\feature\\__init__.py:43: skimage_deprecation: Function ``register_translation`` is deprecated and will be removed in version 0.19. Use ``skimage.registration.phase_cross_correlation`` instead.\n",
      "  removed_version='0.19')\n"
     ]
    },
    {
     "name": "stdout",
     "output_type": "stream",
     "text": [
      "Completed 10 / 99\n"
     ]
    },
    {
     "name": "stderr",
     "output_type": "stream",
     "text": [
      "C:\\Users\\Sauron\\AppData\\Roaming\\Python\\Python36\\site-packages\\skimage\\feature\\__init__.py:43: skimage_deprecation: Function ``register_translation`` is deprecated and will be removed in version 0.19. Use ``skimage.registration.phase_cross_correlation`` instead.\n",
      "  removed_version='0.19')\n",
      "C:\\Users\\Sauron\\AppData\\Roaming\\Python\\Python36\\site-packages\\skimage\\feature\\__init__.py:43: skimage_deprecation: Function ``register_translation`` is deprecated and will be removed in version 0.19. Use ``skimage.registration.phase_cross_correlation`` instead.\n",
      "  removed_version='0.19')\n",
      "C:\\Users\\Sauron\\AppData\\Roaming\\Python\\Python36\\site-packages\\skimage\\feature\\__init__.py:43: skimage_deprecation: Function ``register_translation`` is deprecated and will be removed in version 0.19. Use ``skimage.registration.phase_cross_correlation`` instead.\n",
      "  removed_version='0.19')\n",
      "C:\\Users\\Sauron\\AppData\\Roaming\\Python\\Python36\\site-packages\\skimage\\feature\\__init__.py:43: skimage_deprecation: Function ``register_translation`` is deprecated and will be removed in version 0.19. Use ``skimage.registration.phase_cross_correlation`` instead.\n",
      "  removed_version='0.19')\n",
      "C:\\Users\\Sauron\\AppData\\Roaming\\Python\\Python36\\site-packages\\skimage\\feature\\__init__.py:43: skimage_deprecation: Function ``register_translation`` is deprecated and will be removed in version 0.19. Use ``skimage.registration.phase_cross_correlation`` instead.\n",
      "  removed_version='0.19')\n",
      "C:\\Users\\Sauron\\AppData\\Roaming\\Python\\Python36\\site-packages\\skimage\\feature\\__init__.py:43: skimage_deprecation: Function ``register_translation`` is deprecated and will be removed in version 0.19. Use ``skimage.registration.phase_cross_correlation`` instead.\n",
      "  removed_version='0.19')\n",
      "C:\\Users\\Sauron\\AppData\\Roaming\\Python\\Python36\\site-packages\\skimage\\feature\\__init__.py:43: skimage_deprecation: Function ``register_translation`` is deprecated and will be removed in version 0.19. Use ``skimage.registration.phase_cross_correlation`` instead.\n",
      "  removed_version='0.19')\n",
      "C:\\Users\\Sauron\\AppData\\Roaming\\Python\\Python36\\site-packages\\skimage\\feature\\__init__.py:43: skimage_deprecation: Function ``register_translation`` is deprecated and will be removed in version 0.19. Use ``skimage.registration.phase_cross_correlation`` instead.\n",
      "  removed_version='0.19')\n",
      "C:\\Users\\Sauron\\AppData\\Roaming\\Python\\Python36\\site-packages\\skimage\\feature\\__init__.py:43: skimage_deprecation: Function ``register_translation`` is deprecated and will be removed in version 0.19. Use ``skimage.registration.phase_cross_correlation`` instead.\n",
      "  removed_version='0.19')\n",
      "C:\\Users\\Sauron\\AppData\\Roaming\\Python\\Python36\\site-packages\\skimage\\feature\\__init__.py:43: skimage_deprecation: Function ``register_translation`` is deprecated and will be removed in version 0.19. Use ``skimage.registration.phase_cross_correlation`` instead.\n",
      "  removed_version='0.19')\n",
      "C:\\Users\\Sauron\\AppData\\Roaming\\Python\\Python36\\site-packages\\skimage\\feature\\__init__.py:43: skimage_deprecation: Function ``register_translation`` is deprecated and will be removed in version 0.19. Use ``skimage.registration.phase_cross_correlation`` instead.\n",
      "  removed_version='0.19')\n"
     ]
    },
    {
     "name": "stdout",
     "output_type": "stream",
     "text": [
      "Completed 20 / 99\n"
     ]
    },
    {
     "name": "stderr",
     "output_type": "stream",
     "text": [
      "C:\\Users\\Sauron\\AppData\\Roaming\\Python\\Python36\\site-packages\\skimage\\feature\\__init__.py:43: skimage_deprecation: Function ``register_translation`` is deprecated and will be removed in version 0.19. Use ``skimage.registration.phase_cross_correlation`` instead.\n",
      "  removed_version='0.19')\n",
      "C:\\Users\\Sauron\\AppData\\Roaming\\Python\\Python36\\site-packages\\skimage\\feature\\__init__.py:43: skimage_deprecation: Function ``register_translation`` is deprecated and will be removed in version 0.19. Use ``skimage.registration.phase_cross_correlation`` instead.\n",
      "  removed_version='0.19')\n",
      "C:\\Users\\Sauron\\AppData\\Roaming\\Python\\Python36\\site-packages\\skimage\\feature\\__init__.py:43: skimage_deprecation: Function ``register_translation`` is deprecated and will be removed in version 0.19. Use ``skimage.registration.phase_cross_correlation`` instead.\n",
      "  removed_version='0.19')\n",
      "C:\\Users\\Sauron\\AppData\\Roaming\\Python\\Python36\\site-packages\\skimage\\feature\\__init__.py:43: skimage_deprecation: Function ``register_translation`` is deprecated and will be removed in version 0.19. Use ``skimage.registration.phase_cross_correlation`` instead.\n",
      "  removed_version='0.19')\n",
      "C:\\Users\\Sauron\\AppData\\Roaming\\Python\\Python36\\site-packages\\skimage\\feature\\__init__.py:43: skimage_deprecation: Function ``register_translation`` is deprecated and will be removed in version 0.19. Use ``skimage.registration.phase_cross_correlation`` instead.\n",
      "  removed_version='0.19')\n",
      "C:\\Users\\Sauron\\AppData\\Roaming\\Python\\Python36\\site-packages\\skimage\\feature\\__init__.py:43: skimage_deprecation: Function ``register_translation`` is deprecated and will be removed in version 0.19. Use ``skimage.registration.phase_cross_correlation`` instead.\n",
      "  removed_version='0.19')\n",
      "C:\\Users\\Sauron\\AppData\\Roaming\\Python\\Python36\\site-packages\\skimage\\feature\\__init__.py:43: skimage_deprecation: Function ``register_translation`` is deprecated and will be removed in version 0.19. Use ``skimage.registration.phase_cross_correlation`` instead.\n",
      "  removed_version='0.19')\n",
      "C:\\Users\\Sauron\\AppData\\Roaming\\Python\\Python36\\site-packages\\skimage\\feature\\__init__.py:43: skimage_deprecation: Function ``register_translation`` is deprecated and will be removed in version 0.19. Use ``skimage.registration.phase_cross_correlation`` instead.\n",
      "  removed_version='0.19')\n",
      "C:\\Users\\Sauron\\AppData\\Roaming\\Python\\Python36\\site-packages\\skimage\\feature\\__init__.py:43: skimage_deprecation: Function ``register_translation`` is deprecated and will be removed in version 0.19. Use ``skimage.registration.phase_cross_correlation`` instead.\n",
      "  removed_version='0.19')\n",
      "C:\\Users\\Sauron\\AppData\\Roaming\\Python\\Python36\\site-packages\\skimage\\feature\\__init__.py:43: skimage_deprecation: Function ``register_translation`` is deprecated and will be removed in version 0.19. Use ``skimage.registration.phase_cross_correlation`` instead.\n",
      "  removed_version='0.19')\n",
      "C:\\Users\\Sauron\\AppData\\Roaming\\Python\\Python36\\site-packages\\skimage\\feature\\__init__.py:43: skimage_deprecation: Function ``register_translation`` is deprecated and will be removed in version 0.19. Use ``skimage.registration.phase_cross_correlation`` instead.\n",
      "  removed_version='0.19')\n"
     ]
    },
    {
     "name": "stdout",
     "output_type": "stream",
     "text": [
      "Completed 30 / 99\n"
     ]
    },
    {
     "name": "stderr",
     "output_type": "stream",
     "text": [
      "C:\\Users\\Sauron\\AppData\\Roaming\\Python\\Python36\\site-packages\\skimage\\feature\\__init__.py:43: skimage_deprecation: Function ``register_translation`` is deprecated and will be removed in version 0.19. Use ``skimage.registration.phase_cross_correlation`` instead.\n",
      "  removed_version='0.19')\n",
      "C:\\Users\\Sauron\\AppData\\Roaming\\Python\\Python36\\site-packages\\skimage\\feature\\__init__.py:43: skimage_deprecation: Function ``register_translation`` is deprecated and will be removed in version 0.19. Use ``skimage.registration.phase_cross_correlation`` instead.\n",
      "  removed_version='0.19')\n",
      "C:\\Users\\Sauron\\AppData\\Roaming\\Python\\Python36\\site-packages\\skimage\\feature\\__init__.py:43: skimage_deprecation: Function ``register_translation`` is deprecated and will be removed in version 0.19. Use ``skimage.registration.phase_cross_correlation`` instead.\n",
      "  removed_version='0.19')\n",
      "C:\\Users\\Sauron\\AppData\\Roaming\\Python\\Python36\\site-packages\\skimage\\feature\\__init__.py:43: skimage_deprecation: Function ``register_translation`` is deprecated and will be removed in version 0.19. Use ``skimage.registration.phase_cross_correlation`` instead.\n",
      "  removed_version='0.19')\n",
      "C:\\Users\\Sauron\\AppData\\Roaming\\Python\\Python36\\site-packages\\skimage\\feature\\__init__.py:43: skimage_deprecation: Function ``register_translation`` is deprecated and will be removed in version 0.19. Use ``skimage.registration.phase_cross_correlation`` instead.\n",
      "  removed_version='0.19')\n",
      "C:\\Users\\Sauron\\AppData\\Roaming\\Python\\Python36\\site-packages\\skimage\\feature\\__init__.py:43: skimage_deprecation: Function ``register_translation`` is deprecated and will be removed in version 0.19. Use ``skimage.registration.phase_cross_correlation`` instead.\n",
      "  removed_version='0.19')\n",
      "C:\\Users\\Sauron\\AppData\\Roaming\\Python\\Python36\\site-packages\\skimage\\feature\\__init__.py:43: skimage_deprecation: Function ``register_translation`` is deprecated and will be removed in version 0.19. Use ``skimage.registration.phase_cross_correlation`` instead.\n",
      "  removed_version='0.19')\n",
      "C:\\Users\\Sauron\\AppData\\Roaming\\Python\\Python36\\site-packages\\skimage\\feature\\__init__.py:43: skimage_deprecation: Function ``register_translation`` is deprecated and will be removed in version 0.19. Use ``skimage.registration.phase_cross_correlation`` instead.\n",
      "  removed_version='0.19')\n",
      "C:\\Users\\Sauron\\AppData\\Roaming\\Python\\Python36\\site-packages\\skimage\\feature\\__init__.py:43: skimage_deprecation: Function ``register_translation`` is deprecated and will be removed in version 0.19. Use ``skimage.registration.phase_cross_correlation`` instead.\n",
      "  removed_version='0.19')\n",
      "C:\\Users\\Sauron\\AppData\\Roaming\\Python\\Python36\\site-packages\\skimage\\feature\\__init__.py:43: skimage_deprecation: Function ``register_translation`` is deprecated and will be removed in version 0.19. Use ``skimage.registration.phase_cross_correlation`` instead.\n",
      "  removed_version='0.19')\n",
      "C:\\Users\\Sauron\\AppData\\Roaming\\Python\\Python36\\site-packages\\skimage\\feature\\__init__.py:43: skimage_deprecation: Function ``register_translation`` is deprecated and will be removed in version 0.19. Use ``skimage.registration.phase_cross_correlation`` instead.\n",
      "  removed_version='0.19')\n",
      "C:\\Users\\Sauron\\AppData\\Roaming\\Python\\Python36\\site-packages\\skimage\\feature\\__init__.py:43: skimage_deprecation: Function ``register_translation`` is deprecated and will be removed in version 0.19. Use ``skimage.registration.phase_cross_correlation`` instead.\n",
      "  removed_version='0.19')\n"
     ]
    },
    {
     "name": "stdout",
     "output_type": "stream",
     "text": [
      "Completed 40 / 99\n"
     ]
    },
    {
     "name": "stderr",
     "output_type": "stream",
     "text": [
      "C:\\Users\\Sauron\\AppData\\Roaming\\Python\\Python36\\site-packages\\skimage\\feature\\__init__.py:43: skimage_deprecation: Function ``register_translation`` is deprecated and will be removed in version 0.19. Use ``skimage.registration.phase_cross_correlation`` instead.\n",
      "  removed_version='0.19')\n",
      "C:\\Users\\Sauron\\AppData\\Roaming\\Python\\Python36\\site-packages\\skimage\\feature\\__init__.py:43: skimage_deprecation: Function ``register_translation`` is deprecated and will be removed in version 0.19. Use ``skimage.registration.phase_cross_correlation`` instead.\n",
      "  removed_version='0.19')\n",
      "C:\\Users\\Sauron\\AppData\\Roaming\\Python\\Python36\\site-packages\\skimage\\feature\\__init__.py:43: skimage_deprecation: Function ``register_translation`` is deprecated and will be removed in version 0.19. Use ``skimage.registration.phase_cross_correlation`` instead.\n",
      "  removed_version='0.19')\n",
      "C:\\Users\\Sauron\\AppData\\Roaming\\Python\\Python36\\site-packages\\skimage\\feature\\__init__.py:43: skimage_deprecation: Function ``register_translation`` is deprecated and will be removed in version 0.19. Use ``skimage.registration.phase_cross_correlation`` instead.\n",
      "  removed_version='0.19')\n",
      "C:\\Users\\Sauron\\AppData\\Roaming\\Python\\Python36\\site-packages\\skimage\\feature\\__init__.py:43: skimage_deprecation: Function ``register_translation`` is deprecated and will be removed in version 0.19. Use ``skimage.registration.phase_cross_correlation`` instead.\n",
      "  removed_version='0.19')\n"
     ]
    },
    {
     "name": "stdout",
     "output_type": "stream",
     "text": [
      "Completed 50 / 99\n"
     ]
    },
    {
     "name": "stderr",
     "output_type": "stream",
     "text": [
      "C:\\Users\\Sauron\\AppData\\Roaming\\Python\\Python36\\site-packages\\skimage\\feature\\__init__.py:43: skimage_deprecation: Function ``register_translation`` is deprecated and will be removed in version 0.19. Use ``skimage.registration.phase_cross_correlation`` instead.\n",
      "  removed_version='0.19')\n",
      "C:\\Users\\Sauron\\AppData\\Roaming\\Python\\Python36\\site-packages\\skimage\\feature\\__init__.py:43: skimage_deprecation: Function ``register_translation`` is deprecated and will be removed in version 0.19. Use ``skimage.registration.phase_cross_correlation`` instead.\n",
      "  removed_version='0.19')\n",
      "C:\\Users\\Sauron\\AppData\\Roaming\\Python\\Python36\\site-packages\\skimage\\feature\\__init__.py:43: skimage_deprecation: Function ``register_translation`` is deprecated and will be removed in version 0.19. Use ``skimage.registration.phase_cross_correlation`` instead.\n",
      "  removed_version='0.19')\n",
      "C:\\Users\\Sauron\\AppData\\Roaming\\Python\\Python36\\site-packages\\skimage\\feature\\__init__.py:43: skimage_deprecation: Function ``register_translation`` is deprecated and will be removed in version 0.19. Use ``skimage.registration.phase_cross_correlation`` instead.\n",
      "  removed_version='0.19')\n",
      "C:\\Users\\Sauron\\AppData\\Roaming\\Python\\Python36\\site-packages\\skimage\\feature\\__init__.py:43: skimage_deprecation: Function ``register_translation`` is deprecated and will be removed in version 0.19. Use ``skimage.registration.phase_cross_correlation`` instead.\n",
      "  removed_version='0.19')\n",
      "C:\\Users\\Sauron\\AppData\\Roaming\\Python\\Python36\\site-packages\\skimage\\feature\\__init__.py:43: skimage_deprecation: Function ``register_translation`` is deprecated and will be removed in version 0.19. Use ``skimage.registration.phase_cross_correlation`` instead.\n",
      "  removed_version='0.19')\n",
      "C:\\Users\\Sauron\\AppData\\Roaming\\Python\\Python36\\site-packages\\skimage\\feature\\__init__.py:43: skimage_deprecation: Function ``register_translation`` is deprecated and will be removed in version 0.19. Use ``skimage.registration.phase_cross_correlation`` instead.\n",
      "  removed_version='0.19')\n",
      "C:\\Users\\Sauron\\AppData\\Roaming\\Python\\Python36\\site-packages\\skimage\\feature\\__init__.py:43: skimage_deprecation: Function ``register_translation`` is deprecated and will be removed in version 0.19. Use ``skimage.registration.phase_cross_correlation`` instead.\n",
      "  removed_version='0.19')\n",
      "C:\\Users\\Sauron\\AppData\\Roaming\\Python\\Python36\\site-packages\\skimage\\feature\\__init__.py:43: skimage_deprecation: Function ``register_translation`` is deprecated and will be removed in version 0.19. Use ``skimage.registration.phase_cross_correlation`` instead.\n",
      "  removed_version='0.19')\n",
      "C:\\Users\\Sauron\\AppData\\Roaming\\Python\\Python36\\site-packages\\skimage\\feature\\__init__.py:43: skimage_deprecation: Function ``register_translation`` is deprecated and will be removed in version 0.19. Use ``skimage.registration.phase_cross_correlation`` instead.\n",
      "  removed_version='0.19')\n",
      "C:\\Users\\Sauron\\AppData\\Roaming\\Python\\Python36\\site-packages\\skimage\\feature\\__init__.py:43: skimage_deprecation: Function ``register_translation`` is deprecated and will be removed in version 0.19. Use ``skimage.registration.phase_cross_correlation`` instead.\n",
      "  removed_version='0.19')\n",
      "C:\\Users\\Sauron\\AppData\\Roaming\\Python\\Python36\\site-packages\\skimage\\feature\\__init__.py:43: skimage_deprecation: Function ``register_translation`` is deprecated and will be removed in version 0.19. Use ``skimage.registration.phase_cross_correlation`` instead.\n",
      "  removed_version='0.19')\n"
     ]
    },
    {
     "name": "stdout",
     "output_type": "stream",
     "text": [
      "Completed 60 / 99\n"
     ]
    },
    {
     "name": "stderr",
     "output_type": "stream",
     "text": [
      "C:\\Users\\Sauron\\AppData\\Roaming\\Python\\Python36\\site-packages\\skimage\\feature\\__init__.py:43: skimage_deprecation: Function ``register_translation`` is deprecated and will be removed in version 0.19. Use ``skimage.registration.phase_cross_correlation`` instead.\n",
      "  removed_version='0.19')\n",
      "C:\\Users\\Sauron\\AppData\\Roaming\\Python\\Python36\\site-packages\\skimage\\feature\\__init__.py:43: skimage_deprecation: Function ``register_translation`` is deprecated and will be removed in version 0.19. Use ``skimage.registration.phase_cross_correlation`` instead.\n",
      "  removed_version='0.19')\n",
      "C:\\Users\\Sauron\\AppData\\Roaming\\Python\\Python36\\site-packages\\skimage\\feature\\__init__.py:43: skimage_deprecation: Function ``register_translation`` is deprecated and will be removed in version 0.19. Use ``skimage.registration.phase_cross_correlation`` instead.\n",
      "  removed_version='0.19')\n",
      "C:\\Users\\Sauron\\AppData\\Roaming\\Python\\Python36\\site-packages\\skimage\\feature\\__init__.py:43: skimage_deprecation: Function ``register_translation`` is deprecated and will be removed in version 0.19. Use ``skimage.registration.phase_cross_correlation`` instead.\n",
      "  removed_version='0.19')\n",
      "C:\\Users\\Sauron\\AppData\\Roaming\\Python\\Python36\\site-packages\\skimage\\feature\\__init__.py:43: skimage_deprecation: Function ``register_translation`` is deprecated and will be removed in version 0.19. Use ``skimage.registration.phase_cross_correlation`` instead.\n",
      "  removed_version='0.19')\n",
      "C:\\Users\\Sauron\\AppData\\Roaming\\Python\\Python36\\site-packages\\skimage\\feature\\__init__.py:43: skimage_deprecation: Function ``register_translation`` is deprecated and will be removed in version 0.19. Use ``skimage.registration.phase_cross_correlation`` instead.\n",
      "  removed_version='0.19')\n",
      "C:\\Users\\Sauron\\AppData\\Roaming\\Python\\Python36\\site-packages\\skimage\\feature\\__init__.py:43: skimage_deprecation: Function ``register_translation`` is deprecated and will be removed in version 0.19. Use ``skimage.registration.phase_cross_correlation`` instead.\n",
      "  removed_version='0.19')\n",
      "C:\\Users\\Sauron\\AppData\\Roaming\\Python\\Python36\\site-packages\\skimage\\feature\\__init__.py:43: skimage_deprecation: Function ``register_translation`` is deprecated and will be removed in version 0.19. Use ``skimage.registration.phase_cross_correlation`` instead.\n",
      "  removed_version='0.19')\n",
      "C:\\Users\\Sauron\\AppData\\Roaming\\Python\\Python36\\site-packages\\skimage\\feature\\__init__.py:43: skimage_deprecation: Function ``register_translation`` is deprecated and will be removed in version 0.19. Use ``skimage.registration.phase_cross_correlation`` instead.\n",
      "  removed_version='0.19')\n",
      "C:\\Users\\Sauron\\AppData\\Roaming\\Python\\Python36\\site-packages\\skimage\\feature\\__init__.py:43: skimage_deprecation: Function ``register_translation`` is deprecated and will be removed in version 0.19. Use ``skimage.registration.phase_cross_correlation`` instead.\n",
      "  removed_version='0.19')\n",
      "C:\\Users\\Sauron\\AppData\\Roaming\\Python\\Python36\\site-packages\\skimage\\feature\\__init__.py:43: skimage_deprecation: Function ``register_translation`` is deprecated and will be removed in version 0.19. Use ``skimage.registration.phase_cross_correlation`` instead.\n",
      "  removed_version='0.19')\n"
     ]
    },
    {
     "name": "stdout",
     "output_type": "stream",
     "text": [
      "Completed 70 / 99\n"
     ]
    },
    {
     "name": "stderr",
     "output_type": "stream",
     "text": [
      "C:\\Users\\Sauron\\AppData\\Roaming\\Python\\Python36\\site-packages\\skimage\\feature\\__init__.py:43: skimage_deprecation: Function ``register_translation`` is deprecated and will be removed in version 0.19. Use ``skimage.registration.phase_cross_correlation`` instead.\n",
      "  removed_version='0.19')\n",
      "C:\\Users\\Sauron\\AppData\\Roaming\\Python\\Python36\\site-packages\\skimage\\feature\\__init__.py:43: skimage_deprecation: Function ``register_translation`` is deprecated and will be removed in version 0.19. Use ``skimage.registration.phase_cross_correlation`` instead.\n",
      "  removed_version='0.19')\n",
      "C:\\Users\\Sauron\\AppData\\Roaming\\Python\\Python36\\site-packages\\skimage\\feature\\__init__.py:43: skimage_deprecation: Function ``register_translation`` is deprecated and will be removed in version 0.19. Use ``skimage.registration.phase_cross_correlation`` instead.\n",
      "  removed_version='0.19')\n",
      "C:\\Users\\Sauron\\AppData\\Roaming\\Python\\Python36\\site-packages\\skimage\\feature\\__init__.py:43: skimage_deprecation: Function ``register_translation`` is deprecated and will be removed in version 0.19. Use ``skimage.registration.phase_cross_correlation`` instead.\n",
      "  removed_version='0.19')\n",
      "C:\\Users\\Sauron\\AppData\\Roaming\\Python\\Python36\\site-packages\\skimage\\feature\\__init__.py:43: skimage_deprecation: Function ``register_translation`` is deprecated and will be removed in version 0.19. Use ``skimage.registration.phase_cross_correlation`` instead.\n",
      "  removed_version='0.19')\n",
      "C:\\Users\\Sauron\\AppData\\Roaming\\Python\\Python36\\site-packages\\skimage\\feature\\__init__.py:43: skimage_deprecation: Function ``register_translation`` is deprecated and will be removed in version 0.19. Use ``skimage.registration.phase_cross_correlation`` instead.\n",
      "  removed_version='0.19')\n",
      "C:\\Users\\Sauron\\AppData\\Roaming\\Python\\Python36\\site-packages\\skimage\\feature\\__init__.py:43: skimage_deprecation: Function ``register_translation`` is deprecated and will be removed in version 0.19. Use ``skimage.registration.phase_cross_correlation`` instead.\n",
      "  removed_version='0.19')\n",
      "C:\\Users\\Sauron\\AppData\\Roaming\\Python\\Python36\\site-packages\\skimage\\feature\\__init__.py:43: skimage_deprecation: Function ``register_translation`` is deprecated and will be removed in version 0.19. Use ``skimage.registration.phase_cross_correlation`` instead.\n",
      "  removed_version='0.19')\n",
      "C:\\Users\\Sauron\\AppData\\Roaming\\Python\\Python36\\site-packages\\skimage\\feature\\__init__.py:43: skimage_deprecation: Function ``register_translation`` is deprecated and will be removed in version 0.19. Use ``skimage.registration.phase_cross_correlation`` instead.\n",
      "  removed_version='0.19')\n",
      "C:\\Users\\Sauron\\AppData\\Roaming\\Python\\Python36\\site-packages\\skimage\\feature\\__init__.py:43: skimage_deprecation: Function ``register_translation`` is deprecated and will be removed in version 0.19. Use ``skimage.registration.phase_cross_correlation`` instead.\n",
      "  removed_version='0.19')\n",
      "C:\\Users\\Sauron\\AppData\\Roaming\\Python\\Python36\\site-packages\\skimage\\feature\\__init__.py:43: skimage_deprecation: Function ``register_translation`` is deprecated and will be removed in version 0.19. Use ``skimage.registration.phase_cross_correlation`` instead.\n",
      "  removed_version='0.19')\n"
     ]
    },
    {
     "name": "stdout",
     "output_type": "stream",
     "text": [
      "Completed 80 / 99\n"
     ]
    },
    {
     "name": "stderr",
     "output_type": "stream",
     "text": [
      "C:\\Users\\Sauron\\AppData\\Roaming\\Python\\Python36\\site-packages\\skimage\\feature\\__init__.py:43: skimage_deprecation: Function ``register_translation`` is deprecated and will be removed in version 0.19. Use ``skimage.registration.phase_cross_correlation`` instead.\n",
      "  removed_version='0.19')\n",
      "C:\\Users\\Sauron\\AppData\\Roaming\\Python\\Python36\\site-packages\\skimage\\feature\\__init__.py:43: skimage_deprecation: Function ``register_translation`` is deprecated and will be removed in version 0.19. Use ``skimage.registration.phase_cross_correlation`` instead.\n",
      "  removed_version='0.19')\n",
      "C:\\Users\\Sauron\\AppData\\Roaming\\Python\\Python36\\site-packages\\skimage\\feature\\__init__.py:43: skimage_deprecation: Function ``register_translation`` is deprecated and will be removed in version 0.19. Use ``skimage.registration.phase_cross_correlation`` instead.\n",
      "  removed_version='0.19')\n",
      "C:\\Users\\Sauron\\AppData\\Roaming\\Python\\Python36\\site-packages\\skimage\\feature\\__init__.py:43: skimage_deprecation: Function ``register_translation`` is deprecated and will be removed in version 0.19. Use ``skimage.registration.phase_cross_correlation`` instead.\n",
      "  removed_version='0.19')\n",
      "C:\\Users\\Sauron\\AppData\\Roaming\\Python\\Python36\\site-packages\\skimage\\feature\\__init__.py:43: skimage_deprecation: Function ``register_translation`` is deprecated and will be removed in version 0.19. Use ``skimage.registration.phase_cross_correlation`` instead.\n",
      "  removed_version='0.19')\n",
      "C:\\Users\\Sauron\\AppData\\Roaming\\Python\\Python36\\site-packages\\skimage\\feature\\__init__.py:43: skimage_deprecation: Function ``register_translation`` is deprecated and will be removed in version 0.19. Use ``skimage.registration.phase_cross_correlation`` instead.\n",
      "  removed_version='0.19')\n"
     ]
    },
    {
     "name": "stdout",
     "output_type": "stream",
     "text": [
      "Completed 90 / 99\n"
     ]
    },
    {
     "name": "stderr",
     "output_type": "stream",
     "text": [
      "C:\\Users\\Sauron\\AppData\\Roaming\\Python\\Python36\\site-packages\\skimage\\feature\\__init__.py:43: skimage_deprecation: Function ``register_translation`` is deprecated and will be removed in version 0.19. Use ``skimage.registration.phase_cross_correlation`` instead.\n",
      "  removed_version='0.19')\n",
      "C:\\Users\\Sauron\\AppData\\Roaming\\Python\\Python36\\site-packages\\skimage\\feature\\__init__.py:43: skimage_deprecation: Function ``register_translation`` is deprecated and will be removed in version 0.19. Use ``skimage.registration.phase_cross_correlation`` instead.\n",
      "  removed_version='0.19')\n",
      "C:\\Users\\Sauron\\AppData\\Roaming\\Python\\Python36\\site-packages\\skimage\\feature\\__init__.py:43: skimage_deprecation: Function ``register_translation`` is deprecated and will be removed in version 0.19. Use ``skimage.registration.phase_cross_correlation`` instead.\n",
      "  removed_version='0.19')\n",
      "C:\\Users\\Sauron\\AppData\\Roaming\\Python\\Python36\\site-packages\\skimage\\feature\\__init__.py:43: skimage_deprecation: Function ``register_translation`` is deprecated and will be removed in version 0.19. Use ``skimage.registration.phase_cross_correlation`` instead.\n",
      "  removed_version='0.19')\n",
      "C:\\Users\\Sauron\\AppData\\Roaming\\Python\\Python36\\site-packages\\skimage\\feature\\__init__.py:43: skimage_deprecation: Function ``register_translation`` is deprecated and will be removed in version 0.19. Use ``skimage.registration.phase_cross_correlation`` instead.\n",
      "  removed_version='0.19')\n",
      "C:\\Users\\Sauron\\AppData\\Roaming\\Python\\Python36\\site-packages\\skimage\\feature\\__init__.py:43: skimage_deprecation: Function ``register_translation`` is deprecated and will be removed in version 0.19. Use ``skimage.registration.phase_cross_correlation`` instead.\n",
      "  removed_version='0.19')\n",
      "C:\\Users\\Sauron\\AppData\\Roaming\\Python\\Python36\\site-packages\\skimage\\feature\\__init__.py:43: skimage_deprecation: Function ``register_translation`` is deprecated and will be removed in version 0.19. Use ``skimage.registration.phase_cross_correlation`` instead.\n",
      "  removed_version='0.19')\n",
      "C:\\Users\\Sauron\\AppData\\Roaming\\Python\\Python36\\site-packages\\skimage\\feature\\__init__.py:43: skimage_deprecation: Function ``register_translation`` is deprecated and will be removed in version 0.19. Use ``skimage.registration.phase_cross_correlation`` instead.\n",
      "  removed_version='0.19')\n"
     ]
    },
    {
     "data": {
      "application/vnd.jupyter.widget-view+json": {
       "model_id": "eda39e0140d340c081f90f176be60f75",
       "version_major": 2,
       "version_minor": 0
      },
      "text/plain": [
       "  0%|          | 0/99 [00:00<?, ?it/s]"
      ]
     },
     "metadata": {},
     "output_type": "display_data"
    },
    {
     "name": "stdout",
     "output_type": "stream",
     "text": [
      "This is iteration 3\n"
     ]
    },
    {
     "name": "stderr",
     "output_type": "stream",
     "text": [
      "C:\\Users\\Sauron\\AppData\\Roaming\\Python\\Python36\\site-packages\\skimage\\feature\\__init__.py:43: skimage_deprecation: Function ``register_translation`` is deprecated and will be removed in version 0.19. Use ``skimage.registration.phase_cross_correlation`` instead.\n",
      "  removed_version='0.19')\n",
      "C:\\Users\\Sauron\\AppData\\Roaming\\Python\\Python36\\site-packages\\skimage\\feature\\__init__.py:43: skimage_deprecation: Function ``register_translation`` is deprecated and will be removed in version 0.19. Use ``skimage.registration.phase_cross_correlation`` instead.\n",
      "  removed_version='0.19')\n",
      "C:\\Users\\Sauron\\AppData\\Roaming\\Python\\Python36\\site-packages\\skimage\\feature\\__init__.py:43: skimage_deprecation: Function ``register_translation`` is deprecated and will be removed in version 0.19. Use ``skimage.registration.phase_cross_correlation`` instead.\n",
      "  removed_version='0.19')\n",
      "C:\\Users\\Sauron\\AppData\\Roaming\\Python\\Python36\\site-packages\\skimage\\feature\\__init__.py:43: skimage_deprecation: Function ``register_translation`` is deprecated and will be removed in version 0.19. Use ``skimage.registration.phase_cross_correlation`` instead.\n",
      "  removed_version='0.19')\n",
      "C:\\Users\\Sauron\\AppData\\Roaming\\Python\\Python36\\site-packages\\skimage\\feature\\__init__.py:43: skimage_deprecation: Function ``register_translation`` is deprecated and will be removed in version 0.19. Use ``skimage.registration.phase_cross_correlation`` instead.\n",
      "  removed_version='0.19')\n",
      "C:\\Users\\Sauron\\AppData\\Roaming\\Python\\Python36\\site-packages\\skimage\\feature\\__init__.py:43: skimage_deprecation: Function ``register_translation`` is deprecated and will be removed in version 0.19. Use ``skimage.registration.phase_cross_correlation`` instead.\n",
      "  removed_version='0.19')\n",
      "C:\\Users\\Sauron\\AppData\\Roaming\\Python\\Python36\\site-packages\\skimage\\feature\\__init__.py:43: skimage_deprecation: Function ``register_translation`` is deprecated and will be removed in version 0.19. Use ``skimage.registration.phase_cross_correlation`` instead.\n",
      "  removed_version='0.19')\n",
      "C:\\Users\\Sauron\\AppData\\Roaming\\Python\\Python36\\site-packages\\skimage\\feature\\__init__.py:43: skimage_deprecation: Function ``register_translation`` is deprecated and will be removed in version 0.19. Use ``skimage.registration.phase_cross_correlation`` instead.\n",
      "  removed_version='0.19')\n",
      "C:\\Users\\Sauron\\AppData\\Roaming\\Python\\Python36\\site-packages\\skimage\\feature\\__init__.py:43: skimage_deprecation: Function ``register_translation`` is deprecated and will be removed in version 0.19. Use ``skimage.registration.phase_cross_correlation`` instead.\n",
      "  removed_version='0.19')\n",
      "C:\\Users\\Sauron\\AppData\\Roaming\\Python\\Python36\\site-packages\\skimage\\feature\\__init__.py:43: skimage_deprecation: Function ``register_translation`` is deprecated and will be removed in version 0.19. Use ``skimage.registration.phase_cross_correlation`` instead.\n",
      "  removed_version='0.19')\n"
     ]
    },
    {
     "name": "stdout",
     "output_type": "stream",
     "text": [
      "Completed 10 / 99\n"
     ]
    },
    {
     "name": "stderr",
     "output_type": "stream",
     "text": [
      "C:\\Users\\Sauron\\AppData\\Roaming\\Python\\Python36\\site-packages\\skimage\\feature\\__init__.py:43: skimage_deprecation: Function ``register_translation`` is deprecated and will be removed in version 0.19. Use ``skimage.registration.phase_cross_correlation`` instead.\n",
      "  removed_version='0.19')\n",
      "C:\\Users\\Sauron\\AppData\\Roaming\\Python\\Python36\\site-packages\\skimage\\feature\\__init__.py:43: skimage_deprecation: Function ``register_translation`` is deprecated and will be removed in version 0.19. Use ``skimage.registration.phase_cross_correlation`` instead.\n",
      "  removed_version='0.19')\n",
      "C:\\Users\\Sauron\\AppData\\Roaming\\Python\\Python36\\site-packages\\skimage\\feature\\__init__.py:43: skimage_deprecation: Function ``register_translation`` is deprecated and will be removed in version 0.19. Use ``skimage.registration.phase_cross_correlation`` instead.\n",
      "  removed_version='0.19')\n",
      "C:\\Users\\Sauron\\AppData\\Roaming\\Python\\Python36\\site-packages\\skimage\\feature\\__init__.py:43: skimage_deprecation: Function ``register_translation`` is deprecated and will be removed in version 0.19. Use ``skimage.registration.phase_cross_correlation`` instead.\n",
      "  removed_version='0.19')\n",
      "C:\\Users\\Sauron\\AppData\\Roaming\\Python\\Python36\\site-packages\\skimage\\feature\\__init__.py:43: skimage_deprecation: Function ``register_translation`` is deprecated and will be removed in version 0.19. Use ``skimage.registration.phase_cross_correlation`` instead.\n",
      "  removed_version='0.19')\n",
      "C:\\Users\\Sauron\\AppData\\Roaming\\Python\\Python36\\site-packages\\skimage\\feature\\__init__.py:43: skimage_deprecation: Function ``register_translation`` is deprecated and will be removed in version 0.19. Use ``skimage.registration.phase_cross_correlation`` instead.\n",
      "  removed_version='0.19')\n",
      "C:\\Users\\Sauron\\AppData\\Roaming\\Python\\Python36\\site-packages\\skimage\\feature\\__init__.py:43: skimage_deprecation: Function ``register_translation`` is deprecated and will be removed in version 0.19. Use ``skimage.registration.phase_cross_correlation`` instead.\n",
      "  removed_version='0.19')\n",
      "C:\\Users\\Sauron\\AppData\\Roaming\\Python\\Python36\\site-packages\\skimage\\feature\\__init__.py:43: skimage_deprecation: Function ``register_translation`` is deprecated and will be removed in version 0.19. Use ``skimage.registration.phase_cross_correlation`` instead.\n",
      "  removed_version='0.19')\n",
      "C:\\Users\\Sauron\\AppData\\Roaming\\Python\\Python36\\site-packages\\skimage\\feature\\__init__.py:43: skimage_deprecation: Function ``register_translation`` is deprecated and will be removed in version 0.19. Use ``skimage.registration.phase_cross_correlation`` instead.\n",
      "  removed_version='0.19')\n",
      "C:\\Users\\Sauron\\AppData\\Roaming\\Python\\Python36\\site-packages\\skimage\\feature\\__init__.py:43: skimage_deprecation: Function ``register_translation`` is deprecated and will be removed in version 0.19. Use ``skimage.registration.phase_cross_correlation`` instead.\n",
      "  removed_version='0.19')\n"
     ]
    },
    {
     "name": "stdout",
     "output_type": "stream",
     "text": [
      "Completed 20 / 99\n"
     ]
    },
    {
     "name": "stderr",
     "output_type": "stream",
     "text": [
      "C:\\Users\\Sauron\\AppData\\Roaming\\Python\\Python36\\site-packages\\skimage\\feature\\__init__.py:43: skimage_deprecation: Function ``register_translation`` is deprecated and will be removed in version 0.19. Use ``skimage.registration.phase_cross_correlation`` instead.\n",
      "  removed_version='0.19')\n",
      "C:\\Users\\Sauron\\AppData\\Roaming\\Python\\Python36\\site-packages\\skimage\\feature\\__init__.py:43: skimage_deprecation: Function ``register_translation`` is deprecated and will be removed in version 0.19. Use ``skimage.registration.phase_cross_correlation`` instead.\n",
      "  removed_version='0.19')\n",
      "C:\\Users\\Sauron\\AppData\\Roaming\\Python\\Python36\\site-packages\\skimage\\feature\\__init__.py:43: skimage_deprecation: Function ``register_translation`` is deprecated and will be removed in version 0.19. Use ``skimage.registration.phase_cross_correlation`` instead.\n",
      "  removed_version='0.19')\n",
      "C:\\Users\\Sauron\\AppData\\Roaming\\Python\\Python36\\site-packages\\skimage\\feature\\__init__.py:43: skimage_deprecation: Function ``register_translation`` is deprecated and will be removed in version 0.19. Use ``skimage.registration.phase_cross_correlation`` instead.\n",
      "  removed_version='0.19')\n",
      "C:\\Users\\Sauron\\AppData\\Roaming\\Python\\Python36\\site-packages\\skimage\\feature\\__init__.py:43: skimage_deprecation: Function ``register_translation`` is deprecated and will be removed in version 0.19. Use ``skimage.registration.phase_cross_correlation`` instead.\n",
      "  removed_version='0.19')\n",
      "C:\\Users\\Sauron\\AppData\\Roaming\\Python\\Python36\\site-packages\\skimage\\feature\\__init__.py:43: skimage_deprecation: Function ``register_translation`` is deprecated and will be removed in version 0.19. Use ``skimage.registration.phase_cross_correlation`` instead.\n",
      "  removed_version='0.19')\n",
      "C:\\Users\\Sauron\\AppData\\Roaming\\Python\\Python36\\site-packages\\skimage\\feature\\__init__.py:43: skimage_deprecation: Function ``register_translation`` is deprecated and will be removed in version 0.19. Use ``skimage.registration.phase_cross_correlation`` instead.\n",
      "  removed_version='0.19')\n",
      "C:\\Users\\Sauron\\AppData\\Roaming\\Python\\Python36\\site-packages\\skimage\\feature\\__init__.py:43: skimage_deprecation: Function ``register_translation`` is deprecated and will be removed in version 0.19. Use ``skimage.registration.phase_cross_correlation`` instead.\n",
      "  removed_version='0.19')\n",
      "C:\\Users\\Sauron\\AppData\\Roaming\\Python\\Python36\\site-packages\\skimage\\feature\\__init__.py:43: skimage_deprecation: Function ``register_translation`` is deprecated and will be removed in version 0.19. Use ``skimage.registration.phase_cross_correlation`` instead.\n",
      "  removed_version='0.19')\n",
      "C:\\Users\\Sauron\\AppData\\Roaming\\Python\\Python36\\site-packages\\skimage\\feature\\__init__.py:43: skimage_deprecation: Function ``register_translation`` is deprecated and will be removed in version 0.19. Use ``skimage.registration.phase_cross_correlation`` instead.\n",
      "  removed_version='0.19')\n",
      "C:\\Users\\Sauron\\AppData\\Roaming\\Python\\Python36\\site-packages\\skimage\\feature\\__init__.py:43: skimage_deprecation: Function ``register_translation`` is deprecated and will be removed in version 0.19. Use ``skimage.registration.phase_cross_correlation`` instead.\n",
      "  removed_version='0.19')\n",
      "C:\\Users\\Sauron\\AppData\\Roaming\\Python\\Python36\\site-packages\\skimage\\feature\\__init__.py:43: skimage_deprecation: Function ``register_translation`` is deprecated and will be removed in version 0.19. Use ``skimage.registration.phase_cross_correlation`` instead.\n",
      "  removed_version='0.19')\n"
     ]
    },
    {
     "name": "stdout",
     "output_type": "stream",
     "text": [
      "Completed 30 / 99\n"
     ]
    },
    {
     "name": "stderr",
     "output_type": "stream",
     "text": [
      "C:\\Users\\Sauron\\AppData\\Roaming\\Python\\Python36\\site-packages\\skimage\\feature\\__init__.py:43: skimage_deprecation: Function ``register_translation`` is deprecated and will be removed in version 0.19. Use ``skimage.registration.phase_cross_correlation`` instead.\n",
      "  removed_version='0.19')\n",
      "C:\\Users\\Sauron\\AppData\\Roaming\\Python\\Python36\\site-packages\\skimage\\feature\\__init__.py:43: skimage_deprecation: Function ``register_translation`` is deprecated and will be removed in version 0.19. Use ``skimage.registration.phase_cross_correlation`` instead.\n",
      "  removed_version='0.19')\n",
      "C:\\Users\\Sauron\\AppData\\Roaming\\Python\\Python36\\site-packages\\skimage\\feature\\__init__.py:43: skimage_deprecation: Function ``register_translation`` is deprecated and will be removed in version 0.19. Use ``skimage.registration.phase_cross_correlation`` instead.\n",
      "  removed_version='0.19')\n",
      "C:\\Users\\Sauron\\AppData\\Roaming\\Python\\Python36\\site-packages\\skimage\\feature\\__init__.py:43: skimage_deprecation: Function ``register_translation`` is deprecated and will be removed in version 0.19. Use ``skimage.registration.phase_cross_correlation`` instead.\n",
      "  removed_version='0.19')\n",
      "C:\\Users\\Sauron\\AppData\\Roaming\\Python\\Python36\\site-packages\\skimage\\feature\\__init__.py:43: skimage_deprecation: Function ``register_translation`` is deprecated and will be removed in version 0.19. Use ``skimage.registration.phase_cross_correlation`` instead.\n",
      "  removed_version='0.19')\n",
      "C:\\Users\\Sauron\\AppData\\Roaming\\Python\\Python36\\site-packages\\skimage\\feature\\__init__.py:43: skimage_deprecation: Function ``register_translation`` is deprecated and will be removed in version 0.19. Use ``skimage.registration.phase_cross_correlation`` instead.\n",
      "  removed_version='0.19')\n",
      "C:\\Users\\Sauron\\AppData\\Roaming\\Python\\Python36\\site-packages\\skimage\\feature\\__init__.py:43: skimage_deprecation: Function ``register_translation`` is deprecated and will be removed in version 0.19. Use ``skimage.registration.phase_cross_correlation`` instead.\n",
      "  removed_version='0.19')\n",
      "C:\\Users\\Sauron\\AppData\\Roaming\\Python\\Python36\\site-packages\\skimage\\feature\\__init__.py:43: skimage_deprecation: Function ``register_translation`` is deprecated and will be removed in version 0.19. Use ``skimage.registration.phase_cross_correlation`` instead.\n",
      "  removed_version='0.19')\n"
     ]
    },
    {
     "name": "stdout",
     "output_type": "stream",
     "text": [
      "Completed 40 / 99\n"
     ]
    },
    {
     "name": "stderr",
     "output_type": "stream",
     "text": [
      "C:\\Users\\Sauron\\AppData\\Roaming\\Python\\Python36\\site-packages\\skimage\\feature\\__init__.py:43: skimage_deprecation: Function ``register_translation`` is deprecated and will be removed in version 0.19. Use ``skimage.registration.phase_cross_correlation`` instead.\n",
      "  removed_version='0.19')\n",
      "C:\\Users\\Sauron\\AppData\\Roaming\\Python\\Python36\\site-packages\\skimage\\feature\\__init__.py:43: skimage_deprecation: Function ``register_translation`` is deprecated and will be removed in version 0.19. Use ``skimage.registration.phase_cross_correlation`` instead.\n",
      "  removed_version='0.19')\n",
      "C:\\Users\\Sauron\\AppData\\Roaming\\Python\\Python36\\site-packages\\skimage\\feature\\__init__.py:43: skimage_deprecation: Function ``register_translation`` is deprecated and will be removed in version 0.19. Use ``skimage.registration.phase_cross_correlation`` instead.\n",
      "  removed_version='0.19')\n",
      "C:\\Users\\Sauron\\AppData\\Roaming\\Python\\Python36\\site-packages\\skimage\\feature\\__init__.py:43: skimage_deprecation: Function ``register_translation`` is deprecated and will be removed in version 0.19. Use ``skimage.registration.phase_cross_correlation`` instead.\n",
      "  removed_version='0.19')\n",
      "C:\\Users\\Sauron\\AppData\\Roaming\\Python\\Python36\\site-packages\\skimage\\feature\\__init__.py:43: skimage_deprecation: Function ``register_translation`` is deprecated and will be removed in version 0.19. Use ``skimage.registration.phase_cross_correlation`` instead.\n",
      "  removed_version='0.19')\n",
      "C:\\Users\\Sauron\\AppData\\Roaming\\Python\\Python36\\site-packages\\skimage\\feature\\__init__.py:43: skimage_deprecation: Function ``register_translation`` is deprecated and will be removed in version 0.19. Use ``skimage.registration.phase_cross_correlation`` instead.\n",
      "  removed_version='0.19')\n",
      "C:\\Users\\Sauron\\AppData\\Roaming\\Python\\Python36\\site-packages\\skimage\\feature\\__init__.py:43: skimage_deprecation: Function ``register_translation`` is deprecated and will be removed in version 0.19. Use ``skimage.registration.phase_cross_correlation`` instead.\n",
      "  removed_version='0.19')\n",
      "C:\\Users\\Sauron\\AppData\\Roaming\\Python\\Python36\\site-packages\\skimage\\feature\\__init__.py:43: skimage_deprecation: Function ``register_translation`` is deprecated and will be removed in version 0.19. Use ``skimage.registration.phase_cross_correlation`` instead.\n",
      "  removed_version='0.19')\n",
      "C:\\Users\\Sauron\\AppData\\Roaming\\Python\\Python36\\site-packages\\skimage\\feature\\__init__.py:43: skimage_deprecation: Function ``register_translation`` is deprecated and will be removed in version 0.19. Use ``skimage.registration.phase_cross_correlation`` instead.\n",
      "  removed_version='0.19')\n",
      "C:\\Users\\Sauron\\AppData\\Roaming\\Python\\Python36\\site-packages\\skimage\\feature\\__init__.py:43: skimage_deprecation: Function ``register_translation`` is deprecated and will be removed in version 0.19. Use ``skimage.registration.phase_cross_correlation`` instead.\n",
      "  removed_version='0.19')\n",
      "C:\\Users\\Sauron\\AppData\\Roaming\\Python\\Python36\\site-packages\\skimage\\feature\\__init__.py:43: skimage_deprecation: Function ``register_translation`` is deprecated and will be removed in version 0.19. Use ``skimage.registration.phase_cross_correlation`` instead.\n",
      "  removed_version='0.19')\n"
     ]
    },
    {
     "name": "stdout",
     "output_type": "stream",
     "text": [
      "Completed 50 / 99\n"
     ]
    },
    {
     "name": "stderr",
     "output_type": "stream",
     "text": [
      "C:\\Users\\Sauron\\AppData\\Roaming\\Python\\Python36\\site-packages\\skimage\\feature\\__init__.py:43: skimage_deprecation: Function ``register_translation`` is deprecated and will be removed in version 0.19. Use ``skimage.registration.phase_cross_correlation`` instead.\n",
      "  removed_version='0.19')\n",
      "C:\\Users\\Sauron\\AppData\\Roaming\\Python\\Python36\\site-packages\\skimage\\feature\\__init__.py:43: skimage_deprecation: Function ``register_translation`` is deprecated and will be removed in version 0.19. Use ``skimage.registration.phase_cross_correlation`` instead.\n",
      "  removed_version='0.19')\n",
      "C:\\Users\\Sauron\\AppData\\Roaming\\Python\\Python36\\site-packages\\skimage\\feature\\__init__.py:43: skimage_deprecation: Function ``register_translation`` is deprecated and will be removed in version 0.19. Use ``skimage.registration.phase_cross_correlation`` instead.\n",
      "  removed_version='0.19')\n",
      "C:\\Users\\Sauron\\AppData\\Roaming\\Python\\Python36\\site-packages\\skimage\\feature\\__init__.py:43: skimage_deprecation: Function ``register_translation`` is deprecated and will be removed in version 0.19. Use ``skimage.registration.phase_cross_correlation`` instead.\n",
      "  removed_version='0.19')\n",
      "C:\\Users\\Sauron\\AppData\\Roaming\\Python\\Python36\\site-packages\\skimage\\feature\\__init__.py:43: skimage_deprecation: Function ``register_translation`` is deprecated and will be removed in version 0.19. Use ``skimage.registration.phase_cross_correlation`` instead.\n",
      "  removed_version='0.19')\n",
      "C:\\Users\\Sauron\\AppData\\Roaming\\Python\\Python36\\site-packages\\skimage\\feature\\__init__.py:43: skimage_deprecation: Function ``register_translation`` is deprecated and will be removed in version 0.19. Use ``skimage.registration.phase_cross_correlation`` instead.\n",
      "  removed_version='0.19')\n",
      "C:\\Users\\Sauron\\AppData\\Roaming\\Python\\Python36\\site-packages\\skimage\\feature\\__init__.py:43: skimage_deprecation: Function ``register_translation`` is deprecated and will be removed in version 0.19. Use ``skimage.registration.phase_cross_correlation`` instead.\n",
      "  removed_version='0.19')\n",
      "C:\\Users\\Sauron\\AppData\\Roaming\\Python\\Python36\\site-packages\\skimage\\feature\\__init__.py:43: skimage_deprecation: Function ``register_translation`` is deprecated and will be removed in version 0.19. Use ``skimage.registration.phase_cross_correlation`` instead.\n",
      "  removed_version='0.19')\n",
      "C:\\Users\\Sauron\\AppData\\Roaming\\Python\\Python36\\site-packages\\skimage\\feature\\__init__.py:43: skimage_deprecation: Function ``register_translation`` is deprecated and will be removed in version 0.19. Use ``skimage.registration.phase_cross_correlation`` instead.\n",
      "  removed_version='0.19')\n",
      "C:\\Users\\Sauron\\AppData\\Roaming\\Python\\Python36\\site-packages\\skimage\\feature\\__init__.py:43: skimage_deprecation: Function ``register_translation`` is deprecated and will be removed in version 0.19. Use ``skimage.registration.phase_cross_correlation`` instead.\n",
      "  removed_version='0.19')\n",
      "C:\\Users\\Sauron\\AppData\\Roaming\\Python\\Python36\\site-packages\\skimage\\feature\\__init__.py:43: skimage_deprecation: Function ``register_translation`` is deprecated and will be removed in version 0.19. Use ``skimage.registration.phase_cross_correlation`` instead.\n",
      "  removed_version='0.19')\n"
     ]
    },
    {
     "name": "stdout",
     "output_type": "stream",
     "text": [
      "Completed 60 / 99\n"
     ]
    },
    {
     "name": "stderr",
     "output_type": "stream",
     "text": [
      "C:\\Users\\Sauron\\AppData\\Roaming\\Python\\Python36\\site-packages\\skimage\\feature\\__init__.py:43: skimage_deprecation: Function ``register_translation`` is deprecated and will be removed in version 0.19. Use ``skimage.registration.phase_cross_correlation`` instead.\n",
      "  removed_version='0.19')\n",
      "C:\\Users\\Sauron\\AppData\\Roaming\\Python\\Python36\\site-packages\\skimage\\feature\\__init__.py:43: skimage_deprecation: Function ``register_translation`` is deprecated and will be removed in version 0.19. Use ``skimage.registration.phase_cross_correlation`` instead.\n",
      "  removed_version='0.19')\n",
      "C:\\Users\\Sauron\\AppData\\Roaming\\Python\\Python36\\site-packages\\skimage\\feature\\__init__.py:43: skimage_deprecation: Function ``register_translation`` is deprecated and will be removed in version 0.19. Use ``skimage.registration.phase_cross_correlation`` instead.\n",
      "  removed_version='0.19')\n",
      "C:\\Users\\Sauron\\AppData\\Roaming\\Python\\Python36\\site-packages\\skimage\\feature\\__init__.py:43: skimage_deprecation: Function ``register_translation`` is deprecated and will be removed in version 0.19. Use ``skimage.registration.phase_cross_correlation`` instead.\n",
      "  removed_version='0.19')\n",
      "C:\\Users\\Sauron\\AppData\\Roaming\\Python\\Python36\\site-packages\\skimage\\feature\\__init__.py:43: skimage_deprecation: Function ``register_translation`` is deprecated and will be removed in version 0.19. Use ``skimage.registration.phase_cross_correlation`` instead.\n",
      "  removed_version='0.19')\n",
      "C:\\Users\\Sauron\\AppData\\Roaming\\Python\\Python36\\site-packages\\skimage\\feature\\__init__.py:43: skimage_deprecation: Function ``register_translation`` is deprecated and will be removed in version 0.19. Use ``skimage.registration.phase_cross_correlation`` instead.\n",
      "  removed_version='0.19')\n",
      "C:\\Users\\Sauron\\AppData\\Roaming\\Python\\Python36\\site-packages\\skimage\\feature\\__init__.py:43: skimage_deprecation: Function ``register_translation`` is deprecated and will be removed in version 0.19. Use ``skimage.registration.phase_cross_correlation`` instead.\n",
      "  removed_version='0.19')\n",
      "C:\\Users\\Sauron\\AppData\\Roaming\\Python\\Python36\\site-packages\\skimage\\feature\\__init__.py:43: skimage_deprecation: Function ``register_translation`` is deprecated and will be removed in version 0.19. Use ``skimage.registration.phase_cross_correlation`` instead.\n",
      "  removed_version='0.19')\n",
      "C:\\Users\\Sauron\\AppData\\Roaming\\Python\\Python36\\site-packages\\skimage\\feature\\__init__.py:43: skimage_deprecation: Function ``register_translation`` is deprecated and will be removed in version 0.19. Use ``skimage.registration.phase_cross_correlation`` instead.\n",
      "  removed_version='0.19')\n",
      "C:\\Users\\Sauron\\AppData\\Roaming\\Python\\Python36\\site-packages\\skimage\\feature\\__init__.py:43: skimage_deprecation: Function ``register_translation`` is deprecated and will be removed in version 0.19. Use ``skimage.registration.phase_cross_correlation`` instead.\n",
      "  removed_version='0.19')\n",
      "C:\\Users\\Sauron\\AppData\\Roaming\\Python\\Python36\\site-packages\\skimage\\feature\\__init__.py:43: skimage_deprecation: Function ``register_translation`` is deprecated and will be removed in version 0.19. Use ``skimage.registration.phase_cross_correlation`` instead.\n",
      "  removed_version='0.19')\n",
      "C:\\Users\\Sauron\\AppData\\Roaming\\Python\\Python36\\site-packages\\skimage\\feature\\__init__.py:43: skimage_deprecation: Function ``register_translation`` is deprecated and will be removed in version 0.19. Use ``skimage.registration.phase_cross_correlation`` instead.\n",
      "  removed_version='0.19')\n"
     ]
    },
    {
     "name": "stdout",
     "output_type": "stream",
     "text": [
      "Completed 70 / 99\n"
     ]
    },
    {
     "name": "stderr",
     "output_type": "stream",
     "text": [
      "C:\\Users\\Sauron\\AppData\\Roaming\\Python\\Python36\\site-packages\\skimage\\feature\\__init__.py:43: skimage_deprecation: Function ``register_translation`` is deprecated and will be removed in version 0.19. Use ``skimage.registration.phase_cross_correlation`` instead.\n",
      "  removed_version='0.19')\n",
      "C:\\Users\\Sauron\\AppData\\Roaming\\Python\\Python36\\site-packages\\skimage\\feature\\__init__.py:43: skimage_deprecation: Function ``register_translation`` is deprecated and will be removed in version 0.19. Use ``skimage.registration.phase_cross_correlation`` instead.\n",
      "  removed_version='0.19')\n",
      "C:\\Users\\Sauron\\AppData\\Roaming\\Python\\Python36\\site-packages\\skimage\\feature\\__init__.py:43: skimage_deprecation: Function ``register_translation`` is deprecated and will be removed in version 0.19. Use ``skimage.registration.phase_cross_correlation`` instead.\n",
      "  removed_version='0.19')\n",
      "C:\\Users\\Sauron\\AppData\\Roaming\\Python\\Python36\\site-packages\\skimage\\feature\\__init__.py:43: skimage_deprecation: Function ``register_translation`` is deprecated and will be removed in version 0.19. Use ``skimage.registration.phase_cross_correlation`` instead.\n",
      "  removed_version='0.19')\n",
      "C:\\Users\\Sauron\\AppData\\Roaming\\Python\\Python36\\site-packages\\skimage\\feature\\__init__.py:43: skimage_deprecation: Function ``register_translation`` is deprecated and will be removed in version 0.19. Use ``skimage.registration.phase_cross_correlation`` instead.\n",
      "  removed_version='0.19')\n",
      "C:\\Users\\Sauron\\AppData\\Roaming\\Python\\Python36\\site-packages\\skimage\\feature\\__init__.py:43: skimage_deprecation: Function ``register_translation`` is deprecated and will be removed in version 0.19. Use ``skimage.registration.phase_cross_correlation`` instead.\n",
      "  removed_version='0.19')\n"
     ]
    },
    {
     "name": "stdout",
     "output_type": "stream",
     "text": [
      "Completed 80 / 99\n"
     ]
    },
    {
     "name": "stderr",
     "output_type": "stream",
     "text": [
      "C:\\Users\\Sauron\\AppData\\Roaming\\Python\\Python36\\site-packages\\skimage\\feature\\__init__.py:43: skimage_deprecation: Function ``register_translation`` is deprecated and will be removed in version 0.19. Use ``skimage.registration.phase_cross_correlation`` instead.\n",
      "  removed_version='0.19')\n",
      "C:\\Users\\Sauron\\AppData\\Roaming\\Python\\Python36\\site-packages\\skimage\\feature\\__init__.py:43: skimage_deprecation: Function ``register_translation`` is deprecated and will be removed in version 0.19. Use ``skimage.registration.phase_cross_correlation`` instead.\n",
      "  removed_version='0.19')\n",
      "C:\\Users\\Sauron\\AppData\\Roaming\\Python\\Python36\\site-packages\\skimage\\feature\\__init__.py:43: skimage_deprecation: Function ``register_translation`` is deprecated and will be removed in version 0.19. Use ``skimage.registration.phase_cross_correlation`` instead.\n",
      "  removed_version='0.19')\n",
      "C:\\Users\\Sauron\\AppData\\Roaming\\Python\\Python36\\site-packages\\skimage\\feature\\__init__.py:43: skimage_deprecation: Function ``register_translation`` is deprecated and will be removed in version 0.19. Use ``skimage.registration.phase_cross_correlation`` instead.\n",
      "  removed_version='0.19')\n",
      "C:\\Users\\Sauron\\AppData\\Roaming\\Python\\Python36\\site-packages\\skimage\\feature\\__init__.py:43: skimage_deprecation: Function ``register_translation`` is deprecated and will be removed in version 0.19. Use ``skimage.registration.phase_cross_correlation`` instead.\n",
      "  removed_version='0.19')\n",
      "C:\\Users\\Sauron\\AppData\\Roaming\\Python\\Python36\\site-packages\\skimage\\feature\\__init__.py:43: skimage_deprecation: Function ``register_translation`` is deprecated and will be removed in version 0.19. Use ``skimage.registration.phase_cross_correlation`` instead.\n",
      "  removed_version='0.19')\n",
      "C:\\Users\\Sauron\\AppData\\Roaming\\Python\\Python36\\site-packages\\skimage\\feature\\__init__.py:43: skimage_deprecation: Function ``register_translation`` is deprecated and will be removed in version 0.19. Use ``skimage.registration.phase_cross_correlation`` instead.\n",
      "  removed_version='0.19')\n",
      "C:\\Users\\Sauron\\AppData\\Roaming\\Python\\Python36\\site-packages\\skimage\\feature\\__init__.py:43: skimage_deprecation: Function ``register_translation`` is deprecated and will be removed in version 0.19. Use ``skimage.registration.phase_cross_correlation`` instead.\n",
      "  removed_version='0.19')\n",
      "C:\\Users\\Sauron\\AppData\\Roaming\\Python\\Python36\\site-packages\\skimage\\feature\\__init__.py:43: skimage_deprecation: Function ``register_translation`` is deprecated and will be removed in version 0.19. Use ``skimage.registration.phase_cross_correlation`` instead.\n",
      "  removed_version='0.19')\n",
      "C:\\Users\\Sauron\\AppData\\Roaming\\Python\\Python36\\site-packages\\skimage\\feature\\__init__.py:43: skimage_deprecation: Function ``register_translation`` is deprecated and will be removed in version 0.19. Use ``skimage.registration.phase_cross_correlation`` instead.\n",
      "  removed_version='0.19')\n",
      "C:\\Users\\Sauron\\AppData\\Roaming\\Python\\Python36\\site-packages\\skimage\\feature\\__init__.py:43: skimage_deprecation: Function ``register_translation`` is deprecated and will be removed in version 0.19. Use ``skimage.registration.phase_cross_correlation`` instead.\n",
      "  removed_version='0.19')\n"
     ]
    },
    {
     "name": "stdout",
     "output_type": "stream",
     "text": [
      "Completed 90 / 99\n"
     ]
    },
    {
     "name": "stderr",
     "output_type": "stream",
     "text": [
      "C:\\Users\\Sauron\\AppData\\Roaming\\Python\\Python36\\site-packages\\skimage\\feature\\__init__.py:43: skimage_deprecation: Function ``register_translation`` is deprecated and will be removed in version 0.19. Use ``skimage.registration.phase_cross_correlation`` instead.\n",
      "  removed_version='0.19')\n",
      "C:\\Users\\Sauron\\AppData\\Roaming\\Python\\Python36\\site-packages\\skimage\\feature\\__init__.py:43: skimage_deprecation: Function ``register_translation`` is deprecated and will be removed in version 0.19. Use ``skimage.registration.phase_cross_correlation`` instead.\n",
      "  removed_version='0.19')\n",
      "C:\\Users\\Sauron\\AppData\\Roaming\\Python\\Python36\\site-packages\\skimage\\feature\\__init__.py:43: skimage_deprecation: Function ``register_translation`` is deprecated and will be removed in version 0.19. Use ``skimage.registration.phase_cross_correlation`` instead.\n",
      "  removed_version='0.19')\n",
      "C:\\Users\\Sauron\\AppData\\Roaming\\Python\\Python36\\site-packages\\skimage\\feature\\__init__.py:43: skimage_deprecation: Function ``register_translation`` is deprecated and will be removed in version 0.19. Use ``skimage.registration.phase_cross_correlation`` instead.\n",
      "  removed_version='0.19')\n",
      "C:\\Users\\Sauron\\AppData\\Roaming\\Python\\Python36\\site-packages\\skimage\\feature\\__init__.py:43: skimage_deprecation: Function ``register_translation`` is deprecated and will be removed in version 0.19. Use ``skimage.registration.phase_cross_correlation`` instead.\n",
      "  removed_version='0.19')\n",
      "C:\\Users\\Sauron\\AppData\\Roaming\\Python\\Python36\\site-packages\\skimage\\feature\\__init__.py:43: skimage_deprecation: Function ``register_translation`` is deprecated and will be removed in version 0.19. Use ``skimage.registration.phase_cross_correlation`` instead.\n",
      "  removed_version='0.19')\n",
      "C:\\Users\\Sauron\\AppData\\Roaming\\Python\\Python36\\site-packages\\skimage\\feature\\__init__.py:43: skimage_deprecation: Function ``register_translation`` is deprecated and will be removed in version 0.19. Use ``skimage.registration.phase_cross_correlation`` instead.\n",
      "  removed_version='0.19')\n"
     ]
    },
    {
     "data": {
      "application/vnd.jupyter.widget-view+json": {
       "model_id": "f61a4b5c274d4339a673345572a4b26c",
       "version_major": 2,
       "version_minor": 0
      },
      "text/plain": [
       "  0%|          | 0/99 [00:00<?, ?it/s]"
      ]
     },
     "metadata": {},
     "output_type": "display_data"
    },
    {
     "name": "stdout",
     "output_type": "stream",
     "text": [
      "This is iteration 4\n"
     ]
    },
    {
     "name": "stderr",
     "output_type": "stream",
     "text": [
      "C:\\Users\\Sauron\\AppData\\Roaming\\Python\\Python36\\site-packages\\skimage\\feature\\__init__.py:43: skimage_deprecation: Function ``register_translation`` is deprecated and will be removed in version 0.19. Use ``skimage.registration.phase_cross_correlation`` instead.\n",
      "  removed_version='0.19')\n",
      "C:\\Users\\Sauron\\AppData\\Roaming\\Python\\Python36\\site-packages\\skimage\\feature\\__init__.py:43: skimage_deprecation: Function ``register_translation`` is deprecated and will be removed in version 0.19. Use ``skimage.registration.phase_cross_correlation`` instead.\n",
      "  removed_version='0.19')\n",
      "C:\\Users\\Sauron\\AppData\\Roaming\\Python\\Python36\\site-packages\\skimage\\feature\\__init__.py:43: skimage_deprecation: Function ``register_translation`` is deprecated and will be removed in version 0.19. Use ``skimage.registration.phase_cross_correlation`` instead.\n",
      "  removed_version='0.19')\n",
      "C:\\Users\\Sauron\\AppData\\Roaming\\Python\\Python36\\site-packages\\skimage\\feature\\__init__.py:43: skimage_deprecation: Function ``register_translation`` is deprecated and will be removed in version 0.19. Use ``skimage.registration.phase_cross_correlation`` instead.\n",
      "  removed_version='0.19')\n",
      "C:\\Users\\Sauron\\AppData\\Roaming\\Python\\Python36\\site-packages\\skimage\\feature\\__init__.py:43: skimage_deprecation: Function ``register_translation`` is deprecated and will be removed in version 0.19. Use ``skimage.registration.phase_cross_correlation`` instead.\n",
      "  removed_version='0.19')\n",
      "C:\\Users\\Sauron\\AppData\\Roaming\\Python\\Python36\\site-packages\\skimage\\feature\\__init__.py:43: skimage_deprecation: Function ``register_translation`` is deprecated and will be removed in version 0.19. Use ``skimage.registration.phase_cross_correlation`` instead.\n",
      "  removed_version='0.19')\n",
      "C:\\Users\\Sauron\\AppData\\Roaming\\Python\\Python36\\site-packages\\skimage\\feature\\__init__.py:43: skimage_deprecation: Function ``register_translation`` is deprecated and will be removed in version 0.19. Use ``skimage.registration.phase_cross_correlation`` instead.\n",
      "  removed_version='0.19')\n",
      "C:\\Users\\Sauron\\AppData\\Roaming\\Python\\Python36\\site-packages\\skimage\\feature\\__init__.py:43: skimage_deprecation: Function ``register_translation`` is deprecated and will be removed in version 0.19. Use ``skimage.registration.phase_cross_correlation`` instead.\n",
      "  removed_version='0.19')\n",
      "C:\\Users\\Sauron\\AppData\\Roaming\\Python\\Python36\\site-packages\\skimage\\feature\\__init__.py:43: skimage_deprecation: Function ``register_translation`` is deprecated and will be removed in version 0.19. Use ``skimage.registration.phase_cross_correlation`` instead.\n",
      "  removed_version='0.19')\n",
      "C:\\Users\\Sauron\\AppData\\Roaming\\Python\\Python36\\site-packages\\skimage\\feature\\__init__.py:43: skimage_deprecation: Function ``register_translation`` is deprecated and will be removed in version 0.19. Use ``skimage.registration.phase_cross_correlation`` instead.\n",
      "  removed_version='0.19')\n",
      "C:\\Users\\Sauron\\AppData\\Roaming\\Python\\Python36\\site-packages\\skimage\\feature\\__init__.py:43: skimage_deprecation: Function ``register_translation`` is deprecated and will be removed in version 0.19. Use ``skimage.registration.phase_cross_correlation`` instead.\n",
      "  removed_version='0.19')\n"
     ]
    },
    {
     "name": "stdout",
     "output_type": "stream",
     "text": [
      "Completed 10 / 99\n"
     ]
    },
    {
     "name": "stderr",
     "output_type": "stream",
     "text": [
      "C:\\Users\\Sauron\\AppData\\Roaming\\Python\\Python36\\site-packages\\skimage\\feature\\__init__.py:43: skimage_deprecation: Function ``register_translation`` is deprecated and will be removed in version 0.19. Use ``skimage.registration.phase_cross_correlation`` instead.\n",
      "  removed_version='0.19')\n",
      "C:\\Users\\Sauron\\AppData\\Roaming\\Python\\Python36\\site-packages\\skimage\\feature\\__init__.py:43: skimage_deprecation: Function ``register_translation`` is deprecated and will be removed in version 0.19. Use ``skimage.registration.phase_cross_correlation`` instead.\n",
      "  removed_version='0.19')\n",
      "C:\\Users\\Sauron\\AppData\\Roaming\\Python\\Python36\\site-packages\\skimage\\feature\\__init__.py:43: skimage_deprecation: Function ``register_translation`` is deprecated and will be removed in version 0.19. Use ``skimage.registration.phase_cross_correlation`` instead.\n",
      "  removed_version='0.19')\n",
      "C:\\Users\\Sauron\\AppData\\Roaming\\Python\\Python36\\site-packages\\skimage\\feature\\__init__.py:43: skimage_deprecation: Function ``register_translation`` is deprecated and will be removed in version 0.19. Use ``skimage.registration.phase_cross_correlation`` instead.\n",
      "  removed_version='0.19')\n",
      "C:\\Users\\Sauron\\AppData\\Roaming\\Python\\Python36\\site-packages\\skimage\\feature\\__init__.py:43: skimage_deprecation: Function ``register_translation`` is deprecated and will be removed in version 0.19. Use ``skimage.registration.phase_cross_correlation`` instead.\n",
      "  removed_version='0.19')\n",
      "C:\\Users\\Sauron\\AppData\\Roaming\\Python\\Python36\\site-packages\\skimage\\feature\\__init__.py:43: skimage_deprecation: Function ``register_translation`` is deprecated and will be removed in version 0.19. Use ``skimage.registration.phase_cross_correlation`` instead.\n",
      "  removed_version='0.19')\n",
      "C:\\Users\\Sauron\\AppData\\Roaming\\Python\\Python36\\site-packages\\skimage\\feature\\__init__.py:43: skimage_deprecation: Function ``register_translation`` is deprecated and will be removed in version 0.19. Use ``skimage.registration.phase_cross_correlation`` instead.\n",
      "  removed_version='0.19')\n",
      "C:\\Users\\Sauron\\AppData\\Roaming\\Python\\Python36\\site-packages\\skimage\\feature\\__init__.py:43: skimage_deprecation: Function ``register_translation`` is deprecated and will be removed in version 0.19. Use ``skimage.registration.phase_cross_correlation`` instead.\n",
      "  removed_version='0.19')\n",
      "C:\\Users\\Sauron\\AppData\\Roaming\\Python\\Python36\\site-packages\\skimage\\feature\\__init__.py:43: skimage_deprecation: Function ``register_translation`` is deprecated and will be removed in version 0.19. Use ``skimage.registration.phase_cross_correlation`` instead.\n",
      "  removed_version='0.19')\n",
      "C:\\Users\\Sauron\\AppData\\Roaming\\Python\\Python36\\site-packages\\skimage\\feature\\__init__.py:43: skimage_deprecation: Function ``register_translation`` is deprecated and will be removed in version 0.19. Use ``skimage.registration.phase_cross_correlation`` instead.\n",
      "  removed_version='0.19')\n",
      "C:\\Users\\Sauron\\AppData\\Roaming\\Python\\Python36\\site-packages\\skimage\\feature\\__init__.py:43: skimage_deprecation: Function ``register_translation`` is deprecated and will be removed in version 0.19. Use ``skimage.registration.phase_cross_correlation`` instead.\n",
      "  removed_version='0.19')\n",
      "C:\\Users\\Sauron\\AppData\\Roaming\\Python\\Python36\\site-packages\\skimage\\feature\\__init__.py:43: skimage_deprecation: Function ``register_translation`` is deprecated and will be removed in version 0.19. Use ``skimage.registration.phase_cross_correlation`` instead.\n",
      "  removed_version='0.19')\n"
     ]
    },
    {
     "name": "stdout",
     "output_type": "stream",
     "text": [
      "Completed 20 / 99\n"
     ]
    },
    {
     "name": "stderr",
     "output_type": "stream",
     "text": [
      "C:\\Users\\Sauron\\AppData\\Roaming\\Python\\Python36\\site-packages\\skimage\\feature\\__init__.py:43: skimage_deprecation: Function ``register_translation`` is deprecated and will be removed in version 0.19. Use ``skimage.registration.phase_cross_correlation`` instead.\n",
      "  removed_version='0.19')\n",
      "C:\\Users\\Sauron\\AppData\\Roaming\\Python\\Python36\\site-packages\\skimage\\feature\\__init__.py:43: skimage_deprecation: Function ``register_translation`` is deprecated and will be removed in version 0.19. Use ``skimage.registration.phase_cross_correlation`` instead.\n",
      "  removed_version='0.19')\n",
      "C:\\Users\\Sauron\\AppData\\Roaming\\Python\\Python36\\site-packages\\skimage\\feature\\__init__.py:43: skimage_deprecation: Function ``register_translation`` is deprecated and will be removed in version 0.19. Use ``skimage.registration.phase_cross_correlation`` instead.\n",
      "  removed_version='0.19')\n",
      "C:\\Users\\Sauron\\AppData\\Roaming\\Python\\Python36\\site-packages\\skimage\\feature\\__init__.py:43: skimage_deprecation: Function ``register_translation`` is deprecated and will be removed in version 0.19. Use ``skimage.registration.phase_cross_correlation`` instead.\n",
      "  removed_version='0.19')\n",
      "C:\\Users\\Sauron\\AppData\\Roaming\\Python\\Python36\\site-packages\\skimage\\feature\\__init__.py:43: skimage_deprecation: Function ``register_translation`` is deprecated and will be removed in version 0.19. Use ``skimage.registration.phase_cross_correlation`` instead.\n",
      "  removed_version='0.19')\n",
      "C:\\Users\\Sauron\\AppData\\Roaming\\Python\\Python36\\site-packages\\skimage\\feature\\__init__.py:43: skimage_deprecation: Function ``register_translation`` is deprecated and will be removed in version 0.19. Use ``skimage.registration.phase_cross_correlation`` instead.\n",
      "  removed_version='0.19')\n",
      "C:\\Users\\Sauron\\AppData\\Roaming\\Python\\Python36\\site-packages\\skimage\\feature\\__init__.py:43: skimage_deprecation: Function ``register_translation`` is deprecated and will be removed in version 0.19. Use ``skimage.registration.phase_cross_correlation`` instead.\n",
      "  removed_version='0.19')\n",
      "C:\\Users\\Sauron\\AppData\\Roaming\\Python\\Python36\\site-packages\\skimage\\feature\\__init__.py:43: skimage_deprecation: Function ``register_translation`` is deprecated and will be removed in version 0.19. Use ``skimage.registration.phase_cross_correlation`` instead.\n",
      "  removed_version='0.19')\n",
      "C:\\Users\\Sauron\\AppData\\Roaming\\Python\\Python36\\site-packages\\skimage\\feature\\__init__.py:43: skimage_deprecation: Function ``register_translation`` is deprecated and will be removed in version 0.19. Use ``skimage.registration.phase_cross_correlation`` instead.\n",
      "  removed_version='0.19')\n",
      "C:\\Users\\Sauron\\AppData\\Roaming\\Python\\Python36\\site-packages\\skimage\\feature\\__init__.py:43: skimage_deprecation: Function ``register_translation`` is deprecated and will be removed in version 0.19. Use ``skimage.registration.phase_cross_correlation`` instead.\n",
      "  removed_version='0.19')\n",
      "C:\\Users\\Sauron\\AppData\\Roaming\\Python\\Python36\\site-packages\\skimage\\feature\\__init__.py:43: skimage_deprecation: Function ``register_translation`` is deprecated and will be removed in version 0.19. Use ``skimage.registration.phase_cross_correlation`` instead.\n",
      "  removed_version='0.19')\n"
     ]
    },
    {
     "name": "stdout",
     "output_type": "stream",
     "text": [
      "Completed 30 / 99\n"
     ]
    },
    {
     "name": "stderr",
     "output_type": "stream",
     "text": [
      "C:\\Users\\Sauron\\AppData\\Roaming\\Python\\Python36\\site-packages\\skimage\\feature\\__init__.py:43: skimage_deprecation: Function ``register_translation`` is deprecated and will be removed in version 0.19. Use ``skimage.registration.phase_cross_correlation`` instead.\n",
      "  removed_version='0.19')\n",
      "C:\\Users\\Sauron\\AppData\\Roaming\\Python\\Python36\\site-packages\\skimage\\feature\\__init__.py:43: skimage_deprecation: Function ``register_translation`` is deprecated and will be removed in version 0.19. Use ``skimage.registration.phase_cross_correlation`` instead.\n",
      "  removed_version='0.19')\n",
      "C:\\Users\\Sauron\\AppData\\Roaming\\Python\\Python36\\site-packages\\skimage\\feature\\__init__.py:43: skimage_deprecation: Function ``register_translation`` is deprecated and will be removed in version 0.19. Use ``skimage.registration.phase_cross_correlation`` instead.\n",
      "  removed_version='0.19')\n",
      "C:\\Users\\Sauron\\AppData\\Roaming\\Python\\Python36\\site-packages\\skimage\\feature\\__init__.py:43: skimage_deprecation: Function ``register_translation`` is deprecated and will be removed in version 0.19. Use ``skimage.registration.phase_cross_correlation`` instead.\n",
      "  removed_version='0.19')\n",
      "C:\\Users\\Sauron\\AppData\\Roaming\\Python\\Python36\\site-packages\\skimage\\feature\\__init__.py:43: skimage_deprecation: Function ``register_translation`` is deprecated and will be removed in version 0.19. Use ``skimage.registration.phase_cross_correlation`` instead.\n",
      "  removed_version='0.19')\n",
      "C:\\Users\\Sauron\\AppData\\Roaming\\Python\\Python36\\site-packages\\skimage\\feature\\__init__.py:43: skimage_deprecation: Function ``register_translation`` is deprecated and will be removed in version 0.19. Use ``skimage.registration.phase_cross_correlation`` instead.\n",
      "  removed_version='0.19')\n",
      "C:\\Users\\Sauron\\AppData\\Roaming\\Python\\Python36\\site-packages\\skimage\\feature\\__init__.py:43: skimage_deprecation: Function ``register_translation`` is deprecated and will be removed in version 0.19. Use ``skimage.registration.phase_cross_correlation`` instead.\n",
      "  removed_version='0.19')\n",
      "C:\\Users\\Sauron\\AppData\\Roaming\\Python\\Python36\\site-packages\\skimage\\feature\\__init__.py:43: skimage_deprecation: Function ``register_translation`` is deprecated and will be removed in version 0.19. Use ``skimage.registration.phase_cross_correlation`` instead.\n",
      "  removed_version='0.19')\n",
      "C:\\Users\\Sauron\\AppData\\Roaming\\Python\\Python36\\site-packages\\skimage\\feature\\__init__.py:43: skimage_deprecation: Function ``register_translation`` is deprecated and will be removed in version 0.19. Use ``skimage.registration.phase_cross_correlation`` instead.\n",
      "  removed_version='0.19')\n",
      "C:\\Users\\Sauron\\AppData\\Roaming\\Python\\Python36\\site-packages\\skimage\\feature\\__init__.py:43: skimage_deprecation: Function ``register_translation`` is deprecated and will be removed in version 0.19. Use ``skimage.registration.phase_cross_correlation`` instead.\n",
      "  removed_version='0.19')\n",
      "C:\\Users\\Sauron\\AppData\\Roaming\\Python\\Python36\\site-packages\\skimage\\feature\\__init__.py:43: skimage_deprecation: Function ``register_translation`` is deprecated and will be removed in version 0.19. Use ``skimage.registration.phase_cross_correlation`` instead.\n",
      "  removed_version='0.19')\n"
     ]
    },
    {
     "name": "stdout",
     "output_type": "stream",
     "text": [
      "Completed 40 / 99\n"
     ]
    },
    {
     "name": "stderr",
     "output_type": "stream",
     "text": [
      "C:\\Users\\Sauron\\AppData\\Roaming\\Python\\Python36\\site-packages\\skimage\\feature\\__init__.py:43: skimage_deprecation: Function ``register_translation`` is deprecated and will be removed in version 0.19. Use ``skimage.registration.phase_cross_correlation`` instead.\n",
      "  removed_version='0.19')\n",
      "C:\\Users\\Sauron\\AppData\\Roaming\\Python\\Python36\\site-packages\\skimage\\feature\\__init__.py:43: skimage_deprecation: Function ``register_translation`` is deprecated and will be removed in version 0.19. Use ``skimage.registration.phase_cross_correlation`` instead.\n",
      "  removed_version='0.19')\n",
      "C:\\Users\\Sauron\\AppData\\Roaming\\Python\\Python36\\site-packages\\skimage\\feature\\__init__.py:43: skimage_deprecation: Function ``register_translation`` is deprecated and will be removed in version 0.19. Use ``skimage.registration.phase_cross_correlation`` instead.\n",
      "  removed_version='0.19')\n",
      "C:\\Users\\Sauron\\AppData\\Roaming\\Python\\Python36\\site-packages\\skimage\\feature\\__init__.py:43: skimage_deprecation: Function ``register_translation`` is deprecated and will be removed in version 0.19. Use ``skimage.registration.phase_cross_correlation`` instead.\n",
      "  removed_version='0.19')\n",
      "C:\\Users\\Sauron\\AppData\\Roaming\\Python\\Python36\\site-packages\\skimage\\feature\\__init__.py:43: skimage_deprecation: Function ``register_translation`` is deprecated and will be removed in version 0.19. Use ``skimage.registration.phase_cross_correlation`` instead.\n",
      "  removed_version='0.19')\n"
     ]
    },
    {
     "name": "stdout",
     "output_type": "stream",
     "text": [
      "Completed 50 / 99\n"
     ]
    },
    {
     "name": "stderr",
     "output_type": "stream",
     "text": [
      "C:\\Users\\Sauron\\AppData\\Roaming\\Python\\Python36\\site-packages\\skimage\\feature\\__init__.py:43: skimage_deprecation: Function ``register_translation`` is deprecated and will be removed in version 0.19. Use ``skimage.registration.phase_cross_correlation`` instead.\n",
      "  removed_version='0.19')\n",
      "C:\\Users\\Sauron\\AppData\\Roaming\\Python\\Python36\\site-packages\\skimage\\feature\\__init__.py:43: skimage_deprecation: Function ``register_translation`` is deprecated and will be removed in version 0.19. Use ``skimage.registration.phase_cross_correlation`` instead.\n",
      "  removed_version='0.19')\n",
      "C:\\Users\\Sauron\\AppData\\Roaming\\Python\\Python36\\site-packages\\skimage\\feature\\__init__.py:43: skimage_deprecation: Function ``register_translation`` is deprecated and will be removed in version 0.19. Use ``skimage.registration.phase_cross_correlation`` instead.\n",
      "  removed_version='0.19')\n",
      "C:\\Users\\Sauron\\AppData\\Roaming\\Python\\Python36\\site-packages\\skimage\\feature\\__init__.py:43: skimage_deprecation: Function ``register_translation`` is deprecated and will be removed in version 0.19. Use ``skimage.registration.phase_cross_correlation`` instead.\n",
      "  removed_version='0.19')\n",
      "C:\\Users\\Sauron\\AppData\\Roaming\\Python\\Python36\\site-packages\\skimage\\feature\\__init__.py:43: skimage_deprecation: Function ``register_translation`` is deprecated and will be removed in version 0.19. Use ``skimage.registration.phase_cross_correlation`` instead.\n",
      "  removed_version='0.19')\n",
      "C:\\Users\\Sauron\\AppData\\Roaming\\Python\\Python36\\site-packages\\skimage\\feature\\__init__.py:43: skimage_deprecation: Function ``register_translation`` is deprecated and will be removed in version 0.19. Use ``skimage.registration.phase_cross_correlation`` instead.\n",
      "  removed_version='0.19')\n",
      "C:\\Users\\Sauron\\AppData\\Roaming\\Python\\Python36\\site-packages\\skimage\\feature\\__init__.py:43: skimage_deprecation: Function ``register_translation`` is deprecated and will be removed in version 0.19. Use ``skimage.registration.phase_cross_correlation`` instead.\n",
      "  removed_version='0.19')\n",
      "C:\\Users\\Sauron\\AppData\\Roaming\\Python\\Python36\\site-packages\\skimage\\feature\\__init__.py:43: skimage_deprecation: Function ``register_translation`` is deprecated and will be removed in version 0.19. Use ``skimage.registration.phase_cross_correlation`` instead.\n",
      "  removed_version='0.19')\n",
      "C:\\Users\\Sauron\\AppData\\Roaming\\Python\\Python36\\site-packages\\skimage\\feature\\__init__.py:43: skimage_deprecation: Function ``register_translation`` is deprecated and will be removed in version 0.19. Use ``skimage.registration.phase_cross_correlation`` instead.\n",
      "  removed_version='0.19')\n",
      "C:\\Users\\Sauron\\AppData\\Roaming\\Python\\Python36\\site-packages\\skimage\\feature\\__init__.py:43: skimage_deprecation: Function ``register_translation`` is deprecated and will be removed in version 0.19. Use ``skimage.registration.phase_cross_correlation`` instead.\n",
      "  removed_version='0.19')\n"
     ]
    },
    {
     "name": "stdout",
     "output_type": "stream",
     "text": [
      "Completed 60 / 99\n"
     ]
    },
    {
     "name": "stderr",
     "output_type": "stream",
     "text": [
      "C:\\Users\\Sauron\\AppData\\Roaming\\Python\\Python36\\site-packages\\skimage\\feature\\__init__.py:43: skimage_deprecation: Function ``register_translation`` is deprecated and will be removed in version 0.19. Use ``skimage.registration.phase_cross_correlation`` instead.\n",
      "  removed_version='0.19')\n",
      "C:\\Users\\Sauron\\AppData\\Roaming\\Python\\Python36\\site-packages\\skimage\\feature\\__init__.py:43: skimage_deprecation: Function ``register_translation`` is deprecated and will be removed in version 0.19. Use ``skimage.registration.phase_cross_correlation`` instead.\n",
      "  removed_version='0.19')\n",
      "C:\\Users\\Sauron\\AppData\\Roaming\\Python\\Python36\\site-packages\\skimage\\feature\\__init__.py:43: skimage_deprecation: Function ``register_translation`` is deprecated and will be removed in version 0.19. Use ``skimage.registration.phase_cross_correlation`` instead.\n",
      "  removed_version='0.19')\n",
      "C:\\Users\\Sauron\\AppData\\Roaming\\Python\\Python36\\site-packages\\skimage\\feature\\__init__.py:43: skimage_deprecation: Function ``register_translation`` is deprecated and will be removed in version 0.19. Use ``skimage.registration.phase_cross_correlation`` instead.\n",
      "  removed_version='0.19')\n",
      "C:\\Users\\Sauron\\AppData\\Roaming\\Python\\Python36\\site-packages\\skimage\\feature\\__init__.py:43: skimage_deprecation: Function ``register_translation`` is deprecated and will be removed in version 0.19. Use ``skimage.registration.phase_cross_correlation`` instead.\n",
      "  removed_version='0.19')\n",
      "C:\\Users\\Sauron\\AppData\\Roaming\\Python\\Python36\\site-packages\\skimage\\feature\\__init__.py:43: skimage_deprecation: Function ``register_translation`` is deprecated and will be removed in version 0.19. Use ``skimage.registration.phase_cross_correlation`` instead.\n",
      "  removed_version='0.19')\n",
      "C:\\Users\\Sauron\\AppData\\Roaming\\Python\\Python36\\site-packages\\skimage\\feature\\__init__.py:43: skimage_deprecation: Function ``register_translation`` is deprecated and will be removed in version 0.19. Use ``skimage.registration.phase_cross_correlation`` instead.\n",
      "  removed_version='0.19')\n",
      "C:\\Users\\Sauron\\AppData\\Roaming\\Python\\Python36\\site-packages\\skimage\\feature\\__init__.py:43: skimage_deprecation: Function ``register_translation`` is deprecated and will be removed in version 0.19. Use ``skimage.registration.phase_cross_correlation`` instead.\n",
      "  removed_version='0.19')\n",
      "C:\\Users\\Sauron\\AppData\\Roaming\\Python\\Python36\\site-packages\\skimage\\feature\\__init__.py:43: skimage_deprecation: Function ``register_translation`` is deprecated and will be removed in version 0.19. Use ``skimage.registration.phase_cross_correlation`` instead.\n",
      "  removed_version='0.19')\n",
      "C:\\Users\\Sauron\\AppData\\Roaming\\Python\\Python36\\site-packages\\skimage\\feature\\__init__.py:43: skimage_deprecation: Function ``register_translation`` is deprecated and will be removed in version 0.19. Use ``skimage.registration.phase_cross_correlation`` instead.\n",
      "  removed_version='0.19')\n",
      "C:\\Users\\Sauron\\AppData\\Roaming\\Python\\Python36\\site-packages\\skimage\\feature\\__init__.py:43: skimage_deprecation: Function ``register_translation`` is deprecated and will be removed in version 0.19. Use ``skimage.registration.phase_cross_correlation`` instead.\n",
      "  removed_version='0.19')\n",
      "C:\\Users\\Sauron\\AppData\\Roaming\\Python\\Python36\\site-packages\\skimage\\feature\\__init__.py:43: skimage_deprecation: Function ``register_translation`` is deprecated and will be removed in version 0.19. Use ``skimage.registration.phase_cross_correlation`` instead.\n",
      "  removed_version='0.19')\n"
     ]
    },
    {
     "name": "stdout",
     "output_type": "stream",
     "text": [
      "Completed 70 / 99\n"
     ]
    },
    {
     "name": "stderr",
     "output_type": "stream",
     "text": [
      "C:\\Users\\Sauron\\AppData\\Roaming\\Python\\Python36\\site-packages\\skimage\\feature\\__init__.py:43: skimage_deprecation: Function ``register_translation`` is deprecated and will be removed in version 0.19. Use ``skimage.registration.phase_cross_correlation`` instead.\n",
      "  removed_version='0.19')\n",
      "C:\\Users\\Sauron\\AppData\\Roaming\\Python\\Python36\\site-packages\\skimage\\feature\\__init__.py:43: skimage_deprecation: Function ``register_translation`` is deprecated and will be removed in version 0.19. Use ``skimage.registration.phase_cross_correlation`` instead.\n",
      "  removed_version='0.19')\n",
      "C:\\Users\\Sauron\\AppData\\Roaming\\Python\\Python36\\site-packages\\skimage\\feature\\__init__.py:43: skimage_deprecation: Function ``register_translation`` is deprecated and will be removed in version 0.19. Use ``skimage.registration.phase_cross_correlation`` instead.\n",
      "  removed_version='0.19')\n",
      "C:\\Users\\Sauron\\AppData\\Roaming\\Python\\Python36\\site-packages\\skimage\\feature\\__init__.py:43: skimage_deprecation: Function ``register_translation`` is deprecated and will be removed in version 0.19. Use ``skimage.registration.phase_cross_correlation`` instead.\n",
      "  removed_version='0.19')\n",
      "C:\\Users\\Sauron\\AppData\\Roaming\\Python\\Python36\\site-packages\\skimage\\feature\\__init__.py:43: skimage_deprecation: Function ``register_translation`` is deprecated and will be removed in version 0.19. Use ``skimage.registration.phase_cross_correlation`` instead.\n",
      "  removed_version='0.19')\n",
      "C:\\Users\\Sauron\\AppData\\Roaming\\Python\\Python36\\site-packages\\skimage\\feature\\__init__.py:43: skimage_deprecation: Function ``register_translation`` is deprecated and will be removed in version 0.19. Use ``skimage.registration.phase_cross_correlation`` instead.\n",
      "  removed_version='0.19')\n",
      "C:\\Users\\Sauron\\AppData\\Roaming\\Python\\Python36\\site-packages\\skimage\\feature\\__init__.py:43: skimage_deprecation: Function ``register_translation`` is deprecated and will be removed in version 0.19. Use ``skimage.registration.phase_cross_correlation`` instead.\n",
      "  removed_version='0.19')\n",
      "C:\\Users\\Sauron\\AppData\\Roaming\\Python\\Python36\\site-packages\\skimage\\feature\\__init__.py:43: skimage_deprecation: Function ``register_translation`` is deprecated and will be removed in version 0.19. Use ``skimage.registration.phase_cross_correlation`` instead.\n",
      "  removed_version='0.19')\n",
      "C:\\Users\\Sauron\\AppData\\Roaming\\Python\\Python36\\site-packages\\skimage\\feature\\__init__.py:43: skimage_deprecation: Function ``register_translation`` is deprecated and will be removed in version 0.19. Use ``skimage.registration.phase_cross_correlation`` instead.\n",
      "  removed_version='0.19')\n",
      "C:\\Users\\Sauron\\AppData\\Roaming\\Python\\Python36\\site-packages\\skimage\\feature\\__init__.py:43: skimage_deprecation: Function ``register_translation`` is deprecated and will be removed in version 0.19. Use ``skimage.registration.phase_cross_correlation`` instead.\n",
      "  removed_version='0.19')\n",
      "C:\\Users\\Sauron\\AppData\\Roaming\\Python\\Python36\\site-packages\\skimage\\feature\\__init__.py:43: skimage_deprecation: Function ``register_translation`` is deprecated and will be removed in version 0.19. Use ``skimage.registration.phase_cross_correlation`` instead.\n",
      "  removed_version='0.19')\n",
      "C:\\Users\\Sauron\\AppData\\Roaming\\Python\\Python36\\site-packages\\skimage\\feature\\__init__.py:43: skimage_deprecation: Function ``register_translation`` is deprecated and will be removed in version 0.19. Use ``skimage.registration.phase_cross_correlation`` instead.\n",
      "  removed_version='0.19')\n"
     ]
    },
    {
     "name": "stdout",
     "output_type": "stream",
     "text": [
      "Completed 80 / 99\n"
     ]
    },
    {
     "name": "stderr",
     "output_type": "stream",
     "text": [
      "C:\\Users\\Sauron\\AppData\\Roaming\\Python\\Python36\\site-packages\\skimage\\feature\\__init__.py:43: skimage_deprecation: Function ``register_translation`` is deprecated and will be removed in version 0.19. Use ``skimage.registration.phase_cross_correlation`` instead.\n",
      "  removed_version='0.19')\n",
      "C:\\Users\\Sauron\\AppData\\Roaming\\Python\\Python36\\site-packages\\skimage\\feature\\__init__.py:43: skimage_deprecation: Function ``register_translation`` is deprecated and will be removed in version 0.19. Use ``skimage.registration.phase_cross_correlation`` instead.\n",
      "  removed_version='0.19')\n",
      "C:\\Users\\Sauron\\AppData\\Roaming\\Python\\Python36\\site-packages\\skimage\\feature\\__init__.py:43: skimage_deprecation: Function ``register_translation`` is deprecated and will be removed in version 0.19. Use ``skimage.registration.phase_cross_correlation`` instead.\n",
      "  removed_version='0.19')\n",
      "C:\\Users\\Sauron\\AppData\\Roaming\\Python\\Python36\\site-packages\\skimage\\feature\\__init__.py:43: skimage_deprecation: Function ``register_translation`` is deprecated and will be removed in version 0.19. Use ``skimage.registration.phase_cross_correlation`` instead.\n",
      "  removed_version='0.19')\n",
      "C:\\Users\\Sauron\\AppData\\Roaming\\Python\\Python36\\site-packages\\skimage\\feature\\__init__.py:43: skimage_deprecation: Function ``register_translation`` is deprecated and will be removed in version 0.19. Use ``skimage.registration.phase_cross_correlation`` instead.\n",
      "  removed_version='0.19')\n",
      "C:\\Users\\Sauron\\AppData\\Roaming\\Python\\Python36\\site-packages\\skimage\\feature\\__init__.py:43: skimage_deprecation: Function ``register_translation`` is deprecated and will be removed in version 0.19. Use ``skimage.registration.phase_cross_correlation`` instead.\n",
      "  removed_version='0.19')\n"
     ]
    },
    {
     "name": "stdout",
     "output_type": "stream",
     "text": [
      "Completed 90 / 99\n"
     ]
    },
    {
     "name": "stderr",
     "output_type": "stream",
     "text": [
      "C:\\Users\\Sauron\\AppData\\Roaming\\Python\\Python36\\site-packages\\skimage\\feature\\__init__.py:43: skimage_deprecation: Function ``register_translation`` is deprecated and will be removed in version 0.19. Use ``skimage.registration.phase_cross_correlation`` instead.\n",
      "  removed_version='0.19')\n",
      "C:\\Users\\Sauron\\AppData\\Roaming\\Python\\Python36\\site-packages\\skimage\\feature\\__init__.py:43: skimage_deprecation: Function ``register_translation`` is deprecated and will be removed in version 0.19. Use ``skimage.registration.phase_cross_correlation`` instead.\n",
      "  removed_version='0.19')\n",
      "C:\\Users\\Sauron\\AppData\\Roaming\\Python\\Python36\\site-packages\\skimage\\feature\\__init__.py:43: skimage_deprecation: Function ``register_translation`` is deprecated and will be removed in version 0.19. Use ``skimage.registration.phase_cross_correlation`` instead.\n",
      "  removed_version='0.19')\n",
      "C:\\Users\\Sauron\\AppData\\Roaming\\Python\\Python36\\site-packages\\skimage\\feature\\__init__.py:43: skimage_deprecation: Function ``register_translation`` is deprecated and will be removed in version 0.19. Use ``skimage.registration.phase_cross_correlation`` instead.\n",
      "  removed_version='0.19')\n",
      "C:\\Users\\Sauron\\AppData\\Roaming\\Python\\Python36\\site-packages\\skimage\\feature\\__init__.py:43: skimage_deprecation: Function ``register_translation`` is deprecated and will be removed in version 0.19. Use ``skimage.registration.phase_cross_correlation`` instead.\n",
      "  removed_version='0.19')\n",
      "C:\\Users\\Sauron\\AppData\\Roaming\\Python\\Python36\\site-packages\\skimage\\feature\\__init__.py:43: skimage_deprecation: Function ``register_translation`` is deprecated and will be removed in version 0.19. Use ``skimage.registration.phase_cross_correlation`` instead.\n",
      "  removed_version='0.19')\n",
      "C:\\Users\\Sauron\\AppData\\Roaming\\Python\\Python36\\site-packages\\skimage\\feature\\__init__.py:43: skimage_deprecation: Function ``register_translation`` is deprecated and will be removed in version 0.19. Use ``skimage.registration.phase_cross_correlation`` instead.\n",
      "  removed_version='0.19')\n",
      "C:\\Users\\Sauron\\AppData\\Roaming\\Python\\Python36\\site-packages\\skimage\\feature\\__init__.py:43: skimage_deprecation: Function ``register_translation`` is deprecated and will be removed in version 0.19. Use ``skimage.registration.phase_cross_correlation`` instead.\n",
      "  removed_version='0.19')\n"
     ]
    },
    {
     "data": {
      "application/vnd.jupyter.widget-view+json": {
       "model_id": "8189a3e8191e4400974915f4d278cd5d",
       "version_major": 2,
       "version_minor": 0
      },
      "text/plain": [
       "  0%|          | 0/99 [00:00<?, ?it/s]"
      ]
     },
     "metadata": {},
     "output_type": "display_data"
    },
    {
     "name": "stdout",
     "output_type": "stream",
     "text": [
      "This is iteration 5\n"
     ]
    },
    {
     "name": "stderr",
     "output_type": "stream",
     "text": [
      "C:\\Users\\Sauron\\AppData\\Roaming\\Python\\Python36\\site-packages\\skimage\\feature\\__init__.py:43: skimage_deprecation: Function ``register_translation`` is deprecated and will be removed in version 0.19. Use ``skimage.registration.phase_cross_correlation`` instead.\n",
      "  removed_version='0.19')\n",
      "C:\\Users\\Sauron\\AppData\\Roaming\\Python\\Python36\\site-packages\\skimage\\feature\\__init__.py:43: skimage_deprecation: Function ``register_translation`` is deprecated and will be removed in version 0.19. Use ``skimage.registration.phase_cross_correlation`` instead.\n",
      "  removed_version='0.19')\n",
      "C:\\Users\\Sauron\\AppData\\Roaming\\Python\\Python36\\site-packages\\skimage\\feature\\__init__.py:43: skimage_deprecation: Function ``register_translation`` is deprecated and will be removed in version 0.19. Use ``skimage.registration.phase_cross_correlation`` instead.\n",
      "  removed_version='0.19')\n",
      "C:\\Users\\Sauron\\AppData\\Roaming\\Python\\Python36\\site-packages\\skimage\\feature\\__init__.py:43: skimage_deprecation: Function ``register_translation`` is deprecated and will be removed in version 0.19. Use ``skimage.registration.phase_cross_correlation`` instead.\n",
      "  removed_version='0.19')\n",
      "C:\\Users\\Sauron\\AppData\\Roaming\\Python\\Python36\\site-packages\\skimage\\feature\\__init__.py:43: skimage_deprecation: Function ``register_translation`` is deprecated and will be removed in version 0.19. Use ``skimage.registration.phase_cross_correlation`` instead.\n",
      "  removed_version='0.19')\n",
      "C:\\Users\\Sauron\\AppData\\Roaming\\Python\\Python36\\site-packages\\skimage\\feature\\__init__.py:43: skimage_deprecation: Function ``register_translation`` is deprecated and will be removed in version 0.19. Use ``skimage.registration.phase_cross_correlation`` instead.\n",
      "  removed_version='0.19')\n",
      "C:\\Users\\Sauron\\AppData\\Roaming\\Python\\Python36\\site-packages\\skimage\\feature\\__init__.py:43: skimage_deprecation: Function ``register_translation`` is deprecated and will be removed in version 0.19. Use ``skimage.registration.phase_cross_correlation`` instead.\n",
      "  removed_version='0.19')\n",
      "C:\\Users\\Sauron\\AppData\\Roaming\\Python\\Python36\\site-packages\\skimage\\feature\\__init__.py:43: skimage_deprecation: Function ``register_translation`` is deprecated and will be removed in version 0.19. Use ``skimage.registration.phase_cross_correlation`` instead.\n",
      "  removed_version='0.19')\n",
      "C:\\Users\\Sauron\\AppData\\Roaming\\Python\\Python36\\site-packages\\skimage\\feature\\__init__.py:43: skimage_deprecation: Function ``register_translation`` is deprecated and will be removed in version 0.19. Use ``skimage.registration.phase_cross_correlation`` instead.\n",
      "  removed_version='0.19')\n",
      "C:\\Users\\Sauron\\AppData\\Roaming\\Python\\Python36\\site-packages\\skimage\\feature\\__init__.py:43: skimage_deprecation: Function ``register_translation`` is deprecated and will be removed in version 0.19. Use ``skimage.registration.phase_cross_correlation`` instead.\n",
      "  removed_version='0.19')\n",
      "C:\\Users\\Sauron\\AppData\\Roaming\\Python\\Python36\\site-packages\\skimage\\feature\\__init__.py:43: skimage_deprecation: Function ``register_translation`` is deprecated and will be removed in version 0.19. Use ``skimage.registration.phase_cross_correlation`` instead.\n",
      "  removed_version='0.19')\n",
      "C:\\Users\\Sauron\\AppData\\Roaming\\Python\\Python36\\site-packages\\skimage\\feature\\__init__.py:43: skimage_deprecation: Function ``register_translation`` is deprecated and will be removed in version 0.19. Use ``skimage.registration.phase_cross_correlation`` instead.\n",
      "  removed_version='0.19')\n"
     ]
    },
    {
     "name": "stdout",
     "output_type": "stream",
     "text": [
      "Completed 10 / 99\n"
     ]
    },
    {
     "name": "stderr",
     "output_type": "stream",
     "text": [
      "C:\\Users\\Sauron\\AppData\\Roaming\\Python\\Python36\\site-packages\\skimage\\feature\\__init__.py:43: skimage_deprecation: Function ``register_translation`` is deprecated and will be removed in version 0.19. Use ``skimage.registration.phase_cross_correlation`` instead.\n",
      "  removed_version='0.19')\n",
      "C:\\Users\\Sauron\\AppData\\Roaming\\Python\\Python36\\site-packages\\skimage\\feature\\__init__.py:43: skimage_deprecation: Function ``register_translation`` is deprecated and will be removed in version 0.19. Use ``skimage.registration.phase_cross_correlation`` instead.\n",
      "  removed_version='0.19')\n",
      "C:\\Users\\Sauron\\AppData\\Roaming\\Python\\Python36\\site-packages\\skimage\\feature\\__init__.py:43: skimage_deprecation: Function ``register_translation`` is deprecated and will be removed in version 0.19. Use ``skimage.registration.phase_cross_correlation`` instead.\n",
      "  removed_version='0.19')\n",
      "C:\\Users\\Sauron\\AppData\\Roaming\\Python\\Python36\\site-packages\\skimage\\feature\\__init__.py:43: skimage_deprecation: Function ``register_translation`` is deprecated and will be removed in version 0.19. Use ``skimage.registration.phase_cross_correlation`` instead.\n",
      "  removed_version='0.19')\n",
      "C:\\Users\\Sauron\\AppData\\Roaming\\Python\\Python36\\site-packages\\skimage\\feature\\__init__.py:43: skimage_deprecation: Function ``register_translation`` is deprecated and will be removed in version 0.19. Use ``skimage.registration.phase_cross_correlation`` instead.\n",
      "  removed_version='0.19')\n",
      "C:\\Users\\Sauron\\AppData\\Roaming\\Python\\Python36\\site-packages\\skimage\\feature\\__init__.py:43: skimage_deprecation: Function ``register_translation`` is deprecated and will be removed in version 0.19. Use ``skimage.registration.phase_cross_correlation`` instead.\n",
      "  removed_version='0.19')\n",
      "C:\\Users\\Sauron\\AppData\\Roaming\\Python\\Python36\\site-packages\\skimage\\feature\\__init__.py:43: skimage_deprecation: Function ``register_translation`` is deprecated and will be removed in version 0.19. Use ``skimage.registration.phase_cross_correlation`` instead.\n",
      "  removed_version='0.19')\n",
      "C:\\Users\\Sauron\\AppData\\Roaming\\Python\\Python36\\site-packages\\skimage\\feature\\__init__.py:43: skimage_deprecation: Function ``register_translation`` is deprecated and will be removed in version 0.19. Use ``skimage.registration.phase_cross_correlation`` instead.\n",
      "  removed_version='0.19')\n",
      "C:\\Users\\Sauron\\AppData\\Roaming\\Python\\Python36\\site-packages\\skimage\\feature\\__init__.py:43: skimage_deprecation: Function ``register_translation`` is deprecated and will be removed in version 0.19. Use ``skimage.registration.phase_cross_correlation`` instead.\n",
      "  removed_version='0.19')\n",
      "C:\\Users\\Sauron\\AppData\\Roaming\\Python\\Python36\\site-packages\\skimage\\feature\\__init__.py:43: skimage_deprecation: Function ``register_translation`` is deprecated and will be removed in version 0.19. Use ``skimage.registration.phase_cross_correlation`` instead.\n",
      "  removed_version='0.19')\n"
     ]
    },
    {
     "name": "stdout",
     "output_type": "stream",
     "text": [
      "Completed 20 / 99\n"
     ]
    },
    {
     "name": "stderr",
     "output_type": "stream",
     "text": [
      "C:\\Users\\Sauron\\AppData\\Roaming\\Python\\Python36\\site-packages\\skimage\\feature\\__init__.py:43: skimage_deprecation: Function ``register_translation`` is deprecated and will be removed in version 0.19. Use ``skimage.registration.phase_cross_correlation`` instead.\n",
      "  removed_version='0.19')\n",
      "C:\\Users\\Sauron\\AppData\\Roaming\\Python\\Python36\\site-packages\\skimage\\feature\\__init__.py:43: skimage_deprecation: Function ``register_translation`` is deprecated and will be removed in version 0.19. Use ``skimage.registration.phase_cross_correlation`` instead.\n",
      "  removed_version='0.19')\n",
      "C:\\Users\\Sauron\\AppData\\Roaming\\Python\\Python36\\site-packages\\skimage\\feature\\__init__.py:43: skimage_deprecation: Function ``register_translation`` is deprecated and will be removed in version 0.19. Use ``skimage.registration.phase_cross_correlation`` instead.\n",
      "  removed_version='0.19')\n",
      "C:\\Users\\Sauron\\AppData\\Roaming\\Python\\Python36\\site-packages\\skimage\\feature\\__init__.py:43: skimage_deprecation: Function ``register_translation`` is deprecated and will be removed in version 0.19. Use ``skimage.registration.phase_cross_correlation`` instead.\n",
      "  removed_version='0.19')\n",
      "C:\\Users\\Sauron\\AppData\\Roaming\\Python\\Python36\\site-packages\\skimage\\feature\\__init__.py:43: skimage_deprecation: Function ``register_translation`` is deprecated and will be removed in version 0.19. Use ``skimage.registration.phase_cross_correlation`` instead.\n",
      "  removed_version='0.19')\n",
      "C:\\Users\\Sauron\\AppData\\Roaming\\Python\\Python36\\site-packages\\skimage\\feature\\__init__.py:43: skimage_deprecation: Function ``register_translation`` is deprecated and will be removed in version 0.19. Use ``skimage.registration.phase_cross_correlation`` instead.\n",
      "  removed_version='0.19')\n",
      "C:\\Users\\Sauron\\AppData\\Roaming\\Python\\Python36\\site-packages\\skimage\\feature\\__init__.py:43: skimage_deprecation: Function ``register_translation`` is deprecated and will be removed in version 0.19. Use ``skimage.registration.phase_cross_correlation`` instead.\n",
      "  removed_version='0.19')\n",
      "C:\\Users\\Sauron\\AppData\\Roaming\\Python\\Python36\\site-packages\\skimage\\feature\\__init__.py:43: skimage_deprecation: Function ``register_translation`` is deprecated and will be removed in version 0.19. Use ``skimage.registration.phase_cross_correlation`` instead.\n",
      "  removed_version='0.19')\n",
      "C:\\Users\\Sauron\\AppData\\Roaming\\Python\\Python36\\site-packages\\skimage\\feature\\__init__.py:43: skimage_deprecation: Function ``register_translation`` is deprecated and will be removed in version 0.19. Use ``skimage.registration.phase_cross_correlation`` instead.\n",
      "  removed_version='0.19')\n",
      "C:\\Users\\Sauron\\AppData\\Roaming\\Python\\Python36\\site-packages\\skimage\\feature\\__init__.py:43: skimage_deprecation: Function ``register_translation`` is deprecated and will be removed in version 0.19. Use ``skimage.registration.phase_cross_correlation`` instead.\n",
      "  removed_version='0.19')\n",
      "C:\\Users\\Sauron\\AppData\\Roaming\\Python\\Python36\\site-packages\\skimage\\feature\\__init__.py:43: skimage_deprecation: Function ``register_translation`` is deprecated and will be removed in version 0.19. Use ``skimage.registration.phase_cross_correlation`` instead.\n",
      "  removed_version='0.19')\n"
     ]
    },
    {
     "name": "stdout",
     "output_type": "stream",
     "text": [
      "Completed 30 / 99\n"
     ]
    },
    {
     "name": "stderr",
     "output_type": "stream",
     "text": [
      "C:\\Users\\Sauron\\AppData\\Roaming\\Python\\Python36\\site-packages\\skimage\\feature\\__init__.py:43: skimage_deprecation: Function ``register_translation`` is deprecated and will be removed in version 0.19. Use ``skimage.registration.phase_cross_correlation`` instead.\n",
      "  removed_version='0.19')\n",
      "C:\\Users\\Sauron\\AppData\\Roaming\\Python\\Python36\\site-packages\\skimage\\feature\\__init__.py:43: skimage_deprecation: Function ``register_translation`` is deprecated and will be removed in version 0.19. Use ``skimage.registration.phase_cross_correlation`` instead.\n",
      "  removed_version='0.19')\n",
      "C:\\Users\\Sauron\\AppData\\Roaming\\Python\\Python36\\site-packages\\skimage\\feature\\__init__.py:43: skimage_deprecation: Function ``register_translation`` is deprecated and will be removed in version 0.19. Use ``skimage.registration.phase_cross_correlation`` instead.\n",
      "  removed_version='0.19')\n",
      "C:\\Users\\Sauron\\AppData\\Roaming\\Python\\Python36\\site-packages\\skimage\\feature\\__init__.py:43: skimage_deprecation: Function ``register_translation`` is deprecated and will be removed in version 0.19. Use ``skimage.registration.phase_cross_correlation`` instead.\n",
      "  removed_version='0.19')\n",
      "C:\\Users\\Sauron\\AppData\\Roaming\\Python\\Python36\\site-packages\\skimage\\feature\\__init__.py:43: skimage_deprecation: Function ``register_translation`` is deprecated and will be removed in version 0.19. Use ``skimage.registration.phase_cross_correlation`` instead.\n",
      "  removed_version='0.19')\n",
      "C:\\Users\\Sauron\\AppData\\Roaming\\Python\\Python36\\site-packages\\skimage\\feature\\__init__.py:43: skimage_deprecation: Function ``register_translation`` is deprecated and will be removed in version 0.19. Use ``skimage.registration.phase_cross_correlation`` instead.\n",
      "  removed_version='0.19')\n",
      "C:\\Users\\Sauron\\AppData\\Roaming\\Python\\Python36\\site-packages\\skimage\\feature\\__init__.py:43: skimage_deprecation: Function ``register_translation`` is deprecated and will be removed in version 0.19. Use ``skimage.registration.phase_cross_correlation`` instead.\n",
      "  removed_version='0.19')\n",
      "C:\\Users\\Sauron\\AppData\\Roaming\\Python\\Python36\\site-packages\\skimage\\feature\\__init__.py:43: skimage_deprecation: Function ``register_translation`` is deprecated and will be removed in version 0.19. Use ``skimage.registration.phase_cross_correlation`` instead.\n",
      "  removed_version='0.19')\n",
      "C:\\Users\\Sauron\\AppData\\Roaming\\Python\\Python36\\site-packages\\skimage\\feature\\__init__.py:43: skimage_deprecation: Function ``register_translation`` is deprecated and will be removed in version 0.19. Use ``skimage.registration.phase_cross_correlation`` instead.\n",
      "  removed_version='0.19')\n",
      "C:\\Users\\Sauron\\AppData\\Roaming\\Python\\Python36\\site-packages\\skimage\\feature\\__init__.py:43: skimage_deprecation: Function ``register_translation`` is deprecated and will be removed in version 0.19. Use ``skimage.registration.phase_cross_correlation`` instead.\n",
      "  removed_version='0.19')\n",
      "C:\\Users\\Sauron\\AppData\\Roaming\\Python\\Python36\\site-packages\\skimage\\feature\\__init__.py:43: skimage_deprecation: Function ``register_translation`` is deprecated and will be removed in version 0.19. Use ``skimage.registration.phase_cross_correlation`` instead.\n",
      "  removed_version='0.19')\n",
      "C:\\Users\\Sauron\\AppData\\Roaming\\Python\\Python36\\site-packages\\skimage\\feature\\__init__.py:43: skimage_deprecation: Function ``register_translation`` is deprecated and will be removed in version 0.19. Use ``skimage.registration.phase_cross_correlation`` instead.\n",
      "  removed_version='0.19')\n"
     ]
    },
    {
     "name": "stdout",
     "output_type": "stream",
     "text": [
      "Completed 40 / 99\n"
     ]
    },
    {
     "name": "stderr",
     "output_type": "stream",
     "text": [
      "C:\\Users\\Sauron\\AppData\\Roaming\\Python\\Python36\\site-packages\\skimage\\feature\\__init__.py:43: skimage_deprecation: Function ``register_translation`` is deprecated and will be removed in version 0.19. Use ``skimage.registration.phase_cross_correlation`` instead.\n",
      "  removed_version='0.19')\n",
      "C:\\Users\\Sauron\\AppData\\Roaming\\Python\\Python36\\site-packages\\skimage\\feature\\__init__.py:43: skimage_deprecation: Function ``register_translation`` is deprecated and will be removed in version 0.19. Use ``skimage.registration.phase_cross_correlation`` instead.\n",
      "  removed_version='0.19')\n",
      "C:\\Users\\Sauron\\AppData\\Roaming\\Python\\Python36\\site-packages\\skimage\\feature\\__init__.py:43: skimage_deprecation: Function ``register_translation`` is deprecated and will be removed in version 0.19. Use ``skimage.registration.phase_cross_correlation`` instead.\n",
      "  removed_version='0.19')\n",
      "C:\\Users\\Sauron\\AppData\\Roaming\\Python\\Python36\\site-packages\\skimage\\feature\\__init__.py:43: skimage_deprecation: Function ``register_translation`` is deprecated and will be removed in version 0.19. Use ``skimage.registration.phase_cross_correlation`` instead.\n",
      "  removed_version='0.19')\n",
      "C:\\Users\\Sauron\\AppData\\Roaming\\Python\\Python36\\site-packages\\skimage\\feature\\__init__.py:43: skimage_deprecation: Function ``register_translation`` is deprecated and will be removed in version 0.19. Use ``skimage.registration.phase_cross_correlation`` instead.\n",
      "  removed_version='0.19')\n"
     ]
    },
    {
     "name": "stdout",
     "output_type": "stream",
     "text": [
      "Completed 50 / 99\n"
     ]
    },
    {
     "name": "stderr",
     "output_type": "stream",
     "text": [
      "C:\\Users\\Sauron\\AppData\\Roaming\\Python\\Python36\\site-packages\\skimage\\feature\\__init__.py:43: skimage_deprecation: Function ``register_translation`` is deprecated and will be removed in version 0.19. Use ``skimage.registration.phase_cross_correlation`` instead.\n",
      "  removed_version='0.19')\n",
      "C:\\Users\\Sauron\\AppData\\Roaming\\Python\\Python36\\site-packages\\skimage\\feature\\__init__.py:43: skimage_deprecation: Function ``register_translation`` is deprecated and will be removed in version 0.19. Use ``skimage.registration.phase_cross_correlation`` instead.\n",
      "  removed_version='0.19')\n",
      "C:\\Users\\Sauron\\AppData\\Roaming\\Python\\Python36\\site-packages\\skimage\\feature\\__init__.py:43: skimage_deprecation: Function ``register_translation`` is deprecated and will be removed in version 0.19. Use ``skimage.registration.phase_cross_correlation`` instead.\n",
      "  removed_version='0.19')\n",
      "C:\\Users\\Sauron\\AppData\\Roaming\\Python\\Python36\\site-packages\\skimage\\feature\\__init__.py:43: skimage_deprecation: Function ``register_translation`` is deprecated and will be removed in version 0.19. Use ``skimage.registration.phase_cross_correlation`` instead.\n",
      "  removed_version='0.19')\n",
      "C:\\Users\\Sauron\\AppData\\Roaming\\Python\\Python36\\site-packages\\skimage\\feature\\__init__.py:43: skimage_deprecation: Function ``register_translation`` is deprecated and will be removed in version 0.19. Use ``skimage.registration.phase_cross_correlation`` instead.\n",
      "  removed_version='0.19')\n",
      "C:\\Users\\Sauron\\AppData\\Roaming\\Python\\Python36\\site-packages\\skimage\\feature\\__init__.py:43: skimage_deprecation: Function ``register_translation`` is deprecated and will be removed in version 0.19. Use ``skimage.registration.phase_cross_correlation`` instead.\n",
      "  removed_version='0.19')\n",
      "C:\\Users\\Sauron\\AppData\\Roaming\\Python\\Python36\\site-packages\\skimage\\feature\\__init__.py:43: skimage_deprecation: Function ``register_translation`` is deprecated and will be removed in version 0.19. Use ``skimage.registration.phase_cross_correlation`` instead.\n",
      "  removed_version='0.19')\n",
      "C:\\Users\\Sauron\\AppData\\Roaming\\Python\\Python36\\site-packages\\skimage\\feature\\__init__.py:43: skimage_deprecation: Function ``register_translation`` is deprecated and will be removed in version 0.19. Use ``skimage.registration.phase_cross_correlation`` instead.\n",
      "  removed_version='0.19')\n",
      "C:\\Users\\Sauron\\AppData\\Roaming\\Python\\Python36\\site-packages\\skimage\\feature\\__init__.py:43: skimage_deprecation: Function ``register_translation`` is deprecated and will be removed in version 0.19. Use ``skimage.registration.phase_cross_correlation`` instead.\n",
      "  removed_version='0.19')\n",
      "C:\\Users\\Sauron\\AppData\\Roaming\\Python\\Python36\\site-packages\\skimage\\feature\\__init__.py:43: skimage_deprecation: Function ``register_translation`` is deprecated and will be removed in version 0.19. Use ``skimage.registration.phase_cross_correlation`` instead.\n",
      "  removed_version='0.19')\n"
     ]
    },
    {
     "name": "stdout",
     "output_type": "stream",
     "text": [
      "Completed 60 / 99\n"
     ]
    },
    {
     "name": "stderr",
     "output_type": "stream",
     "text": [
      "C:\\Users\\Sauron\\AppData\\Roaming\\Python\\Python36\\site-packages\\skimage\\feature\\__init__.py:43: skimage_deprecation: Function ``register_translation`` is deprecated and will be removed in version 0.19. Use ``skimage.registration.phase_cross_correlation`` instead.\n",
      "  removed_version='0.19')\n",
      "C:\\Users\\Sauron\\AppData\\Roaming\\Python\\Python36\\site-packages\\skimage\\feature\\__init__.py:43: skimage_deprecation: Function ``register_translation`` is deprecated and will be removed in version 0.19. Use ``skimage.registration.phase_cross_correlation`` instead.\n",
      "  removed_version='0.19')\n",
      "C:\\Users\\Sauron\\AppData\\Roaming\\Python\\Python36\\site-packages\\skimage\\feature\\__init__.py:43: skimage_deprecation: Function ``register_translation`` is deprecated and will be removed in version 0.19. Use ``skimage.registration.phase_cross_correlation`` instead.\n",
      "  removed_version='0.19')\n",
      "C:\\Users\\Sauron\\AppData\\Roaming\\Python\\Python36\\site-packages\\skimage\\feature\\__init__.py:43: skimage_deprecation: Function ``register_translation`` is deprecated and will be removed in version 0.19. Use ``skimage.registration.phase_cross_correlation`` instead.\n",
      "  removed_version='0.19')\n",
      "C:\\Users\\Sauron\\AppData\\Roaming\\Python\\Python36\\site-packages\\skimage\\feature\\__init__.py:43: skimage_deprecation: Function ``register_translation`` is deprecated and will be removed in version 0.19. Use ``skimage.registration.phase_cross_correlation`` instead.\n",
      "  removed_version='0.19')\n",
      "C:\\Users\\Sauron\\AppData\\Roaming\\Python\\Python36\\site-packages\\skimage\\feature\\__init__.py:43: skimage_deprecation: Function ``register_translation`` is deprecated and will be removed in version 0.19. Use ``skimage.registration.phase_cross_correlation`` instead.\n",
      "  removed_version='0.19')\n",
      "C:\\Users\\Sauron\\AppData\\Roaming\\Python\\Python36\\site-packages\\skimage\\feature\\__init__.py:43: skimage_deprecation: Function ``register_translation`` is deprecated and will be removed in version 0.19. Use ``skimage.registration.phase_cross_correlation`` instead.\n",
      "  removed_version='0.19')\n",
      "C:\\Users\\Sauron\\AppData\\Roaming\\Python\\Python36\\site-packages\\skimage\\feature\\__init__.py:43: skimage_deprecation: Function ``register_translation`` is deprecated and will be removed in version 0.19. Use ``skimage.registration.phase_cross_correlation`` instead.\n",
      "  removed_version='0.19')\n",
      "C:\\Users\\Sauron\\AppData\\Roaming\\Python\\Python36\\site-packages\\skimage\\feature\\__init__.py:43: skimage_deprecation: Function ``register_translation`` is deprecated and will be removed in version 0.19. Use ``skimage.registration.phase_cross_correlation`` instead.\n",
      "  removed_version='0.19')\n",
      "C:\\Users\\Sauron\\AppData\\Roaming\\Python\\Python36\\site-packages\\skimage\\feature\\__init__.py:43: skimage_deprecation: Function ``register_translation`` is deprecated and will be removed in version 0.19. Use ``skimage.registration.phase_cross_correlation`` instead.\n",
      "  removed_version='0.19')\n"
     ]
    },
    {
     "name": "stdout",
     "output_type": "stream",
     "text": [
      "Completed 70 / 99\n"
     ]
    },
    {
     "name": "stderr",
     "output_type": "stream",
     "text": [
      "C:\\Users\\Sauron\\AppData\\Roaming\\Python\\Python36\\site-packages\\skimage\\feature\\__init__.py:43: skimage_deprecation: Function ``register_translation`` is deprecated and will be removed in version 0.19. Use ``skimage.registration.phase_cross_correlation`` instead.\n",
      "  removed_version='0.19')\n",
      "C:\\Users\\Sauron\\AppData\\Roaming\\Python\\Python36\\site-packages\\skimage\\feature\\__init__.py:43: skimage_deprecation: Function ``register_translation`` is deprecated and will be removed in version 0.19. Use ``skimage.registration.phase_cross_correlation`` instead.\n",
      "  removed_version='0.19')\n",
      "C:\\Users\\Sauron\\AppData\\Roaming\\Python\\Python36\\site-packages\\skimage\\feature\\__init__.py:43: skimage_deprecation: Function ``register_translation`` is deprecated and will be removed in version 0.19. Use ``skimage.registration.phase_cross_correlation`` instead.\n",
      "  removed_version='0.19')\n",
      "C:\\Users\\Sauron\\AppData\\Roaming\\Python\\Python36\\site-packages\\skimage\\feature\\__init__.py:43: skimage_deprecation: Function ``register_translation`` is deprecated and will be removed in version 0.19. Use ``skimage.registration.phase_cross_correlation`` instead.\n",
      "  removed_version='0.19')\n",
      "C:\\Users\\Sauron\\AppData\\Roaming\\Python\\Python36\\site-packages\\skimage\\feature\\__init__.py:43: skimage_deprecation: Function ``register_translation`` is deprecated and will be removed in version 0.19. Use ``skimage.registration.phase_cross_correlation`` instead.\n",
      "  removed_version='0.19')\n",
      "C:\\Users\\Sauron\\AppData\\Roaming\\Python\\Python36\\site-packages\\skimage\\feature\\__init__.py:43: skimage_deprecation: Function ``register_translation`` is deprecated and will be removed in version 0.19. Use ``skimage.registration.phase_cross_correlation`` instead.\n",
      "  removed_version='0.19')\n",
      "C:\\Users\\Sauron\\AppData\\Roaming\\Python\\Python36\\site-packages\\skimage\\feature\\__init__.py:43: skimage_deprecation: Function ``register_translation`` is deprecated and will be removed in version 0.19. Use ``skimage.registration.phase_cross_correlation`` instead.\n",
      "  removed_version='0.19')\n",
      "C:\\Users\\Sauron\\AppData\\Roaming\\Python\\Python36\\site-packages\\skimage\\feature\\__init__.py:43: skimage_deprecation: Function ``register_translation`` is deprecated and will be removed in version 0.19. Use ``skimage.registration.phase_cross_correlation`` instead.\n",
      "  removed_version='0.19')\n",
      "C:\\Users\\Sauron\\AppData\\Roaming\\Python\\Python36\\site-packages\\skimage\\feature\\__init__.py:43: skimage_deprecation: Function ``register_translation`` is deprecated and will be removed in version 0.19. Use ``skimage.registration.phase_cross_correlation`` instead.\n",
      "  removed_version='0.19')\n",
      "C:\\Users\\Sauron\\AppData\\Roaming\\Python\\Python36\\site-packages\\skimage\\feature\\__init__.py:43: skimage_deprecation: Function ``register_translation`` is deprecated and will be removed in version 0.19. Use ``skimage.registration.phase_cross_correlation`` instead.\n",
      "  removed_version='0.19')\n",
      "C:\\Users\\Sauron\\AppData\\Roaming\\Python\\Python36\\site-packages\\skimage\\feature\\__init__.py:43: skimage_deprecation: Function ``register_translation`` is deprecated and will be removed in version 0.19. Use ``skimage.registration.phase_cross_correlation`` instead.\n",
      "  removed_version='0.19')\n",
      "C:\\Users\\Sauron\\AppData\\Roaming\\Python\\Python36\\site-packages\\skimage\\feature\\__init__.py:43: skimage_deprecation: Function ``register_translation`` is deprecated and will be removed in version 0.19. Use ``skimage.registration.phase_cross_correlation`` instead.\n",
      "  removed_version='0.19')\n"
     ]
    },
    {
     "name": "stdout",
     "output_type": "stream",
     "text": [
      "Completed 80 / 99\n"
     ]
    },
    {
     "name": "stderr",
     "output_type": "stream",
     "text": [
      "C:\\Users\\Sauron\\AppData\\Roaming\\Python\\Python36\\site-packages\\skimage\\feature\\__init__.py:43: skimage_deprecation: Function ``register_translation`` is deprecated and will be removed in version 0.19. Use ``skimage.registration.phase_cross_correlation`` instead.\n",
      "  removed_version='0.19')\n",
      "C:\\Users\\Sauron\\AppData\\Roaming\\Python\\Python36\\site-packages\\skimage\\feature\\__init__.py:43: skimage_deprecation: Function ``register_translation`` is deprecated and will be removed in version 0.19. Use ``skimage.registration.phase_cross_correlation`` instead.\n",
      "  removed_version='0.19')\n",
      "C:\\Users\\Sauron\\AppData\\Roaming\\Python\\Python36\\site-packages\\skimage\\feature\\__init__.py:43: skimage_deprecation: Function ``register_translation`` is deprecated and will be removed in version 0.19. Use ``skimage.registration.phase_cross_correlation`` instead.\n",
      "  removed_version='0.19')\n",
      "C:\\Users\\Sauron\\AppData\\Roaming\\Python\\Python36\\site-packages\\skimage\\feature\\__init__.py:43: skimage_deprecation: Function ``register_translation`` is deprecated and will be removed in version 0.19. Use ``skimage.registration.phase_cross_correlation`` instead.\n",
      "  removed_version='0.19')\n",
      "C:\\Users\\Sauron\\AppData\\Roaming\\Python\\Python36\\site-packages\\skimage\\feature\\__init__.py:43: skimage_deprecation: Function ``register_translation`` is deprecated and will be removed in version 0.19. Use ``skimage.registration.phase_cross_correlation`` instead.\n",
      "  removed_version='0.19')\n",
      "C:\\Users\\Sauron\\AppData\\Roaming\\Python\\Python36\\site-packages\\skimage\\feature\\__init__.py:43: skimage_deprecation: Function ``register_translation`` is deprecated and will be removed in version 0.19. Use ``skimage.registration.phase_cross_correlation`` instead.\n",
      "  removed_version='0.19')\n",
      "C:\\Users\\Sauron\\AppData\\Roaming\\Python\\Python36\\site-packages\\skimage\\feature\\__init__.py:43: skimage_deprecation: Function ``register_translation`` is deprecated and will be removed in version 0.19. Use ``skimage.registration.phase_cross_correlation`` instead.\n",
      "  removed_version='0.19')\n",
      "C:\\Users\\Sauron\\AppData\\Roaming\\Python\\Python36\\site-packages\\skimage\\feature\\__init__.py:43: skimage_deprecation: Function ``register_translation`` is deprecated and will be removed in version 0.19. Use ``skimage.registration.phase_cross_correlation`` instead.\n",
      "  removed_version='0.19')\n",
      "C:\\Users\\Sauron\\AppData\\Roaming\\Python\\Python36\\site-packages\\skimage\\feature\\__init__.py:43: skimage_deprecation: Function ``register_translation`` is deprecated and will be removed in version 0.19. Use ``skimage.registration.phase_cross_correlation`` instead.\n",
      "  removed_version='0.19')\n",
      "C:\\Users\\Sauron\\AppData\\Roaming\\Python\\Python36\\site-packages\\skimage\\feature\\__init__.py:43: skimage_deprecation: Function ``register_translation`` is deprecated and will be removed in version 0.19. Use ``skimage.registration.phase_cross_correlation`` instead.\n",
      "  removed_version='0.19')\n",
      "C:\\Users\\Sauron\\AppData\\Roaming\\Python\\Python36\\site-packages\\skimage\\feature\\__init__.py:43: skimage_deprecation: Function ``register_translation`` is deprecated and will be removed in version 0.19. Use ``skimage.registration.phase_cross_correlation`` instead.\n",
      "  removed_version='0.19')\n",
      "C:\\Users\\Sauron\\AppData\\Roaming\\Python\\Python36\\site-packages\\skimage\\feature\\__init__.py:43: skimage_deprecation: Function ``register_translation`` is deprecated and will be removed in version 0.19. Use ``skimage.registration.phase_cross_correlation`` instead.\n",
      "  removed_version='0.19')\n"
     ]
    },
    {
     "name": "stdout",
     "output_type": "stream",
     "text": [
      "Completed 90 / 99\n"
     ]
    },
    {
     "name": "stderr",
     "output_type": "stream",
     "text": [
      "C:\\Users\\Sauron\\AppData\\Roaming\\Python\\Python36\\site-packages\\skimage\\feature\\__init__.py:43: skimage_deprecation: Function ``register_translation`` is deprecated and will be removed in version 0.19. Use ``skimage.registration.phase_cross_correlation`` instead.\n",
      "  removed_version='0.19')\n",
      "C:\\Users\\Sauron\\AppData\\Roaming\\Python\\Python36\\site-packages\\skimage\\feature\\__init__.py:43: skimage_deprecation: Function ``register_translation`` is deprecated and will be removed in version 0.19. Use ``skimage.registration.phase_cross_correlation`` instead.\n",
      "  removed_version='0.19')\n",
      "C:\\Users\\Sauron\\AppData\\Roaming\\Python\\Python36\\site-packages\\skimage\\feature\\__init__.py:43: skimage_deprecation: Function ``register_translation`` is deprecated and will be removed in version 0.19. Use ``skimage.registration.phase_cross_correlation`` instead.\n",
      "  removed_version='0.19')\n",
      "C:\\Users\\Sauron\\AppData\\Roaming\\Python\\Python36\\site-packages\\skimage\\feature\\__init__.py:43: skimage_deprecation: Function ``register_translation`` is deprecated and will be removed in version 0.19. Use ``skimage.registration.phase_cross_correlation`` instead.\n",
      "  removed_version='0.19')\n"
     ]
    },
    {
     "data": {
      "application/vnd.jupyter.widget-view+json": {
       "model_id": "86e66ddcb3284d15a0e0fb5b92fe1298",
       "version_major": 2,
       "version_minor": 0
      },
      "text/plain": [
       "  0%|          | 0/99 [00:00<?, ?it/s]"
      ]
     },
     "metadata": {},
     "output_type": "display_data"
    },
    {
     "name": "stdout",
     "output_type": "stream",
     "text": [
      "This is iteration 6\n"
     ]
    },
    {
     "name": "stderr",
     "output_type": "stream",
     "text": [
      "C:\\Users\\Sauron\\AppData\\Roaming\\Python\\Python36\\site-packages\\skimage\\feature\\__init__.py:43: skimage_deprecation: Function ``register_translation`` is deprecated and will be removed in version 0.19. Use ``skimage.registration.phase_cross_correlation`` instead.\n",
      "  removed_version='0.19')\n",
      "C:\\Users\\Sauron\\AppData\\Roaming\\Python\\Python36\\site-packages\\skimage\\feature\\__init__.py:43: skimage_deprecation: Function ``register_translation`` is deprecated and will be removed in version 0.19. Use ``skimage.registration.phase_cross_correlation`` instead.\n",
      "  removed_version='0.19')\n",
      "C:\\Users\\Sauron\\AppData\\Roaming\\Python\\Python36\\site-packages\\skimage\\feature\\__init__.py:43: skimage_deprecation: Function ``register_translation`` is deprecated and will be removed in version 0.19. Use ``skimage.registration.phase_cross_correlation`` instead.\n",
      "  removed_version='0.19')\n",
      "C:\\Users\\Sauron\\AppData\\Roaming\\Python\\Python36\\site-packages\\skimage\\feature\\__init__.py:43: skimage_deprecation: Function ``register_translation`` is deprecated and will be removed in version 0.19. Use ``skimage.registration.phase_cross_correlation`` instead.\n",
      "  removed_version='0.19')\n",
      "C:\\Users\\Sauron\\AppData\\Roaming\\Python\\Python36\\site-packages\\skimage\\feature\\__init__.py:43: skimage_deprecation: Function ``register_translation`` is deprecated and will be removed in version 0.19. Use ``skimage.registration.phase_cross_correlation`` instead.\n",
      "  removed_version='0.19')\n",
      "C:\\Users\\Sauron\\AppData\\Roaming\\Python\\Python36\\site-packages\\skimage\\feature\\__init__.py:43: skimage_deprecation: Function ``register_translation`` is deprecated and will be removed in version 0.19. Use ``skimage.registration.phase_cross_correlation`` instead.\n",
      "  removed_version='0.19')\n",
      "C:\\Users\\Sauron\\AppData\\Roaming\\Python\\Python36\\site-packages\\skimage\\feature\\__init__.py:43: skimage_deprecation: Function ``register_translation`` is deprecated and will be removed in version 0.19. Use ``skimage.registration.phase_cross_correlation`` instead.\n",
      "  removed_version='0.19')\n",
      "C:\\Users\\Sauron\\AppData\\Roaming\\Python\\Python36\\site-packages\\skimage\\feature\\__init__.py:43: skimage_deprecation: Function ``register_translation`` is deprecated and will be removed in version 0.19. Use ``skimage.registration.phase_cross_correlation`` instead.\n",
      "  removed_version='0.19')\n",
      "C:\\Users\\Sauron\\AppData\\Roaming\\Python\\Python36\\site-packages\\skimage\\feature\\__init__.py:43: skimage_deprecation: Function ``register_translation`` is deprecated and will be removed in version 0.19. Use ``skimage.registration.phase_cross_correlation`` instead.\n",
      "  removed_version='0.19')\n",
      "C:\\Users\\Sauron\\AppData\\Roaming\\Python\\Python36\\site-packages\\skimage\\feature\\__init__.py:43: skimage_deprecation: Function ``register_translation`` is deprecated and will be removed in version 0.19. Use ``skimage.registration.phase_cross_correlation`` instead.\n",
      "  removed_version='0.19')\n",
      "C:\\Users\\Sauron\\AppData\\Roaming\\Python\\Python36\\site-packages\\skimage\\feature\\__init__.py:43: skimage_deprecation: Function ``register_translation`` is deprecated and will be removed in version 0.19. Use ``skimage.registration.phase_cross_correlation`` instead.\n",
      "  removed_version='0.19')\n"
     ]
    },
    {
     "name": "stdout",
     "output_type": "stream",
     "text": [
      "Completed 10 / 99\n"
     ]
    },
    {
     "name": "stderr",
     "output_type": "stream",
     "text": [
      "C:\\Users\\Sauron\\AppData\\Roaming\\Python\\Python36\\site-packages\\skimage\\feature\\__init__.py:43: skimage_deprecation: Function ``register_translation`` is deprecated and will be removed in version 0.19. Use ``skimage.registration.phase_cross_correlation`` instead.\n",
      "  removed_version='0.19')\n",
      "C:\\Users\\Sauron\\AppData\\Roaming\\Python\\Python36\\site-packages\\skimage\\feature\\__init__.py:43: skimage_deprecation: Function ``register_translation`` is deprecated and will be removed in version 0.19. Use ``skimage.registration.phase_cross_correlation`` instead.\n",
      "  removed_version='0.19')\n",
      "C:\\Users\\Sauron\\AppData\\Roaming\\Python\\Python36\\site-packages\\skimage\\feature\\__init__.py:43: skimage_deprecation: Function ``register_translation`` is deprecated and will be removed in version 0.19. Use ``skimage.registration.phase_cross_correlation`` instead.\n",
      "  removed_version='0.19')\n",
      "C:\\Users\\Sauron\\AppData\\Roaming\\Python\\Python36\\site-packages\\skimage\\feature\\__init__.py:43: skimage_deprecation: Function ``register_translation`` is deprecated and will be removed in version 0.19. Use ``skimage.registration.phase_cross_correlation`` instead.\n",
      "  removed_version='0.19')\n",
      "C:\\Users\\Sauron\\AppData\\Roaming\\Python\\Python36\\site-packages\\skimage\\feature\\__init__.py:43: skimage_deprecation: Function ``register_translation`` is deprecated and will be removed in version 0.19. Use ``skimage.registration.phase_cross_correlation`` instead.\n",
      "  removed_version='0.19')\n",
      "C:\\Users\\Sauron\\AppData\\Roaming\\Python\\Python36\\site-packages\\skimage\\feature\\__init__.py:43: skimage_deprecation: Function ``register_translation`` is deprecated and will be removed in version 0.19. Use ``skimage.registration.phase_cross_correlation`` instead.\n",
      "  removed_version='0.19')\n",
      "C:\\Users\\Sauron\\AppData\\Roaming\\Python\\Python36\\site-packages\\skimage\\feature\\__init__.py:43: skimage_deprecation: Function ``register_translation`` is deprecated and will be removed in version 0.19. Use ``skimage.registration.phase_cross_correlation`` instead.\n",
      "  removed_version='0.19')\n",
      "C:\\Users\\Sauron\\AppData\\Roaming\\Python\\Python36\\site-packages\\skimage\\feature\\__init__.py:43: skimage_deprecation: Function ``register_translation`` is deprecated and will be removed in version 0.19. Use ``skimage.registration.phase_cross_correlation`` instead.\n",
      "  removed_version='0.19')\n",
      "C:\\Users\\Sauron\\AppData\\Roaming\\Python\\Python36\\site-packages\\skimage\\feature\\__init__.py:43: skimage_deprecation: Function ``register_translation`` is deprecated and will be removed in version 0.19. Use ``skimage.registration.phase_cross_correlation`` instead.\n",
      "  removed_version='0.19')\n",
      "C:\\Users\\Sauron\\AppData\\Roaming\\Python\\Python36\\site-packages\\skimage\\feature\\__init__.py:43: skimage_deprecation: Function ``register_translation`` is deprecated and will be removed in version 0.19. Use ``skimage.registration.phase_cross_correlation`` instead.\n",
      "  removed_version='0.19')\n",
      "C:\\Users\\Sauron\\AppData\\Roaming\\Python\\Python36\\site-packages\\skimage\\feature\\__init__.py:43: skimage_deprecation: Function ``register_translation`` is deprecated and will be removed in version 0.19. Use ``skimage.registration.phase_cross_correlation`` instead.\n",
      "  removed_version='0.19')\n"
     ]
    },
    {
     "name": "stdout",
     "output_type": "stream",
     "text": [
      "Completed 20 / 99\n"
     ]
    },
    {
     "name": "stderr",
     "output_type": "stream",
     "text": [
      "C:\\Users\\Sauron\\AppData\\Roaming\\Python\\Python36\\site-packages\\skimage\\feature\\__init__.py:43: skimage_deprecation: Function ``register_translation`` is deprecated and will be removed in version 0.19. Use ``skimage.registration.phase_cross_correlation`` instead.\n",
      "  removed_version='0.19')\n",
      "C:\\Users\\Sauron\\AppData\\Roaming\\Python\\Python36\\site-packages\\skimage\\feature\\__init__.py:43: skimage_deprecation: Function ``register_translation`` is deprecated and will be removed in version 0.19. Use ``skimage.registration.phase_cross_correlation`` instead.\n",
      "  removed_version='0.19')\n",
      "C:\\Users\\Sauron\\AppData\\Roaming\\Python\\Python36\\site-packages\\skimage\\feature\\__init__.py:43: skimage_deprecation: Function ``register_translation`` is deprecated and will be removed in version 0.19. Use ``skimage.registration.phase_cross_correlation`` instead.\n",
      "  removed_version='0.19')\n",
      "C:\\Users\\Sauron\\AppData\\Roaming\\Python\\Python36\\site-packages\\skimage\\feature\\__init__.py:43: skimage_deprecation: Function ``register_translation`` is deprecated and will be removed in version 0.19. Use ``skimage.registration.phase_cross_correlation`` instead.\n",
      "  removed_version='0.19')\n",
      "C:\\Users\\Sauron\\AppData\\Roaming\\Python\\Python36\\site-packages\\skimage\\feature\\__init__.py:43: skimage_deprecation: Function ``register_translation`` is deprecated and will be removed in version 0.19. Use ``skimage.registration.phase_cross_correlation`` instead.\n",
      "  removed_version='0.19')\n",
      "C:\\Users\\Sauron\\AppData\\Roaming\\Python\\Python36\\site-packages\\skimage\\feature\\__init__.py:43: skimage_deprecation: Function ``register_translation`` is deprecated and will be removed in version 0.19. Use ``skimage.registration.phase_cross_correlation`` instead.\n",
      "  removed_version='0.19')\n",
      "C:\\Users\\Sauron\\AppData\\Roaming\\Python\\Python36\\site-packages\\skimage\\feature\\__init__.py:43: skimage_deprecation: Function ``register_translation`` is deprecated and will be removed in version 0.19. Use ``skimage.registration.phase_cross_correlation`` instead.\n",
      "  removed_version='0.19')\n",
      "C:\\Users\\Sauron\\AppData\\Roaming\\Python\\Python36\\site-packages\\skimage\\feature\\__init__.py:43: skimage_deprecation: Function ``register_translation`` is deprecated and will be removed in version 0.19. Use ``skimage.registration.phase_cross_correlation`` instead.\n",
      "  removed_version='0.19')\n",
      "C:\\Users\\Sauron\\AppData\\Roaming\\Python\\Python36\\site-packages\\skimage\\feature\\__init__.py:43: skimage_deprecation: Function ``register_translation`` is deprecated and will be removed in version 0.19. Use ``skimage.registration.phase_cross_correlation`` instead.\n",
      "  removed_version='0.19')\n",
      "C:\\Users\\Sauron\\AppData\\Roaming\\Python\\Python36\\site-packages\\skimage\\feature\\__init__.py:43: skimage_deprecation: Function ``register_translation`` is deprecated and will be removed in version 0.19. Use ``skimage.registration.phase_cross_correlation`` instead.\n",
      "  removed_version='0.19')\n",
      "C:\\Users\\Sauron\\AppData\\Roaming\\Python\\Python36\\site-packages\\skimage\\feature\\__init__.py:43: skimage_deprecation: Function ``register_translation`` is deprecated and will be removed in version 0.19. Use ``skimage.registration.phase_cross_correlation`` instead.\n",
      "  removed_version='0.19')\n",
      "C:\\Users\\Sauron\\AppData\\Roaming\\Python\\Python36\\site-packages\\skimage\\feature\\__init__.py:43: skimage_deprecation: Function ``register_translation`` is deprecated and will be removed in version 0.19. Use ``skimage.registration.phase_cross_correlation`` instead.\n",
      "  removed_version='0.19')\n"
     ]
    },
    {
     "name": "stdout",
     "output_type": "stream",
     "text": [
      "Completed 30 / 99\n"
     ]
    },
    {
     "name": "stderr",
     "output_type": "stream",
     "text": [
      "C:\\Users\\Sauron\\AppData\\Roaming\\Python\\Python36\\site-packages\\skimage\\feature\\__init__.py:43: skimage_deprecation: Function ``register_translation`` is deprecated and will be removed in version 0.19. Use ``skimage.registration.phase_cross_correlation`` instead.\n",
      "  removed_version='0.19')\n",
      "C:\\Users\\Sauron\\AppData\\Roaming\\Python\\Python36\\site-packages\\skimage\\feature\\__init__.py:43: skimage_deprecation: Function ``register_translation`` is deprecated and will be removed in version 0.19. Use ``skimage.registration.phase_cross_correlation`` instead.\n",
      "  removed_version='0.19')\n",
      "C:\\Users\\Sauron\\AppData\\Roaming\\Python\\Python36\\site-packages\\skimage\\feature\\__init__.py:43: skimage_deprecation: Function ``register_translation`` is deprecated and will be removed in version 0.19. Use ``skimage.registration.phase_cross_correlation`` instead.\n",
      "  removed_version='0.19')\n",
      "C:\\Users\\Sauron\\AppData\\Roaming\\Python\\Python36\\site-packages\\skimage\\feature\\__init__.py:43: skimage_deprecation: Function ``register_translation`` is deprecated and will be removed in version 0.19. Use ``skimage.registration.phase_cross_correlation`` instead.\n",
      "  removed_version='0.19')\n",
      "C:\\Users\\Sauron\\AppData\\Roaming\\Python\\Python36\\site-packages\\skimage\\feature\\__init__.py:43: skimage_deprecation: Function ``register_translation`` is deprecated and will be removed in version 0.19. Use ``skimage.registration.phase_cross_correlation`` instead.\n",
      "  removed_version='0.19')\n",
      "C:\\Users\\Sauron\\AppData\\Roaming\\Python\\Python36\\site-packages\\skimage\\feature\\__init__.py:43: skimage_deprecation: Function ``register_translation`` is deprecated and will be removed in version 0.19. Use ``skimage.registration.phase_cross_correlation`` instead.\n",
      "  removed_version='0.19')\n",
      "C:\\Users\\Sauron\\AppData\\Roaming\\Python\\Python36\\site-packages\\skimage\\feature\\__init__.py:43: skimage_deprecation: Function ``register_translation`` is deprecated and will be removed in version 0.19. Use ``skimage.registration.phase_cross_correlation`` instead.\n",
      "  removed_version='0.19')\n",
      "C:\\Users\\Sauron\\AppData\\Roaming\\Python\\Python36\\site-packages\\skimage\\feature\\__init__.py:43: skimage_deprecation: Function ``register_translation`` is deprecated and will be removed in version 0.19. Use ``skimage.registration.phase_cross_correlation`` instead.\n",
      "  removed_version='0.19')\n",
      "C:\\Users\\Sauron\\AppData\\Roaming\\Python\\Python36\\site-packages\\skimage\\feature\\__init__.py:43: skimage_deprecation: Function ``register_translation`` is deprecated and will be removed in version 0.19. Use ``skimage.registration.phase_cross_correlation`` instead.\n",
      "  removed_version='0.19')\n",
      "C:\\Users\\Sauron\\AppData\\Roaming\\Python\\Python36\\site-packages\\skimage\\feature\\__init__.py:43: skimage_deprecation: Function ``register_translation`` is deprecated and will be removed in version 0.19. Use ``skimage.registration.phase_cross_correlation`` instead.\n",
      "  removed_version='0.19')\n"
     ]
    },
    {
     "name": "stdout",
     "output_type": "stream",
     "text": [
      "Completed 40 / 99\n"
     ]
    },
    {
     "name": "stderr",
     "output_type": "stream",
     "text": [
      "C:\\Users\\Sauron\\AppData\\Roaming\\Python\\Python36\\site-packages\\skimage\\feature\\__init__.py:43: skimage_deprecation: Function ``register_translation`` is deprecated and will be removed in version 0.19. Use ``skimage.registration.phase_cross_correlation`` instead.\n",
      "  removed_version='0.19')\n",
      "C:\\Users\\Sauron\\AppData\\Roaming\\Python\\Python36\\site-packages\\skimage\\feature\\__init__.py:43: skimage_deprecation: Function ``register_translation`` is deprecated and will be removed in version 0.19. Use ``skimage.registration.phase_cross_correlation`` instead.\n",
      "  removed_version='0.19')\n",
      "C:\\Users\\Sauron\\AppData\\Roaming\\Python\\Python36\\site-packages\\skimage\\feature\\__init__.py:43: skimage_deprecation: Function ``register_translation`` is deprecated and will be removed in version 0.19. Use ``skimage.registration.phase_cross_correlation`` instead.\n",
      "  removed_version='0.19')\n",
      "C:\\Users\\Sauron\\AppData\\Roaming\\Python\\Python36\\site-packages\\skimage\\feature\\__init__.py:43: skimage_deprecation: Function ``register_translation`` is deprecated and will be removed in version 0.19. Use ``skimage.registration.phase_cross_correlation`` instead.\n",
      "  removed_version='0.19')\n",
      "C:\\Users\\Sauron\\AppData\\Roaming\\Python\\Python36\\site-packages\\skimage\\feature\\__init__.py:43: skimage_deprecation: Function ``register_translation`` is deprecated and will be removed in version 0.19. Use ``skimage.registration.phase_cross_correlation`` instead.\n",
      "  removed_version='0.19')\n",
      "C:\\Users\\Sauron\\AppData\\Roaming\\Python\\Python36\\site-packages\\skimage\\feature\\__init__.py:43: skimage_deprecation: Function ``register_translation`` is deprecated and will be removed in version 0.19. Use ``skimage.registration.phase_cross_correlation`` instead.\n",
      "  removed_version='0.19')\n"
     ]
    },
    {
     "name": "stdout",
     "output_type": "stream",
     "text": [
      "Completed 50 / 99\n"
     ]
    },
    {
     "name": "stderr",
     "output_type": "stream",
     "text": [
      "C:\\Users\\Sauron\\AppData\\Roaming\\Python\\Python36\\site-packages\\skimage\\feature\\__init__.py:43: skimage_deprecation: Function ``register_translation`` is deprecated and will be removed in version 0.19. Use ``skimage.registration.phase_cross_correlation`` instead.\n",
      "  removed_version='0.19')\n",
      "C:\\Users\\Sauron\\AppData\\Roaming\\Python\\Python36\\site-packages\\skimage\\feature\\__init__.py:43: skimage_deprecation: Function ``register_translation`` is deprecated and will be removed in version 0.19. Use ``skimage.registration.phase_cross_correlation`` instead.\n",
      "  removed_version='0.19')\n",
      "C:\\Users\\Sauron\\AppData\\Roaming\\Python\\Python36\\site-packages\\skimage\\feature\\__init__.py:43: skimage_deprecation: Function ``register_translation`` is deprecated and will be removed in version 0.19. Use ``skimage.registration.phase_cross_correlation`` instead.\n",
      "  removed_version='0.19')\n",
      "C:\\Users\\Sauron\\AppData\\Roaming\\Python\\Python36\\site-packages\\skimage\\feature\\__init__.py:43: skimage_deprecation: Function ``register_translation`` is deprecated and will be removed in version 0.19. Use ``skimage.registration.phase_cross_correlation`` instead.\n",
      "  removed_version='0.19')\n",
      "C:\\Users\\Sauron\\AppData\\Roaming\\Python\\Python36\\site-packages\\skimage\\feature\\__init__.py:43: skimage_deprecation: Function ``register_translation`` is deprecated and will be removed in version 0.19. Use ``skimage.registration.phase_cross_correlation`` instead.\n",
      "  removed_version='0.19')\n",
      "C:\\Users\\Sauron\\AppData\\Roaming\\Python\\Python36\\site-packages\\skimage\\feature\\__init__.py:43: skimage_deprecation: Function ``register_translation`` is deprecated and will be removed in version 0.19. Use ``skimage.registration.phase_cross_correlation`` instead.\n",
      "  removed_version='0.19')\n",
      "C:\\Users\\Sauron\\AppData\\Roaming\\Python\\Python36\\site-packages\\skimage\\feature\\__init__.py:43: skimage_deprecation: Function ``register_translation`` is deprecated and will be removed in version 0.19. Use ``skimage.registration.phase_cross_correlation`` instead.\n",
      "  removed_version='0.19')\n",
      "C:\\Users\\Sauron\\AppData\\Roaming\\Python\\Python36\\site-packages\\skimage\\feature\\__init__.py:43: skimage_deprecation: Function ``register_translation`` is deprecated and will be removed in version 0.19. Use ``skimage.registration.phase_cross_correlation`` instead.\n",
      "  removed_version='0.19')\n",
      "C:\\Users\\Sauron\\AppData\\Roaming\\Python\\Python36\\site-packages\\skimage\\feature\\__init__.py:43: skimage_deprecation: Function ``register_translation`` is deprecated and will be removed in version 0.19. Use ``skimage.registration.phase_cross_correlation`` instead.\n",
      "  removed_version='0.19')\n",
      "C:\\Users\\Sauron\\AppData\\Roaming\\Python\\Python36\\site-packages\\skimage\\feature\\__init__.py:43: skimage_deprecation: Function ``register_translation`` is deprecated and will be removed in version 0.19. Use ``skimage.registration.phase_cross_correlation`` instead.\n",
      "  removed_version='0.19')\n"
     ]
    },
    {
     "name": "stdout",
     "output_type": "stream",
     "text": [
      "Completed 60 / 99\n"
     ]
    },
    {
     "name": "stderr",
     "output_type": "stream",
     "text": [
      "C:\\Users\\Sauron\\AppData\\Roaming\\Python\\Python36\\site-packages\\skimage\\feature\\__init__.py:43: skimage_deprecation: Function ``register_translation`` is deprecated and will be removed in version 0.19. Use ``skimage.registration.phase_cross_correlation`` instead.\n",
      "  removed_version='0.19')\n",
      "C:\\Users\\Sauron\\AppData\\Roaming\\Python\\Python36\\site-packages\\skimage\\feature\\__init__.py:43: skimage_deprecation: Function ``register_translation`` is deprecated and will be removed in version 0.19. Use ``skimage.registration.phase_cross_correlation`` instead.\n",
      "  removed_version='0.19')\n",
      "C:\\Users\\Sauron\\AppData\\Roaming\\Python\\Python36\\site-packages\\skimage\\feature\\__init__.py:43: skimage_deprecation: Function ``register_translation`` is deprecated and will be removed in version 0.19. Use ``skimage.registration.phase_cross_correlation`` instead.\n",
      "  removed_version='0.19')\n",
      "C:\\Users\\Sauron\\AppData\\Roaming\\Python\\Python36\\site-packages\\skimage\\feature\\__init__.py:43: skimage_deprecation: Function ``register_translation`` is deprecated and will be removed in version 0.19. Use ``skimage.registration.phase_cross_correlation`` instead.\n",
      "  removed_version='0.19')\n",
      "C:\\Users\\Sauron\\AppData\\Roaming\\Python\\Python36\\site-packages\\skimage\\feature\\__init__.py:43: skimage_deprecation: Function ``register_translation`` is deprecated and will be removed in version 0.19. Use ``skimage.registration.phase_cross_correlation`` instead.\n",
      "  removed_version='0.19')\n",
      "C:\\Users\\Sauron\\AppData\\Roaming\\Python\\Python36\\site-packages\\skimage\\feature\\__init__.py:43: skimage_deprecation: Function ``register_translation`` is deprecated and will be removed in version 0.19. Use ``skimage.registration.phase_cross_correlation`` instead.\n",
      "  removed_version='0.19')\n",
      "C:\\Users\\Sauron\\AppData\\Roaming\\Python\\Python36\\site-packages\\skimage\\feature\\__init__.py:43: skimage_deprecation: Function ``register_translation`` is deprecated and will be removed in version 0.19. Use ``skimage.registration.phase_cross_correlation`` instead.\n",
      "  removed_version='0.19')\n",
      "C:\\Users\\Sauron\\AppData\\Roaming\\Python\\Python36\\site-packages\\skimage\\feature\\__init__.py:43: skimage_deprecation: Function ``register_translation`` is deprecated and will be removed in version 0.19. Use ``skimage.registration.phase_cross_correlation`` instead.\n",
      "  removed_version='0.19')\n",
      "C:\\Users\\Sauron\\AppData\\Roaming\\Python\\Python36\\site-packages\\skimage\\feature\\__init__.py:43: skimage_deprecation: Function ``register_translation`` is deprecated and will be removed in version 0.19. Use ``skimage.registration.phase_cross_correlation`` instead.\n",
      "  removed_version='0.19')\n",
      "C:\\Users\\Sauron\\AppData\\Roaming\\Python\\Python36\\site-packages\\skimage\\feature\\__init__.py:43: skimage_deprecation: Function ``register_translation`` is deprecated and will be removed in version 0.19. Use ``skimage.registration.phase_cross_correlation`` instead.\n",
      "  removed_version='0.19')\n",
      "C:\\Users\\Sauron\\AppData\\Roaming\\Python\\Python36\\site-packages\\skimage\\feature\\__init__.py:43: skimage_deprecation: Function ``register_translation`` is deprecated and will be removed in version 0.19. Use ``skimage.registration.phase_cross_correlation`` instead.\n",
      "  removed_version='0.19')\n",
      "C:\\Users\\Sauron\\AppData\\Roaming\\Python\\Python36\\site-packages\\skimage\\feature\\__init__.py:43: skimage_deprecation: Function ``register_translation`` is deprecated and will be removed in version 0.19. Use ``skimage.registration.phase_cross_correlation`` instead.\n",
      "  removed_version='0.19')\n",
      "C:\\Users\\Sauron\\AppData\\Roaming\\Python\\Python36\\site-packages\\skimage\\feature\\__init__.py:43: skimage_deprecation: Function ``register_translation`` is deprecated and will be removed in version 0.19. Use ``skimage.registration.phase_cross_correlation`` instead.\n",
      "  removed_version='0.19')\n",
      "C:\\Users\\Sauron\\AppData\\Roaming\\Python\\Python36\\site-packages\\skimage\\feature\\__init__.py:43: skimage_deprecation: Function ``register_translation`` is deprecated and will be removed in version 0.19. Use ``skimage.registration.phase_cross_correlation`` instead.\n",
      "  removed_version='0.19')\n",
      "C:\\Users\\Sauron\\AppData\\Roaming\\Python\\Python36\\site-packages\\skimage\\feature\\__init__.py:43: skimage_deprecation: Function ``register_translation`` is deprecated and will be removed in version 0.19. Use ``skimage.registration.phase_cross_correlation`` instead.\n",
      "  removed_version='0.19')\n"
     ]
    },
    {
     "name": "stdout",
     "output_type": "stream",
     "text": [
      "Completed 70 / 99\n"
     ]
    },
    {
     "name": "stderr",
     "output_type": "stream",
     "text": [
      "C:\\Users\\Sauron\\AppData\\Roaming\\Python\\Python36\\site-packages\\skimage\\feature\\__init__.py:43: skimage_deprecation: Function ``register_translation`` is deprecated and will be removed in version 0.19. Use ``skimage.registration.phase_cross_correlation`` instead.\n",
      "  removed_version='0.19')\n",
      "C:\\Users\\Sauron\\AppData\\Roaming\\Python\\Python36\\site-packages\\skimage\\feature\\__init__.py:43: skimage_deprecation: Function ``register_translation`` is deprecated and will be removed in version 0.19. Use ``skimage.registration.phase_cross_correlation`` instead.\n",
      "  removed_version='0.19')\n",
      "C:\\Users\\Sauron\\AppData\\Roaming\\Python\\Python36\\site-packages\\skimage\\feature\\__init__.py:43: skimage_deprecation: Function ``register_translation`` is deprecated and will be removed in version 0.19. Use ``skimage.registration.phase_cross_correlation`` instead.\n",
      "  removed_version='0.19')\n",
      "C:\\Users\\Sauron\\AppData\\Roaming\\Python\\Python36\\site-packages\\skimage\\feature\\__init__.py:43: skimage_deprecation: Function ``register_translation`` is deprecated and will be removed in version 0.19. Use ``skimage.registration.phase_cross_correlation`` instead.\n",
      "  removed_version='0.19')\n",
      "C:\\Users\\Sauron\\AppData\\Roaming\\Python\\Python36\\site-packages\\skimage\\feature\\__init__.py:43: skimage_deprecation: Function ``register_translation`` is deprecated and will be removed in version 0.19. Use ``skimage.registration.phase_cross_correlation`` instead.\n",
      "  removed_version='0.19')\n"
     ]
    },
    {
     "name": "stdout",
     "output_type": "stream",
     "text": [
      "Completed 80 / 99\n"
     ]
    },
    {
     "name": "stderr",
     "output_type": "stream",
     "text": [
      "C:\\Users\\Sauron\\AppData\\Roaming\\Python\\Python36\\site-packages\\skimage\\feature\\__init__.py:43: skimage_deprecation: Function ``register_translation`` is deprecated and will be removed in version 0.19. Use ``skimage.registration.phase_cross_correlation`` instead.\n",
      "  removed_version='0.19')\n",
      "C:\\Users\\Sauron\\AppData\\Roaming\\Python\\Python36\\site-packages\\skimage\\feature\\__init__.py:43: skimage_deprecation: Function ``register_translation`` is deprecated and will be removed in version 0.19. Use ``skimage.registration.phase_cross_correlation`` instead.\n",
      "  removed_version='0.19')\n",
      "C:\\Users\\Sauron\\AppData\\Roaming\\Python\\Python36\\site-packages\\skimage\\feature\\__init__.py:43: skimage_deprecation: Function ``register_translation`` is deprecated and will be removed in version 0.19. Use ``skimage.registration.phase_cross_correlation`` instead.\n",
      "  removed_version='0.19')\n",
      "C:\\Users\\Sauron\\AppData\\Roaming\\Python\\Python36\\site-packages\\skimage\\feature\\__init__.py:43: skimage_deprecation: Function ``register_translation`` is deprecated and will be removed in version 0.19. Use ``skimage.registration.phase_cross_correlation`` instead.\n",
      "  removed_version='0.19')\n",
      "C:\\Users\\Sauron\\AppData\\Roaming\\Python\\Python36\\site-packages\\skimage\\feature\\__init__.py:43: skimage_deprecation: Function ``register_translation`` is deprecated and will be removed in version 0.19. Use ``skimage.registration.phase_cross_correlation`` instead.\n",
      "  removed_version='0.19')\n",
      "C:\\Users\\Sauron\\AppData\\Roaming\\Python\\Python36\\site-packages\\skimage\\feature\\__init__.py:43: skimage_deprecation: Function ``register_translation`` is deprecated and will be removed in version 0.19. Use ``skimage.registration.phase_cross_correlation`` instead.\n",
      "  removed_version='0.19')\n",
      "C:\\Users\\Sauron\\AppData\\Roaming\\Python\\Python36\\site-packages\\skimage\\feature\\__init__.py:43: skimage_deprecation: Function ``register_translation`` is deprecated and will be removed in version 0.19. Use ``skimage.registration.phase_cross_correlation`` instead.\n",
      "  removed_version='0.19')\n",
      "C:\\Users\\Sauron\\AppData\\Roaming\\Python\\Python36\\site-packages\\skimage\\feature\\__init__.py:43: skimage_deprecation: Function ``register_translation`` is deprecated and will be removed in version 0.19. Use ``skimage.registration.phase_cross_correlation`` instead.\n",
      "  removed_version='0.19')\n",
      "C:\\Users\\Sauron\\AppData\\Roaming\\Python\\Python36\\site-packages\\skimage\\feature\\__init__.py:43: skimage_deprecation: Function ``register_translation`` is deprecated and will be removed in version 0.19. Use ``skimage.registration.phase_cross_correlation`` instead.\n",
      "  removed_version='0.19')\n",
      "C:\\Users\\Sauron\\AppData\\Roaming\\Python\\Python36\\site-packages\\skimage\\feature\\__init__.py:43: skimage_deprecation: Function ``register_translation`` is deprecated and will be removed in version 0.19. Use ``skimage.registration.phase_cross_correlation`` instead.\n",
      "  removed_version='0.19')\n",
      "C:\\Users\\Sauron\\AppData\\Roaming\\Python\\Python36\\site-packages\\skimage\\feature\\__init__.py:43: skimage_deprecation: Function ``register_translation`` is deprecated and will be removed in version 0.19. Use ``skimage.registration.phase_cross_correlation`` instead.\n",
      "  removed_version='0.19')\n",
      "C:\\Users\\Sauron\\AppData\\Roaming\\Python\\Python36\\site-packages\\skimage\\feature\\__init__.py:43: skimage_deprecation: Function ``register_translation`` is deprecated and will be removed in version 0.19. Use ``skimage.registration.phase_cross_correlation`` instead.\n",
      "  removed_version='0.19')\n"
     ]
    },
    {
     "name": "stdout",
     "output_type": "stream",
     "text": [
      "Completed 90 / 99\n"
     ]
    },
    {
     "name": "stderr",
     "output_type": "stream",
     "text": [
      "C:\\Users\\Sauron\\AppData\\Roaming\\Python\\Python36\\site-packages\\skimage\\feature\\__init__.py:43: skimage_deprecation: Function ``register_translation`` is deprecated and will be removed in version 0.19. Use ``skimage.registration.phase_cross_correlation`` instead.\n",
      "  removed_version='0.19')\n",
      "C:\\Users\\Sauron\\AppData\\Roaming\\Python\\Python36\\site-packages\\skimage\\feature\\__init__.py:43: skimage_deprecation: Function ``register_translation`` is deprecated and will be removed in version 0.19. Use ``skimage.registration.phase_cross_correlation`` instead.\n",
      "  removed_version='0.19')\n",
      "C:\\Users\\Sauron\\AppData\\Roaming\\Python\\Python36\\site-packages\\skimage\\feature\\__init__.py:43: skimage_deprecation: Function ``register_translation`` is deprecated and will be removed in version 0.19. Use ``skimage.registration.phase_cross_correlation`` instead.\n",
      "  removed_version='0.19')\n",
      "C:\\Users\\Sauron\\AppData\\Roaming\\Python\\Python36\\site-packages\\skimage\\feature\\__init__.py:43: skimage_deprecation: Function ``register_translation`` is deprecated and will be removed in version 0.19. Use ``skimage.registration.phase_cross_correlation`` instead.\n",
      "  removed_version='0.19')\n",
      "C:\\Users\\Sauron\\AppData\\Roaming\\Python\\Python36\\site-packages\\skimage\\feature\\__init__.py:43: skimage_deprecation: Function ``register_translation`` is deprecated and will be removed in version 0.19. Use ``skimage.registration.phase_cross_correlation`` instead.\n",
      "  removed_version='0.19')\n",
      "C:\\Users\\Sauron\\AppData\\Roaming\\Python\\Python36\\site-packages\\skimage\\feature\\__init__.py:43: skimage_deprecation: Function ``register_translation`` is deprecated and will be removed in version 0.19. Use ``skimage.registration.phase_cross_correlation`` instead.\n",
      "  removed_version='0.19')\n"
     ]
    },
    {
     "data": {
      "application/vnd.jupyter.widget-view+json": {
       "model_id": "5a29b0bbb991495989368f6e82b8a5e0",
       "version_major": 2,
       "version_minor": 0
      },
      "text/plain": [
       "  0%|          | 0/99 [00:00<?, ?it/s]"
      ]
     },
     "metadata": {},
     "output_type": "display_data"
    },
    {
     "name": "stdout",
     "output_type": "stream",
     "text": [
      "This is iteration 7\n"
     ]
    }
   ],
   "source": [
    "for x in range(6):\n",
    "    shiftListCheck = np.zeros((numTilts,2))\n",
    "    i = 0\n",
    "    for sl in np.arange(0,numTilts-1):\n",
    "        i += 1\n",
    "        ref = sAlig.data[sl,:,:]\n",
    "        im = sAlig.data[sl+1,:,:]\n",
    "        h0= np.hanning(np.size(ref,0))\n",
    "        h1= np.hanning(np.size(ref,1))\n",
    "        hann2d = np.sqrt(np.outer(h0,h1))\n",
    "        ref = hann2d*ref\n",
    "        im = hann2d*im\n",
    "        shift, error, diffphase = register_translation(ref,im, 200)\n",
    "        shiftListCheck[sl+1,:] = shift\n",
    "        if i % 10 == 0:\n",
    "            print('Completed %s / %s' % (i, numTilts))\n",
    "\n",
    "    AltShiftList = np.zeros_like(shiftListCheck)\n",
    "    for sl in np.arange(0,numTilts-1):\n",
    "        AltShiftList[sl+1,:] = np.sum(shiftListCheck[0:sl+2,:],axis=0)\n",
    "\n",
    "    All_shifts.append(AltShiftList)\n",
    "\n",
    "    TotShift = sum(All_shifts)\n",
    "    sAlig = s.deepcopy()\n",
    "    sAlig.align2D(shifts=-1*(TotShift))\n",
    "    num_iter += 1\n",
    "    print('This is iteration %s' % num_iter)\n"
   ]
  },
  {
   "cell_type": "markdown",
   "metadata": {},
   "source": [
    "- Plot the calculated shifts for each iteration to see how it is changing and whether it seems to have converged or not"
   ]
  },
  {
   "cell_type": "code",
   "execution_count": 25,
   "metadata": {
    "scrolled": true
   },
   "outputs": [
    {
     "data": {
      "text/plain": [
       "<matplotlib.legend.Legend at 0x25fa924d438>"
      ]
     },
     "execution_count": 25,
     "metadata": {},
     "output_type": "execute_result"
    },
    {
     "data": {
      "image/png": "[encoded data removed]",
      "text/plain": [
       "<Figure size 432x288 with 1 Axes>"
      ]
     },
     "metadata": {
      "needs_background": "light"
     },
     "output_type": "display_data"
    }
   ],
   "source": [
    "%matplotlib inline\n",
    "\n",
    "mags = [[0],[0]]\n",
    "for i in All_shifts:\n",
    "    x_mag = sum(i[:,1])\n",
    "    y_mag = sum(i[:,0])\n",
    "    mags[0].append(mags[0][-1] + x_mag)\n",
    "    mags[1].append(mags[1][-1] + y_mag)\n",
    "\n",
    "plt.plot(mags[0], label='x shift')\n",
    "plt.plot(mags[1], label='y shift')\n",
    "plt.xlabel('Alignment iteration')\n",
    "plt.ylabel('Cumulitive total shift')\n",
    "plt.legend()"
   ]
  },
  {
   "cell_type": "markdown",
   "metadata": {},
   "source": [
    "- Check that the alignment has worked visually"
   ]
  },
  {
   "cell_type": "code",
   "execution_count": 34,
   "metadata": {},
   "outputs": [],
   "source": [
    "%matplotlib qt\n",
    "sAlig.plot()"
   ]
  },
  {
   "cell_type": "markdown",
   "metadata": {},
   "source": [
    "- Save shift-algined stack if desired"
   ]
  },
  {
   "cell_type": "code",
   "execution_count": 26,
   "metadata": {},
   "outputs": [],
   "source": [
    "folder = r'C:\\Users\\Sauron\\Documents\\Tomography demo\\\\'\n",
    "name = 'pixelshift_aligned.hdf5'"
   ]
  },
  {
   "cell_type": "code",
   "execution_count": 27,
   "metadata": {},
   "outputs": [],
   "source": [
    "sAlig.save(folder+name)"
   ]
  },
  {
   "cell_type": "markdown",
   "metadata": {},
   "source": [
    "# Align axis\n",
    "- We next have to align the tilt axis so that it is both at the correct angle (vertical axis) and at the correct translation (centred)\n",
    "- We do this by reconstructing 3 orthoslices (one near the top of the image, one centrally, and one near the bottom), by visually inspecting the sinograms we can determine whether an axis shift or rotation is necessary.\n",
    "- The following figure demonstrates arcing in the sinogram of reconstructions with a misaligned axis, for the top and bottom slice: \n",
    "   - arcing in __same__ direction = incorrect axis shift \n",
    "   - arcing in __opposite__ directions = incorrect axis angle\n",
    "<div>\n",
    "<img src=\"https://lh3.googleusercontent.com/slf8iXyrXA-fgOoBVQL_DnNqmHmYp0vfjB-JdwnPPCFOG5QkFjfOsBMsKQBqHfA04EXolKmlMXwwTO559VShW436R6pIte5LyCL3-TuMQjG-G0m8Pu1gbeOqqMnEwbdHXGtikKXf6_T9KS76sKHmRZcpHHxcznaMWTXPVrNGHPJbHRO6YozhT7lI3sEwmEc9l8S6RTf7M7wbqUQHhsO9JMs3aVT6ROqI0D15IFmx8j50kwd3zHuEakZha7i2Tpz8HgVGqd6Cp140DVOiA03K6jZx0FDCKvIkds3mcQ8RwgJoIPHVuDZuotbCFX9q_tbtZnpcLI0UzcyBOoKyyet0ICthz0MpEjRwOMM2od4DOfSKDU1LQtEwLaUGfCCE1h72IJQY3kXD04fiD8LUQOHjT95U3EYAmF-o2YtI8L_JWWLfINjdd6f7vg9az5c0vL9sFbfTR5oZ2JedcwVd-efavcUDtMcBjvu2SZA1V4jXzcXi4d8HeVKOhWshUq1i_xr2qmuTLdHErQpdhL4JMM1KBwBnfJUFGdfRNqSbV2uK4e24io5KZalLt8NZJlyvBkBT7bEbljAdqH8S1DJUqPlEA6y0B_IUx7Cugh_MDr5F5CtN8fnii8Xbr4CtAK2e54X25sbLDH9EHni-OJ1dalTjw_y4I0lYFTot6Mq9k1EjVVARiHDtMJi2mTv2EV9dPnK1TQyjt8T1f_dGcWtRykPyJgmrgi8BiSgUy6s9HqJiNros3E14=w982-h937-no\" width=\"500\"/>\n",
    "</div>\n",
    " <p style=\"text-align:center;\"> Taken from Springer Handbook of Microscopy; Springer, 2019.\n"
   ]
  },
  {
   "cell_type": "markdown",
   "metadata": {},
   "source": [
    "- Load/check data"
   ]
  },
  {
   "cell_type": "code",
   "execution_count": null,
   "metadata": {},
   "outputs": [],
   "source": [
    "#s = hs.load(folder+name)"
   ]
  },
  {
   "cell_type": "code",
   "execution_count": 32,
   "metadata": {},
   "outputs": [],
   "source": [
    "s=copy.deepcopy(sAlig)\n"
   ]
  },
  {
   "cell_type": "code",
   "execution_count": 29,
   "metadata": {},
   "outputs": [],
   "source": [
    "s.plot()"
   ]
  },
  {
   "cell_type": "code",
   "execution_count": 37,
   "metadata": {},
   "outputs": [
    {
     "data": {
      "text/plain": [
       "(99, 279, 325)"
      ]
     },
     "execution_count": 37,
     "metadata": {},
     "output_type": "execute_result"
    }
   ],
   "source": [
    "np.shape(s)"
   ]
  },
  {
   "cell_type": "markdown",
   "metadata": {},
   "source": [
    "# Import the acquisition angles in degrees"
   ]
  },
  {
   "cell_type": "code",
   "execution_count": 38,
   "metadata": {},
   "outputs": [
    {
     "name": "stdout",
     "output_type": "stream",
     "text": [
      "(99, 279, 325) (99,)\n"
     ]
    },
    {
     "data": {
      "text/plain": [
       "array([-6.998e+01, -6.899e+01, -6.798e+01, -6.698e+01, -6.598e+01,\n",
       "       -6.498e+01, -6.398e+01, -6.298e+01, -6.198e+01, -6.098e+01,\n",
       "       -5.999e+01, -5.849e+01, -5.699e+01, -5.548e+01, -5.399e+01,\n",
       "       -5.249e+01, -5.099e+01, -4.949e+01, -4.799e+01, -4.649e+01,\n",
       "       -4.499e+01, -4.349e+01, -4.199e+01, -4.049e+01, -3.899e+01,\n",
       "       -3.749e+01, -3.599e+01, -3.449e+01, -3.299e+01, -3.149e+01,\n",
       "       -2.999e+01, -2.849e+01, -2.699e+01, -2.549e+01, -2.399e+01,\n",
       "       -2.249e+01, -2.099e+01, -1.949e+01, -1.799e+01, -1.649e+01,\n",
       "       -1.499e+01, -1.349e+01, -1.199e+01, -1.049e+01, -8.990e+00,\n",
       "       -7.490e+00, -5.990e+00, -4.490e+00, -2.990e+00, -1.490e+00,\n",
       "       -6.000e-02,  1.490e+00,  2.990e+00,  4.490e+00,  5.990e+00,\n",
       "        7.490e+00,  8.990e+00,  1.049e+01,  1.199e+01,  1.349e+01,\n",
       "        1.499e+01,  1.649e+01,  1.799e+01,  1.949e+01,  2.099e+01,\n",
       "        2.249e+01,  2.399e+01,  2.549e+01,  2.699e+01,  2.849e+01,\n",
       "        2.998e+01,  3.149e+01,  3.299e+01,  3.449e+01,  3.599e+01,\n",
       "        3.749e+01,  3.899e+01,  4.049e+01,  4.199e+01,  4.349e+01,\n",
       "        4.499e+01,  4.649e+01,  4.799e+01,  4.949e+01,  5.099e+01,\n",
       "        5.249e+01,  5.399e+01,  5.549e+01,  5.699e+01,  5.849e+01,\n",
       "        5.999e+01,  6.099e+01,  6.199e+01,  6.299e+01,  6.399e+01,\n",
       "        6.499e+01,  6.599e+01,  6.699e+01,  6.798e+01])"
      ]
     },
     "execution_count": 38,
     "metadata": {},
     "output_type": "execute_result"
    }
   ],
   "source": [
    "# Load tilts\n",
    "folder = r'C:\\Users\\Sauron\\Documents\\Tomography demo\\\\'\n",
    "name = r'tilt_file.rawtlt'\n",
    "fpath=folder+name\n",
    "df = pd.read_csv(fpath,header=None)\n",
    "theta = df[0].values\n",
    "\n",
    "#remove obscured tilts (match to start!)\n",
    "theta = theta[:-2]\n",
    "\n",
    "# check shapes and values\n",
    "print(np.shape(s), np.shape(theta))\n",
    "theta"
   ]
  },
  {
   "cell_type": "markdown",
   "metadata": {},
   "source": [
    "- Format data so that it is compatible with the skimage radon function"
   ]
  },
  {
   "cell_type": "code",
   "execution_count": 39,
   "metadata": {},
   "outputs": [
    {
     "data": {
      "text/plain": [
       "(279, 325, 99)"
      ]
     },
     "execution_count": 39,
     "metadata": {},
     "output_type": "execute_result"
    }
   ],
   "source": [
    "sWork = s.deepcopy()\n",
    "\n",
    "sWork.data = np.nan_to_num(sWork.data) # Replace nan with zero and infinity with large numbers if not already done\n",
    "sWork.data = sWork.data/sWork.data.max() # Normalise data to 1 if not already done\n",
    "\n",
    "# the iradon function requires the  0th index to be the axis of rotation\n",
    "OriginalSinogram = np.transpose(sWork.data,axes=[1,2,0])\n",
    "np.shape(OriginalSinogram)"
   ]
  },
  {
   "cell_type": "markdown",
   "metadata": {},
   "source": [
    "- This cell allows you to adjust the rotation axis angle and shift.\n",
    "- First adjust slice1, slice2 and slice3 so that they correspond to the y axis value of an image feature at the top, middle and bottom of the image respectively.\n",
    "- Then adjust rotDegree (likely between -10 and +10 degrees) and shiftX (likely between -30 and +30 pixels) until you are satisfied that the axis is well aligned.\n",
    "- It is easiest to adjust shiftX first until the central slice shows no arcing, then adjust the rotation angle until the top and bottom slices are also free from arcing (refer to image above for explanation).\n",
    "- You will likely have to run the following cell several times, adjusting the parameters until you find the correct alignment.\n",
    "- You may be able to estimate initial values for shiftX and rotDegree using imageJ or with clever guessing"
   ]
  },
  {
   "cell_type": "code",
   "execution_count": 50,
   "metadata": {},
   "outputs": [
    {
     "name": "stdout",
     "output_type": "stream",
     "text": [
      "70 130 190\n"
     ]
    },
    {
     "name": "stderr",
     "output_type": "stream",
     "text": [
      "C:\\Users\\Sauron\\anaconda3\\envs\\cs_tomo\\lib\\site-packages\\ipykernel_launcher.py:28: FutureWarning: 'filter' is a deprecated argument name for `iradon`. It will be removed in version 0.19. Please use 'filter_name' instead.\n",
      "C:\\Users\\Sauron\\anaconda3\\envs\\cs_tomo\\lib\\site-packages\\ipykernel_launcher.py:29: FutureWarning: 'filter' is a deprecated argument name for `iradon`. It will be removed in version 0.19. Please use 'filter_name' instead.\n",
      "C:\\Users\\Sauron\\anaconda3\\envs\\cs_tomo\\lib\\site-packages\\ipykernel_launcher.py:30: FutureWarning: 'filter' is a deprecated argument name for `iradon`. It will be removed in version 0.19. Please use 'filter_name' instead.\n"
     ]
    }
   ],
   "source": [
    "from skimage.transform import iradon, AffineTransform, warp, rotate\n",
    "\n",
    "for n in range(0,1):\n",
    "    shiftX = 18 #-ve shifts right, +ve shifts left\n",
    "    rotDegree= 0\n",
    "\n",
    "\n",
    "    tilts = np.size(OriginalSinogram,2)\n",
    "\n",
    "    tformTrans = AffineTransform(translation=(shiftX,0)) # An affine transformation preserves parallel lines\n",
    "                                                        # in this case we are simply shifting along the x axis\n",
    "\n",
    "    sinogram = np.zeros_like(OriginalSinogram)\n",
    "    sinogram= warp(OriginalSinogram,tformTrans) # Transform coordinates according to given transformation\n",
    "    sinogram = rotate(sinogram,rotDegree) # Rotate image arount its centre\n",
    "    \n",
    "    # The slice refers to which vertical plane of the image you wish to reconstruct\n",
    "    # Choose slices which pass through a point of interest near the top, middle and bottom\n",
    "    slice1 = 70#round(np.shape(sinogram)[0]/5)+30\n",
    "    slice2 = 130#round(np.shape(sinogram)[0]/2)\n",
    "    slice3 = 190#round(np.shape(sinogram)[0]*4/5) - 30\n",
    "    print(slice1,slice2,slice3)\n",
    "    filterName = 'shepp-logan' # Shepp-logan filter is a high pass filter (smoothed Ram-lak filter) \n",
    "                            # it will produce good contrast where the image changes quickly, but can let through noise\n",
    "    \n",
    "    # Perform inverse radon transform for each slice\n",
    "    # Note that squeeze removes from an array any components with dimension 1\n",
    "    reconstruction_fbp1 = iradon(sinogram[slice1,:,:].squeeze(), theta=theta, filter = filterName, circle=True)\n",
    "    reconstruction_fbp2 = iradon(sinogram[slice2,:,:].squeeze(), theta=theta, filter = filterName, circle=True)\n",
    "    reconstruction_fbp3 = iradon(sinogram[slice3,:,:].squeeze(), theta=theta, filter = filterName, circle=True)\n",
    "\n",
    "    # Plot reconstructed slices\n",
    "    fig, ax = plt.subplots(3, 1, figsize=(8.0, 20.0), sharex=True, sharey=True,\n",
    "                          subplot_kw={'adjustable': 'box'})\n",
    "    ax1, ax2, ax3 = ax.ravel()\n",
    "    ax1.set_title(\"FBP1, rot %s, shift %s\" % (rotDegree,shiftX))\n",
    "    ax1.imshow(reconstruction_fbp1, cmap=plt.cm.Greys_r)\n",
    "\n",
    "    ax2.set_title(\"FBP2\")\n",
    "    ax2.imshow(reconstruction_fbp2, cmap=plt.cm.Greys_r)\n",
    "\n",
    "    ax3.set_title(\"FBP3\")\n",
    "    ax3.imshow(reconstruction_fbp3, cmap=plt.cm.Greys_r)\n",
    "\n",
    "    plt.show()"
   ]
  },
  {
   "cell_type": "markdown",
   "metadata": {},
   "source": [
    "- Plot the realigned data for visual inspection."
   ]
  },
  {
   "cell_type": "code",
   "execution_count": 51,
   "metadata": {},
   "outputs": [],
   "source": [
    "hsSinoAligned = hs.signals.Signal2D(np.transpose(sinogram,axes=[2,0,1]))"
   ]
  },
  {
   "cell_type": "code",
   "execution_count": 52,
   "metadata": {},
   "outputs": [],
   "source": [
    "hsSinoAligned.plot()"
   ]
  },
  {
   "cell_type": "markdown",
   "metadata": {},
   "source": [
    "- Save the fully algined tilt series as a tif stack."
   ]
  },
  {
   "cell_type": "code",
   "execution_count": 53,
   "metadata": {},
   "outputs": [],
   "source": [
    "hsSinoAligned.change_dtype('float32')"
   ]
  },
  {
   "cell_type": "code",
   "execution_count": 54,
   "metadata": {
    "tags": []
   },
   "outputs": [],
   "source": [
    "folder = r'C:\\Users\\Sauron\\Documents\\Tomography demo\\\\'\n",
    "name = 'fully_aligned.tiff'\n",
    "hsSinoAligned.save(folder+name)"
   ]
  },
  {
   "attachments": {
    "image.png": {
     "image/png": "[encoded data removed]"
    }
   },
   "cell_type": "markdown",
   "metadata": {},
   "source": [
    "# Compressed sensing reconstruction\n",
    "Now the full volume can be reconstructed. Here the tomopy module is used for this purpose, you can choose from a number of algorithms including FBP (filtered back projection) and SIRT (simultaneous iterative reconstruction technique). For more sophisticated compressed sensing reconstructions, take the aligned image stack and open it in another program.\n",
    "\n",
    "Image shows reconstruction times for SIRT algorithm, comparing the accelerated and non-accelerated modes.\n",
    "\n",
    "![image.png](attachment:image.png)"
   ]
  },
  {
   "cell_type": "code",
   "execution_count": 55,
   "metadata": {},
   "outputs": [],
   "source": [
    "raw_data = hs.load(folder+name).data\n",
    "raw_data -= raw_data.min()\n",
    "raw_data /= raw_data.max()"
   ]
  },
  {
   "cell_type": "code",
   "execution_count": 56,
   "metadata": {},
   "outputs": [
    {
     "data": {
      "text/plain": [
       "(99, 279, 325)"
      ]
     },
     "execution_count": 56,
     "metadata": {},
     "output_type": "execute_result"
    }
   ],
   "source": [
    "np.shape(raw_data)"
   ]
  },
  {
   "cell_type": "markdown",
   "metadata": {},
   "source": [
    "### Make sure the data is square array\n",
    "- Since we have aligned our tilt axis vertically in the centre, we need to make sure that any cropping/padding of the image width is symmetrical"
   ]
  },
  {
   "cell_type": "code",
   "execution_count": 59,
   "metadata": {},
   "outputs": [
    {
     "data": {
      "text/plain": [
       "(99, 325, 325)"
      ]
     },
     "execution_count": 59,
     "metadata": {},
     "output_type": "execute_result"
    }
   ],
   "source": [
    "scopy = copy.deepcopy(raw_data)\n",
    "\n",
    "#pad\n",
    "scopy = np.pad(scopy,[(0,0),(23,23),(0,0)],mode='constant')\n",
    "\n",
    "#crop\n",
    "#scopy = scopy[:,:250,80:330]\n",
    "\n",
    "\n",
    "hs.signals.Signal2D(scopy).plot()\n",
    "np.shape(scopy)"
   ]
  },
  {
   "cell_type": "code",
   "execution_count": 60,
   "metadata": {},
   "outputs": [
    {
     "data": {
      "text/plain": [
       "(99, 325, 325)"
      ]
     },
     "execution_count": 60,
     "metadata": {},
     "output_type": "execute_result"
    }
   ],
   "source": [
    "raw_data = copy.deepcopy(scopy)\n",
    "np.shape(raw_data)"
   ]
  },
  {
   "cell_type": "code",
   "execution_count": 61,
   "metadata": {},
   "outputs": [],
   "source": [
    "# plot to check everything\n",
    "s = hs.signals.Signal2D(raw_data)\n",
    "s.plot()"
   ]
  },
  {
   "cell_type": "code",
   "execution_count": 65,
   "metadata": {},
   "outputs": [
    {
     "name": "stdin",
     "output_type": "stream",
     "text": [
      "Overwrite 'C:\\Users\\Sauron\\Documents\\Tomography demo\\\\fully_aligned_square.tiff' (y/n)?\n",
      " y\n"
     ]
    }
   ],
   "source": [
    "# save final aligned data\n",
    "folder = r'C:\\Users\\Sauron\\Documents\\Tomography demo\\\\'\n",
    "name = 'fully_aligned_square.tiff'\n",
    "s.save(folder+name)"
   ]
  },
  {
   "cell_type": "code",
   "execution_count": null,
   "metadata": {},
   "outputs": [],
   "source": [
    "raw_data = hs.load(folder+name).data"
   ]
  },
  {
   "cell_type": "code",
   "execution_count": 66,
   "metadata": {},
   "outputs": [],
   "source": [
    "# get angles from previously\n",
    "angles=theta"
   ]
  },
  {
   "cell_type": "markdown",
   "metadata": {},
   "source": [
    "Now we configure the reconstruction algorithm"
   ]
  },
  {
   "cell_type": "code",
   "execution_count": 68,
   "metadata": {},
   "outputs": [],
   "source": [
    "data = rtr.tomo_data(np.array(raw_data), angles,degrees=True,\n",
    "                    tilt_axis=1, stack_dim=0)"
   ]
  },
  {
   "cell_type": "code",
   "execution_count": 69,
   "metadata": {},
   "outputs": [],
   "source": [
    "vol_shape = (data.shape[0],data.shape[2],data.shape[2])\n",
    "\n",
    "projector = data.getOperator(vol_shape=vol_shape,\n",
    "                           backend='astra', GPU=True)"
   ]
  },
  {
   "cell_type": "code",
   "execution_count": 70,
   "metadata": {},
   "outputs": [],
   "source": [
    "alg = rtr.TV(vol_shape, order=1)"
   ]
  },
  {
   "cell_type": "markdown",
   "metadata": {},
   "source": [
    "- Maxiter should be chosen such that the gap is on the order 1e-5 by the end\n",
    "- Ideally try several orders of magnitude of weight (e.g. 0.01, 0.001, 0.001) and look to see which value makes sense for your dataset. Weight is the scaling parameter for the total variation regularisation term, so lower values mean less regularisation (more noisy and more missing wedge artefacts) while higher means more regularisation (if too high, sharp edges will appear 'sanded off' in the reconstruction)"
   ]
  },
  {
   "cell_type": "code",
   "execution_count": 71,
   "metadata": {},
   "outputs": [
    {
     "name": "stdout",
     "output_type": "stream",
     "text": [
      " Iter   Time      primal          gap        violation       step     \n",
      "   0%     9s     1.313e+05     1.000e+00          0        0.000e+00  \n",
      " 100%    1m16    5.511e+03    -5.222e-01     1.543e-01     2.100e-01  \n",
      "\n",
      "Optimal balance was:  1.0931719817767658\n"
     ]
    }
   ],
   "source": [
    "maxiter = 10\n",
    "weight = 0.05\n",
    "balance = 1\n",
    "steps = 'adaptive'\n",
    "\n",
    "recon = alg.run(data=data,op=projector, maxiter=maxiter, weight=weight,\n",
    "                balance=balance, steps=steps,\n",
    "                callback_freq = 10,\n",
    "                callback=('primal','gap','violation','step'))[0]\n",
    "\n",
    "if steps=='adaptive':\n",
    "    print('Optimal balance was: ', (alg.s/alg.t)**.5)"
   ]
  },
  {
   "cell_type": "markdown",
   "metadata": {},
   "source": [
    "Compare 0 angle data with projection of reconstruction in the same direction"
   ]
  },
  {
   "cell_type": "code",
   "execution_count": 72,
   "metadata": {},
   "outputs": [
    {
     "data": {
      "image/png": "[encoded data removed]",
      "text/plain": [
       "<Figure size 1080x360 with 4 Axes>"
      ]
     },
     "metadata": {
      "needs_background": "light"
     },
     "output_type": "display_data"
    }
   ],
   "source": [
    "%matplotlib inline\n",
    "plt.figure(figsize=(15,5))\n",
    "plt.subplot(121)\n",
    "#plt.imshow(raw_data[abs(angles).argmin()], vmin=raw_data.min(), vmax=1) # plots the data collected at ~0 degree tilt\n",
    "plt.imshow(raw_data[abs(angles).argmin()], vmin=raw_data.min(), vmax=1, cmap='gray')\n",
    "plt.axis('off')\n",
    "plt.title('0-angle projection data')\n",
    "plt.colorbar()\n",
    "plt.subplot(122)\n",
    "plt.imshow(recon.sum(1), vmin=raw_data.min(), vmax=1, cmap='gray')\n",
    "plt.title('0-angle projection of reconstruction, w=%s' % str(weight))\n",
    "plt.colorbar()\n",
    "\n",
    "plt.axis('off')\n",
    "plt.tight_layout()\n",
    "plt.show()\n"
   ]
  },
  {
   "cell_type": "code",
   "execution_count": 87,
   "metadata": {},
   "outputs": [],
   "source": [
    "%matplotlib qt\n",
    "reconstruction = hs.signals.Signal2D(reconflip)\n",
    "reconstruction.plot()"
   ]
  },
  {
   "cell_type": "code",
   "execution_count": 86,
   "metadata": {
    "tags": []
   },
   "outputs": [],
   "source": [
    "# Save reconstruction\n",
    "folder = r'C:\\Users\\Sauron\\Documents\\Tomography demo\\\\'\n",
    "name = 'recon_i10_w05.tiff'\n",
    "\n",
    "reconflip = np.swapaxes(recon,0,1)\n",
    "reconstruction = hs.signals.Signal2D(reconflip)\n",
    "reconstruction.change_dtype('Float32')\n",
    "reconstruction.save(folder+name)"
   ]
  },
  {
   "cell_type": "markdown",
   "metadata": {},
   "source": [
    "# (Basic reconstruction)"
   ]
  },
  {
   "cell_type": "markdown",
   "metadata": {
    "tags": []
   },
   "source": [
    "- If desired, you can also easily reconstruct using more basic reconstruction algorithms\n",
    "- Use tomopy to perform reconstruction given the aligned dataset, angle values, and desired algorithm.\n",
    "- Make sure that theta is in __radians__"
   ]
  },
  {
   "cell_type": "code",
   "execution_count": 74,
   "metadata": {},
   "outputs": [],
   "source": [
    "import tomopy"
   ]
  },
  {
   "cell_type": "code",
   "execution_count": 36,
   "metadata": {
    "collapsed": true,
    "jupyter": {
     "outputs_hidden": true
    }
   },
   "outputs": [
    {
     "ename": "NameError",
     "evalue": "name 'tomopy' is not defined",
     "output_type": "error",
     "traceback": [
      "\u001b[1;31m---------------------------------------------------------------------------\u001b[0m",
      "\u001b[1;31mNameError\u001b[0m                                 Traceback (most recent call last)",
      "\u001b[1;32m<ipython-input-36-034ed4723fcd>\u001b[0m in \u001b[0;36m<module>\u001b[1;34m\u001b[0m\n\u001b[0;32m      1\u001b[0m \u001b[1;31m# FBP (Filtered back projection)\u001b[0m\u001b[1;33m\u001b[0m\u001b[1;33m\u001b[0m\u001b[1;33m\u001b[0m\u001b[0m\n\u001b[1;32m----> 2\u001b[1;33m \u001b[0mrecon\u001b[0m \u001b[1;33m=\u001b[0m \u001b[0mtomopy\u001b[0m\u001b[1;33m.\u001b[0m\u001b[0mrecon\u001b[0m\u001b[1;33m(\u001b[0m\u001b[0mims\u001b[0m\u001b[1;33m.\u001b[0m\u001b[0mdata\u001b[0m\u001b[1;33m,\u001b[0m \u001b[0mtheta\u001b[0m\u001b[1;33m,\u001b[0m \u001b[0malgorithm\u001b[0m\u001b[1;33m=\u001b[0m\u001b[1;34m'fbp'\u001b[0m\u001b[1;33m)\u001b[0m\u001b[1;33m\u001b[0m\u001b[1;33m\u001b[0m\u001b[0m\n\u001b[0m",
      "\u001b[1;31mNameError\u001b[0m: name 'tomopy' is not defined"
     ]
    }
   ],
   "source": [
    "# FBP (Filtered back projection)\n",
    "recon = tomopy.recon(raw_data, theta*(2*np.pi)/360, algorithm='fbp')"
   ]
  },
  {
   "cell_type": "code",
   "execution_count": 82,
   "metadata": {
    "tags": []
   },
   "outputs": [
    {
     "name": "stdout",
     "output_type": "stream",
     "text": [
      "Reconstructing 96 slice groups with 96 master threads...\n"
     ]
    }
   ],
   "source": [
    "# SIRT (Simultaneous iterative reconstruction technique)\n",
    "# ~100 iterations often gives a good quality, note that more is not always better\n",
    "recon = tomopy.recon(raw_data, theta*(2*np.pi)/360, algorithm='sirt',num_iter = 20, accelerated=False)"
   ]
  },
  {
   "cell_type": "markdown",
   "metadata": {
    "tags": []
   },
   "source": [
    "- Compare ~0 angle data with 0 angle projection for rough indication of quality"
   ]
  },
  {
   "cell_type": "code",
   "execution_count": 83,
   "metadata": {
    "tags": []
   },
   "outputs": [
    {
     "data": {
      "image/png": "[encoded data removed]",
      "text/plain": [
       "<Figure size 1080x360 with 4 Axes>"
      ]
     },
     "metadata": {
      "needs_background": "light"
     },
     "output_type": "display_data"
    }
   ],
   "source": [
    "from matplotlib import pyplot as plt\n",
    "\n",
    "plt.figure(figsize=(15,5))\n",
    "\n",
    "plt.subplot(121)\n",
    "# find the tilt image from 0 degree tilt\n",
    "plt.imshow(raw_data[abs(np.array(theta)).argmin()], vmin=raw_data.min(), vmax=1,cmap='gray')\n",
    "plt.title('0-angle projection data')\n",
    "plt.colorbar()\n",
    "\n",
    "plt.subplot(122)\n",
    "reconstruction = hs.signals.Signal2D(recon)\n",
    "plt.imshow(reconstruction.data.sum(1),cmap='gray')#, vmin=ims.data.min(), vmax=1)\n",
    "plt.title('0-angle projection of reconstruction')\n",
    "plt.colorbar()\n",
    "\n",
    "plt.show()"
   ]
  },
  {
   "cell_type": "markdown",
   "metadata": {
    "tags": []
   },
   "source": [
    "- Plot full reconstruction to inspect."
   ]
  },
  {
   "cell_type": "code",
   "execution_count": 84,
   "metadata": {
    "tags": []
   },
   "outputs": [],
   "source": [
    "%matplotlib qt\n",
    "reconstruction = hs.signals.Signal2D(recon)\n",
    "reconstruction.plot()"
   ]
  },
  {
   "cell_type": "markdown",
   "metadata": {
    "tags": []
   },
   "source": [
    "- Save reconstruction."
   ]
  },
  {
   "cell_type": "code",
   "execution_count": 88,
   "metadata": {
    "tags": []
   },
   "outputs": [
    {
     "name": "stdin",
     "output_type": "stream",
     "text": [
      "Overwrite 'C:\\Users\\Sauron\\Documents\\Tomography demo\\\\recon_20SIRT.tiff' (y/n)?\n",
      " y\n"
     ]
    }
   ],
   "source": [
    "reconstruction.save(folder+'recon_20SIRT.tiff')"
   ]
  },
  {
   "cell_type": "markdown",
   "metadata": {
    "tags": []
   },
   "source": [
    "# Visualisation\n",
    "- Presumably you will now want to visualise the reconstruction by some means.\n",
    "- You can plot orthoslices simply using matplotlib in python.\n",
    "- Avizo is a useful commercial program for analysing tomographic reconstructions (and is available on the shared computers in the electron microscopy group).\n",
    "- Dragonfly is another useful commercial program similar to Avizo and is available in Earth Sciences\n",
    "- ImageJ can also be used as a free alternative in many cases\n",
    "- [Proviz](https://www.tandfonline.com/doi/full/10.1080/21681163.2016.1154483) is an opersource alternative.\n",
    "- [Paraview](https://www.paraview.org/) is another opensource alternative."
   ]
  },
  {
   "cell_type": "code",
   "execution_count": 5,
   "metadata": {
    "collapsed": true,
    "jupyter": {
     "outputs_hidden": true
    }
   },
   "outputs": [],
   "source": [
    "from matplotlib import pyplot as plt\n",
    "import hyperspy.api as hs\n",
    "import numpy as np"
   ]
  },
  {
   "cell_type": "code",
   "execution_count": 90,
   "metadata": {
    "tags": []
   },
   "outputs": [],
   "source": [
    "folder = r'C:\\Users\\Sauron\\Documents\\Tomography demo\\\\'\n",
    "name = 'recon_i10_w05.tiff'\n",
    "fpath=folder+name\n",
    "\n",
    "r = hs.load(fpath)"
   ]
  },
  {
   "cell_type": "code",
   "execution_count": 91,
   "metadata": {
    "tags": []
   },
   "outputs": [],
   "source": [
    "r.plot()"
   ]
  },
  {
   "cell_type": "code",
   "execution_count": 92,
   "metadata": {
    "tags": []
   },
   "outputs": [
    {
     "data": {
      "image/png": "[encoded data removed]",
      "text/plain": [
       "<Figure size 864x648 with 3 Axes>"
      ]
     },
     "metadata": {
      "needs_background": "light"
     },
     "output_type": "display_data"
    }
   ],
   "source": [
    "# Plot orthoslice\n",
    "\n",
    "%matplotlib inline\n",
    "\n",
    "c = int(np.shape(r)[0]/2)\n",
    "\n",
    "f,axs=plt.subplots(ncols=3,figsize=(12,9))\n",
    "axs[2].imshow(r.data[c,:,:],cmap='gray')\n",
    "axs[1].imshow(r.data[:,c,:],cmap='gray')\n",
    "axs[0].imshow(r.data[:,:,c],cmap='gray')\n",
    "for ax in axs:\n",
    "    ax.axis('off')"
   ]
  },
  {
   "cell_type": "markdown",
   "metadata": {},
   "source": [
    "# Get file calibration"
   ]
  },
  {
   "cell_type": "code",
   "execution_count": 93,
   "metadata": {
    "tags": []
   },
   "outputs": [],
   "source": [
    "import mrcfile"
   ]
  },
  {
   "cell_type": "code",
   "execution_count": 95,
   "metadata": {
    "tags": []
   },
   "outputs": [],
   "source": [
    "folder = r'C:\\Users\\Sauron\\Documents\\Tomography demo\\\\'\n",
    "name = r'raw_data_mrc.mrc'\n",
    "fpath = folder+name\n",
    "\n",
    "mrc = mrcfile.open(fpath)"
   ]
  },
  {
   "cell_type": "code",
   "execution_count": 100,
   "metadata": {
    "tags": []
   },
   "outputs": [
    {
     "name": "stdout",
     "output_type": "stream",
     "text": [
      "\tOriginal image is (2048 x 2048) px, (550.00 x 550.00) nm \n",
      "        Original pixel size is (0.269 x 0.269) nm\n"
     ]
    }
   ],
   "source": [
    "nc = mrc.header.nx*1 # number of columns\n",
    "nr = mrc.header.ny*1 # number of rows\n",
    "\n",
    "iw = mrc.header.cella.x*1  # image width / A\n",
    "ih = mrc.header.cella.y*1 # image height / A\n",
    "\n",
    "px_x = iw/10/nc # pixel width in nm\n",
    "px_y = ih/10/nr # pixel height in nm\n",
    "\n",
    "print('\\tOriginal image is (%i x %i) px, (%.2f x %.2f) nm \\n \\\n",
    "       Original pixel size is (%.3f x %.3f) nm' % (nc,nr,iw/10,ih/10,px_x,px_y))"
   ]
  },
  {
   "cell_type": "code",
   "execution_count": 102,
   "metadata": {
    "tags": []
   },
   "outputs": [
    {
     "name": "stdout",
     "output_type": "stream",
     "text": [
      "Reconstructed voxel is 1.074 x 1.074 x 1.074 nm\n"
     ]
    }
   ],
   "source": [
    "binning_factor = 4\n",
    "print(\"Reconstructed voxel is %.3f x %.3f x %.3f nm\" %(px_x*binning_factor,px_y*binning_factor,px_x*binning_factor))"
   ]
  }
 ],
 "metadata": {
  "kernelspec": {
   "display_name": "Python 3",
   "language": "python",
   "name": "python3"
  },
  "language_info": {
   "codemirror_mode": {
    "name": "ipython",
    "version": 3
   },
   "file_extension": ".py",
   "mimetype": "text/x-python",
   "name": "python",
   "nbconvert_exporter": "python",
   "pygments_lexer": "ipython3",
   "version": "3.6.13"
  }
 },
 "nbformat": 4,
 "nbformat_minor": 4
}
